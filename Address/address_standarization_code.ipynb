{
  "nbformat": 4,
  "nbformat_minor": 0,
  "metadata": {
    "colab": {
      "name": "address_standarization_code.ipynb",
      "provenance": [],
      "collapsed_sections": [],
      "toc_visible": true
    },
    "kernelspec": {
      "name": "python3",
      "display_name": "Python 3"
    }
  },
  "cells": [
    {
      "cell_type": "code",
      "metadata": {
        "id": "kfMQCWKNw282"
      },
      "source": [
        "# Load libraries\n",
        "import missingno as msno \n",
        "import re\n",
        "import pandas as pd\n",
        "import numpy as np\n"
      ],
      "execution_count": null,
      "outputs": []
    },
    {
      "cell_type": "markdown",
      "metadata": {
        "id": "mGDKhR0pAo0y"
      },
      "source": [
        "### Load and preprocess the csv files"
      ]
    },
    {
      "cell_type": "code",
      "metadata": {
        "id": "ykJI7eSZw53n"
      },
      "source": [
        "# Load Data\n",
        "output_1850_bk = pd.read_csv(\"/content/output_1850_bk.csv\", encoding = \"ISO-8859-1\", engine='python', index_col=0)\n",
        "output_1850_mn = pd.read_csv(\"/content/output_1850_mn.csv\", encoding = \"ISO-8859-1\", engine='python', index_col=0)\n",
        "output_1880 = pd.read_csv(\"/content/output_1880.csv\", encoding = \"ISO-8859-1\", engine='python', index_col=0)\n"
      ],
      "execution_count": null,
      "outputs": []
    },
    {
      "cell_type": "code",
      "metadata": {
        "id": "obKftaU_fplN"
      },
      "source": [
        "output_1850_mn = pd.read_csv(\"/content/output_1850_mn_int.csv\", encoding = \"ISO-8859-1\", engine='python', index_col=0)"
      ],
      "execution_count": null,
      "outputs": []
    },
    {
      "cell_type": "markdown",
      "metadata": {
        "id": "hJpcrjXuATkn"
      },
      "source": [
        "Identify how many records have H address null but a full address present"
      ]
    },
    {
      "cell_type": "code",
      "metadata": {
        "id": "Ik4afIIB4FA5",
        "outputId": "14f8d6f9-a427-4d27-f0fa-86c156f5def5",
        "colab": {
          "base_uri": "https://localhost:8080/",
          "height": 68
        }
      },
      "source": [
        "print(len(output_1850_bk.loc[(output_1850_bk['H Address'].isnull()) & (output_1850_bk['Full Address'].notnull())]))\n",
        "\n",
        "print(len(output_1850_mn.loc[(output_1850_mn['H Address'].isnull()) & (output_1850_mn['Full Address'].notnull())]))\n",
        "\n",
        "print(len(output_1880.loc[(output_1880['H Address'].isnull()) & (output_1880['Full Address'].notnull())]))"
      ],
      "execution_count": null,
      "outputs": [
        {
          "output_type": "stream",
          "text": [
            "0\n",
            "0\n",
            "0\n"
          ],
          "name": "stdout"
        }
      ]
    },
    {
      "cell_type": "markdown",
      "metadata": {
        "id": "TnWNSR7afcaT"
      },
      "source": [
        "Identified that in previous file, there were instances where h address was null even though full address wasnt null\n",
        "\n",
        "Hence repeated the address formatting process as in cd_processing task"
      ]
    },
    {
      "cell_type": "code",
      "metadata": {
        "id": "eQuUva2c3iCn"
      },
      "source": [
        "# create a list of cities\n",
        "cities = ['Hoboken', 'N. J.', 'Spain', 'B’klyn', 'Mt. Vernon','Brooklyn','Jersey City']\n",
        "def has_city(address, cities = cities):\n",
        "  for city in cities:\n",
        "    if city in address:\n",
        "      return city\n",
        "  return ''"
      ],
      "execution_count": null,
      "outputs": []
    },
    {
      "cell_type": "code",
      "metadata": {
        "id": "6cGbGYv6nJA9"
      },
      "source": [
        "for i in range(1,len(output_1850_bk)):\n",
        "  if (str(output_1850_bk[\"H Address\"][i]) ==\"nan\") & (str(output_1850_bk[\"Full Address\"][i]) !=\"nan\"):\n",
        "    a = output_1850_bk[\"Full Address\"][i].split(\",\")\n",
        "    output_1850_bk[\"H Address\"][i] = ' '.join(a[1:])\n",
        "\n",
        "    address_1 = output_1850_bk[\"H Address\"][i].split()\n",
        "    if ((address_1[0] == 'h') or (address_1[0] == 'h.')): # identify if a address start with h\n",
        "        output_1850_bk['H Status-flag'][i] = 'True'\n",
        "        start = 1\n",
        "    else:\n",
        "        output_1850_bk['H Status-flag'][i] = 'Assume'\n",
        "        start = 0\n",
        "    \n",
        "    house_num = False\n",
        "    if address_1[start].isdigit(): # identify a house no\n",
        "        house_num = True\n",
        "    elif (len(address_1) >2):\n",
        "      if (address_1[start+1].isdigit()):\n",
        "        house_num = True\n",
        "        start += 1\n",
        "    elif (len(address_1) >1):\n",
        "      if start==1:\n",
        "        continue\n",
        "      elif (address_1[start+1].isdigit()):\n",
        "        house_num = True\n",
        "        start += 1\n",
        "    \n",
        "    if house_num:\n",
        "        output_1850_bk['H House Number'][i] = address_1[start]\n",
        "        #city\n",
        "        city = has_city(cities, address_1) # if h no present then find a city\n",
        "        if city:\n",
        "          output_1850_bk['H City'][i] = city\n",
        "          output_1850_bk['H Street Name'][i] = ' '.join(address_1[(start+1):]).replace(city,'').strip() # if there is a city remaining is considered a street name\n",
        "        else:\n",
        "          output_1850_bk['H Street Name'][i] = ' '.join(address_1[(start+1):]) # if no coty present everything is considered as city and no street name\n",
        "    else:\n",
        "        output_1850_bk['H City'][i] = ' '.join(address_1[start:])\n",
        "\n",
        "\n",
        "\n",
        "    #print(output_1850_bk[\"H Address\"][i])\n",
        "    #print(' '.join(a[1:]))\n",
        "    print(address_1)\n",
        "    #print(output_1850_bk['H Street Name'][i])\n",
        "    #print(output_1850_bk['H City'][i])\n",
        "    \n",
        "    "
      ],
      "execution_count": null,
      "outputs": []
    },
    {
      "cell_type": "code",
      "metadata": {
        "id": "19YDxkRP57Oy"
      },
      "source": [
        "# similarly do it for other directories\n",
        "\n",
        "for i in range(1,len(output_1850_mn)):\n",
        "  if (str(output_1850_mn[\"H Address\"][i]) ==\"nan\") & (str(output_1850_mn[\"Full Address\"][i]) !=\"nan\"):\n",
        "    a = output_1850_mn[\"Full Address\"][i].split(\",\")\n",
        "    output_1850_mn[\"H Address\"][i] = ' '.join(a[1:])\n",
        "\n",
        "    address_1 = output_1850_mn[\"H Address\"][i].split()\n",
        "    if ((address_1[0] == 'h') or (address_1[0] == 'h.')):\n",
        "        output_1850_mn['H Status-flag'][i] = 'True'\n",
        "        start = 1\n",
        "    else:\n",
        "        output_1850_mn['H Status-flag'][i] = 'Assume'\n",
        "        start = 0\n",
        "    #print(address_1)\n",
        "    house_num = False\n",
        "    if address_1[start].isdigit():\n",
        "        house_num = True\n",
        "    elif (len(address_1) >2):\n",
        "      if (address_1[start+1].isdigit()):\n",
        "        house_num = True\n",
        "        start += 1\n",
        "    elif (len(address_1) >1):\n",
        "      if start ==1:\n",
        "        continue\n",
        "      elif (address_1[start+1].isdigit()):\n",
        "        house_num = True\n",
        "        start += 1\n",
        "    \n",
        "    if house_num:\n",
        "        output_1850_mn['H House Number'][i] = address_1[start]\n",
        "        #city\n",
        "        city = has_city(cities, address_1)\n",
        "        if city:\n",
        "          output_1850_mn['H City'][i] = city\n",
        "          output_1850_mn['H Street Name'][i] = ' '.join(address_1[(start+1):]).replace(city,'').strip()\n",
        "        else:\n",
        "          output_1850_mn['H Street Name'][i] = ' '.join(address_1[(start+1):])\n",
        "    else:\n",
        "        output_1850_mn['H City'][i] = ' '.join(address_1[start:])\n",
        "\n",
        "    "
      ],
      "execution_count": null,
      "outputs": []
    },
    {
      "cell_type": "code",
      "metadata": {
        "id": "pqMrhqKXTi-f"
      },
      "source": [
        "# similarly do it for other directories\n",
        "\n",
        "for i in range(1,len(output_1880)):\n",
        "  if (str(output_1880[\"H Address\"][i]) ==\"nan\") & (str(output_1880[\"Full Address\"][i]) !=\"nan\"):\n",
        "    a = output_1880[\"Full Address\"][i].split(\",\")\n",
        "    output_1880[\"H Address\"][i] = ' '.join(a[1:])\n",
        "\n",
        "    address_1 = output_1880[\"H Address\"][i].split()\n",
        "    if ((address_1[0] == 'h') or (address_1[0] == 'h.')):\n",
        "        output_1880['H Status-flag'][i] = 'True'\n",
        "        start = 1\n",
        "    else:\n",
        "        output_1880['H Status-flag'][i] = 'Assume'\n",
        "        start = 0\n",
        "    #print(address_1)\n",
        "    house_num = False\n",
        "    if address_1[start].isdigit():\n",
        "        house_num = True\n",
        "    elif (len(address_1) >2):\n",
        "      if (address_1[start+1].isdigit()):\n",
        "        house_num = True\n",
        "        start += 1\n",
        "    elif (len(address_1) >1):\n",
        "      if start ==1:\n",
        "        continue\n",
        "      elif (address_1[start+1].isdigit()):\n",
        "        house_num = True\n",
        "        start += 1\n",
        "    \n",
        "    if house_num:\n",
        "        output_1880['H House Number'][i] = address_1[start]\n",
        "        #city\n",
        "        city = has_city(cities, address_1)\n",
        "        if city:\n",
        "          output_1880['H City'][i] = city\n",
        "          output_1880['H Street Name'][i] = ' '.join(address_1[(start+1):]).replace(city,'').strip()\n",
        "        else:\n",
        "          output_1880['H Street Name'][i] = ' '.join(address_1[(start+1):])\n",
        "    else:\n",
        "        output_1880['H City'][i] = ' '.join(address_1[start:])\n",
        "\n",
        "    "
      ],
      "execution_count": null,
      "outputs": []
    },
    {
      "cell_type": "markdown",
      "metadata": {
        "id": "Vg36CIdudN34"
      },
      "source": [
        "Save the files as intermediate datsets"
      ]
    },
    {
      "cell_type": "code",
      "metadata": {
        "id": "MN7IUnWudL_U"
      },
      "source": [
        "output_1880.to_csv(\"/content/output_1880_int.csv\")\n",
        "output_1850_mn.to_csv(\"/content/output_1850_mn.csv\")\n",
        "output_1850_bk.to_csv(\"/content/output_1850_bk.csv\")"
      ],
      "execution_count": null,
      "outputs": []
    },
    {
      "cell_type": "markdown",
      "metadata": {
        "id": "Tak8dwqSGlr3"
      },
      "source": [
        "### Load cities and street directory data\n",
        "1. counties, city and street names are imported. Streets are taken from street diectory output\n",
        "2. combine street names from street directories\n",
        "3. Add more combinations to street names like numbers reported in words, include AV prefix to certain streets\n",
        "4. Add differetn variations of cities (like spelling differences)"
      ]
    },
    {
      "cell_type": "code",
      "metadata": {
        "id": "HbF5l44TOj23"
      },
      "source": [
        "# Load cities and street directory data\n",
        "state_counties = pd.read_csv(\"/content/us_cities_states_counties.csv\", encoding = \"ISO-8859-1\", engine='python')\n",
        "uscities = pd.read_csv(\"/content/uscities.csv\", encoding = \"ISO-8859-1\", engine='python')\n",
        "bk1850_street_names = pd.read_csv(\"/content/full_bk_dict.csv\", encoding = \"ISO-8859-1\", engine='python')\n",
        "mn1850_street_names = pd.read_csv(\"/content/full_mn_dict.csv\", encoding = \"ISO-8859-1\", engine='python')\n"
      ],
      "execution_count": null,
      "outputs": []
    },
    {
      "cell_type": "code",
      "metadata": {
        "id": "l8Srr3KxBjNp",
        "outputId": "1f18a903-f4f7-46e2-a273-38f13a767b70",
        "colab": {
          "base_uri": "https://localhost:8080/",
          "height": 34
        }
      },
      "source": [
        "# combine street names from street directories\n",
        "bk1850_street_names.drop(['ED'], axis=1)\n",
        "mn1850_street_names.drop(['ED'], axis=1)\n",
        "\n",
        "bk_street_names = list(pd.unique(bk1850_street_names.values.ravel('K')))\n",
        "mn_street_names = list(pd.unique(mn1850_street_names.values.ravel('K')))\n",
        "\n",
        "bk_street_names[2000]\n",
        "\n",
        "street_names = list(set(bk_street_names))\n",
        "street_names.extend(mn_street_names)\n",
        "street_names = list(set(street_names))\n",
        "street_names = street_names[1:]\n",
        "\n",
        "# include changes to the street names like:\n",
        "# add avenue AV, modify street numbers written in words\n",
        "# WILLIAMSBURG, BUSHWICK, GREENPOINT,  flatbush, 'RAVENSWOOD','CAMPTOWN','CARMANSVLLE', 'WMSBURG','WULIAMSBURG', 'WMBURG','WMSBG','WMSBURGH' can be included later to brooklyn\n",
        "street_names.extend(['IRVING HOUSE', 'WEST NEW BRIGHTON', 'WYCK', 'WASHGTN','BWRY','HOUSTON','THIRTY-FIRST','FORTYTHIRD','ATLANTIC','EASTRN PEARL'])\n",
        "street_names.extend(['FIRST','SECOND','THIRD','FOURTH','FIFTH','SIXTH','SEVENTH','EIGHTH','NINTH','TENTH','ELEVENTH', 'TWELFTH','THIRTEENTH','FOURTEENTH'])\n",
        "\n",
        "street_names.extend(['GREENWICH', 'MADISON', 'LEXINGTON', 'WASHINGTON','B.WAY', 'BRCLY', 'BROADWAV'])\n",
        "\n",
        "for i in range(len(street_names)):\n",
        "  if street_names[i] in ('A','B','C','D','E','F','G','H','I','J','K','L','M','N','O','P','Q','R','S','T','U','V','W','X','Y','Z'):\n",
        "    street_names[i] = 'AV ' + street_names[i]\n",
        "print(len(street_names))\n",
        "\n",
        "street_names = list(set(street_names))\n",
        "\n",
        "ordinals_list = ['FIRST','SECOND','THIRD','FOURTH','FIFTH','SIXTH','SEVENTH','EIGHTH','NINTH','TENTH','ELEVENTH', 'TWELFTH','THIRTEENTH','FOURTEENTH','FIFTEENTH','SIXTEENTH','SEVENTEENTH','EIGHTEENTH','NINETEENTH','TWENTIETH','TWENTY-FIRST','TWENTY-SECOND','TWENTY-THIRD','TWENTY-FOURTH','TWENTY-FIFTH','TWENTY-SIXTH','TWENTY-SEVENTH','TWENTY-EIGHTH','TWENTY-NINTH','THIRTIETH','THIRTY-FIRST','THIRTY-SECOND','THIRTY-THIRD','THIRTY-FOURTH','THIRTY-FIFTH','THIRTY-SIXTH','THIRTY-SEVENTH','THIRTY-EIGHTH','THIRTY-NINTH','FOURTIETH','FOURTY-FIRST','FOURTY-SECOND','FOURTY-THIRD','FOURTY-FOURTH','FOURTY-FIFTH','FOURTY-SIXTH','FOURTY-SEVENTH','FOURTY-EIGHTH','FOURTY-NINTH','FIFTIETH','FIFTY-FIRST','FIFTY-SECOND','FIFTY-THIRD','FIFTY-FOURTH','FIFTY-FIFTH','FIFTY-SIXTH','FIFTY-SEVENTH','FIFTY-EIGHTH','FIFTY-NINTH','TWENTY8TH','TWENTY3RD','TWENTY .7TH','TWENTY7TH','TWENTY5TH']\n",
        "\n",
        "replace_list = ['1ST','2ND','3RD','4TH','5TH','6TH','7TH','8TH','9TH','10TH','11TH','12TH','13TH','14TH','15TH','16TH','17TH','18TH','19TH','20TH','21ST','22ND','23RD','24TH','25TH','26TH','27TH','28TH','29TH','30TH','31ST','32ND','33RD','34TH','35TH','36TH','37TH','38TH','39TH','40TH','41ST','42ND','43RD','44TH','45TH','46TH','47TH','48TH','49TH','50TH','51ST','52ND','53RD','54TH','55TH','56TH','57TH','58TH','59TH','28TH','23RD','27TH','27TH','25TH']"
      ],
      "execution_count": null,
      "outputs": [
        {
          "output_type": "stream",
          "text": [
            "4452\n"
          ],
          "name": "stdout"
        }
      ]
    },
    {
      "cell_type": "code",
      "metadata": {
        "id": "f6LaBHmPPaL1",
        "outputId": "c5a8a83f-4ce4-4d72-f98f-3aa92998e2d5",
        "colab": {
          "base_uri": "https://localhost:8080/",
          "height": 204
        }
      },
      "source": [
        "state_counties = state_counties.loc[(state_counties['State full'] == 'New York') | (state_counties['State full'] == 'New Jersey') | (state_counties['State full'] == 'Connecticut')]\n",
        "state_counties['City'] = state_counties['City'].str.upper()\n",
        "state_counties['County'] = state_counties['County'].str.upper()\n",
        "state_counties['City alias'] = state_counties['City alias'].str.upper()\n",
        "state_counties.head()"
      ],
      "execution_count": null,
      "outputs": [
        {
          "output_type": "execute_result",
          "data": {
            "text/html": [
              "<div>\n",
              "<style scoped>\n",
              "    .dataframe tbody tr th:only-of-type {\n",
              "        vertical-align: middle;\n",
              "    }\n",
              "\n",
              "    .dataframe tbody tr th {\n",
              "        vertical-align: top;\n",
              "    }\n",
              "\n",
              "    .dataframe thead th {\n",
              "        text-align: right;\n",
              "    }\n",
              "</style>\n",
              "<table border=\"1\" class=\"dataframe\">\n",
              "  <thead>\n",
              "    <tr style=\"text-align: right;\">\n",
              "      <th></th>\n",
              "      <th>City</th>\n",
              "      <th>State short</th>\n",
              "      <th>State full</th>\n",
              "      <th>County</th>\n",
              "      <th>City alias</th>\n",
              "    </tr>\n",
              "  </thead>\n",
              "  <tbody>\n",
              "    <tr>\n",
              "      <th>0</th>\n",
              "      <td>HOLTSVILLE</td>\n",
              "      <td>NY</td>\n",
              "      <td>New York</td>\n",
              "      <td>SUFFOLK</td>\n",
              "      <td>INTERNAL REVENUE SERVICE</td>\n",
              "    </tr>\n",
              "    <tr>\n",
              "      <th>1</th>\n",
              "      <td>HOLTSVILLE</td>\n",
              "      <td>NY</td>\n",
              "      <td>New York</td>\n",
              "      <td>SUFFOLK</td>\n",
              "      <td>HOLTSVILLE</td>\n",
              "    </tr>\n",
              "    <tr>\n",
              "      <th>6097</th>\n",
              "      <td>AVON</td>\n",
              "      <td>CT</td>\n",
              "      <td>Connecticut</td>\n",
              "      <td>HARTFORD</td>\n",
              "      <td>AVON</td>\n",
              "    </tr>\n",
              "    <tr>\n",
              "      <th>6098</th>\n",
              "      <td>BLOOMFIELD</td>\n",
              "      <td>CT</td>\n",
              "      <td>Connecticut</td>\n",
              "      <td>HARTFORD</td>\n",
              "      <td>BLOOMFIELD</td>\n",
              "    </tr>\n",
              "    <tr>\n",
              "      <th>6099</th>\n",
              "      <td>WINDSOR</td>\n",
              "      <td>CT</td>\n",
              "      <td>Connecticut</td>\n",
              "      <td>HARTFORD</td>\n",
              "      <td>WINDSOR</td>\n",
              "    </tr>\n",
              "  </tbody>\n",
              "</table>\n",
              "</div>"
            ],
            "text/plain": [
              "            City State short   State full    County                City alias\n",
              "0     HOLTSVILLE          NY     New York   SUFFOLK  INTERNAL REVENUE SERVICE\n",
              "1     HOLTSVILLE          NY     New York   SUFFOLK                HOLTSVILLE\n",
              "6097        AVON          CT  Connecticut  HARTFORD                      AVON\n",
              "6098  BLOOMFIELD          CT  Connecticut  HARTFORD                BLOOMFIELD\n",
              "6099     WINDSOR          CT  Connecticut  HARTFORD                   WINDSOR"
            ]
          },
          "metadata": {
            "tags": []
          },
          "execution_count": 10
        }
      ]
    },
    {
      "cell_type": "code",
      "metadata": {
        "id": "J-tVTSlDPfG2",
        "outputId": "958766ad-8428-429c-e84b-956a93549c6d",
        "colab": {
          "base_uri": "https://localhost:8080/",
          "height": 394
        }
      },
      "source": [
        "uscities = uscities.loc[(uscities['state_name'] ==\"New York\") | (uscities['state_name'] =='New Jersey') | (uscities['state_name'] == 'Connecticut')]\n",
        "uscities['city'] = uscities['city'].str.upper()\n",
        "uscities['county_name'] = uscities['county_name'].str.upper()\n",
        "uscities.head()"
      ],
      "execution_count": null,
      "outputs": [
        {
          "output_type": "execute_result",
          "data": {
            "text/html": [
              "<div>\n",
              "<style scoped>\n",
              "    .dataframe tbody tr th:only-of-type {\n",
              "        vertical-align: middle;\n",
              "    }\n",
              "\n",
              "    .dataframe tbody tr th {\n",
              "        vertical-align: top;\n",
              "    }\n",
              "\n",
              "    .dataframe thead th {\n",
              "        text-align: right;\n",
              "    }\n",
              "</style>\n",
              "<table border=\"1\" class=\"dataframe\">\n",
              "  <thead>\n",
              "    <tr style=\"text-align: right;\">\n",
              "      <th></th>\n",
              "      <th>city</th>\n",
              "      <th>city_ascii</th>\n",
              "      <th>state_id</th>\n",
              "      <th>state_name</th>\n",
              "      <th>county_fips</th>\n",
              "      <th>county_name</th>\n",
              "      <th>county_fips_all</th>\n",
              "      <th>county_name_all</th>\n",
              "      <th>lat</th>\n",
              "      <th>lng</th>\n",
              "      <th>population</th>\n",
              "      <th>density</th>\n",
              "      <th>source</th>\n",
              "      <th>military</th>\n",
              "      <th>incorporated</th>\n",
              "      <th>timezone</th>\n",
              "      <th>ranking</th>\n",
              "      <th>zips</th>\n",
              "      <th>id</th>\n",
              "    </tr>\n",
              "  </thead>\n",
              "  <tbody>\n",
              "    <tr>\n",
              "      <th>3171</th>\n",
              "      <td>CARLSTADT</td>\n",
              "      <td>Carlstadt</td>\n",
              "      <td>NJ</td>\n",
              "      <td>New Jersey</td>\n",
              "      <td>34003</td>\n",
              "      <td>BERGEN</td>\n",
              "      <td>34003</td>\n",
              "      <td>Bergen</td>\n",
              "      <td>40.8247</td>\n",
              "      <td>-74.0613</td>\n",
              "      <td>6314.0</td>\n",
              "      <td>617.0</td>\n",
              "      <td>polygon</td>\n",
              "      <td>False</td>\n",
              "      <td>True</td>\n",
              "      <td>America/New_York</td>\n",
              "      <td>3</td>\n",
              "      <td>07072</td>\n",
              "      <td>1840000895</td>\n",
              "    </tr>\n",
              "    <tr>\n",
              "      <th>3172</th>\n",
              "      <td>UPPER POHATCONG</td>\n",
              "      <td>Upper Pohatcong</td>\n",
              "      <td>NJ</td>\n",
              "      <td>New Jersey</td>\n",
              "      <td>34041</td>\n",
              "      <td>WARREN</td>\n",
              "      <td>34041</td>\n",
              "      <td>Warren</td>\n",
              "      <td>40.6774</td>\n",
              "      <td>-75.1558</td>\n",
              "      <td>1586.0</td>\n",
              "      <td>947.0</td>\n",
              "      <td>polygon</td>\n",
              "      <td>False</td>\n",
              "      <td>True</td>\n",
              "      <td>America/New_York</td>\n",
              "      <td>3</td>\n",
              "      <td>08865</td>\n",
              "      <td>1840039970</td>\n",
              "    </tr>\n",
              "    <tr>\n",
              "      <th>3173</th>\n",
              "      <td>ZAREPHATH</td>\n",
              "      <td>Zarephath</td>\n",
              "      <td>NJ</td>\n",
              "      <td>New Jersey</td>\n",
              "      <td>34035</td>\n",
              "      <td>SOMERSET</td>\n",
              "      <td>34035</td>\n",
              "      <td>Somerset</td>\n",
              "      <td>40.5361</td>\n",
              "      <td>-74.5745</td>\n",
              "      <td>9.0</td>\n",
              "      <td>8.0</td>\n",
              "      <td>polygon</td>\n",
              "      <td>False</td>\n",
              "      <td>False</td>\n",
              "      <td>America/New_York</td>\n",
              "      <td>3</td>\n",
              "      <td>08873 08890</td>\n",
              "      <td>1840024282</td>\n",
              "    </tr>\n",
              "    <tr>\n",
              "      <th>3174</th>\n",
              "      <td>TRENTON</td>\n",
              "      <td>Trenton</td>\n",
              "      <td>NJ</td>\n",
              "      <td>New Jersey</td>\n",
              "      <td>34021</td>\n",
              "      <td>MERCER</td>\n",
              "      <td>34021</td>\n",
              "      <td>Mercer</td>\n",
              "      <td>40.2236</td>\n",
              "      <td>-74.7641</td>\n",
              "      <td>296869.0</td>\n",
              "      <td>4328.0</td>\n",
              "      <td>polygon</td>\n",
              "      <td>False</td>\n",
              "      <td>True</td>\n",
              "      <td>America/New_York</td>\n",
              "      <td>2</td>\n",
              "      <td>08638 08611 08618 08629 08609 08608 08601 0860...</td>\n",
              "      <td>1840001383</td>\n",
              "    </tr>\n",
              "    <tr>\n",
              "      <th>3175</th>\n",
              "      <td>NORTH CAPE MAY</td>\n",
              "      <td>North Cape May</td>\n",
              "      <td>NJ</td>\n",
              "      <td>New Jersey</td>\n",
              "      <td>34009</td>\n",
              "      <td>CAPE MAY</td>\n",
              "      <td>34009</td>\n",
              "      <td>Cape May</td>\n",
              "      <td>38.9765</td>\n",
              "      <td>-74.9516</td>\n",
              "      <td>2772.0</td>\n",
              "      <td>772.0</td>\n",
              "      <td>polygon</td>\n",
              "      <td>False</td>\n",
              "      <td>False</td>\n",
              "      <td>America/New_York</td>\n",
              "      <td>3</td>\n",
              "      <td>08204</td>\n",
              "      <td>1840005866</td>\n",
              "    </tr>\n",
              "  </tbody>\n",
              "</table>\n",
              "</div>"
            ],
            "text/plain": [
              "                 city  ...          id\n",
              "3171        CARLSTADT  ...  1840000895\n",
              "3172  UPPER POHATCONG  ...  1840039970\n",
              "3173        ZAREPHATH  ...  1840024282\n",
              "3174          TRENTON  ...  1840001383\n",
              "3175   NORTH CAPE MAY  ...  1840005866\n",
              "\n",
              "[5 rows x 19 columns]"
            ]
          },
          "metadata": {
            "tags": []
          },
          "execution_count": 11
        }
      ]
    },
    {
      "cell_type": "code",
      "metadata": {
        "id": "OVRl6Zr8KMDq",
        "outputId": "adb3b684-e518-46d1-84f0-573103583f82",
        "colab": {
          "base_uri": "https://localhost:8080/",
          "height": 51
        }
      },
      "source": [
        "# cities list \n",
        "cities = []\n",
        "cities.extend(uscities['city'])\n",
        "cities.extend(state_counties['City'])\n",
        "cities.extend(state_counties['City alias'])\n",
        "cities = list(set(cities))\n",
        "cities = [e for e in cities if e not in street_names]\n",
        "print(len(cities))\n",
        "\n",
        "imp_cities = []\n",
        "imp_cities.extend(['WILLIAMSBURG', 'BUSHWICK', 'GREENPOINT',  'FLATBUSH', 'RAVENSWOOD','CAMPTOWN','CARMANSVLLE', 'WMSBURG','WULIAMSBURG', 'WMBURG','WMSBG','WMSBURGH', 'HOBOKEN', 'N. J.', 'S. ISLAND','SPAIN', 'B’KLYN', 'MT. VERNON','BROOKLYN','JERSEY CITY', 'N. JERSEY', 'CINCINNATI', 'GERMANY', 'STNTN', 'JERSEY C.', 'HOBOK', 'CONNECTICUT','BLYN',\"JERSY CTY\",'BRKLYN','NEW JERSEY','LONG ISLAND', 'N. ORLEANS', 'BKLYN'])\n",
        "imp_cities.extend(['BROOKLYR','B.KLYN','JER. C.','CONN', 'L. I.', 'L.I.', 'L. I','L.I','L I','L I.', 'PTCHESTER', \"B'KLYN\",'J. C.','N.J.','S. I.','S.I.', 'NEW J'])\n",
        "\n",
        "\n",
        "# county list\n",
        "counties = []\n",
        "counties.extend(uscities['county_name'])\n",
        "counties.extend(state_counties['County'])\n",
        "counties = list(set(counties))\n",
        "print(len(counties))"
      ],
      "execution_count": null,
      "outputs": [
        {
          "output_type": "stream",
          "text": [
            "4999\n",
            "89\n"
          ],
          "name": "stdout"
        }
      ]
    },
    {
      "cell_type": "markdown",
      "metadata": {
        "id": "tYhV-R-gH5JU"
      },
      "source": [
        "### functions to identify city, county and street"
      ]
    },
    {
      "cell_type": "code",
      "metadata": {
        "id": "s_j9kjrLZK7G"
      },
      "source": [
        "\n",
        "# functions to find city, county, streets\n",
        "def has_city(address, cities = cities):\n",
        "  string_match = []\n",
        "  for city in cities:\n",
        "    if city in address:\n",
        "      string_match.append(city)\n",
        "  string_match.append('')\n",
        "  return max(string_match, key = len) \n",
        "\n",
        "\n",
        "def has_impcity(address, cities = imp_cities):\n",
        "  for city in cities:\n",
        "    if city in address:\n",
        "      return city\n",
        "  return ''\n",
        "\n",
        "\n",
        "def has_county(address, counties = counties):\n",
        "    string_match = []\n",
        "    for county in counties:\n",
        "      if county in address:\n",
        "        string_match.append(county)\n",
        "    string_match.append('')\n",
        "    return max(string_match, key = len) \n",
        "\n",
        "\n",
        "def has_street(address, streetnames = street_names, city = ''):\n",
        "    street_match = []\n",
        "    street_match_1 = []\n",
        "    street_match_2 = []\n",
        "    street_match.append('')\n",
        "    street_match_1.append('')\n",
        "    street_match_2.append('')\n",
        "    address_1 = ''\n",
        "    address_2 = ''\n",
        "    special_cases = ''\n",
        "\n",
        "    # Handle special cases like corner and near\n",
        "    if 'C.' in address:\n",
        "      address_1 = address[:address.index(\"C.\")] # divide the record by C\n",
        "      address_2 = address[address.index(\"C.\") +1 :]\n",
        "      special_cases = 'corner'\n",
        "      \n",
        "    elif 'N.' in address:\n",
        "      address_1 = address[:address.index(\"N.\")] # divide the record by C\n",
        "      address_2 = address[address.index(\"N.\") +1 :]\n",
        "      #print(address_1)  \n",
        "      special_cases = 'near'\n",
        "    \n",
        "    address_1 = address_1.replace('.','').strip()\n",
        "    address_2 = address_2.replace('.','').strip()\n",
        "    address = address.replace('.','').strip()\n",
        "    \n",
        "    # find streets from overall and split record\n",
        "    for street in streetnames:\n",
        "      if str(street) in address_1:\n",
        "        street_match_1.append(str(street))\n",
        "      if str(street) in address_2:\n",
        "        street_match_2.append(str(street))\n",
        "      if str(street) in address:\n",
        "        street_match.append(str(street))\n",
        "\n",
        "    street_1 = max(street_match_1, key = len) \n",
        "    street_2 = max(street_match_2, key = len) \n",
        "    street = max(street_match, key = len)\n",
        "    \n",
        "    # if both street 1 and street 2 exist then it qualifies for corner or near special case\n",
        "    if (street_1 != '') & (street_2 != ''):\n",
        "      street =  ''\n",
        "    if (street_1 == '') | (street_2 == ''):\n",
        "      street_1 = ''\n",
        "      street_2 = ''\n",
        "      special_cases = ''\n",
        "\n",
        "   \n",
        "    return (street, street_1, street_2, special_cases)\n"
      ],
      "execution_count": null,
      "outputs": []
    },
    {
      "cell_type": "code",
      "metadata": {
        "id": "1H-QP--hW3Av"
      },
      "source": [
        "import re\n",
        "#[re.sub(r'E\\.\\s?','East ', str(x)) for x in output_1850_mn['H Address']]\n",
        "\n",
        "output_1850_mn['H Address'] = output_1850_mn['H Address'].str.replace('-','')\n",
        "output_1850_bk['H Address'] = output_1850_bk['H Address'].str.replace('-','')\n",
        "output_1880['H Address'] = output_1880['H Address'].str.replace('-','')"
      ],
      "execution_count": null,
      "outputs": []
    },
    {
      "cell_type": "code",
      "metadata": {
        "id": "NfUcC_8EJZBk"
      },
      "source": [
        "# convert to upper case for consistency\n",
        "output_1850_bk['H Address'] = output_1850_bk['H Address'].str.upper()\n",
        "output_1850_mn['H Address'] = output_1850_mn['H Address'].str.upper()\n",
        "output_1880['H Address'] = output_1880['H Address'].str.upper()\n",
        "\n",
        "output_1850_bk['H Street Name'] = output_1850_bk['H Street Name'].str.upper()\n",
        "output_1850_mn['H Street Name'] = output_1850_mn['H Street Name'].str.upper()\n",
        "output_1880['H Street Name'] = output_1880['H Street Name'].str.upper()\n",
        "\n",
        "\n",
        "output_1850_bk['H City'] = output_1850_bk['H City'].str.upper()\n",
        "output_1850_mn['H City'] = output_1850_mn['H City'].str.upper()\n",
        "output_1880['H City'] = output_1880['H City'].str.upper()\n"
      ],
      "execution_count": null,
      "outputs": []
    },
    {
      "cell_type": "markdown",
      "metadata": {
        "id": "OWIbVIXKNkVt"
      },
      "source": [
        "### code to modify house nos, streets and city\n",
        "1. for records starting with H \n",
        "2. for  records that have an H tag somewhere in the record"
      ]
    },
    {
      "cell_type": "code",
      "metadata": {
        "id": "xn3w5gKzjxW_"
      },
      "source": [
        "# code to modify house nos, streets and city\n",
        "\n",
        "def address(filename):\n",
        "  filename['new h address-flag'] = ''\n",
        "  filename['new h house number'] = ''\n",
        "  filename['new h street name'] = ''\n",
        "  filename['new h street 1'] = ''\n",
        "  filename['new h street 2'] = ''\n",
        "  filename['new h street type'] = ''\n",
        "  filename['new h city'] = ''\n",
        "  filename['new h county'] = ''\n",
        "  filename['unidentified h info'] = ''\n",
        "  filename['h house number modifier'] = ''\n",
        "  filename['new address2 house number'] = ''\n",
        "  filename['new address2 street name'] = ''\n",
        "  filename['new address2 street 1'] = ''\n",
        "  filename['new address2 street 2'] = ''\n",
        "  filename['new address2 street type'] = ''\n",
        "  filename['new address2 city'] = ''\n",
        "  filename['new address2 county'] = ''\n",
        "  filename['unidentified address2 info'] = ''\n",
        "  filename['address2 house number modifier'] = ''\n",
        "\n",
        "\n",
        "  count = 1\n",
        "  for i in range(1,len(filename)):\n",
        "    \n",
        "    for k in range(len(ordinals_list)): # change street numbers that were written in words\n",
        "      if ordinals_list[k] in str(filename[\"H Address\"][i]):\n",
        "        filename[\"H Address\"][i] = str(filename[\"H Address\"][i]).replace(ordinals_list[k], replace_list[k])\n",
        "\n",
        "    address_1 = str(filename[\"H Address\"][i]).strip().split()\n",
        "    address_2 = str(filename[\"H Address\"][i]).strip()\n",
        "    \n",
        "    if ((address_1[0] == 'H') or (address_1[0] == 'H.')): # find if an address start with H\n",
        "\n",
        "      #print(filename[\"H Street Name\"][i])\n",
        "      filename['new h address-flag'][i] = 'start with h'\n",
        "      \n",
        "      city = has_impcity(address_2, imp_cities) # find if there is a city\n",
        "      if city == '':\n",
        "        city = has_city(address_2, cities)\n",
        "      if city :\n",
        "        address_2 = address_2.replace(str(city),'').strip() \n",
        "        address_1 = address_2.split()\n",
        "        filename['new h city'][i] = city # if city save it\n",
        "\n",
        "\n",
        "      house_num = False\n",
        "\n",
        "      for j in range(len(address_1)):\n",
        "        if '.5' in address_1[j]: # remove .5 to correctly identify house nos\n",
        "          filename['h house number modifier'][i] = address_1[j]\n",
        "          address_1[j] = address_1[j].replace('.5', '').strip()\n",
        "          \n",
        "      \n",
        "      street = ''\n",
        "      street_1 = ''\n",
        "      street_2 = ''\n",
        "      special_cases = ''\n",
        "      if (len(address_1) ==2 ): # address length is 2\n",
        "          street, street_1, street_2, special_cases = has_street(str(address_1[1])) # no house no\n",
        "        \n",
        "      if (len(address_1) >2): # address len more than 2\n",
        "          if (address_1[1].isdigit()): # first find a house no\n",
        "            street, street_1, street_2, special_cases = has_street(' '.join(address_1[2:]))\n",
        "            if (street != '') | (special_cases != ''): # there is a house no and a street name\n",
        "              house_num = True\n",
        "              start = 1\n",
        "          elif (address_1[2].isdigit()):\n",
        "            street, street_1, street_2, special_cases = has_street(' '.join(i for i in address_1[1:] if i != address_1[2]))\n",
        "            if (street != '') | (special_cases != ''): # there is a house no and a street name\n",
        "              house_num = True\n",
        "              start = 2\n",
        "          \n",
        "          if house_num == False: # there is a street but no house no\n",
        "              street, street_1, street_2, special_cases = has_street(address_2[1:])\n",
        "          \n",
        "      if (street != '') | (special_cases != ''): # for consistency in data remove . from street identifiers\n",
        "          address_2 = address_2.replace('W.','W').strip()\n",
        "          address_2 = address_2.replace('E.','E').strip()\n",
        "          address_2 = address_2.replace('ST.','ST').strip()\n",
        "          address_2 = address_2.replace('AV.','AV').strip()\n",
        "          address_2 = address_2.replace('A.V.','AV').strip()\n",
        "          address_2 = address_2.replace(str(street),'').strip()\n",
        "          address_2 = address_2.replace(str(street_1),'').strip()\n",
        "          address_2 = address_2.replace(str(street_2),'').strip()\n",
        "          \n",
        "          filename['new h street name'][i] = street\n",
        "          filename['new h street 1'][i] = street_1\n",
        "          filename['new h street 2'][i] = street_2\n",
        "          filename['new h street type'][i] = special_cases\n",
        "  \n",
        "      if house_num:\n",
        "          filename['new h house number'][i] = address_1[start]\n",
        "          address_2 = address_2.replace(address_1[start],'').strip()\n",
        "      \n",
        "      # find a county\n",
        "      county = has_county(address_2, counties)\n",
        "      if county:\n",
        "        address_2 = address_2.replace(str(county),'').strip()\n",
        "        filename['new h county'][i] = county\n",
        "       \n",
        "      address_2 = address_2.replace('H ','').strip()\n",
        "      address_2 = address_2.replace('H.','').strip()\n",
        "      address_2 = address_2.replace('.5','').strip()\n",
        "      filename['unidentified h info'][i] = address_2 # store the remaining information as unidentified\n",
        "  \n",
        "        \n",
        "    if count % 1000 == 0:\n",
        "      print(count)\n",
        "      #break\n",
        "    count = count + 1\n",
        "  \n",
        "\n",
        "      \n",
        "\n",
        "  return filename\n",
        "    "
      ],
      "execution_count": null,
      "outputs": []
    },
    {
      "cell_type": "code",
      "metadata": {
        "id": "tHrA_0MKms6n"
      },
      "source": [
        "output_1850_bk_int = address(output_1850_bk)"
      ],
      "execution_count": null,
      "outputs": []
    },
    {
      "cell_type": "code",
      "metadata": {
        "id": "AteKFR49wI1M"
      },
      "source": [
        "output_1850_mn_int = address(output_1850_mn)"
      ],
      "execution_count": null,
      "outputs": []
    },
    {
      "cell_type": "code",
      "metadata": {
        "id": "wXZulSOA0qyV"
      },
      "source": [
        "output_1880_int = address(output_1880)"
      ],
      "execution_count": null,
      "outputs": []
    },
    {
      "cell_type": "code",
      "metadata": {
        "id": "85F_No6mrp2L",
        "outputId": "44f5b6b8-b64c-4e9f-90fe-d923341c3151",
        "colab": {
          "base_uri": "https://localhost:8080/",
          "height": 34
        }
      },
      "source": [
        "output_1850_mn['new h address-flag'].unique()"
      ],
      "execution_count": null,
      "outputs": [
        {
          "output_type": "execute_result",
          "data": {
            "text/plain": [
              "array(['start with h', ''], dtype=object)"
            ]
          },
          "metadata": {
            "tags": []
          },
          "execution_count": 28
        }
      ]
    },
    {
      "cell_type": "code",
      "metadata": {
        "id": "Dz5wu_DGc6h1",
        "outputId": "ba5090f2-c04f-470f-ad1a-51ba0f4ef38f",
        "colab": {
          "base_uri": "https://localhost:8080/",
          "height": 34
        }
      },
      "source": [
        "output_1850_bk_int['new h address-flag'].unique()"
      ],
      "execution_count": null,
      "outputs": [
        {
          "output_type": "execute_result",
          "data": {
            "text/plain": [
              "array(['', 'start with h'], dtype=object)"
            ]
          },
          "metadata": {
            "tags": []
          },
          "execution_count": 20
        }
      ]
    },
    {
      "cell_type": "code",
      "metadata": {
        "id": "WZM8KebDe0Km",
        "outputId": "f92d6fbb-8d51-4af2-841f-1c6afe901044",
        "colab": {
          "base_uri": "https://localhost:8080/",
          "height": 34
        }
      },
      "source": [
        "output_1880_int['new h address-flag'].unique()"
      ],
      "execution_count": null,
      "outputs": [
        {
          "output_type": "execute_result",
          "data": {
            "text/plain": [
              "array(['', 'start with h'], dtype=object)"
            ]
          },
          "metadata": {
            "tags": []
          },
          "execution_count": 22
        }
      ]
    },
    {
      "cell_type": "markdown",
      "metadata": {
        "id": "lZRWng2VfCLM"
      },
      "source": [
        "Save Intermediate files again"
      ]
    },
    {
      "cell_type": "code",
      "metadata": {
        "id": "IO5tuSy8mWrx"
      },
      "source": [
        "output_1850_bk_int.to_csv(\"/content/output_1850_bk_int.csv\")"
      ],
      "execution_count": null,
      "outputs": []
    },
    {
      "cell_type": "code",
      "metadata": {
        "id": "lqo4E6bcnMSV"
      },
      "source": [
        "output_1880_int.to_csv(\"/content/output_1880_int.csv\")"
      ],
      "execution_count": null,
      "outputs": []
    },
    {
      "cell_type": "code",
      "metadata": {
        "id": "2Fa2dWTrnMdh"
      },
      "source": [
        "output_1850_mn_int.to_csv(\"/content/output_1850_mn_int.csv\")"
      ],
      "execution_count": null,
      "outputs": []
    },
    {
      "cell_type": "markdown",
      "metadata": {
        "id": "qOMV-uArtCDd"
      },
      "source": [
        "Repeat the process for records that have both work and house address"
      ]
    },
    {
      "cell_type": "code",
      "metadata": {
        "id": "eu85XayXbZDv"
      },
      "source": [
        "# repeat the above process for records that have both work and house address\n",
        "\n",
        "def h_inbw_address(filename):\n",
        "  count = 1\n",
        "  for i in range(1,len(filename)):\n",
        "    \n",
        "    address_3 = str(filename[\"H Address\"][i]).strip().split()\n",
        "    \n",
        "    if (address_3[0] != 'H') & (address_3[0] != 'H.') & ('H' in address_3[1:]):\n",
        "      #print(address_1.index(\"H\"))\n",
        "      #print(filename[\"H Address\"][i])\n",
        "\n",
        "      filename['new h address-flag'][i] = 'h in between'\n",
        "\n",
        "      address_2 = ' '.join(address_3[address_3.index(\"H\"):])\n",
        "      #print(address_2)\n",
        "      #print(filename['new h address-flag'][i])\n",
        "            \n",
        "      city = has_impcity(address_2, imp_cities) # find if there is a city\n",
        "      if city == '':\n",
        "        city = has_city(address_2, cities)\n",
        "      if city :\n",
        "        address_2 = address_2.replace(str(city),'').strip() \n",
        "        filename['new h city'][i] = city # if city save it\n",
        "\n",
        "      address_1 = address_2.split()\n",
        "\n",
        "      house_num = False\n",
        "\n",
        "      for j in range(len(address_1)):\n",
        "        if '.5' in address_1[j]:\n",
        "          filename['h house number modifier'][i] = address_1[j]\n",
        "          address_1[j] = address_1[j].replace('.5', '').strip()\n",
        "\n",
        "      street = ''\n",
        "      street_1 = ''\n",
        "      street_2 = ''\n",
        "      special_cases = ''\n",
        "      if (len(address_1) ==2 ): # length is 2\n",
        "          street, street_1, street_2, special_cases = has_street(str(address_1[1])) # no house no\n",
        "        \n",
        "      if (len(address_1) >2): # len more than 2\n",
        "          if (address_1[1].isdigit()): \n",
        "            street, street_1, street_2, special_cases = has_street(' '.join(address_1[2:]))\n",
        "            if (street != '') | (special_cases != ''): # there is a house no and a street name\n",
        "              house_num = True\n",
        "              start = 1\n",
        "          elif (address_1[2].isdigit()):            \n",
        "            street, street_1, street_2, special_cases = has_street(' '.join(i for i in address_1[1:] if i != address_1[2]))\n",
        "            if (street != '') | (special_cases != ''): # there is a house no and a street name\n",
        "              house_num = True\n",
        "              start = 2\n",
        "          \n",
        "          if house_num == False: # there is a street but no house no\n",
        "              street, street_1, street_2, special_cases = has_street(address_2[1:])\n",
        "          \n",
        "      if (street != '') | (special_cases != ''):\n",
        "          address_2 = address_2.replace('W.','W').strip()\n",
        "          address_2 = address_2.replace('E.','E').strip()\n",
        "          address_2 = address_2.replace('ST.','ST').strip()\n",
        "          address_2 = address_2.replace('AV.','AV').strip()\n",
        "          address_2 = address_2.replace('A.V.','AV').strip()\n",
        "          address_2 = address_2.replace(str(street),'').strip()\n",
        "          address_2 = address_2.replace(str(street_1),'').strip()\n",
        "          address_2 = address_2.replace(str(street_2),'').strip()\n",
        "          \n",
        "          filename['new h street name'][i] = street\n",
        "          filename['new h street 1'][i] = street_1\n",
        "          filename['new h street 2'][i] = street_2\n",
        "          filename['new h street type'][i] = special_cases\n",
        "  \n",
        "      if house_num:\n",
        "          filename['new h house number'][i] = address_1[start]\n",
        "          address_2 = address_2.replace(address_1[start],'').strip()\n",
        "        \n",
        "      \n",
        "      county = has_county(address_2, counties)\n",
        "      if county:\n",
        "        address_2 = address_2.replace(str(county),'').strip()\n",
        "        filename['new h county'][i] = county\n",
        "       \n",
        "      address_2 = address_2.replace('H ','').strip()\n",
        "      #address_2 = address_2.replace('H.','').strip()\n",
        "      address_2 = address_2.replace('.5','').strip()\n",
        "      filename['unidentified h info'][i] = address_2\n",
        "\n",
        "\n",
        "# get sec address\n",
        "      address_2 = ' '.join(address_3[:address_3.index(\"H\")])\n",
        "      #print(address_2)\n",
        "      address_1 = address_3[:address_3.index(\"H\")]\n",
        "\n",
        "      city = has_impcity(address_2, imp_cities) # find if there is a city\n",
        "      if city == '':\n",
        "        city = has_city(address_2, cities)\n",
        "      if city :\n",
        "        address_2 = address_2.replace(str(city),'').strip() \n",
        "        filename['new address2 city'][i] = city # if city save it\n",
        "      \n",
        "      address_1 = address_2.split()\n",
        "\n",
        "      house_num = False\n",
        "      for j in range(len(address_1)):\n",
        "        if '.5' in address_1[j]:\n",
        "          filename['address2 house number modifier'][i] = address_1[j]\n",
        "          address_1[j] = address_1[j].replace('.5', '').strip()\n",
        "      \n",
        "      street = ''\n",
        "      street_1 = ''\n",
        "      street_2 = ''\n",
        "      special_cases = ''\n",
        "      if (len(address_1) ==1 ): # length is 1\n",
        "          street, street_1, street_2, special_cases = has_street(str(address_1[0])) # no house no        \n",
        "      if (len(address_1) >1): # len more than 2\n",
        "          if (address_1[0].isdigit()): \n",
        "            street, street_1, street_2, special_cases = has_street(' '.join(address_1[1:]))\n",
        "            #print(street, street_1, street_2, special_cases)\n",
        "            if (street != '') | (special_cases != ''): # there is a house no and a street name\n",
        "              house_num = True\n",
        "              start = 0\n",
        "          elif (address_1[1].isdigit()):            \n",
        "            street, street_1, street_2, special_cases = has_street(' '.join(i for i in address_1 if i != address_1[1]))\n",
        "            if (street != '') | (special_cases != ''): # there is a house no and a street name\n",
        "              house_num = True\n",
        "              start = 1\n",
        "          \n",
        "          if house_num == False: # there is a street but no house no\n",
        "              street, street_1, street_2, special_cases = has_street(address_2)\n",
        "          \n",
        "      if (street != '') | (special_cases != ''):\n",
        "          address_2 = address_2.replace('W.','W').strip()\n",
        "          address_2 = address_2.replace('E.','E').strip()\n",
        "          address_2 = address_2.replace('ST.','ST').strip()\n",
        "          address_2 = address_2.replace('AV.','AV').strip()\n",
        "          address_2 = address_2.replace('A.V.','AV').strip()\n",
        "          address_2 = address_2.replace(str(street),'').strip()\n",
        "          address_2 = address_2.replace(str(street),'').strip()\n",
        "          address_2 = address_2.replace(str(street_1),'').strip()\n",
        "          address_2 = address_2.replace(str(street_2),'').strip()\n",
        "\n",
        "          filename['new address2 street name'][i] = street\n",
        "          filename['new address2 street 1'][i] = street_1\n",
        "          filename['new address2 street 2'][i] = street_2\n",
        "          filename['new address2 street type'][i] = special_cases\n",
        "  \n",
        "      if house_num:\n",
        "          filename['new address2 house number'][i] = address_1[start]\n",
        "          #print(filename['new address2 house number'][i])\n",
        "          address_2 = address_2.replace(address_1[start],'').strip()\n",
        "        \n",
        "\n",
        "\n",
        "      county = has_county(address_2, counties)\n",
        "      if county:\n",
        "        address_2 = address_2.replace(str(county),'').strip()\n",
        "        filename['new address2 county'][i] = county\n",
        "       \n",
        "      #address_2 = address_2.replace('H ','').strip()\n",
        "      #address_2 = address_2.replace('H.','').strip()\n",
        "      address_2 = address_2.replace('.5','').strip()\n",
        "      filename['unidentified address2 info'][i] = address_2\n",
        "\n",
        "\n",
        "    #if count % 1000 == 0:\n",
        "    #  print(count)\n",
        "\n",
        "    count = count+1    \n",
        "\n",
        "  return filename\n",
        "    "
      ],
      "execution_count": null,
      "outputs": []
    },
    {
      "cell_type": "code",
      "metadata": {
        "id": "oyvzZcM0mVix"
      },
      "source": [
        "output_1850_mn_int_2 = h_inbw_address(output_1850_mn_int)"
      ],
      "execution_count": null,
      "outputs": []
    },
    {
      "cell_type": "code",
      "metadata": {
        "id": "MqIL0vJptRsH"
      },
      "source": [
        "output_1850_bk_int_2 = h_inbw_address(output_1850_bk_int)"
      ],
      "execution_count": null,
      "outputs": []
    },
    {
      "cell_type": "code",
      "metadata": {
        "id": "nme_eHDTtVzz"
      },
      "source": [
        "output_1880_int_2 = h_inbw_address(output_1880_int)"
      ],
      "execution_count": null,
      "outputs": []
    },
    {
      "cell_type": "code",
      "metadata": {
        "id": "QHkMc4vfs_fx",
        "outputId": "b8d7072a-30a0-4f67-cea3-a7a078ca80dc",
        "colab": {
          "base_uri": "https://localhost:8080/",
          "height": 33
        }
      },
      "source": [
        "output_1850_mn_int_2['new h address-flag'].unique()"
      ],
      "execution_count": null,
      "outputs": [
        {
          "output_type": "execute_result",
          "data": {
            "text/plain": [
              "array(['start with h', '', 'h in between'], dtype=object)"
            ]
          },
          "metadata": {
            "tags": []
          },
          "execution_count": 17
        }
      ]
    },
    {
      "cell_type": "code",
      "metadata": {
        "id": "LyxS6m7Utfza",
        "outputId": "a87b7e18-6c5c-4eb8-f1a8-6cc68f308b2c",
        "colab": {
          "base_uri": "https://localhost:8080/",
          "height": 34
        }
      },
      "source": [
        "output_1850_bk_int_2['new h address-flag'].unique()"
      ],
      "execution_count": null,
      "outputs": [
        {
          "output_type": "execute_result",
          "data": {
            "text/plain": [
              "array(['', 'h in between', 'start with h'], dtype=object)"
            ]
          },
          "metadata": {
            "tags": []
          },
          "execution_count": 35
        }
      ]
    },
    {
      "cell_type": "code",
      "metadata": {
        "id": "LGTVaGRQthzA",
        "outputId": "ab775480-259b-4b1a-ba55-a373b8a8d333",
        "colab": {
          "base_uri": "https://localhost:8080/",
          "height": 34
        }
      },
      "source": [
        "output_1880_int_2['new h address-flag'].unique()"
      ],
      "execution_count": null,
      "outputs": [
        {
          "output_type": "execute_result",
          "data": {
            "text/plain": [
              "array(['', 'start with h', 'h in between'], dtype=object)"
            ]
          },
          "metadata": {
            "tags": []
          },
          "execution_count": 36
        }
      ]
    },
    {
      "cell_type": "code",
      "metadata": {
        "id": "OrxWDq2YoIfu"
      },
      "source": [
        "def h_inbw_address(filename):\n",
        "\n",
        "  count = 1\n",
        "  for i in range(1,len(filename)):\n",
        "    \n",
        "    address_3 = str(filename[\"H Address\"][i]).strip().split()\n",
        "    \n",
        "    if (address_3[0] != 'H') & (address_3[0] != 'H.') & ('H.' in address_3[1:]):\n",
        "      #print(address_1.index(\"H\"))\n",
        "      #print(filename[\"H Address\"][i])\n",
        "\n",
        "      filename['new h address-flag'][i] = 'h in between'\n",
        "\n",
        "      address_2 = ' '.join(address_3[address_3.index(\"H.\"):])\n",
        "      #print(address_2)\n",
        "      #print(filename['new h address-flag'][i])\n",
        "      address_1 = address_3[address_3.index(\"H.\"):]\n",
        "      \n",
        "      city = has_impcity(address_2, imp_cities) # find if there is a city\n",
        "      if city == '':\n",
        "        city = has_city(address_2, cities)\n",
        "      if city :\n",
        "        address_2 = address_2.replace(str(city),'').strip() \n",
        "        filename['new h city'][i] = city # if city save it\n",
        "\n",
        "      address_1 = address_2.split()\n",
        "\n",
        "      house_num = False\n",
        "\n",
        "      for j in range(len(address_1)):\n",
        "        if '.5' in address_1[j]:\n",
        "          filename['h house number modifier'][i] = address_1[j]\n",
        "          address_1[j] = address_1[j].replace('.5', '').strip()\n",
        "\n",
        "      street = ''\n",
        "      street_1 = ''\n",
        "      street_2 = ''\n",
        "      special_cases = ''\n",
        "      if (len(address_1) ==2 ): # length is 2\n",
        "          street, street_1, street_2, special_cases = has_street(str(address_1[1])) # no house no\n",
        "        \n",
        "      if (len(address_1) >2): # len more than 2\n",
        "          if (address_1[1].isdigit()): \n",
        "            street, street_1, street_2, special_cases = has_street(' '.join(address_1[2:]))\n",
        "            if (street != '') | (special_cases != ''): # there is a house no and a street name\n",
        "              house_num = True\n",
        "              start = 1\n",
        "          elif (address_1[2].isdigit()):            \n",
        "            street, street_1, street_2, special_cases = has_street(' '.join(i for i in address_1[1:] if i != address_1[2]))\n",
        "            if (street != '') | (special_cases != ''): # there is a house no and a street name\n",
        "              house_num = True\n",
        "              start = 2\n",
        "          \n",
        "          if house_num == False: # there is a street but no house no\n",
        "              street, street_1, street_2, special_cases = has_street(address_2[1:])\n",
        "          \n",
        "      if (street != '') | (special_cases != ''):\n",
        "          address_2 = address_2.replace('W.','W').strip()\n",
        "          address_2 = address_2.replace('E.','E').strip()\n",
        "          address_2 = address_2.replace('ST.','ST').strip()\n",
        "          address_2 = address_2.replace('AV.','AV').strip()\n",
        "          address_2 = address_2.replace('A.V.','AV').strip()\n",
        "          address_2 = address_2.replace(str(street),'').strip()\n",
        "          address_2 = address_2.replace(str(street_1),'').strip()\n",
        "          address_2 = address_2.replace(str(street_2),'').strip()\n",
        "          \n",
        "          filename['new h street name'][i] = street\n",
        "          filename['new h street 1'][i] = street_1\n",
        "          filename['new h street 2'][i] = street_2\n",
        "          filename['new h street type'][i] = special_cases\n",
        "  \n",
        "      if house_num:\n",
        "          filename['new h house number'][i] = address_1[start]\n",
        "          address_2 = address_2.replace(address_1[start],'').strip()\n",
        "        \n",
        "      \n",
        "      county = has_county(address_2, counties)\n",
        "      if county:\n",
        "        address_2 = address_2.replace(str(county),'').strip()\n",
        "        filename['new h county'][i] = county\n",
        "\n",
        "      #address_2 = address_2.replace('H ','').strip()\n",
        "      address_2 = address_2.replace('H.','').strip()\n",
        "      address_2 = address_2.replace('.5','').strip()\n",
        "      filename['unidentified h info'][i] = address_2\n",
        "\n",
        "\n",
        "# get sec address\n",
        "      address_2 = ' '.join(address_3[:address_3.index(\"H.\")])\n",
        "      #print(address_2)\n",
        "      address_1 = address_3[:address_3.index(\"H.\")]\n",
        "\n",
        "      city = has_impcity(address_2, imp_cities) # find if there is a city\n",
        "      if city == '':\n",
        "        city = has_city(address_2, cities)\n",
        "      if city :\n",
        "        address_2 = address_2.replace(str(city),'').strip() \n",
        "        filename['new address2 city'][i] = city # if city save it\n",
        "\n",
        "      address_1 = address_2.split()\n",
        "      \n",
        "      house_num = False\n",
        "      for j in range(len(address_1)):\n",
        "        if '.5' in address_1[j]:\n",
        "          filename['address2 house number modifier'][i] = address_1[j]\n",
        "          address_1[j] = address_1[j].replace('.5', '').strip()\n",
        "      \n",
        "      street = ''\n",
        "      street_1 = ''\n",
        "      street_2 = ''\n",
        "      special_cases = ''\n",
        "      if (len(address_1) ==1 ): # length is 1\n",
        "          street, street_1, street_2, special_cases = has_street(str(address_1[0])) # no house no        \n",
        "      if (len(address_1) >1): # len more than 2\n",
        "          if (address_1[0].isdigit()): \n",
        "            street, street_1, street_2, special_cases = has_street(' '.join(address_1[1:]))\n",
        "            #print(street, street_1, street_2, special_cases)\n",
        "            if (street != '') | (special_cases != ''): # there is a house no and a street name\n",
        "              house_num = True\n",
        "              start = 0\n",
        "          elif (address_1[1].isdigit()):            \n",
        "            street, street_1, street_2, special_cases = has_street(' '.join(i for i in address_1 if i != address_1[1]))\n",
        "            if (street != '') | (special_cases != ''): # there is a house no and a street name\n",
        "              house_num = True\n",
        "              start = 1\n",
        "          \n",
        "          if house_num == False: # there is a street but no house no\n",
        "              street, street_1, street_2, special_cases = has_street(address_2)\n",
        "          \n",
        "      if (street != '') | (special_cases != ''):\n",
        "          address_2 = address_2.replace('W.','W').strip()\n",
        "          address_2 = address_2.replace('E.','E').strip()\n",
        "          address_2 = address_2.replace('ST.','ST').strip()\n",
        "          address_2 = address_2.replace('AV.','AV').strip()\n",
        "          address_2 = address_2.replace('A.V.','AV').strip()\n",
        "          address_2 = address_2.replace(str(street),'').strip()\n",
        "          address_2 = address_2.replace(str(street),'').strip()\n",
        "          address_2 = address_2.replace(str(street_1),'').strip()\n",
        "          address_2 = address_2.replace(str(street_2),'').strip()\n",
        "\n",
        "          filename['new address2 street name'][i] = street\n",
        "          filename['new address2 street 1'][i] = street_1\n",
        "          filename['new address2 street 2'][i] = street_2\n",
        "          filename['new address2 street type'][i] = special_cases\n",
        "  \n",
        "      if house_num:\n",
        "          filename['new address2 house number'][i] = address_1[start]\n",
        "          #print(filename['new address2 house number'][i])\n",
        "          address_2 = address_2.replace(address_1[start],'').strip()\n",
        "        \n",
        "      county = has_county(address_2, counties)\n",
        "      if county:\n",
        "        address_2 = address_2.replace(str(county),'').strip()\n",
        "        filename['new address2 county'][i] = county\n",
        "       \n",
        "      #address_2 = address_2.replace('H ','').strip()\n",
        "      #address_2 = address_2.replace('H.','').strip()\n",
        "      address_2 = address_2.replace('.5','').strip()\n",
        "      filename['unidentified address2 info'][i] = address_2  \n",
        "\n",
        "  return filename\n",
        "    "
      ],
      "execution_count": null,
      "outputs": []
    },
    {
      "cell_type": "code",
      "metadata": {
        "id": "u2F7eup_oIdu"
      },
      "source": [
        "output_1850_mn_int_2 = h_inbw_address(output_1850_mn_int_2)"
      ],
      "execution_count": null,
      "outputs": []
    },
    {
      "cell_type": "code",
      "metadata": {
        "id": "uIcRhrQwvdys"
      },
      "source": [
        "output_1850_bk_int_2 = h_inbw_address(output_1850_bk_int_2)"
      ],
      "execution_count": null,
      "outputs": []
    },
    {
      "cell_type": "code",
      "metadata": {
        "id": "EoJpRgtgvdv3"
      },
      "source": [
        "output_1880_int_2 = h_inbw_address(output_1880_int_2)"
      ],
      "execution_count": null,
      "outputs": []
    },
    {
      "cell_type": "code",
      "metadata": {
        "id": "-OC7SUsdqRYB",
        "outputId": "1af2fddd-c741-4f4c-ecf8-3273bb0438c7",
        "colab": {
          "base_uri": "https://localhost:8080/",
          "height": 33
        }
      },
      "source": [
        "output_1850_mn_int_2['new h address-flag'].unique()"
      ],
      "execution_count": null,
      "outputs": [
        {
          "output_type": "execute_result",
          "data": {
            "text/plain": [
              "array(['start with h', '', 'h in between'], dtype=object)"
            ]
          },
          "metadata": {
            "tags": []
          },
          "execution_count": 20
        }
      ]
    },
    {
      "cell_type": "code",
      "metadata": {
        "id": "JdIikSjbvrwi",
        "outputId": "6c513c34-ed38-49ab-8f6e-dc6a7b67df26",
        "colab": {
          "base_uri": "https://localhost:8080/",
          "height": 34
        }
      },
      "source": [
        "output_1850_bk_int_2['new h address-flag'].unique()"
      ],
      "execution_count": null,
      "outputs": [
        {
          "output_type": "execute_result",
          "data": {
            "text/plain": [
              "array(['', 'h in between', 'start with h'], dtype=object)"
            ]
          },
          "metadata": {
            "tags": []
          },
          "execution_count": 41
        }
      ]
    },
    {
      "cell_type": "code",
      "metadata": {
        "id": "kHvOBDlGvsBV",
        "outputId": "7640d153-ed80-4b11-ae4d-3e3e8fd9abb9",
        "colab": {
          "base_uri": "https://localhost:8080/",
          "height": 34
        }
      },
      "source": [
        "output_1880_int_2['new h address-flag'].unique()"
      ],
      "execution_count": null,
      "outputs": [
        {
          "output_type": "execute_result",
          "data": {
            "text/plain": [
              "array(['', 'start with h', 'h in between'], dtype=object)"
            ]
          },
          "metadata": {
            "tags": []
          },
          "execution_count": 42
        }
      ]
    },
    {
      "cell_type": "code",
      "metadata": {
        "id": "BMfNEvJuoIhD"
      },
      "source": [
        "output_1850_mn_int_2.loc[output_1850_mn_int_2['new h address-flag'] == 'h in between']"
      ],
      "execution_count": null,
      "outputs": []
    },
    {
      "cell_type": "code",
      "metadata": {
        "id": "CzWEjDMFv0VL"
      },
      "source": [
        "output_1850_bk_int_2.loc[output_1850_bk_int_2['new h address-flag'] == 'h in between']"
      ],
      "execution_count": null,
      "outputs": []
    },
    {
      "cell_type": "code",
      "metadata": {
        "id": "XC_cjSWxv0lf"
      },
      "source": [
        "output_1880_int_2.loc[output_1880_int_2['new h address-flag'] == 'h in between']"
      ],
      "execution_count": null,
      "outputs": []
    },
    {
      "cell_type": "markdown",
      "metadata": {
        "id": "ljQN9NAyv-2p"
      },
      "source": [
        "Save the final files"
      ]
    },
    {
      "cell_type": "code",
      "metadata": {
        "id": "WF66OygFtuRb"
      },
      "source": [
        "output_1850_mn_int_2.to_csv(\"/content/output_1850_mn_add_std.csv\")\n"
      ],
      "execution_count": null,
      "outputs": []
    },
    {
      "cell_type": "code",
      "metadata": {
        "id": "bSzaiMJCwBeK"
      },
      "source": [
        "output_1850_bk_int_2.to_csv(\"/content/output_1850_bk_add_std.csv\")\n"
      ],
      "execution_count": null,
      "outputs": []
    },
    {
      "cell_type": "code",
      "metadata": {
        "id": "KPML63IvwBiE"
      },
      "source": [
        "output_1880_int_2.to_csv(\"/content/output_1880_add_std.csv\")\n"
      ],
      "execution_count": null,
      "outputs": []
    },
    {
      "cell_type": "code",
      "metadata": {
        "id": "wwPNe0c-X2Ut",
        "outputId": "896b7c53-fe6b-4cd9-a429-d3f055f74ee1",
        "colab": {
          "base_uri": "https://localhost:8080/",
          "height": 536
        }
      },
      "source": [
        "output_1850_mn_int_2.head()"
      ],
      "execution_count": null,
      "outputs": [
        {
          "output_type": "execute_result",
          "data": {
            "text/html": [
              "<div>\n",
              "<style scoped>\n",
              "    .dataframe tbody tr th:only-of-type {\n",
              "        vertical-align: middle;\n",
              "    }\n",
              "\n",
              "    .dataframe tbody tr th {\n",
              "        vertical-align: top;\n",
              "    }\n",
              "\n",
              "    .dataframe thead th {\n",
              "        text-align: right;\n",
              "    }\n",
              "</style>\n",
              "<table border=\"1\" class=\"dataframe\">\n",
              "  <thead>\n",
              "    <tr style=\"text-align: right;\">\n",
              "      <th></th>\n",
              "      <th>Full Name</th>\n",
              "      <th>First Name</th>\n",
              "      <th>Last Name</th>\n",
              "      <th>Middle Name</th>\n",
              "      <th>Widow-flag</th>\n",
              "      <th>Widow Of</th>\n",
              "      <th>Title</th>\n",
              "      <th>Occupation</th>\n",
              "      <th>Full Address</th>\n",
              "      <th>H Status-flag</th>\n",
              "      <th>H Address</th>\n",
              "      <th>H House Number</th>\n",
              "      <th>H Street Name</th>\n",
              "      <th>H City</th>\n",
              "      <th>Address 2</th>\n",
              "      <th>Address 2 House Number</th>\n",
              "      <th>Address 2 Street Name</th>\n",
              "      <th>Address 2 City</th>\n",
              "      <th>Index</th>\n",
              "      <th>Full Entry</th>\n",
              "      <th>Widow of</th>\n",
              "      <th>occupation</th>\n",
              "      <th>len_occ</th>\n",
              "      <th>Old_Occupation_info</th>\n",
              "      <th>add_sub_match</th>\n",
              "      <th>new_occ_found</th>\n",
              "      <th>new_occ</th>\n",
              "      <th>std_occupation</th>\n",
              "      <th>clean_address</th>\n",
              "      <th>new h address-flag</th>\n",
              "      <th>new h house number</th>\n",
              "      <th>new h street name</th>\n",
              "      <th>new h city</th>\n",
              "      <th>new h county</th>\n",
              "      <th>unidentified h info</th>\n",
              "      <th>h house number modifier</th>\n",
              "    </tr>\n",
              "  </thead>\n",
              "  <tbody>\n",
              "    <tr>\n",
              "      <th>1</th>\n",
              "      <td>Ackley Addison</td>\n",
              "      <td>Addison</td>\n",
              "      <td>Ackley</td>\n",
              "      <td>NaN</td>\n",
              "      <td>False</td>\n",
              "      <td>NaN</td>\n",
              "      <td>NaN</td>\n",
              "      <td>clerk</td>\n",
              "      <td>47 Broadway, h. 39 Pearl</td>\n",
              "      <td>TRUE</td>\n",
              "      <td>H. 39 PEARL</td>\n",
              "      <td>39.0</td>\n",
              "      <td>PEARL</td>\n",
              "      <td>NaN</td>\n",
              "      <td>47 Broadway</td>\n",
              "      <td>47.0</td>\n",
              "      <td>Broadway</td>\n",
              "      <td>NaN</td>\n",
              "      <td>1</td>\n",
              "      <td>Ackley Addison, clerk, 47 Broadway, h. 39 Pearl</td>\n",
              "      <td>NaN</td>\n",
              "      <td>NaN</td>\n",
              "      <td>0</td>\n",
              "      <td>clerk</td>\n",
              "      <td>NaN</td>\n",
              "      <td>FALSE</td>\n",
              "      <td>NaN</td>\n",
              "      <td>clerk</td>\n",
              "      <td>47 Broadway, h. 39 Pearl</td>\n",
              "      <td>True</td>\n",
              "      <td>39.0</td>\n",
              "      <td>PEARL</td>\n",
              "      <td>NaN</td>\n",
              "      <td>NaN</td>\n",
              "      <td>NaN</td>\n",
              "      <td>NaN</td>\n",
              "    </tr>\n",
              "    <tr>\n",
              "      <th>2</th>\n",
              "      <td>Adams William</td>\n",
              "      <td>William</td>\n",
              "      <td>Adams</td>\n",
              "      <td>NaN</td>\n",
              "      <td>False</td>\n",
              "      <td>NaN</td>\n",
              "      <td>NaN</td>\n",
              "      <td>weigher</td>\n",
              "      <td>20 Washington &amp; 13 West, h. 170 Clinton , Broo...</td>\n",
              "      <td>TRUE</td>\n",
              "      <td>H. 170 CLINTON , BROOKLYN</td>\n",
              "      <td>170.0</td>\n",
              "      <td>CLINTON ,</td>\n",
              "      <td>BROOKLYN</td>\n",
              "      <td>20 Washington &amp; 13 West</td>\n",
              "      <td>20.0</td>\n",
              "      <td>Washington &amp; 13 West</td>\n",
              "      <td>NaN</td>\n",
              "      <td>2</td>\n",
              "      <td>Adams William, weigher, 20 Washington &amp; 13 Wes...</td>\n",
              "      <td>NaN</td>\n",
              "      <td>NaN</td>\n",
              "      <td>0</td>\n",
              "      <td>weigher</td>\n",
              "      <td>NaN</td>\n",
              "      <td>FALSE</td>\n",
              "      <td>NaN</td>\n",
              "      <td>weigher</td>\n",
              "      <td>20 Washington &amp; 13 West, h. 170 Clinton , Broo...</td>\n",
              "      <td>True</td>\n",
              "      <td>170.0</td>\n",
              "      <td>CLINTON</td>\n",
              "      <td>BROOKLYN</td>\n",
              "      <td>NaN</td>\n",
              "      <td>,</td>\n",
              "      <td>NaN</td>\n",
              "    </tr>\n",
              "    <tr>\n",
              "      <th>3</th>\n",
              "      <td>Aitkin Thomas</td>\n",
              "      <td>Thomas</td>\n",
              "      <td>Aitkin</td>\n",
              "      <td>NaN</td>\n",
              "      <td>False</td>\n",
              "      <td>NaN</td>\n",
              "      <td>NaN</td>\n",
              "      <td>stonecutter</td>\n",
              "      <td>601 Washington</td>\n",
              "      <td>Assume</td>\n",
              "      <td>601 WASHINGTON</td>\n",
              "      <td>601.0</td>\n",
              "      <td>WASHINGTON</td>\n",
              "      <td>NaN</td>\n",
              "      <td>NaN</td>\n",
              "      <td>NaN</td>\n",
              "      <td>NaN</td>\n",
              "      <td>NaN</td>\n",
              "      <td>3</td>\n",
              "      <td>Aitkin Thomas, stonecutter, 601 Washington</td>\n",
              "      <td>NaN</td>\n",
              "      <td>NaN</td>\n",
              "      <td>0</td>\n",
              "      <td>stonecutter</td>\n",
              "      <td>NaN</td>\n",
              "      <td>FALSE</td>\n",
              "      <td>NaN</td>\n",
              "      <td>stonecutter</td>\n",
              "      <td>601 Washington</td>\n",
              "      <td>False</td>\n",
              "      <td>NaN</td>\n",
              "      <td>NaN</td>\n",
              "      <td>NaN</td>\n",
              "      <td>NaN</td>\n",
              "      <td>NaN</td>\n",
              "      <td>NaN</td>\n",
              "    </tr>\n",
              "    <tr>\n",
              "      <th>4</th>\n",
              "      <td>NaN</td>\n",
              "      <td>NaN</td>\n",
              "      <td>NaN</td>\n",
              "      <td>NaN</td>\n",
              "      <td>False</td>\n",
              "      <td>NaN</td>\n",
              "      <td>NaN</td>\n",
              "      <td>NaN</td>\n",
              "      <td>Albro Benjamin sen. 328 Bowery</td>\n",
              "      <td>Assume</td>\n",
              "      <td>ALBRO BENJAMIN SEN. 328 BOWERY</td>\n",
              "      <td>NaN</td>\n",
              "      <td>NaN</td>\n",
              "      <td>ALBRO BENJAMIN SEN. 328 BOWERY</td>\n",
              "      <td>NaN</td>\n",
              "      <td>NaN</td>\n",
              "      <td>NaN</td>\n",
              "      <td>NaN</td>\n",
              "      <td>4</td>\n",
              "      <td>Albro Benjamin sen. 328 Bowery</td>\n",
              "      <td>NaN</td>\n",
              "      <td>NaN</td>\n",
              "      <td>0</td>\n",
              "      <td>NaN</td>\n",
              "      <td>NaN</td>\n",
              "      <td>FALSE</td>\n",
              "      <td>NaN</td>\n",
              "      <td>NaN</td>\n",
              "      <td>Albro Benjamin sen. 328 Bowery</td>\n",
              "      <td>False</td>\n",
              "      <td>NaN</td>\n",
              "      <td>NaN</td>\n",
              "      <td>NaN</td>\n",
              "      <td>NaN</td>\n",
              "      <td>NaN</td>\n",
              "      <td>NaN</td>\n",
              "    </tr>\n",
              "    <tr>\n",
              "      <th>5</th>\n",
              "      <td>Allen E. W</td>\n",
              "      <td>E.</td>\n",
              "      <td>Allen</td>\n",
              "      <td>W</td>\n",
              "      <td>False</td>\n",
              "      <td>NaN</td>\n",
              "      <td>NaN</td>\n",
              "      <td>publisher</td>\n",
              "      <td>42 Orange</td>\n",
              "      <td>Assume</td>\n",
              "      <td>42 ORANGE</td>\n",
              "      <td>42.0</td>\n",
              "      <td>ORANGE</td>\n",
              "      <td>NaN</td>\n",
              "      <td>NaN</td>\n",
              "      <td>NaN</td>\n",
              "      <td>NaN</td>\n",
              "      <td>NaN</td>\n",
              "      <td>5</td>\n",
              "      <td>Allen E. W. publisher, 42 Orange</td>\n",
              "      <td>NaN</td>\n",
              "      <td>NaN</td>\n",
              "      <td>0</td>\n",
              "      <td>publisher</td>\n",
              "      <td>NaN</td>\n",
              "      <td>FALSE</td>\n",
              "      <td>NaN</td>\n",
              "      <td>publisher</td>\n",
              "      <td>42 Orange</td>\n",
              "      <td>False</td>\n",
              "      <td>NaN</td>\n",
              "      <td>NaN</td>\n",
              "      <td>NaN</td>\n",
              "      <td>NaN</td>\n",
              "      <td>NaN</td>\n",
              "      <td>NaN</td>\n",
              "    </tr>\n",
              "  </tbody>\n",
              "</table>\n",
              "</div>"
            ],
            "text/plain": [
              "        Full Name First Name  ... unidentified h info h house number modifier\n",
              "1  Ackley Addison    Addison  ...                 NaN                     NaN\n",
              "2   Adams William    William  ...                   ,                     NaN\n",
              "3   Aitkin Thomas     Thomas  ...                 NaN                     NaN\n",
              "4             NaN        NaN  ...                 NaN                     NaN\n",
              "5      Allen E. W         E.  ...                 NaN                     NaN\n",
              "\n",
              "[5 rows x 36 columns]"
            ]
          },
          "metadata": {
            "tags": []
          },
          "execution_count": 159
        }
      ]
    },
    {
      "cell_type": "markdown",
      "metadata": {
        "id": "bJK0rcLzCWFZ"
      },
      "source": [
        "Some ways to improve the address cleaning process:\n",
        "\n",
        "1. add avenue AV, modify street numbers written in words\n",
        "2. WILLIAMSBURG, BUSHWICK, GREENPOINT,  flatbush, 'RAVENSWOOD','CAMPTOWN','CARMANSVLLE', 'WMSBURG','WULIAMSBURG', 'WMBURG','WMSBG','WMSBURGH' can be included later to brooklyn\n",
        "3. account for th, rd, st keywords which were not in street dictionaries\n",
        "4. Identiy multiple spellings of placess like NY, New York, Yonkers, Second, Brooklyn, Broadway etc. Presence of special characters is one hindrance\n",
        "5. Observed scenarios where 'C' & 'N' corresponds to Corner and Near cases. They are currently not identified by the code. Corner and Near cases only identified using 'C.' & 'N.' keywords to mitigate incorrect modification of parts of addresses containing C or N. Regex might be helpful here\n",
        "6. Look into the undidentified column and try to improve the process flow to reduce unidentiied information. Example: Places like Montana, MYRTLE N CLASSON AV, SYDNEY PLACE, REMSEN etc.  \n",
        "7. East, &  cases haven't been considered yet in the current process flow"
      ]
    }
  ]
}