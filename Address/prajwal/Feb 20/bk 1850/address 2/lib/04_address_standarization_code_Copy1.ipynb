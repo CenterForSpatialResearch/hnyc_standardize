{
 "cells": [
  {
   "cell_type": "code",
   "execution_count": 1,
   "metadata": {
    "id": "kfMQCWKNw282"
   },
   "outputs": [],
   "source": [
    "# Load libraries\n",
    "import missingno as msno \n",
    "import re\n",
    "import pandas as pd\n",
    "import numpy as np\n"
   ]
  },
  {
   "cell_type": "markdown",
   "metadata": {
    "id": "mGDKhR0pAo0y"
   },
   "source": [
    "### Load and preprocess the csv files"
   ]
  },
  {
   "cell_type": "code",
   "execution_count": 2,
   "metadata": {
    "id": "ykJI7eSZw53n"
   },
   "outputs": [],
   "source": [
    "# Load Data\n",
    "#output_1880 = pd.read_csv('/Users/prajwal/Desktop/Columbia/C4SR/doubt/doubt6-filter11.csv', index_col=0)\n",
    "#output_1880 = pd.read_csv('/Users/prajwal/Desktop/Columbia/C4SR/doubt/not so confident7.csv', index_col=0)\n",
    "#output_1880 = pd.read_csv('/Users/prajwal/Desktop/Columbia/C4SR/mn_1850/doubt-mn1850-v7 new.csv',index_col=0)\n",
    "\n",
    "#output_1880 = pd.read_csv('mn-1880-3-half2-input.csv')\n",
    "#output_1880 = pd.read_csv('bk-1850-3.csv')\n",
    "output_1880 = pd.read_csv('/Users/prajwal/Desktop/Columbia/C4SR/tesseract lib/bk 1850/address 2/data2/bk-1850-3-address2.csv')\n"
   ]
  },
  {
   "cell_type": "markdown",
   "metadata": {
    "id": "hJpcrjXuATkn"
   },
   "source": [
    "Identify how many records have H address null but a full address present"
   ]
  },
  {
   "cell_type": "code",
   "execution_count": 3,
   "metadata": {
    "colab": {
     "base_uri": "https://localhost:8080/"
    },
    "id": "Ik4afIIB4FA5",
    "outputId": "15d3d796-2706-4adb-f3c6-716d056c6be2"
   },
   "outputs": [
    {
     "name": "stdout",
     "output_type": "stream",
     "text": [
      "0\n"
     ]
    }
   ],
   "source": [
    "\n",
    "print(len(output_1880.loc[(output_1880['H Address'].isnull()) & (output_1880['Full Address'].notnull())]))"
   ]
  },
  {
   "cell_type": "markdown",
   "metadata": {
    "id": "TnWNSR7afcaT"
   },
   "source": [
    "Identified that in previous file, there were instances where h address was null even though full address wasnt null\n",
    "\n",
    "Hence repeated the address formatting process as in cd_processing task"
   ]
  },
  {
   "cell_type": "code",
   "execution_count": 4,
   "metadata": {
    "id": "eQuUva2c3iCn"
   },
   "outputs": [],
   "source": [
    "# create a list of cities\n",
    "cities = ['Hoboken', 'N. J.', 'Spain', 'B’klyn', 'Mt. Vernon','Brooklyn','Jersey City']\n",
    "def has_city(address, cities = cities):\n",
    "  for city in cities:\n",
    "    if city in address:\n",
    "      return city\n",
    "  return ''"
   ]
  },
  {
   "cell_type": "code",
   "execution_count": 5,
   "metadata": {
    "id": "pqMrhqKXTi-f"
   },
   "outputs": [],
   "source": [
    "# similarly do it for other directories\n",
    "\n",
    "for i in range(1,len(output_1880)):\n",
    "  if (str(output_1880[\"H Address\"][i]) ==\"nan\") & (str(output_1880[\"Full Address\"][i]) !=\"nan\"):\n",
    "    a = output_1880[\"Full Address\"][i].split(\",\")\n",
    "    output_1880[\"H Address\"][i] = ' '.join(a[1:])\n",
    "\n",
    "    address_1 = output_1880[\"H Address\"][i].split()\n",
    "    if ((address_1[0] == 'h') or (address_1[0] == 'h.')):\n",
    "        output_1880['H Status-flag'][i] = 'True'\n",
    "        start = 1\n",
    "    else:\n",
    "        output_1880['H Status-flag'][i] = 'Assume'\n",
    "        start = 0\n",
    "    #print(address_1)\n",
    "    house_num = False\n",
    "    if address_1[start].isdigit():\n",
    "        house_num = True\n",
    "    elif (len(address_1) >2):\n",
    "      if (address_1[start+1].isdigit()):\n",
    "        house_num = True\n",
    "        start += 1\n",
    "    elif (len(address_1) >1):\n",
    "      if start ==1:\n",
    "        continue\n",
    "      elif (address_1[start+1].isdigit()):\n",
    "        house_num = True\n",
    "        start += 1\n",
    "    \n",
    "    if house_num:\n",
    "        output_1880['H House Number'][i] = address_1[start]\n",
    "        #city\n",
    "        city = has_city(cities, address_1)\n",
    "        if city:\n",
    "          output_1880['H City'][i] = city\n",
    "          output_1880['H Street Name'][i] = ' '.join(address_1[(start+1):]).replace(city,'').strip()\n",
    "        else:\n",
    "          output_1880['H Street Name'][i] = ' '.join(address_1[(start+1):])\n",
    "    else:\n",
    "        output_1880['H City'][i] = ' '.join(address_1[start:])\n",
    "\n",
    "    "
   ]
  },
  {
   "cell_type": "markdown",
   "metadata": {
    "id": "Vg36CIdudN34"
   },
   "source": [
    "Save the files as intermediate datsets"
   ]
  },
  {
   "cell_type": "code",
   "execution_count": 6,
   "metadata": {
    "id": "MN7IUnWudL_U"
   },
   "outputs": [],
   "source": [
    "#output_1880.to_csv(\"data/output_1880_int.csv\")\n",
    "#output_1850_mn.to_csv(\"data/output_1850_mn.csv\")\n",
    "#output_1850_bk.to_csv(\"data/output_1850_bk.csv\")"
   ]
  },
  {
   "cell_type": "markdown",
   "metadata": {
    "id": "Tak8dwqSGlr3"
   },
   "source": [
    "### Load cities and street directory data\n",
    "1. counties, city and street names are imported. Streets are taken from street diectory output\n",
    "2. combine street names from street directories\n",
    "3. Add more combinations to street names like numbers reported in words, include AV prefix to certain streets\n",
    "4. Add differetn variations of cities (like spelling differences)"
   ]
  },
  {
   "cell_type": "code",
   "execution_count": 7,
   "metadata": {
    "id": "HbF5l44TOj23"
   },
   "outputs": [],
   "source": [
    "# Load cities and street directory data\n",
    "state_counties = pd.read_csv(\"us_cities_states_counties.csv\", encoding = \"ISO-8859-1\", engine='python')\n",
    "uscities = pd.read_csv(\"uscities.csv\", encoding = \"ISO-8859-1\", engine='python')\n",
    "bk1850_street_names = pd.read_csv(\"full_bk_dict.csv\", encoding = \"ISO-8859-1\", engine='python')\n",
    "mn1850_street_names = pd.read_csv(\"full_mn_dict.csv\", encoding = \"ISO-8859-1\", engine='python')\n"
   ]
  },
  {
   "cell_type": "code",
   "execution_count": 8,
   "metadata": {
    "colab": {
     "base_uri": "https://localhost:8080/"
    },
    "id": "l8Srr3KxBjNp",
    "outputId": "9bdab513-a400-4975-f62a-31a59791c0e0"
   },
   "outputs": [
    {
     "name": "stdout",
     "output_type": "stream",
     "text": [
      "4452\n"
     ]
    }
   ],
   "source": [
    "# combine street names from street directories\n",
    "bk1850_street_names.drop(['ED'], axis=1)\n",
    "mn1850_street_names.drop(['ED'], axis=1)\n",
    "\n",
    "bk_street_names = list(pd.unique(bk1850_street_names.values.ravel('K')))\n",
    "mn_street_names = list(pd.unique(mn1850_street_names.values.ravel('K')))\n",
    "\n",
    "bk_street_names[2000]\n",
    "\n",
    "street_names = list(set(bk_street_names))\n",
    "street_names.extend(mn_street_names)\n",
    "street_names = list(set(street_names))\n",
    "street_names = street_names[1:]\n",
    "\n",
    "# include changes to the street names like:\n",
    "# add avenue AV, modify street numbers written in words\n",
    "# WILLIAMSBURG, BUSHWICK, GREENPOINT,  flatbush, 'RAVENSWOOD','CAMPTOWN','CARMANSVLLE', 'WMSBURG','WULIAMSBURG', 'WMBURG','WMSBG','WMSBURGH' can be included later to brooklyn\n",
    "street_names.extend(['IRVING HOUSE', 'WEST NEW BRIGHTON', 'WYCK', 'WASHGTN','BWRY','HOUSTON','THIRTY-FIRST','FORTYTHIRD','ATLANTIC','EASTRN PEARL'])\n",
    "street_names.extend(['FIRST','SECOND','THIRD','FOURTH','FIFTH','SIXTH','SEVENTH','EIGHTH','NINTH','TENTH','ELEVENTH', 'TWELFTH','THIRTEENTH','FOURTEENTH'])\n",
    "\n",
    "street_names.extend(['GREENWICH', 'MADISON', 'LEXINGTON', 'WASHINGTON','B.WAY', 'BRCLY', 'BROADWAV'])\n",
    "\n",
    "for i in range(len(street_names)):\n",
    "  if street_names[i] in ('A','B','C','D','E','F','G','H','I','J','K','L','M','N','O','P','Q','R','S','T','U','V','W','X','Y','Z'):\n",
    "    street_names[i] = 'AV ' + street_names[i]\n",
    "print(len(street_names))\n",
    "\n",
    "street_names = list(set(street_names))\n",
    "\n",
    "ordinals_list = ['FIRST','SECOND','THIRD','FOURTH','FIFTH','SIXTH','SEVENTH','EIGHTH','NINTH','TENTH','ELEVENTH', 'TWELFTH','THIRTEENTH','FOURTEENTH','FIFTEENTH','SIXTEENTH','SEVENTEENTH','EIGHTEENTH','NINETEENTH','TWENTIETH','TWENTY-FIRST','TWENTY-SECOND','TWENTY-THIRD','TWENTY-FOURTH','TWENTY-FIFTH','TWENTY-SIXTH','TWENTY-SEVENTH','TWENTY-EIGHTH','TWENTY-NINTH','THIRTIETH','THIRTY-FIRST','THIRTY-SECOND','THIRTY-THIRD','THIRTY-FOURTH','THIRTY-FIFTH','THIRTY-SIXTH','THIRTY-SEVENTH','THIRTY-EIGHTH','THIRTY-NINTH','FOURTIETH','FOURTY-FIRST','FOURTY-SECOND','FOURTY-THIRD','FOURTY-FOURTH','FOURTY-FIFTH','FOURTY-SIXTH','FOURTY-SEVENTH','FOURTY-EIGHTH','FOURTY-NINTH','FIFTIETH','FIFTY-FIRST','FIFTY-SECOND','FIFTY-THIRD','FIFTY-FOURTH','FIFTY-FIFTH','FIFTY-SIXTH','FIFTY-SEVENTH','FIFTY-EIGHTH','FIFTY-NINTH','TWENTY8TH','TWENTY3RD','TWENTY .7TH','TWENTY7TH','TWENTY5TH']\n",
    "\n",
    "replace_list = ['1ST','2ND','3RD','4TH','5TH','6TH','7TH','8TH','9TH','10TH','11TH','12TH','13TH','14TH','15TH','16TH','17TH','18TH','19TH','20TH','21ST','22ND','23RD','24TH','25TH','26TH','27TH','28TH','29TH','30TH','31ST','32ND','33RD','34TH','35TH','36TH','37TH','38TH','39TH','40TH','41ST','42ND','43RD','44TH','45TH','46TH','47TH','48TH','49TH','50TH','51ST','52ND','53RD','54TH','55TH','56TH','57TH','58TH','59TH','28TH','23RD','27TH','27TH','25TH']"
   ]
  },
  {
   "cell_type": "code",
   "execution_count": null,
   "metadata": {
    "colab": {
     "base_uri": "https://localhost:8080/",
     "height": 204
    },
    "id": "f6LaBHmPPaL1",
    "outputId": "7846d8b4-6783-4403-ae3f-47860a10ccde"
   },
   "outputs": [
    {
     "data": {
      "text/html": [
       "<div>\n",
       "<style scoped>\n",
       "    .dataframe tbody tr th:only-of-type {\n",
       "        vertical-align: middle;\n",
       "    }\n",
       "\n",
       "    .dataframe tbody tr th {\n",
       "        vertical-align: top;\n",
       "    }\n",
       "\n",
       "    .dataframe thead th {\n",
       "        text-align: right;\n",
       "    }\n",
       "</style>\n",
       "<table border=\"1\" class=\"dataframe\">\n",
       "  <thead>\n",
       "    <tr style=\"text-align: right;\">\n",
       "      <th></th>\n",
       "      <th>City</th>\n",
       "      <th>State short</th>\n",
       "      <th>State full</th>\n",
       "      <th>County</th>\n",
       "      <th>City alias</th>\n",
       "    </tr>\n",
       "  </thead>\n",
       "  <tbody>\n",
       "    <tr>\n",
       "      <th>0</th>\n",
       "      <td>HOLTSVILLE</td>\n",
       "      <td>NY</td>\n",
       "      <td>New York</td>\n",
       "      <td>SUFFOLK</td>\n",
       "      <td>INTERNAL REVENUE SERVICE</td>\n",
       "    </tr>\n",
       "    <tr>\n",
       "      <th>1</th>\n",
       "      <td>HOLTSVILLE</td>\n",
       "      <td>NY</td>\n",
       "      <td>New York</td>\n",
       "      <td>SUFFOLK</td>\n",
       "      <td>HOLTSVILLE</td>\n",
       "    </tr>\n",
       "    <tr>\n",
       "      <th>6097</th>\n",
       "      <td>AVON</td>\n",
       "      <td>CT</td>\n",
       "      <td>Connecticut</td>\n",
       "      <td>HARTFORD</td>\n",
       "      <td>AVON</td>\n",
       "    </tr>\n",
       "    <tr>\n",
       "      <th>6098</th>\n",
       "      <td>BLOOMFIELD</td>\n",
       "      <td>CT</td>\n",
       "      <td>Connecticut</td>\n",
       "      <td>HARTFORD</td>\n",
       "      <td>BLOOMFIELD</td>\n",
       "    </tr>\n",
       "    <tr>\n",
       "      <th>6099</th>\n",
       "      <td>WINDSOR</td>\n",
       "      <td>CT</td>\n",
       "      <td>Connecticut</td>\n",
       "      <td>HARTFORD</td>\n",
       "      <td>WINDSOR</td>\n",
       "    </tr>\n",
       "  </tbody>\n",
       "</table>\n",
       "</div>"
      ],
      "text/plain": [
       "            City State short   State full    County                City alias\n",
       "0     HOLTSVILLE          NY     New York   SUFFOLK  INTERNAL REVENUE SERVICE\n",
       "1     HOLTSVILLE          NY     New York   SUFFOLK                HOLTSVILLE\n",
       "6097        AVON          CT  Connecticut  HARTFORD                      AVON\n",
       "6098  BLOOMFIELD          CT  Connecticut  HARTFORD                BLOOMFIELD\n",
       "6099     WINDSOR          CT  Connecticut  HARTFORD                   WINDSOR"
      ]
     },
     "execution_count": 9,
     "metadata": {},
     "output_type": "execute_result"
    }
   ],
   "source": [
    "state_counties = state_counties.loc[(state_counties['State full'] == 'New York') | (state_counties['State full'] == 'New Jersey') | (state_counties['State full'] == 'Connecticut')]\n",
    "state_counties['City'] = state_counties['City'].str.upper()\n",
    "state_counties['County'] = state_counties['County'].str.upper()\n",
    "state_counties['City alias'] = state_counties['City alias'].str.upper()\n",
    "state_counties.head()"
   ]
  },
  {
   "cell_type": "code",
   "execution_count": null,
   "metadata": {
    "colab": {
     "base_uri": "https://localhost:8080/",
     "height": 394
    },
    "id": "J-tVTSlDPfG2",
    "outputId": "e0a201de-c01a-4658-b9eb-8bfb7957bade"
   },
   "outputs": [
    {
     "data": {
      "text/html": [
       "<div>\n",
       "<style scoped>\n",
       "    .dataframe tbody tr th:only-of-type {\n",
       "        vertical-align: middle;\n",
       "    }\n",
       "\n",
       "    .dataframe tbody tr th {\n",
       "        vertical-align: top;\n",
       "    }\n",
       "\n",
       "    .dataframe thead th {\n",
       "        text-align: right;\n",
       "    }\n",
       "</style>\n",
       "<table border=\"1\" class=\"dataframe\">\n",
       "  <thead>\n",
       "    <tr style=\"text-align: right;\">\n",
       "      <th></th>\n",
       "      <th>city</th>\n",
       "      <th>city_ascii</th>\n",
       "      <th>state_id</th>\n",
       "      <th>state_name</th>\n",
       "      <th>county_fips</th>\n",
       "      <th>county_name</th>\n",
       "      <th>county_fips_all</th>\n",
       "      <th>county_name_all</th>\n",
       "      <th>lat</th>\n",
       "      <th>lng</th>\n",
       "      <th>population</th>\n",
       "      <th>density</th>\n",
       "      <th>source</th>\n",
       "      <th>military</th>\n",
       "      <th>incorporated</th>\n",
       "      <th>timezone</th>\n",
       "      <th>ranking</th>\n",
       "      <th>zips</th>\n",
       "      <th>id</th>\n",
       "    </tr>\n",
       "  </thead>\n",
       "  <tbody>\n",
       "    <tr>\n",
       "      <th>3171</th>\n",
       "      <td>CARLSTADT</td>\n",
       "      <td>Carlstadt</td>\n",
       "      <td>NJ</td>\n",
       "      <td>New Jersey</td>\n",
       "      <td>34003</td>\n",
       "      <td>BERGEN</td>\n",
       "      <td>34003</td>\n",
       "      <td>Bergen</td>\n",
       "      <td>40.8247</td>\n",
       "      <td>-74.0613</td>\n",
       "      <td>6314.0</td>\n",
       "      <td>617.0</td>\n",
       "      <td>polygon</td>\n",
       "      <td>False</td>\n",
       "      <td>True</td>\n",
       "      <td>America/New_York</td>\n",
       "      <td>3</td>\n",
       "      <td>07072</td>\n",
       "      <td>1840000895</td>\n",
       "    </tr>\n",
       "    <tr>\n",
       "      <th>3172</th>\n",
       "      <td>UPPER POHATCONG</td>\n",
       "      <td>Upper Pohatcong</td>\n",
       "      <td>NJ</td>\n",
       "      <td>New Jersey</td>\n",
       "      <td>34041</td>\n",
       "      <td>WARREN</td>\n",
       "      <td>34041</td>\n",
       "      <td>Warren</td>\n",
       "      <td>40.6774</td>\n",
       "      <td>-75.1558</td>\n",
       "      <td>1586.0</td>\n",
       "      <td>947.0</td>\n",
       "      <td>polygon</td>\n",
       "      <td>False</td>\n",
       "      <td>True</td>\n",
       "      <td>America/New_York</td>\n",
       "      <td>3</td>\n",
       "      <td>08865</td>\n",
       "      <td>1840039970</td>\n",
       "    </tr>\n",
       "    <tr>\n",
       "      <th>3173</th>\n",
       "      <td>ZAREPHATH</td>\n",
       "      <td>Zarephath</td>\n",
       "      <td>NJ</td>\n",
       "      <td>New Jersey</td>\n",
       "      <td>34035</td>\n",
       "      <td>SOMERSET</td>\n",
       "      <td>34035</td>\n",
       "      <td>Somerset</td>\n",
       "      <td>40.5361</td>\n",
       "      <td>-74.5745</td>\n",
       "      <td>9.0</td>\n",
       "      <td>8.0</td>\n",
       "      <td>polygon</td>\n",
       "      <td>False</td>\n",
       "      <td>False</td>\n",
       "      <td>America/New_York</td>\n",
       "      <td>3</td>\n",
       "      <td>08873 08890</td>\n",
       "      <td>1840024282</td>\n",
       "    </tr>\n",
       "    <tr>\n",
       "      <th>3174</th>\n",
       "      <td>TRENTON</td>\n",
       "      <td>Trenton</td>\n",
       "      <td>NJ</td>\n",
       "      <td>New Jersey</td>\n",
       "      <td>34021</td>\n",
       "      <td>MERCER</td>\n",
       "      <td>34021</td>\n",
       "      <td>Mercer</td>\n",
       "      <td>40.2236</td>\n",
       "      <td>-74.7641</td>\n",
       "      <td>296869.0</td>\n",
       "      <td>4328.0</td>\n",
       "      <td>polygon</td>\n",
       "      <td>False</td>\n",
       "      <td>True</td>\n",
       "      <td>America/New_York</td>\n",
       "      <td>2</td>\n",
       "      <td>08638 08611 08618 08629 08609 08608 08601 0860...</td>\n",
       "      <td>1840001383</td>\n",
       "    </tr>\n",
       "    <tr>\n",
       "      <th>3175</th>\n",
       "      <td>NORTH CAPE MAY</td>\n",
       "      <td>North Cape May</td>\n",
       "      <td>NJ</td>\n",
       "      <td>New Jersey</td>\n",
       "      <td>34009</td>\n",
       "      <td>CAPE MAY</td>\n",
       "      <td>34009</td>\n",
       "      <td>Cape May</td>\n",
       "      <td>38.9765</td>\n",
       "      <td>-74.9516</td>\n",
       "      <td>2772.0</td>\n",
       "      <td>772.0</td>\n",
       "      <td>polygon</td>\n",
       "      <td>False</td>\n",
       "      <td>False</td>\n",
       "      <td>America/New_York</td>\n",
       "      <td>3</td>\n",
       "      <td>08204</td>\n",
       "      <td>1840005866</td>\n",
       "    </tr>\n",
       "  </tbody>\n",
       "</table>\n",
       "</div>"
      ],
      "text/plain": [
       "                 city       city_ascii state_id  state_name  county_fips  \\\n",
       "3171        CARLSTADT        Carlstadt       NJ  New Jersey        34003   \n",
       "3172  UPPER POHATCONG  Upper Pohatcong       NJ  New Jersey        34041   \n",
       "3173        ZAREPHATH        Zarephath       NJ  New Jersey        34035   \n",
       "3174          TRENTON          Trenton       NJ  New Jersey        34021   \n",
       "3175   NORTH CAPE MAY   North Cape May       NJ  New Jersey        34009   \n",
       "\n",
       "     county_name county_fips_all county_name_all      lat      lng  \\\n",
       "3171      BERGEN           34003          Bergen  40.8247 -74.0613   \n",
       "3172      WARREN           34041          Warren  40.6774 -75.1558   \n",
       "3173    SOMERSET           34035        Somerset  40.5361 -74.5745   \n",
       "3174      MERCER           34021          Mercer  40.2236 -74.7641   \n",
       "3175    CAPE MAY           34009        Cape May  38.9765 -74.9516   \n",
       "\n",
       "      population  density   source  military  incorporated          timezone  \\\n",
       "3171      6314.0    617.0  polygon     False          True  America/New_York   \n",
       "3172      1586.0    947.0  polygon     False          True  America/New_York   \n",
       "3173         9.0      8.0  polygon     False         False  America/New_York   \n",
       "3174    296869.0   4328.0  polygon     False          True  America/New_York   \n",
       "3175      2772.0    772.0  polygon     False         False  America/New_York   \n",
       "\n",
       "      ranking                                               zips          id  \n",
       "3171        3                                              07072  1840000895  \n",
       "3172        3                                              08865  1840039970  \n",
       "3173        3                                        08873 08890  1840024282  \n",
       "3174        2  08638 08611 08618 08629 08609 08608 08601 0860...  1840001383  \n",
       "3175        3                                              08204  1840005866  "
      ]
     },
     "execution_count": 10,
     "metadata": {},
     "output_type": "execute_result"
    }
   ],
   "source": [
    "uscities = uscities.loc[(uscities['state_name'] ==\"New York\") | (uscities['state_name'] =='New Jersey') | (uscities['state_name'] == 'Connecticut')]\n",
    "uscities['city'] = uscities['city'].str.upper()\n",
    "uscities['county_name'] = uscities['county_name'].str.upper()\n",
    "uscities.head()"
   ]
  },
  {
   "cell_type": "code",
   "execution_count": null,
   "metadata": {
    "colab": {
     "base_uri": "https://localhost:8080/"
    },
    "id": "OVRl6Zr8KMDq",
    "outputId": "63089583-a35c-40e7-c7a5-ff4124817710"
   },
   "outputs": [
    {
     "name": "stdout",
     "output_type": "stream",
     "text": [
      "4999\n",
      "89\n"
     ]
    }
   ],
   "source": [
    "# cities list \n",
    "cities = []\n",
    "cities.extend(uscities['city'])\n",
    "cities.extend(state_counties['City'])\n",
    "cities.extend(state_counties['City alias'])\n",
    "cities = list(set(cities))\n",
    "cities = [e for e in cities if e not in street_names]\n",
    "print(len(cities))\n",
    "\n",
    "imp_cities = []\n",
    "imp_cities.extend(['WILLIAMSBURG', 'BUSHWICK', 'GREENPOINT',  'FLATBUSH', 'RAVENSWOOD','CAMPTOWN','CARMANSVLLE', 'WMSBURG','WULIAMSBURG', 'WMBURG','WMSBG','WMSBURGH', 'HOBOKEN', 'N. J.', 'S. ISLAND','SPAIN', 'B’KLYN', 'MT. VERNON','BROOKLYN','JERSEY CITY', 'N. JERSEY', 'CINCINNATI', 'GERMANY', 'STNTN', 'JERSEY C.', 'HOBOK', 'CONNECTICUT','BLYN',\"JERSY CTY\",'BRKLYN','NEW JERSEY','LONG ISLAND', 'N. ORLEANS', 'BKLYN'])\n",
    "imp_cities.extend(['BROOKLYR','B.KLYN','JER. C.','CONN', 'L. I.', 'L.I.', 'L. I','L.I','L I','L I.', 'PTCHESTER', \"B'KLYN\",'J. C.','N.J.','S. I.','S.I.', 'NEW J'])\n",
    "\n",
    "\n",
    "# county list\n",
    "counties = []\n",
    "counties.extend(uscities['county_name'])\n",
    "counties.extend(state_counties['County'])\n",
    "counties = list(set(counties))\n",
    "print(len(counties))"
   ]
  },
  {
   "cell_type": "markdown",
   "metadata": {
    "id": "tYhV-R-gH5JU"
   },
   "source": [
    "### functions to identify city, county and street"
   ]
  },
  {
   "cell_type": "code",
   "execution_count": null,
   "metadata": {
    "id": "s_j9kjrLZK7G"
   },
   "outputs": [],
   "source": [
    "\n",
    "# functions to find city, county, streets\n",
    "def has_city(address, cities = cities):\n",
    "  string_match = []\n",
    "  for city in cities:\n",
    "    if city in address:\n",
    "      string_match.append(city)\n",
    "  string_match.append('')\n",
    "  return max(string_match, key = len) \n",
    "\n",
    "\n",
    "def has_impcity(address, cities = imp_cities):\n",
    "  for city in cities:\n",
    "    if city in address:\n",
    "      return city\n",
    "  return ''\n",
    "\n",
    "\n",
    "def has_county(address, counties = counties):\n",
    "    string_match = []\n",
    "    for county in counties:\n",
    "      if county in address:\n",
    "        string_match.append(county)\n",
    "    string_match.append('')\n",
    "    return max(string_match, key = len) \n",
    "\n",
    "\n",
    "def has_street(address, streetnames = street_names, city = ''):\n",
    "    street_match = []\n",
    "    street_match_1 = []\n",
    "    street_match_2 = []\n",
    "    street_match.append('')\n",
    "    street_match_1.append('')\n",
    "    street_match_2.append('')\n",
    "    address_1 = ''\n",
    "    address_2 = ''\n",
    "    special_cases = ''\n",
    "\n",
    "    # Handle special cases like corner and near\n",
    "    if 'C.' in address:\n",
    "      address_1 = address[:address.index(\"C.\")] # divide the record by C\n",
    "      address_2 = address[address.index(\"C.\") +1 :]\n",
    "      special_cases = 'corner'\n",
    "      \n",
    "    elif 'N.' in address:\n",
    "      address_1 = address[:address.index(\"N.\")] # divide the record by C\n",
    "      address_2 = address[address.index(\"N.\") +1 :]\n",
    "      #print(address_1)  \n",
    "      special_cases = 'near'\n",
    "    \n",
    "    address_1 = address_1.replace('.','').strip()\n",
    "    address_2 = address_2.replace('.','').strip()\n",
    "    address = address.replace('.','').strip()\n",
    "    \n",
    "    # find streets from overall and split record\n",
    "    for street in streetnames:\n",
    "      if str(street) in address_1:\n",
    "        street_match_1.append(str(street))\n",
    "      if str(street) in address_2:\n",
    "        street_match_2.append(str(street))\n",
    "      if str(street) in address:\n",
    "        street_match.append(str(street))\n",
    "\n",
    "    street_1 = max(street_match_1, key = len) \n",
    "    street_2 = max(street_match_2, key = len) \n",
    "    street = max(street_match, key = len)\n",
    "    \n",
    "    # if both street 1 and street 2 exist then it qualifies for corner or near special case\n",
    "    if (street_1 != '') & (street_2 != ''):\n",
    "      street =  ''\n",
    "    if (street_1 == '') | (street_2 == ''):\n",
    "      street_1 = ''\n",
    "      street_2 = ''\n",
    "      special_cases = ''\n",
    "\n",
    "   \n",
    "    return (street, street_1, street_2, special_cases)\n"
   ]
  },
  {
   "cell_type": "code",
   "execution_count": null,
   "metadata": {
    "id": "1H-QP--hW3Av"
   },
   "outputs": [],
   "source": [
    "import re\n",
    "#[re.sub(r'E\\.\\s?','East ', str(x)) for x in output_1850_mn['H Address']]\n",
    "\n",
    "output_1880['H Address'] = output_1880['H Address'].str.replace('-','')"
   ]
  },
  {
   "cell_type": "code",
   "execution_count": null,
   "metadata": {
    "id": "NfUcC_8EJZBk"
   },
   "outputs": [],
   "source": [
    "# convert to upper case for consistency\n",
    "output_1880['H Address'] = output_1880['H Address'].str.upper()\n",
    "\n",
    "output_1880['H Street Name'] = output_1880['H Street Name'].str.upper()\n",
    "\n",
    "\n",
    "output_1880['H City'] = output_1880['H City'].str.upper()\n"
   ]
  },
  {
   "cell_type": "markdown",
   "metadata": {
    "id": "OWIbVIXKNkVt"
   },
   "source": [
    "### code to modify house nos, streets and city\n",
    "1. for records starting with H \n",
    "2. for  records that have an H tag somewhere in the record"
   ]
  },
  {
   "cell_type": "code",
   "execution_count": null,
   "metadata": {
    "id": "xn3w5gKzjxW_"
   },
   "outputs": [],
   "source": [
    "# code to modify house nos, streets and city\n",
    "\n",
    "def address(filename):\n",
    "  filename['new h address-flag'] = ''\n",
    "  filename['new h house number'] = ''\n",
    "  filename['new h street name'] = ''\n",
    "  filename['new h street 1'] = ''\n",
    "  filename['new h street 2'] = ''\n",
    "  filename['new h street type'] = ''\n",
    "  filename['new h city'] = ''\n",
    "  filename['new h county'] = ''\n",
    "  filename['unidentified h info'] = ''\n",
    "  filename['h house number modifier'] = ''\n",
    "  filename['new address2 house number'] = ''\n",
    "  filename['new address2 street name'] = ''\n",
    "  filename['new address2 street 1'] = ''\n",
    "  filename['new address2 street 2'] = ''\n",
    "  filename['new address2 street type'] = ''\n",
    "  filename['new address2 city'] = ''\n",
    "  filename['new address2 county'] = ''\n",
    "  filename['unidentified address2 info'] = ''\n",
    "  filename['address2 house number modifier'] = ''\n",
    "\n",
    "\n",
    "  count = 1\n",
    "  #for i in range(272535, len(filename)):\n",
    "  for i in range(1,len(filename)):\n",
    "  #for i in range(61167,61174):\n",
    "    #print(i)\n",
    "    \n",
    "    for k in range(len(ordinals_list)): # change street numbers that were written in words\n",
    "      if ordinals_list[k] in str(filename[\"H Address\"][i]):\n",
    "        filename[\"H Address\"][i] = str(filename[\"H Address\"][i]).replace(ordinals_list[k], replace_list[k])\n",
    "\n",
    "    address_1 = str(filename[\"H Address\"][i]).strip().split()\n",
    "    address_2 = str(filename[\"H Address\"][i]).strip()\n",
    "\n",
    "    try:\n",
    "      \n",
    "      if ((address_1[0] == 'H') or (address_1[0] == 'H.')): # find if an address start with H\n",
    "\n",
    "        #print(filename[\"H Street Name\"][i])\n",
    "        filename['new h address-flag'][i] = 'start with h'\n",
    "        \n",
    "        city = has_impcity(address_2, imp_cities) # find if there is a city\n",
    "        if city == '':\n",
    "          city = has_city(address_2, cities)\n",
    "        if city :\n",
    "          address_2 = address_2.replace(str(city),'').strip() \n",
    "          address_1 = address_2.split()\n",
    "          filename['new h city'][i] = city # if city save it\n",
    "\n",
    "\n",
    "        house_num = False\n",
    "\n",
    "        for j in range(len(address_1)):\n",
    "          if '.5' in address_1[j]: # remove .5 to correctly identify house nos\n",
    "            filename['h house number modifier'][i] = address_1[j]\n",
    "            address_1[j] = address_1[j].replace('.5', '').strip()\n",
    "            \n",
    "        \n",
    "        street = ''\n",
    "        street_1 = ''\n",
    "        street_2 = ''\n",
    "        special_cases = ''\n",
    "        if (len(address_1) ==2 ): # address length is 2\n",
    "            street, street_1, street_2, special_cases = has_street(str(address_1[1])) # no house no\n",
    "          \n",
    "        if (len(address_1) >2): # address len more than 2\n",
    "            if (address_1[1].isdigit()): # first find a house no\n",
    "              street, street_1, street_2, special_cases = has_street(' '.join(address_1[2:]))\n",
    "              if (street != '') | (special_cases != ''): # there is a house no and a street name\n",
    "                house_num = True\n",
    "                start = 1\n",
    "            elif (address_1[2].isdigit()):\n",
    "              street, street_1, street_2, special_cases = has_street(' '.join(i for i in address_1[1:] if i != address_1[2]))\n",
    "              if (street != '') | (special_cases != ''): # there is a house no and a street name\n",
    "                house_num = True\n",
    "                start = 2\n",
    "            \n",
    "            if house_num == False: # there is a street but no house no\n",
    "                street, street_1, street_2, special_cases = has_street(address_2[1:])\n",
    "            \n",
    "        if (street != '') | (special_cases != ''): # for consistency in data remove . from street identifiers\n",
    "            address_2 = address_2.replace('W.','W').strip()\n",
    "            address_2 = address_2.replace('E.','E').strip()\n",
    "            address_2 = address_2.replace('ST.','ST').strip()\n",
    "            address_2 = address_2.replace('AV.','AV').strip()\n",
    "            address_2 = address_2.replace('A.V.','AV').strip()\n",
    "            address_2 = address_2.replace(str(street),'').strip()\n",
    "            address_2 = address_2.replace(str(street_1),'').strip()\n",
    "            address_2 = address_2.replace(str(street_2),'').strip()\n",
    "            \n",
    "            filename['new h street name'][i] = street\n",
    "            filename['new h street 1'][i] = street_1\n",
    "            filename['new h street 2'][i] = street_2\n",
    "            filename['new h street type'][i] = special_cases\n",
    "    \n",
    "        if house_num:\n",
    "            filename['new h house number'][i] = address_1[start]\n",
    "            address_2 = address_2.replace(address_1[start],'').strip()\n",
    "        \n",
    "        # find a county\n",
    "        county = has_county(address_2, counties)\n",
    "        if county:\n",
    "          address_2 = address_2.replace(str(county),'').strip()\n",
    "          filename['new h county'][i] = county\n",
    "        \n",
    "        address_2 = address_2.replace('H ','').strip()\n",
    "        address_2 = address_2.replace('H.','').strip()\n",
    "        address_2 = address_2.replace('.5','').strip()\n",
    "        filename['unidentified h info'][i] = address_2 # store the remaining information as unidentified\n",
    "    \n",
    "    except:\n",
    "      pass\n",
    "    \n",
    "        \n",
    "    if count % 1000 == 0:\n",
    "      print(count)\n",
    "      #break\n",
    "    count = count + 1\n",
    "  \n",
    "\n",
    "      \n",
    "\n",
    "  return filename\n",
    "    "
   ]
  },
  {
   "cell_type": "code",
   "execution_count": null,
   "metadata": {
    "colab": {
     "base_uri": "https://localhost:8080/"
    },
    "id": "wXZulSOA0qyV",
    "outputId": "af5c6c65-735b-4804-e446-57b30a7f753d",
    "scrolled": true
   },
   "outputs": [
    {
     "name": "stdout",
     "output_type": "stream",
     "text": [
      "1000\n",
      "2000\n",
      "3000\n"
     ]
    }
   ],
   "source": [
    "output_1880_int = address(output_1880)"
   ]
  },
  {
   "cell_type": "code",
   "execution_count": null,
   "metadata": {
    "colab": {
     "base_uri": "https://localhost:8080/"
    },
    "id": "WZM8KebDe0Km",
    "outputId": "891481df-ade0-4232-ef55-9ff3cab40b1c"
   },
   "outputs": [],
   "source": [
    "output_1880_int['new h address-flag'].unique()"
   ]
  },
  {
   "cell_type": "markdown",
   "metadata": {
    "id": "lZRWng2VfCLM"
   },
   "source": [
    "Save Intermediate files again"
   ]
  },
  {
   "cell_type": "code",
   "execution_count": null,
   "metadata": {
    "id": "IO5tuSy8mWrx"
   },
   "outputs": [],
   "source": [
    "#output_1850_bk_int.to_csv(\"data/output_1850_bk_int.csv\")"
   ]
  },
  {
   "cell_type": "code",
   "execution_count": null,
   "metadata": {
    "id": "lqo4E6bcnMSV"
   },
   "outputs": [],
   "source": [
    "#output_1880_int.to_csv(\"data/output_1880_int.csv\")"
   ]
  },
  {
   "cell_type": "code",
   "execution_count": null,
   "metadata": {
    "id": "2Fa2dWTrnMdh"
   },
   "outputs": [],
   "source": [
    "#output_1850_mn_int.to_csv(\"data/output_1850_mn_int.csv\")"
   ]
  },
  {
   "cell_type": "markdown",
   "metadata": {
    "id": "qOMV-uArtCDd"
   },
   "source": [
    "Repeat the process for records that have both work and house address"
   ]
  },
  {
   "cell_type": "code",
   "execution_count": null,
   "metadata": {
    "id": "eu85XayXbZDv"
   },
   "outputs": [],
   "source": [
    "# repeat the above process for records that have both work and house address\n",
    "\n",
    "def h_inbw_address(filename):\n",
    "  count = 1\n",
    "  #for i in range(272535,len(filename)):\n",
    "  for i in range(1,len(filename)):\n",
    "  #for i in range(61167,61700):\n",
    "\n",
    "    try:\n",
    "    \n",
    "      address_3 = str(filename[\"H Address\"][i]).strip().split()\n",
    "      \n",
    "      if (address_3[0] != 'H') & (address_3[0] != 'H.') & ('H' in address_3[1:]):\n",
    "        #print(address_1.index(\"H\"))\n",
    "        #print(filename[\"H Address\"][i])\n",
    "\n",
    "        filename['new h address-flag'][i] = 'h in between'\n",
    "\n",
    "        address_2 = ' '.join(address_3[address_3.index(\"H\"):])\n",
    "        #print(address_2)\n",
    "        #print(filename['new h address-flag'][i])\n",
    "              \n",
    "        city = has_impcity(address_2, imp_cities) # find if there is a city\n",
    "        if city == '':\n",
    "          city = has_city(address_2, cities)\n",
    "        if city :\n",
    "          address_2 = address_2.replace(str(city),'').strip() \n",
    "          filename['new h city'][i] = city # if city save it\n",
    "\n",
    "        address_1 = address_2.split()\n",
    "\n",
    "        house_num = False\n",
    "\n",
    "        for j in range(len(address_1)):\n",
    "          if '.5' in address_1[j]:\n",
    "            filename['h house number modifier'][i] = address_1[j]\n",
    "            address_1[j] = address_1[j].replace('.5', '').strip()\n",
    "\n",
    "        street = ''\n",
    "        street_1 = ''\n",
    "        street_2 = ''\n",
    "        special_cases = ''\n",
    "        if (len(address_1) ==2 ): # length is 2\n",
    "            street, street_1, street_2, special_cases = has_street(str(address_1[1])) # no house no\n",
    "          \n",
    "        if (len(address_1) >2): # len more than 2\n",
    "            if (address_1[1].isdigit()): \n",
    "              street, street_1, street_2, special_cases = has_street(' '.join(address_1[2:]))\n",
    "              if (street != '') | (special_cases != ''): # there is a house no and a street name\n",
    "                house_num = True\n",
    "                start = 1\n",
    "            elif (address_1[2].isdigit()):            \n",
    "              street, street_1, street_2, special_cases = has_street(' '.join(i for i in address_1[1:] if i != address_1[2]))\n",
    "              if (street != '') | (special_cases != ''): # there is a house no and a street name\n",
    "                house_num = True\n",
    "                start = 2\n",
    "            \n",
    "            if house_num == False: # there is a street but no house no\n",
    "                street, street_1, street_2, special_cases = has_street(address_2[1:])\n",
    "            \n",
    "        if (street != '') | (special_cases != ''):\n",
    "            address_2 = address_2.replace('W.','W').strip()\n",
    "            address_2 = address_2.replace('E.','E').strip()\n",
    "            address_2 = address_2.replace('ST.','ST').strip()\n",
    "            address_2 = address_2.replace('AV.','AV').strip()\n",
    "            address_2 = address_2.replace('A.V.','AV').strip()\n",
    "            address_2 = address_2.replace(str(street),'').strip()\n",
    "            address_2 = address_2.replace(str(street_1),'').strip()\n",
    "            address_2 = address_2.replace(str(street_2),'').strip()\n",
    "            \n",
    "            filename['new h street name'][i] = street\n",
    "            filename['new h street 1'][i] = street_1\n",
    "            filename['new h street 2'][i] = street_2\n",
    "            filename['new h street type'][i] = special_cases\n",
    "    \n",
    "        if house_num:\n",
    "            filename['new h house number'][i] = address_1[start]\n",
    "            address_2 = address_2.replace(address_1[start],'').strip()\n",
    "          \n",
    "        \n",
    "        county = has_county(address_2, counties)\n",
    "        if county:\n",
    "          address_2 = address_2.replace(str(county),'').strip()\n",
    "          filename['new h county'][i] = county\n",
    "        \n",
    "        address_2 = address_2.replace('H ','').strip()\n",
    "        #address_2 = address_2.replace('H.','').strip()\n",
    "        address_2 = address_2.replace('.5','').strip()\n",
    "        filename['unidentified h info'][i] = address_2\n",
    "\n",
    "\n",
    "  # get sec address\n",
    "        address_2 = ' '.join(address_3[:address_3.index(\"H\")])\n",
    "        #print(address_2)\n",
    "        address_1 = address_3[:address_3.index(\"H\")]\n",
    "\n",
    "        city = has_impcity(address_2, imp_cities) # find if there is a city\n",
    "        if city == '':\n",
    "          city = has_city(address_2, cities)\n",
    "        if city :\n",
    "          address_2 = address_2.replace(str(city),'').strip() \n",
    "          filename['new address2 city'][i] = city # if city save it\n",
    "        \n",
    "        address_1 = address_2.split()\n",
    "\n",
    "        house_num = False\n",
    "        for j in range(len(address_1)):\n",
    "          if '.5' in address_1[j]:\n",
    "            filename['address2 house number modifier'][i] = address_1[j]\n",
    "            address_1[j] = address_1[j].replace('.5', '').strip()\n",
    "        \n",
    "        street = ''\n",
    "        street_1 = ''\n",
    "        street_2 = ''\n",
    "        special_cases = ''\n",
    "        if (len(address_1) ==1 ): # length is 1\n",
    "            street, street_1, street_2, special_cases = has_street(str(address_1[0])) # no house no        \n",
    "        if (len(address_1) >1): # len more than 2\n",
    "            if (address_1[0].isdigit()): \n",
    "              street, street_1, street_2, special_cases = has_street(' '.join(address_1[1:]))\n",
    "              #print(street, street_1, street_2, special_cases)\n",
    "              if (street != '') | (special_cases != ''): # there is a house no and a street name\n",
    "                house_num = True\n",
    "                start = 0\n",
    "            elif (address_1[1].isdigit()):            \n",
    "              street, street_1, street_2, special_cases = has_street(' '.join(i for i in address_1 if i != address_1[1]))\n",
    "              if (street != '') | (special_cases != ''): # there is a house no and a street name\n",
    "                house_num = True\n",
    "                start = 1\n",
    "            \n",
    "            if house_num == False: # there is a street but no house no\n",
    "                street, street_1, street_2, special_cases = has_street(address_2)\n",
    "            \n",
    "        if (street != '') | (special_cases != ''):\n",
    "            address_2 = address_2.replace('W.','W').strip()\n",
    "            address_2 = address_2.replace('E.','E').strip()\n",
    "            address_2 = address_2.replace('ST.','ST').strip()\n",
    "            address_2 = address_2.replace('AV.','AV').strip()\n",
    "            address_2 = address_2.replace('A.V.','AV').strip()\n",
    "            address_2 = address_2.replace(str(street),'').strip()\n",
    "            address_2 = address_2.replace(str(street),'').strip()\n",
    "            address_2 = address_2.replace(str(street_1),'').strip()\n",
    "            address_2 = address_2.replace(str(street_2),'').strip()\n",
    "\n",
    "            filename['new address2 street name'][i] = street\n",
    "            filename['new address2 street 1'][i] = street_1\n",
    "            filename['new address2 street 2'][i] = street_2\n",
    "            filename['new address2 street type'][i] = special_cases\n",
    "    \n",
    "        if house_num:\n",
    "            filename['new address2 house number'][i] = address_1[start]\n",
    "            #print(filename['new address2 house number'][i])\n",
    "            address_2 = address_2.replace(address_1[start],'').strip()\n",
    "          \n",
    "\n",
    "\n",
    "        county = has_county(address_2, counties)\n",
    "        if county:\n",
    "          address_2 = address_2.replace(str(county),'').strip()\n",
    "          filename['new address2 county'][i] = county\n",
    "        \n",
    "        #address_2 = address_2.replace('H ','').strip()\n",
    "        #address_2 = address_2.replace('H.','').strip()\n",
    "        address_2 = address_2.replace('.5','').strip()\n",
    "        filename['unidentified address2 info'][i] = address_2\n",
    "\n",
    "\n",
    "      #if count % 1000 == 0:\n",
    "      #  print(count)\n",
    "\n",
    "      count = count+1    \n",
    "    \n",
    "    except:\n",
    "      pass\n",
    "\n",
    "  return filename\n",
    "    "
   ]
  },
  {
   "cell_type": "code",
   "execution_count": null,
   "metadata": {
    "colab": {
     "base_uri": "https://localhost:8080/"
    },
    "id": "nme_eHDTtVzz",
    "outputId": "228bee9a-8978-4b73-efad-e6946426ec69",
    "scrolled": true
   },
   "outputs": [],
   "source": [
    "output_1880_int_2 = h_inbw_address(output_1880_int)"
   ]
  },
  {
   "cell_type": "code",
   "execution_count": null,
   "metadata": {
    "colab": {
     "base_uri": "https://localhost:8080/"
    },
    "id": "LGTVaGRQthzA",
    "outputId": "be40f22e-4d9e-44e6-e381-cd2970a2e545"
   },
   "outputs": [],
   "source": [
    "output_1880_int_2['new h address-flag'].unique()"
   ]
  },
  {
   "cell_type": "code",
   "execution_count": null,
   "metadata": {
    "id": "OrxWDq2YoIfu"
   },
   "outputs": [],
   "source": [
    "def h_inbw_address(filename):\n",
    "\n",
    "  count = 1\n",
    "  #for i in range(272535,len(filename)):\n",
    "  for i in range(1,len(filename)):\n",
    "\n",
    "    try:\n",
    "    \n",
    "      address_3 = str(filename[\"H Address\"][i]).strip().split()\n",
    "      \n",
    "      if (address_3[0] != 'H') & (address_3[0] != 'H.') & ('H.' in address_3[1:]):\n",
    "        #print(address_1.index(\"H\"))\n",
    "        #print(filename[\"H Address\"][i])\n",
    "\n",
    "        filename['new h address-flag'][i] = 'h in between'\n",
    "\n",
    "        address_2 = ' '.join(address_3[address_3.index(\"H.\"):])\n",
    "        #print(address_2)\n",
    "        #print(filename['new h address-flag'][i])\n",
    "        address_1 = address_3[address_3.index(\"H.\"):]\n",
    "        \n",
    "        city = has_impcity(address_2, imp_cities) # find if there is a city\n",
    "        if city == '':\n",
    "          city = has_city(address_2, cities)\n",
    "        if city :\n",
    "          address_2 = address_2.replace(str(city),'').strip() \n",
    "          filename['new h city'][i] = city # if city save it\n",
    "\n",
    "        address_1 = address_2.split()\n",
    "\n",
    "        house_num = False\n",
    "\n",
    "        for j in range(len(address_1)):\n",
    "          if '.5' in address_1[j]:\n",
    "            filename['h house number modifier'][i] = address_1[j]\n",
    "            address_1[j] = address_1[j].replace('.5', '').strip()\n",
    "\n",
    "        street = ''\n",
    "        street_1 = ''\n",
    "        street_2 = ''\n",
    "        special_cases = ''\n",
    "        if (len(address_1) ==2 ): # length is 2\n",
    "            street, street_1, street_2, special_cases = has_street(str(address_1[1])) # no house no\n",
    "          \n",
    "        if (len(address_1) >2): # len more than 2\n",
    "            if (address_1[1].isdigit()): \n",
    "              street, street_1, street_2, special_cases = has_street(' '.join(address_1[2:]))\n",
    "              if (street != '') | (special_cases != ''): # there is a house no and a street name\n",
    "                house_num = True\n",
    "                start = 1\n",
    "            elif (address_1[2].isdigit()):            \n",
    "              street, street_1, street_2, special_cases = has_street(' '.join(i for i in address_1[1:] if i != address_1[2]))\n",
    "              if (street != '') | (special_cases != ''): # there is a house no and a street name\n",
    "                house_num = True\n",
    "                start = 2\n",
    "            \n",
    "            if house_num == False: # there is a street but no house no\n",
    "                street, street_1, street_2, special_cases = has_street(address_2[1:])\n",
    "            \n",
    "        if (street != '') | (special_cases != ''):\n",
    "            address_2 = address_2.replace('W.','W').strip()\n",
    "            address_2 = address_2.replace('E.','E').strip()\n",
    "            address_2 = address_2.replace('ST.','ST').strip()\n",
    "            address_2 = address_2.replace('AV.','AV').strip()\n",
    "            address_2 = address_2.replace('A.V.','AV').strip()\n",
    "            address_2 = address_2.replace(str(street),'').strip()\n",
    "            address_2 = address_2.replace(str(street_1),'').strip()\n",
    "            address_2 = address_2.replace(str(street_2),'').strip()\n",
    "            \n",
    "            filename['new h street name'][i] = street\n",
    "            filename['new h street 1'][i] = street_1\n",
    "            filename['new h street 2'][i] = street_2\n",
    "            filename['new h street type'][i] = special_cases\n",
    "    \n",
    "        if house_num:\n",
    "            filename['new h house number'][i] = address_1[start]\n",
    "            address_2 = address_2.replace(address_1[start],'').strip()\n",
    "          \n",
    "        \n",
    "        county = has_county(address_2, counties)\n",
    "        if county:\n",
    "          address_2 = address_2.replace(str(county),'').strip()\n",
    "          filename['new h county'][i] = county\n",
    "\n",
    "        #address_2 = address_2.replace('H ','').strip()\n",
    "        address_2 = address_2.replace('H.','').strip()\n",
    "        address_2 = address_2.replace('.5','').strip()\n",
    "        filename['unidentified h info'][i] = address_2\n",
    "\n",
    "\n",
    "  # get sec address\n",
    "        address_2 = ' '.join(address_3[:address_3.index(\"H.\")])\n",
    "        #print(address_2)\n",
    "        address_1 = address_3[:address_3.index(\"H.\")]\n",
    "\n",
    "        city = has_impcity(address_2, imp_cities) # find if there is a city\n",
    "        if city == '':\n",
    "          city = has_city(address_2, cities)\n",
    "        if city :\n",
    "          address_2 = address_2.replace(str(city),'').strip() \n",
    "          filename['new address2 city'][i] = city # if city save it\n",
    "\n",
    "        address_1 = address_2.split()\n",
    "        \n",
    "        house_num = False\n",
    "        for j in range(len(address_1)):\n",
    "          if '.5' in address_1[j]:\n",
    "            filename['address2 house number modifier'][i] = address_1[j]\n",
    "            address_1[j] = address_1[j].replace('.5', '').strip()\n",
    "        \n",
    "        street = ''\n",
    "        street_1 = ''\n",
    "        street_2 = ''\n",
    "        special_cases = ''\n",
    "        if (len(address_1) ==1 ): # length is 1\n",
    "            street, street_1, street_2, special_cases = has_street(str(address_1[0])) # no house no        \n",
    "        if (len(address_1) >1): # len more than 2\n",
    "            if (address_1[0].isdigit()): \n",
    "              street, street_1, street_2, special_cases = has_street(' '.join(address_1[1:]))\n",
    "              #print(street, street_1, street_2, special_cases)\n",
    "              if (street != '') | (special_cases != ''): # there is a house no and a street name\n",
    "                house_num = True\n",
    "                start = 0\n",
    "            elif (address_1[1].isdigit()):            \n",
    "              street, street_1, street_2, special_cases = has_street(' '.join(i for i in address_1 if i != address_1[1]))\n",
    "              if (street != '') | (special_cases != ''): # there is a house no and a street name\n",
    "                house_num = True\n",
    "                start = 1\n",
    "            \n",
    "            if house_num == False: # there is a street but no house no\n",
    "                street, street_1, street_2, special_cases = has_street(address_2)\n",
    "            \n",
    "        if (street != '') | (special_cases != ''):\n",
    "            address_2 = address_2.replace('W.','W').strip()\n",
    "            address_2 = address_2.replace('E.','E').strip()\n",
    "            address_2 = address_2.replace('ST.','ST').strip()\n",
    "            address_2 = address_2.replace('AV.','AV').strip()\n",
    "            address_2 = address_2.replace('A.V.','AV').strip()\n",
    "            address_2 = address_2.replace(str(street),'').strip()\n",
    "            address_2 = address_2.replace(str(street),'').strip()\n",
    "            address_2 = address_2.replace(str(street_1),'').strip()\n",
    "            address_2 = address_2.replace(str(street_2),'').strip()\n",
    "\n",
    "            filename['new address2 street name'][i] = street\n",
    "            filename['new address2 street 1'][i] = street_1\n",
    "            filename['new address2 street 2'][i] = street_2\n",
    "            filename['new address2 street type'][i] = special_cases\n",
    "    \n",
    "        if house_num:\n",
    "            filename['new address2 house number'][i] = address_1[start]\n",
    "            #print(filename['new address2 house number'][i])\n",
    "            address_2 = address_2.replace(address_1[start],'').strip()\n",
    "          \n",
    "        county = has_county(address_2, counties)\n",
    "        if county:\n",
    "          address_2 = address_2.replace(str(county),'').strip()\n",
    "          filename['new address2 county'][i] = county\n",
    "        \n",
    "        #address_2 = address_2.replace('H ','').strip()\n",
    "        #address_2 = address_2.replace('H.','').strip()\n",
    "        address_2 = address_2.replace('.5','').strip()\n",
    "        filename['unidentified address2 info'][i] = address_2  \n",
    "      \n",
    "    except:\n",
    "      pass\n",
    "\n",
    "  return filename\n",
    "    "
   ]
  },
  {
   "cell_type": "code",
   "execution_count": null,
   "metadata": {
    "id": "EoJpRgtgvdv3",
    "scrolled": true
   },
   "outputs": [],
   "source": [
    "output_1880_int_2 = h_inbw_address(output_1880_int_2)"
   ]
  },
  {
   "cell_type": "code",
   "execution_count": null,
   "metadata": {
    "colab": {
     "base_uri": "https://localhost:8080/"
    },
    "id": "kHvOBDlGvsBV",
    "outputId": "61082c28-9b6e-4bca-b5d7-4cd813777e2a"
   },
   "outputs": [],
   "source": [
    "output_1880_int_2['new h address-flag'].unique()"
   ]
  },
  {
   "cell_type": "code",
   "execution_count": null,
   "metadata": {
    "colab": {
     "base_uri": "https://localhost:8080/",
     "height": 1000
    },
    "id": "XC_cjSWxv0lf",
    "outputId": "c47070e4-03aa-478e-8269-3756fd22e5c3"
   },
   "outputs": [],
   "source": [
    "output_1880_int_2.loc[output_1880_int_2['new h address-flag'] == 'h in between']"
   ]
  },
  {
   "cell_type": "markdown",
   "metadata": {
    "id": "ljQN9NAyv-2p"
   },
   "source": [
    "Save the final files"
   ]
  },
  {
   "cell_type": "code",
   "execution_count": null,
   "metadata": {
    "colab": {
     "base_uri": "https://localhost:8080/"
    },
    "id": "7WWMJmV4QaFW",
    "outputId": "988ca48c-a0af-4c1d-9b92-ab03ddf170f9"
   },
   "outputs": [],
   "source": [
    "output_1880_int_2.columns\n"
   ]
  },
  {
   "cell_type": "code",
   "execution_count": null,
   "metadata": {
    "id": "WF66OygFtuRb"
   },
   "outputs": [],
   "source": [
    "#output_1850_mn_int_2.to_csv(\"data/output_1850_mn_add_std.csv\")\n"
   ]
  },
  {
   "cell_type": "code",
   "execution_count": null,
   "metadata": {
    "id": "bSzaiMJCwBeK"
   },
   "outputs": [],
   "source": [
    "#output_1850_bk_int_2.to_csv(\"data/output_1850_bk_add_std.csv\")\n"
   ]
  },
  {
   "cell_type": "code",
   "execution_count": null,
   "metadata": {
    "id": "KPML63IvwBiE"
   },
   "outputs": [],
   "source": [
    "#output_1880_int_2.to_csv(\"/Users/prajwal/Desktop/Columbia/C4SR/doubt/doubt6-filter11-s.csv\")\n",
    "#output_1880_int_2.to_csv(\"/Users/prajwal/Desktop/Columbia/C4SR/doubt/not so confident7-s2.csv\")\n",
    "#output_1880_int_2.to_csv(\"/Users/prajwal/Desktop/Columbia/C4SR/mn_1850/doubt-mn1850-v7-s-new.csv\")\n",
    "\n",
    "#output_1880_int_2.to_csv('mn-1880-3-s-half2.csv')\n",
    "output_1880_int_2.to_csv('/Users/prajwal/Desktop/Columbia/C4SR/tesseract lib/bk 1850/address 2/data2/bk-1850-3-s-address2.csv')"
   ]
  },
  {
   "cell_type": "code",
   "execution_count": null,
   "metadata": {
    "colab": {
     "base_uri": "https://localhost:8080/",
     "height": 377
    },
    "id": "wwPNe0c-X2Ut",
    "outputId": "2311d184-781a-46de-c1f6-7a6643760e52",
    "scrolled": true
   },
   "outputs": [],
   "source": [
    "output_1880_int_2.head()"
   ]
  },
  {
   "cell_type": "code",
   "execution_count": null,
   "metadata": {
    "id": "q_tJ8TCFQaFX"
   },
   "outputs": [],
   "source": []
  }
 ],
 "metadata": {
  "colab": {
   "collapsed_sections": [],
   "name": "address_standarization_code-Copy1.ipynb",
   "provenance": [],
   "toc_visible": true
  },
  "kernelspec": {
   "display_name": "Python 3",
   "language": "python",
   "name": "python3"
  },
  "language_info": {
   "codemirror_mode": {
    "name": "ipython",
    "version": 3
   },
   "file_extension": ".py",
   "mimetype": "text/x-python",
   "name": "python",
   "nbconvert_exporter": "python",
   "pygments_lexer": "ipython3",
   "version": "3.7.3"
  }
 },
 "nbformat": 4,
 "nbformat_minor": 1
}
