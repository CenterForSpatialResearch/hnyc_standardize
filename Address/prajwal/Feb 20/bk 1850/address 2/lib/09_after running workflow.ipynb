{
 "cells": [
  {
   "cell_type": "code",
   "execution_count": 1,
   "metadata": {},
   "outputs": [],
   "source": [
    "import pandas as pd\n",
    "import numpy as np"
   ]
  },
  {
   "cell_type": "code",
   "execution_count": 2,
   "metadata": {
    "scrolled": true
   },
   "outputs": [],
   "source": [
    "df1 = pd.read_csv('/Users/prajwal/Desktop/Columbia/C4SR/tesseract lib/bk 1850/address 2/data2/bk-1850-3-s-address2-after-address-builder.csv')\n",
    "df2 = pd.read_csv('/Users/prajwal/Desktop/Columbia/C4SR/tesseract lib/bk 1850/address 2/data2/bk-1850-3-address2.csv')\n"
   ]
  },
  {
   "cell_type": "code",
   "execution_count": 3,
   "metadata": {},
   "outputs": [
    {
     "data": {
      "text/plain": [
       "Unnamed: 0       2068\n",
       "hn_1              NaN\n",
       "best_match        NaN\n",
       "street_type        ST\n",
       "base_function     NaN\n",
       "suffix_true       NaN\n",
       "both_true         NaN\n",
       "Name: 2067, dtype: object"
      ]
     },
     "execution_count": 3,
     "metadata": {},
     "output_type": "execute_result"
    }
   ],
   "source": [
    "df1.loc[2067]"
   ]
  },
  {
   "cell_type": "code",
   "execution_count": 4,
   "metadata": {},
   "outputs": [
    {
     "name": "stderr",
     "output_type": "stream",
     "text": [
      "/Users/prajwal/anaconda3/lib/python3.7/site-packages/ipykernel_launcher.py:1: UserWarning: Boolean Series key will be reindexed to match DataFrame index.\n",
      "  \"\"\"Entry point for launching an IPython kernel.\n"
     ]
    }
   ],
   "source": [
    "list_of_empty_rows = list(df1[pd.isna(df1['hn_1'])==True][pd.isna(df1['best_match'])==True].index)"
   ]
  },
  {
   "cell_type": "code",
   "execution_count": 5,
   "metadata": {
    "scrolled": true
   },
   "outputs": [],
   "source": [
    "# Replace empty best_match values with those from df2\n",
    "for a in (list_of_empty_rows):\n",
    "    df1.at[a,'best_match'] = df2['Full Name'][a]"
   ]
  },
  {
   "cell_type": "code",
   "execution_count": 6,
   "metadata": {},
   "outputs": [
    {
     "data": {
      "text/plain": [
       "Unnamed: 0       175\n",
       "hn_1             NaN\n",
       "best_match       NaN\n",
       "street_type       ST\n",
       "base_function    NaN\n",
       "suffix_true      NaN\n",
       "both_true        NaN\n",
       "Name: 174, dtype: object"
      ]
     },
     "execution_count": 6,
     "metadata": {},
     "output_type": "execute_result"
    }
   ],
   "source": [
    "df1.loc[174]"
   ]
  },
  {
   "cell_type": "code",
   "execution_count": 7,
   "metadata": {
    "scrolled": true
   },
   "outputs": [],
   "source": [
    "# Change 255 255 Fulton to 255 Fulton\n",
    "for a in range(0,len(df1)):\n",
    "    try:\n",
    "        hn1_to_search = int(df1['hn_1'][a])\n",
    "        if df1['best_match'][a].index(str(hn1_to_search))>=0:\n",
    "            #print(a, hn1_to_search, df1['best_match'][a])\n",
    "            df1.at[a,'best_match'] = df1['best_match'][a].replace(str(hn1_to_search),'')\n",
    "    except:\n",
    "        pass"
   ]
  },
  {
   "cell_type": "code",
   "execution_count": 8,
   "metadata": {},
   "outputs": [],
   "source": [
    "# change 255 Fulton & Court to 255 Fulton\n",
    "for a in range(0,len(df1)):\n",
    "    try:\n",
    "        if df1['best_match'][a].index('&') >=0 and pd.isna(df1['hn_1'][a])==False:\n",
    "            temp_str1 = df1['best_match'][a]\n",
    "            loc_of_and = temp_str1.split().index('&')\n",
    "            before_and = ' '.join(temp_str1.split()[0:loc_of_and])\n",
    "            if len(before_and)>0:\n",
    "                df1.at[a,'best_match'] = before_and\n",
    "            else:\n",
    "                df1.at[a,'best_match'] = ' '.join(temp_str1.split()[loc_of_and+1:])\n",
    "    except:\n",
    "        pass"
   ]
  },
  {
   "cell_type": "code",
   "execution_count": 9,
   "metadata": {
    "scrolled": true
   },
   "outputs": [],
   "source": [
    "# changes occurences like 'smith & nan' to 'smith'\n",
    "for a in range(0, len(df1)):\n",
    "    try:\n",
    "        if df1['best_match'][a].index('nan &')>=0:\n",
    "            print('1',a)\n",
    "            df1.at[a,'best_match'] = df1['best_match'][a].replace('nan &','')\n",
    "            print('1',df1['best_match'][a])\n",
    "    except:\n",
    "        pass\n",
    "    try:\n",
    "        if df1['best_match'][a].index('NAN &')>=0:\n",
    "            print('2',a)\n",
    "            print('2',df1['best_match'][a])\n",
    "    except:\n",
    "        pass\n",
    "    try:\n",
    "        if df1['best_match'][a].index('& nan')>=0:\n",
    "            print('3',a)\n",
    "            df1.at[a,'best_match'] = df1['best_match'][a].replace('& nan','')\n",
    "            print('3',df1['best_match'][a])\n",
    "    except:\n",
    "        pass\n",
    "    try:\n",
    "        if df1['best_match'][a].index('& NAN')>=0:\n",
    "            print('4',a)\n",
    "            print('4',df1['best_match'][a])\n",
    "    except:\n",
    "        pass"
   ]
  },
  {
   "cell_type": "code",
   "execution_count": 10,
   "metadata": {},
   "outputs": [
    {
     "data": {
      "text/plain": [
       "Unnamed: 0       2068\n",
       "hn_1              NaN\n",
       "best_match        NaN\n",
       "street_type        ST\n",
       "base_function     NaN\n",
       "suffix_true       NaN\n",
       "both_true         NaN\n",
       "Name: 2067, dtype: object"
      ]
     },
     "execution_count": 10,
     "metadata": {},
     "output_type": "execute_result"
    }
   ],
   "source": [
    "df1.loc[2067]"
   ]
  },
  {
   "cell_type": "code",
   "execution_count": 11,
   "metadata": {},
   "outputs": [],
   "source": [
    "#df1.to_csv('/Users/prajwal/Desktop/Columbia/C4SR/tesseract lib/mn 1850/data/mn_1850_for_rerun.csv')\n",
    "df1.to_csv('/Users/prajwal/Desktop/Columbia/C4SR/tesseract lib/bk 1850/address 2/data2/bk-1850-3-address2-for-rerun.csv')"
   ]
  },
  {
   "cell_type": "code",
   "execution_count": null,
   "metadata": {},
   "outputs": [],
   "source": []
  }
 ],
 "metadata": {
  "kernelspec": {
   "display_name": "Python 3",
   "language": "python",
   "name": "python3"
  },
  "language_info": {
   "codemirror_mode": {
    "name": "ipython",
    "version": 3
   },
   "file_extension": ".py",
   "mimetype": "text/x-python",
   "name": "python",
   "nbconvert_exporter": "python",
   "pygments_lexer": "ipython3",
   "version": "3.7.3"
  }
 },
 "nbformat": 4,
 "nbformat_minor": 2
}
