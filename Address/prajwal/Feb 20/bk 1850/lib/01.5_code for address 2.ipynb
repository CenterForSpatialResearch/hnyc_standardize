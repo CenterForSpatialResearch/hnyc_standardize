{
 "cells": [
  {
   "cell_type": "code",
   "execution_count": 11,
   "metadata": {},
   "outputs": [],
   "source": [
    "import numpy as np\n",
    "import pandas as pd"
   ]
  },
  {
   "cell_type": "code",
   "execution_count": 12,
   "metadata": {
    "scrolled": true
   },
   "outputs": [],
   "source": [
    "df = pd.read_csv('/Users/prajwal/Desktop/Columbia/C4SR/tesseract lib/bk 1850/data/bk_1850_spl_removed.csv')"
   ]
  },
  {
   "cell_type": "code",
   "execution_count": 13,
   "metadata": {},
   "outputs": [
    {
     "data": {
      "text/plain": [
       "Index(['Unnamed: 0', 'Unnamed: 0.1', 'Full Name', 'First Name', 'Last Name',\n",
       "       'Middle Name', 'Widow-flag', 'Widow Of', 'Title', 'Occupation',\n",
       "       'Full Address old', 'H Status-flag', 'H Address', 'H House Number',\n",
       "       'H Street Name', 'H City', 'Address 2', 'Address 2 House Number',\n",
       "       'Address 2 Street Name', 'Address 2 City', 'Index', 'Full Entry',\n",
       "       'Full Address', 'part after and', 'part before h'],\n",
       "      dtype='object')"
      ]
     },
     "execution_count": 13,
     "metadata": {},
     "output_type": "execute_result"
    }
   ],
   "source": [
    "df.columns"
   ]
  },
  {
   "cell_type": "code",
   "execution_count": 14,
   "metadata": {
    "scrolled": true
   },
   "outputs": [],
   "source": [
    "address2 = []\n",
    "for i in range(0, len(df)):\n",
    "    str1 = str(df['part after and'][i]).replace('nan','')\n",
    "    str2 = str(df['part before h'][i]).replace('nan','')\n",
    "    str3 = str(df['Address 2'][i]).replace('nan','')\n",
    "    str4 = (str1 + ' ' + str2 + ' ' + str3).replace('  ',' ').replace('  ',' ').replace('  ',' ')\n",
    "    address2.append(str4)\n"
   ]
  },
  {
   "cell_type": "code",
   "execution_count": 15,
   "metadata": {},
   "outputs": [],
   "source": [
    "for i in range(0,len(df)):\n",
    "    try:\n",
    "        if address2[i].split()[-1]=='N &':\n",
    "            address2[i] = ''.join(address2[i][:-4])\n",
    "    except:\n",
    "        pass\n",
    "    try:\n",
    "        if address2[i].split()[0]=='&':\n",
    "            address2[i] = ''.join(address2[i][1:])\n",
    "    except:\n",
    "        pass\n",
    "    try:\n",
    "        if address2[i].split()[-1]=='&':\n",
    "            address2[i] = ''.join(address2[i][:-2])\n",
    "    except:\n",
    "        pass\n",
    "    try:\n",
    "        if address2[i].split()[-1]=='N':\n",
    "            address2[i] = ''.join(address2[i][:-2])\n",
    "    except:\n",
    "        pass\n",
    "    address2[i] = address2[i].replace('N Y','').replace('NY','')"
   ]
  },
  {
   "cell_type": "code",
   "execution_count": 16,
   "metadata": {},
   "outputs": [],
   "source": [
    "df2 = pd.DataFrame(address2)\n",
    "df2.columns = ['Full Address']"
   ]
  },
  {
   "cell_type": "code",
   "execution_count": 17,
   "metadata": {},
   "outputs": [],
   "source": [
    "df2.to_csv('/Users/prajwal/Desktop/Columbia/C4SR/tesseract lib/bk 1850/data/bk_1850_input_for_address2.csv')"
   ]
  },
  {
   "cell_type": "code",
   "execution_count": null,
   "metadata": {},
   "outputs": [],
   "source": []
  }
 ],
 "metadata": {
  "kernelspec": {
   "display_name": "Python 3",
   "language": "python",
   "name": "python3"
  },
  "language_info": {
   "codemirror_mode": {
    "name": "ipython",
    "version": 3
   },
   "file_extension": ".py",
   "mimetype": "text/x-python",
   "name": "python",
   "nbconvert_exporter": "python",
   "pygments_lexer": "ipython3",
   "version": "3.7.3"
  }
 },
 "nbformat": 4,
 "nbformat_minor": 2
}
