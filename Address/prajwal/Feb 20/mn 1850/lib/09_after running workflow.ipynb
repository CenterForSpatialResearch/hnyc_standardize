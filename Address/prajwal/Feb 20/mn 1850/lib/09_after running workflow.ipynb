{
 "cells": [
  {
   "cell_type": "code",
   "execution_count": 38,
   "metadata": {},
   "outputs": [],
   "source": [
    "import pandas as pd\n",
    "import numpy as np"
   ]
  },
  {
   "cell_type": "code",
   "execution_count": 39,
   "metadata": {
    "scrolled": true
   },
   "outputs": [
    {
     "name": "stderr",
     "output_type": "stream",
     "text": [
      "/Users/prajwal/anaconda3/lib/python3.7/site-packages/IPython/core/interactiveshell.py:3049: DtypeWarning: Columns (15) have mixed types. Specify dtype option on import or set low_memory=False.\n",
      "  interactivity=interactivity, compiler=compiler, result=result)\n"
     ]
    }
   ],
   "source": [
    "df1 = pd.read_csv('/Users/prajwal/Desktop/Columbia/C4SR/tesseract lib/mn 1850/data/mn-1850-final_tesseract.csv')\n",
    "df2 = pd.read_csv('/Users/prajwal/Desktop/Columbia/C4SR/tesseract lib/mn 1850/data/mn-1850-3.csv')\n"
   ]
  },
  {
   "cell_type": "code",
   "execution_count": 40,
   "metadata": {},
   "outputs": [
    {
     "data": {
      "text/plain": [
       "Unnamed: 0                 2068\n",
       "hn_1                        221\n",
       "best_match              HOUSTON\n",
       "street_type                  ST\n",
       "base_function    221 HOUSTON ST\n",
       "suffix_true      221 HOUSTON ST\n",
       "both_true        221 HOUSTON ST\n",
       "Name: 2067, dtype: object"
      ]
     },
     "execution_count": 40,
     "metadata": {},
     "output_type": "execute_result"
    }
   ],
   "source": [
    "df1.loc[2067]"
   ]
  },
  {
   "cell_type": "code",
   "execution_count": 41,
   "metadata": {},
   "outputs": [
    {
     "name": "stderr",
     "output_type": "stream",
     "text": [
      "/Users/prajwal/anaconda3/lib/python3.7/site-packages/ipykernel_launcher.py:1: UserWarning: Boolean Series key will be reindexed to match DataFrame index.\n",
      "  \"\"\"Entry point for launching an IPython kernel.\n"
     ]
    }
   ],
   "source": [
    "list_of_empty_rows = list(df1[pd.isna(df1['hn_1'])==True][pd.isna(df1['best_match'])==True].index)"
   ]
  },
  {
   "cell_type": "code",
   "execution_count": 42,
   "metadata": {
    "scrolled": true
   },
   "outputs": [],
   "source": [
    "# Replace empty best_match values with those from df2\n",
    "for a in (list_of_empty_rows):\n",
    "    df1.at[a,'best_match'] = df2['Full Name'][a]"
   ]
  },
  {
   "cell_type": "code",
   "execution_count": 43,
   "metadata": {},
   "outputs": [
    {
     "data": {
      "text/plain": [
       "Unnamed: 0                175\n",
       "hn_1                       54\n",
       "best_match              AVE C\n",
       "street_type               AVE\n",
       "base_function    54 AVE C AVE\n",
       "suffix_true      54 AVE C AVE\n",
       "both_true        54 AVE C AVE\n",
       "Name: 174, dtype: object"
      ]
     },
     "execution_count": 43,
     "metadata": {},
     "output_type": "execute_result"
    }
   ],
   "source": [
    "df1.loc[174]"
   ]
  },
  {
   "cell_type": "code",
   "execution_count": 44,
   "metadata": {
    "scrolled": true
   },
   "outputs": [],
   "source": [
    "# Change 255 255 Fulton to 255 Fulton\n",
    "for a in range(0,len(df1)):\n",
    "    try:\n",
    "        hn1_to_search = int(df1['hn_1'][a])\n",
    "        if df1['best_match'][a].index(str(hn1_to_search))>=0:\n",
    "            #print(a, hn1_to_search, df1['best_match'][a])\n",
    "            df1.at[a,'best_match'] = df1['best_match'][a].replace(str(hn1_to_search),'')\n",
    "    except:\n",
    "        pass"
   ]
  },
  {
   "cell_type": "code",
   "execution_count": 45,
   "metadata": {},
   "outputs": [],
   "source": [
    "# change 255 Fulton & Court to 255 Fulton\n",
    "for a in range(0,len(df1)):\n",
    "    try:\n",
    "        if df1['best_match'][a].index('&') >=0 and pd.isna(df1['hn_1'][a])==False:\n",
    "            temp_str1 = df1['best_match'][a]\n",
    "            loc_of_and = temp_str1.split().index('&')\n",
    "            before_and = ' '.join(temp_str1.split()[0:loc_of_and])\n",
    "            if len(before_and)>0:\n",
    "                df1.at[a,'best_match'] = before_and\n",
    "            else:\n",
    "                df1.at[a,'best_match'] = ' '.join(temp_str1.split()[loc_of_and+1:])\n",
    "    except:\n",
    "        pass"
   ]
  },
  {
   "cell_type": "code",
   "execution_count": 46,
   "metadata": {
    "scrolled": true
   },
   "outputs": [
    {
     "name": "stdout",
     "output_type": "stream",
     "text": [
      "3 1238\n",
      "3 JERSEY \n",
      "3 3105\n",
      "3 4 \n",
      "3 4446\n",
      "3 JERSY \n",
      "3 4697\n",
      "3 E 25 \n",
      "3 10500\n",
      "3 UNIVERSITY PL \n",
      "3 12248\n",
      "3 E 16 \n",
      "3 14996\n",
      "3 JERSEY \n",
      "3 15032\n",
      "3 JERSEY \n",
      "3 16597\n",
      "3 JERSEY \n",
      "3 17145\n",
      "3 JERSEY \n",
      "3 18293\n",
      "3 JERSEY \n",
      "3 20782\n",
      "3 JERSEY \n",
      "3 21122\n",
      "3 JERSEY \n",
      "3 21144\n",
      "3 JERSEY \n",
      "3 21709\n",
      "3 REMSON \n",
      "3 23037\n",
      "3 HENRY \n",
      "3 24283\n",
      "3 JERSEY \n",
      "3 26384\n",
      "3 JERSEY \n",
      "3 27687\n",
      "3 JERSEY \n",
      "3 28336\n",
      "3 JERSEY \n",
      "3 29418\n",
      "3 JERSEY \n",
      "3 30351\n",
      "3 WESTCHESTER \n",
      "3 35239\n",
      "3 JERSEY \n",
      "3 35242\n",
      "3 JERSEY \n",
      "3 35282\n",
      "3 JERSEY \n",
      "3 36798\n",
      "3 JERSEY \n",
      "3 38129\n",
      "3 JERSEY \n",
      "3 42649\n",
      "3 JERSEY \n",
      "3 42722\n",
      "3 JERSEY \n",
      "3 44023\n",
      "3 PACIFIC \n",
      "3 45086\n",
      "3 JERSEY \n",
      "3 46459\n",
      "3 STATE \n",
      "3 46460\n",
      "3 JERSEY \n",
      "3 47745\n",
      "3 JERSEY \n",
      "3 49843\n",
      "3 JERSEY \n",
      "1 56872\n",
      "1  FOOT OF\n",
      "3 57086\n",
      "3 JERSEY \n",
      "3 59108\n",
      "3 JERSEY \n",
      "3 59126\n",
      "3 JERSEY \n",
      "3 61116\n",
      "3 BROADWAY \n",
      "3 62454\n",
      "3 JERSEY \n",
      "3 63661\n",
      "3 JERSEY \n",
      "3 65406\n",
      "3 FULTON \n",
      "3 65974\n",
      "3 W 2LST \n",
      "3 68942\n",
      "3 SPRING \n",
      "3 68944\n",
      "3 SPRING \n",
      "3 69662\n",
      "3 JERSEY \n",
      "3 76087\n",
      "3 JERSEY \n",
      "3 76678\n",
      "3 CENTRE \n",
      "3 77986\n",
      "3 CENTRE \n"
     ]
    }
   ],
   "source": [
    "# changes occurences like 'smith & nan' to 'smith'\n",
    "for a in range(0, len(df1)):\n",
    "    try:\n",
    "        if df1['best_match'][a].index('nan &')>=0:\n",
    "            print('1',a)\n",
    "            df1.at[a,'best_match'] = df1['best_match'][a].replace('nan &','')\n",
    "            print('1',df1['best_match'][a])\n",
    "    except:\n",
    "        pass\n",
    "    try:\n",
    "        if df1['best_match'][a].index('NAN &')>=0:\n",
    "            print('2',a)\n",
    "            print('2',df1['best_match'][a])\n",
    "    except:\n",
    "        pass\n",
    "    try:\n",
    "        if df1['best_match'][a].index('& nan')>=0:\n",
    "            print('3',a)\n",
    "            df1.at[a,'best_match'] = df1['best_match'][a].replace('& nan','')\n",
    "            print('3',df1['best_match'][a])\n",
    "    except:\n",
    "        pass\n",
    "    try:\n",
    "        if df1['best_match'][a].index('& NAN')>=0:\n",
    "            print('4',a)\n",
    "            print('4',df1['best_match'][a])\n",
    "    except:\n",
    "        pass"
   ]
  },
  {
   "cell_type": "code",
   "execution_count": 47,
   "metadata": {},
   "outputs": [
    {
     "data": {
      "text/plain": [
       "Unnamed: 0                 2068\n",
       "hn_1                        221\n",
       "best_match              HOUSTON\n",
       "street_type                  ST\n",
       "base_function    221 HOUSTON ST\n",
       "suffix_true      221 HOUSTON ST\n",
       "both_true        221 HOUSTON ST\n",
       "Name: 2067, dtype: object"
      ]
     },
     "execution_count": 47,
     "metadata": {},
     "output_type": "execute_result"
    }
   ],
   "source": [
    "df1.loc[2067]"
   ]
  },
  {
   "cell_type": "code",
   "execution_count": 48,
   "metadata": {},
   "outputs": [],
   "source": [
    "#df1.to_csv('/Users/prajwal/Desktop/Columbia/C4SR/tesseract lib/mn 1850/data/mn_1850_for_rerun.csv')"
   ]
  },
  {
   "cell_type": "code",
   "execution_count": null,
   "metadata": {},
   "outputs": [],
   "source": []
  }
 ],
 "metadata": {
  "kernelspec": {
   "display_name": "Python 3",
   "language": "python",
   "name": "python3"
  },
  "language_info": {
   "codemirror_mode": {
    "name": "ipython",
    "version": 3
   },
   "file_extension": ".py",
   "mimetype": "text/x-python",
   "name": "python",
   "nbconvert_exporter": "python",
   "pygments_lexer": "ipython3",
   "version": "3.7.3"
  }
 },
 "nbformat": 4,
 "nbformat_minor": 2
}
