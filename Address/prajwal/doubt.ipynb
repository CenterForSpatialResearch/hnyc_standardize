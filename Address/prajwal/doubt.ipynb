{
 "cells": [
  {
   "cell_type": "code",
   "execution_count": 2015,
   "metadata": {},
   "outputs": [],
   "source": [
    "import pandas as pd\n",
    "import numpy as np"
   ]
  },
  {
   "cell_type": "code",
   "execution_count": 2016,
   "metadata": {},
   "outputs": [],
   "source": [
    "df = pd.read_excel('not so confident.xlsx')"
   ]
  },
  {
   "cell_type": "code",
   "execution_count": 2017,
   "metadata": {},
   "outputs": [],
   "source": [
    "df_slice1 = df.loc[df['filter1']==1]"
   ]
  },
  {
   "cell_type": "code",
   "execution_count": 2018,
   "metadata": {
    "scrolled": true
   },
   "outputs": [],
   "source": [
    "slice1_addresses = list(dict(df_slice1['clean address']).values())"
   ]
  },
  {
   "cell_type": "code",
   "execution_count": 2019,
   "metadata": {
    "scrolled": false
   },
   "outputs": [
    {
     "name": "stdout",
     "output_type": "stream",
     "text": [
      "ft. E. 118th,h E. 137th n St. Ann's av.\n",
      "ft. E. 118th,h E. 137th n St. Ann's av.\n",
      "ft. E. 118th, h E. 137th n St. Ann's av.\n",
      "ft. E. 118th, h E. 137th n St. Ann's av.\n",
      "ft. E. 118th, h. E. 137th n St. Ann's av.\n",
      "ft. E. 118th, h. E. 137th n St. Ann's av.\n"
     ]
    }
   ],
   "source": [
    "modified_clean_address = df['clean address'].str.replace('Ã¢Â\\x80Â\\x99',\"'\").str.replace('Ã¢ÂÂ',\"'\").str.replace(\"Ã¢Â\\x80Â\\x98\",\"\").str.replace(\"Ã¢Â\\x80Â\\x9c\",\"\").str.replace(\"Ã¢Â\\x80Â\\x9d\",\"\")\n",
    "modified_clean_address = modified_clean_address.str.replace(\"hN\", \"h N\")\n",
    "print(modified_clean_address[7446])\n",
    "modified_clean_address = modified_clean_address.str.replace(\".5 \", \" \")\n",
    "print(modified_clean_address[7446])\n",
    "modified_clean_address = modified_clean_address.str.replace(\",h \", \", h \")\n",
    "print(modified_clean_address[7446])\n",
    "modified_clean_address = modified_clean_address.str.replace(\",h\", \", h \")\n",
    "print(modified_clean_address[7446])\n",
    "modified_clean_address = modified_clean_address.str.replace(\", h.\", \", h. \")\n",
    "print(modified_clean_address[7446])\n",
    "modified_clean_address = modified_clean_address.str.replace(\", h .\", \", h. \")\n",
    "print(modified_clean_address[7446])\n",
    "modified_clean_address = modified_clean_address.str.replace(\"H udson\", \"Hudson\")\n",
    "modified_clean_address = modified_clean_address.str.replace(\"'wav\", \"'way\")\n",
    "modified_clean_address = modified_clean_address.str.replace(\"B'way\", \"Broadway\")\n",
    "modified_clean_address = modified_clean_address.str.replace(\"B way\", \"Broadway\")\n",
    "modified_clean_address = modified_clean_address.str.replace(\"B'kly n\", \"B'klyn\")\n",
    "modified_clean_address = modified_clean_address.str.replace(\",n\", \" n\")\n",
    "modified_clean_address = modified_clean_address.str.replace(\"W.h\", \" Wh\")\n",
    "modified_clean_address = modified_clean_address.str.replace(\"h-\", \" h \")\n",
    "modified_clean_address = modified_clean_address.str.replace(\"h-\", \" h \")\n",
    "modified_clean_address = modified_clean_address.str.replace(\"-h.\", \"h.\")\n",
    "#modified_clean_address = modified_clean_address.str.replace(\"H()\", \"h.\")\n",
    "#modified_clean_address = modified_clean_address.str.replace(\"*\", \" \")\n",
    "#modified_clean_address = modified_clean_address.str.replace(\"h r.\", \"h r\")\n",
    "\n",
    "#modified_clean_address = modified_clean_address.str.replace(\".h\", \", h.\")\n",
    "\n",
    "#modified_clean_address = modified_clean_address.str.replace(\"^h\", \"  h\")\n",
    "#modified_clean_address = modified_clean_address.str.replace(\"h*\", \"  h \")\n",
    "\n",
    "#modified_clean_address = modified_clean_address.str.replace(\". .\", \" \")\n",
    "\n"
   ]
  },
  {
   "cell_type": "code",
   "execution_count": 2020,
   "metadata": {},
   "outputs": [],
   "source": [
    "for i in range(0,len(modified_clean_address)):\n",
    "    if modified_clean_address[i].find(\"E.\") >= 0:\n",
    "        modified_clean_address[i] = modified_clean_address[i].replace('E.','E ').replace('  ', ' ')"
   ]
  },
  {
   "cell_type": "code",
   "execution_count": 2021,
   "metadata": {},
   "outputs": [],
   "source": [
    "for i in range(0,len(modified_clean_address)):\n",
    "    if modified_clean_address[i].find(\"W.\") >= 0:\n",
    "        modified_clean_address[i] = modified_clean_address[i].replace('W.','W ').replace('  ', ' ')"
   ]
  },
  {
   "cell_type": "code",
   "execution_count": 2022,
   "metadata": {
    "scrolled": true
   },
   "outputs": [],
   "source": [
    "for i in range(0,len(modified_clean_address)):\n",
    "    if modified_clean_address[i].find(\".h\") >= 0:\n",
    "        modified_clean_address[i] = modified_clean_address[i].replace('.h',', h. ').replace(',,',',').replace('  ',' ')\n",
    "\n",
    "        "
   ]
  },
  {
   "cell_type": "code",
   "execution_count": 2023,
   "metadata": {},
   "outputs": [],
   "source": [
    "for i in range(0,len(modified_clean_address)):\n",
    "    if modified_clean_address[i].find(\",c\") >= 0:\n",
    "        modified_clean_address[i] = modified_clean_address[i].replace(',c',' c')"
   ]
  },
  {
   "cell_type": "code",
   "execution_count": 2024,
   "metadata": {},
   "outputs": [],
   "source": [
    "for i in range(0,len(modified_clean_address)):\n",
    "    if modified_clean_address[i].find(\" c. \") >= 0:\n",
    "        modified_clean_address[i] = modified_clean_address[i].replace('c.','c')"
   ]
  },
  {
   "cell_type": "code",
   "execution_count": 2025,
   "metadata": {},
   "outputs": [],
   "source": [
    "for i in range(0,len(modified_clean_address)):\n",
    "    if modified_clean_address[i].find(\" n. \") >= 0:\n",
    "        modified_clean_address[i] = modified_clean_address[i].replace(' n. ',' n ')"
   ]
  },
  {
   "cell_type": "code",
   "execution_count": 2026,
   "metadata": {
    "scrolled": true
   },
   "outputs": [],
   "source": [
    "for i in range(0,len(modified_clean_address)):\n",
    "    if modified_clean_address[i].find(\"h r\") >=0:\n",
    "        modified_clean_address[i] = modified_clean_address[i].replace('h r','h. rear').replace('rear.','rear ')"
   ]
  },
  {
   "cell_type": "code",
   "execution_count": 2027,
   "metadata": {},
   "outputs": [],
   "source": [
    "for i in range(0,len(modified_clean_address)):\n",
    "    if modified_clean_address[i].find(\"h. r\") >=0:\n",
    "        modified_clean_address[i] = modified_clean_address[i].replace('h. r','h. rear').replace('rear.','rear ')\n",
    "        \n",
    "        "
   ]
  },
  {
   "cell_type": "code",
   "execution_count": 2028,
   "metadata": {},
   "outputs": [],
   "source": [
    "for i in range(0,len(modified_clean_address)):\n",
    "    if modified_clean_address[i][0:2].find(\"h'\") >=0:\n",
    "        modified_clean_address[i] = modified_clean_address[i].replace(\"h'\",\"h. \")"
   ]
  },
  {
   "cell_type": "code",
   "execution_count": 2029,
   "metadata": {},
   "outputs": [],
   "source": [
    "for i in range(0,len(modified_clean_address)):\n",
    "    if modified_clean_address[i][0:2].find(\"th\") >=0:\n",
    "        modified_clean_address[i] = modified_clean_address[i].replace(\"th\",\"h\")"
   ]
  },
  {
   "cell_type": "code",
   "execution_count": 2030,
   "metadata": {},
   "outputs": [
    {
     "data": {
      "text/plain": [
       "'21 Cortlandt, h. S. 1.'"
      ]
     },
     "execution_count": 2030,
     "metadata": {},
     "output_type": "execute_result"
    }
   ],
   "source": [
    "modified_clean_address[6841]"
   ]
  },
  {
   "cell_type": "code",
   "execution_count": 2031,
   "metadata": {},
   "outputs": [],
   "source": [
    "import re\n",
    "\n",
    "modified_clean_address4 = []\n",
    "intersections_n_1 = []\n",
    "intersections_n_2 = []\n",
    "\n",
    "intersections_c_1 = []\n",
    "intersections_c_2 = []\n",
    "\n",
    "for i in range(0,len(modified_clean_address)):\n",
    "    temp = modified_clean_address[i]\n",
    "    \n",
    "    string_with_th = re.findall(r'[0-9]+th', temp)\n",
    "    for j in range (0, len(string_with_th)):\n",
    "        temp = temp.replace(string_with_th[j], string_with_th[j].replace('th',''))\n",
    "    \n",
    "    string_with_d = re.findall(r'[0-9]+d', temp)\n",
    "    for j in range (0, len(string_with_d)):\n",
    "        temp = temp.replace(string_with_d[j], string_with_d[j].replace('d',''))\n",
    "    \n",
    "    string_with_rd = re.findall(r'[0-9]+rd', temp)\n",
    "    for j in range (0, len(string_with_rd)):\n",
    "        temp = temp.replace(string_with_rd[j], string_with_rd[j].replace('rd',''))\n",
    "    \n",
    "    string_with_st = re.findall(r'[0-9]+st', temp)\n",
    "    for j in range (0, len(string_with_st)):\n",
    "        temp = temp.replace(string_with_st[j], string_with_st[j].replace('st',''))\n",
    "    \n",
    "    string_with_h_dot = re.findall(r'h.+[0-9]', temp)\n",
    "    for j in range (0, len(string_with_h_dot)):\n",
    "        temp = temp.replace(string_with_h_dot[j], string_with_h_dot[j].replace('h.','h. ').replace('  ',' '))\n",
    "    \n",
    "    string_with_h_dot = re.findall(r'h+[0-9]', temp)\n",
    "    for j in range (0, len(string_with_h_dot)):\n",
    "        temp = temp.replace(string_with_h_dot[j], string_with_h_dot[j].replace('h','h ').replace('  ',' '))\n",
    "    \n",
    "    string_with_S_1 = re.findall(r'[0-9]+S', temp)\n",
    "    string_with_S_2 = re.findall(r'S+[0-9]', temp)\n",
    "    string_with_S = string_with_S_1 + string_with_S_2\n",
    "    for j in range (0, len(string_with_S)):\n",
    "        #print(i,string_with_S)\n",
    "        temp = temp.replace(string_with_S[j], string_with_S[j].replace('S','5'))\n",
    "        #print(temp)\n",
    "        \n",
    "    try:\n",
    "        location_of_h_1 = temp.split().index('h.')\n",
    "    except:\n",
    "        location_of_h_1 = -1\n",
    "    try:\n",
    "        location_of_h_2 = temp.split().index('h')\n",
    "    except:\n",
    "        location_of_h_2 = -1\n",
    "    #print(location_of_h_1, location_of_h_2)\n",
    "\n",
    "    location_of_h = max(location_of_h_1, location_of_h_2)\n",
    "    \"\"\"\n",
    "    if location_of_h_1>0:\n",
    "        if location_of_h_2<0:\n",
    "            location_of_h = location_of_h_1\n",
    "        else:\n",
    "            #print(i,'in exception1')\n",
    "            #print(location_of_h_1, location_of_h_2)\n",
    "            location_of_h = max(location_of_h_1, location_of_h_2)\n",
    "    \n",
    "    else:\n",
    "        if location_of_h_2 > 0:\n",
    "            location_of_h = location_of_h_2\n",
    "        else:\n",
    "            print(i,'in exception2')\n",
    "            print(location_of_h_1, location_of_h_2)\n",
    "            location_of_h = -1\n",
    "    \"\"\"\n",
    "    \n",
    "    words_after_h = temp.split()[location_of_h+1:]\n",
    "    try:\n",
    "        location_of_n = words_after_h.index('n')\n",
    "        intersection_n_street1 = ' '.join(words_after_h[0:location_of_n])\n",
    "        intersection_n_street2 = ' '.join(words_after_h[location_of_n+1:])\n",
    "\n",
    "        intersections_n_1.append(intersection_n_street1)\n",
    "        intersections_n_2.append(intersection_n_street2)\n",
    "    except:\n",
    "        intersections_n_1.append('')\n",
    "        intersections_n_2.append('')\n",
    "    \n",
    "    try:\n",
    "        location_of_c = words_after_h.index('c')\n",
    "        intersection_c_street1 = ' '.join(words_after_h[0:location_of_c])\n",
    "        intersection_c_street2 = ' '.join(words_after_h[location_of_c+1:])\n",
    "\n",
    "        intersections_c_1.append(intersection_c_street1)\n",
    "        intersections_c_2.append(intersection_c_street2)\n",
    "    except:\n",
    "        intersections_c_1.append('')\n",
    "        intersections_c_2.append('')\n",
    "    \n",
    "    modified_clean_address4.append(temp)"
   ]
  },
  {
   "cell_type": "code",
   "execution_count": 2032,
   "metadata": {},
   "outputs": [],
   "source": [
    "#for i in range(0,len(intersections_c_1)):\n",
    "    #print(i, intersections_c_1[i] + ' and ' + intersections_c_2[i])"
   ]
  },
  {
   "cell_type": "code",
   "execution_count": 2033,
   "metadata": {
    "scrolled": true
   },
   "outputs": [],
   "source": [
    "for i in range(0,len(modified_clean_address4)):\n",
    "    if modified_clean_address4[i].find(\".h\") >= 0:\n",
    "        print(i, modified_clean_address4[i])"
   ]
  },
  {
   "cell_type": "code",
   "execution_count": 2034,
   "metadata": {
    "scrolled": true
   },
   "outputs": [],
   "source": [
    "#for i in range(0,len(modified_clean_address)):\n",
    "    #if modified_clean_address[i].find(\" n \") >0:\n",
    "        #print(i, modified_clean_address[i])"
   ]
  },
  {
   "cell_type": "code",
   "execution_count": 2035,
   "metadata": {},
   "outputs": [],
   "source": [
    "df['modified_clean_address'] = modified_clean_address4"
   ]
  },
  {
   "cell_type": "code",
   "execution_count": 2036,
   "metadata": {},
   "outputs": [],
   "source": [
    "df['n_street1'] = intersections_n_1\n",
    "df['n_street2'] = intersections_n_2\n",
    "df['c_street1'] = intersections_c_1\n",
    "df['c_street2'] = intersections_c_2"
   ]
  },
  {
   "cell_type": "code",
   "execution_count": 2037,
   "metadata": {},
   "outputs": [],
   "source": [
    "#df.head()"
   ]
  },
  {
   "cell_type": "code",
   "execution_count": 2038,
   "metadata": {},
   "outputs": [],
   "source": [
    "#df.to_excel('doubt/not so confident2.xlsx')"
   ]
  },
  {
   "cell_type": "code",
   "execution_count": null,
   "metadata": {},
   "outputs": [],
   "source": []
  },
  {
   "cell_type": "code",
   "execution_count": null,
   "metadata": {},
   "outputs": [],
   "source": []
  },
  {
   "cell_type": "code",
   "execution_count": null,
   "metadata": {},
   "outputs": [],
   "source": []
  },
  {
   "cell_type": "code",
   "execution_count": 2039,
   "metadata": {
    "scrolled": true
   },
   "outputs": [],
   "source": [
    "df_modified_addresses = pd.DataFrame(modified_clean_address4, columns=['clean address'])"
   ]
  },
  {
   "cell_type": "code",
   "execution_count": 2040,
   "metadata": {
    "scrolled": true
   },
   "outputs": [],
   "source": [
    "#pd.DataFrame(modified_clean_address2).to_csv('doubt/doubt2.txt', header=None,  sep=' ', mode='a')"
   ]
  },
  {
   "cell_type": "code",
   "execution_count": 2041,
   "metadata": {
    "scrolled": true
   },
   "outputs": [],
   "source": [
    "temp_addr = []\n",
    "for i in range(0,len(df_modified_addresses)):\n",
    "    temp_addr.append(str(i)+\" \"+df_modified_addresses['clean address'][i])\n",
    "#np.savetxt('doubt/not so confident addr.txt', temp_addr, fmt='%s')\n"
   ]
  },
  {
   "cell_type": "code",
   "execution_count": 2042,
   "metadata": {},
   "outputs": [],
   "source": [
    "#np.savetxt('doubt/not so confident addr.txt', temp_addr, fmt='%s')\n"
   ]
  },
  {
   "cell_type": "code",
   "execution_count": 2043,
   "metadata": {},
   "outputs": [],
   "source": [
    "#df.head()"
   ]
  },
  {
   "cell_type": "code",
   "execution_count": 2044,
   "metadata": {},
   "outputs": [],
   "source": [
    "#df.columns"
   ]
  },
  {
   "cell_type": "code",
   "execution_count": 2045,
   "metadata": {},
   "outputs": [],
   "source": [
    "#df.head()"
   ]
  },
  {
   "cell_type": "code",
   "execution_count": 2046,
   "metadata": {
    "scrolled": true
   },
   "outputs": [],
   "source": [
    "df['n_street1'] = df['n_street1'].replace('',np.nan)\n",
    "df['n_street2'] = df['n_street2'].replace('',np.nan)\n",
    "df['c_street1'] = df['c_street1'].replace('',np.nan)\n",
    "df['c_street2'] = df['c_street2'].replace('',np.nan)"
   ]
  },
  {
   "cell_type": "code",
   "execution_count": 2047,
   "metadata": {
    "scrolled": true
   },
   "outputs": [],
   "source": [
    "df['filter11'] = np.where(df['n_street1'].isna() & df['n_street2'].isna() & df['c_street1'].isna() & df['c_street2'].isna() & df['new h house number'].isna() & df['new h street name'].isna(), 1, 0)\n",
    "\n",
    "\n"
   ]
  },
  {
   "cell_type": "code",
   "execution_count": 2048,
   "metadata": {
    "scrolled": true
   },
   "outputs": [],
   "source": [
    "df_filter11 = df.loc[df['filter11'] == 1]\n",
    "df_filter11 = df_filter11.reset_index()"
   ]
  },
  {
   "cell_type": "code",
   "execution_count": null,
   "metadata": {
    "scrolled": true
   },
   "outputs": [],
   "source": []
  },
  {
   "cell_type": "code",
   "execution_count": 2049,
   "metadata": {
    "scrolled": true
   },
   "outputs": [],
   "source": [
    "#df_filter11['modified_clean_address']"
   ]
  },
  {
   "cell_type": "code",
   "execution_count": 2050,
   "metadata": {
    "scrolled": true
   },
   "outputs": [],
   "source": [
    "modified_clean_address5 = []\n",
    "for i in range(0,len(df_filter11)):\n",
    "    temp = df_filter11['modified_clean_address'][i]\n",
    "    \n",
    "    string_with_S = re.findall(r'[0-9]+S', temp)\n",
    "    for i in range (0, len(string_with_S)):\n",
    "        temp = temp.replace(string_with_S[i], string_with_S[i].replace('S','5'))\n",
    "    modified_clean_address5.append(temp)   "
   ]
  },
  {
   "cell_type": "code",
   "execution_count": 2051,
   "metadata": {},
   "outputs": [],
   "source": [
    "#for i in range(0,len(modified_clean_address5)):\n",
    "    #print(i, modified_clean_address5[i])"
   ]
  },
  {
   "cell_type": "code",
   "execution_count": 2052,
   "metadata": {},
   "outputs": [],
   "source": [
    "#for i in range(0,len(modified_clean_address5)):\n",
    "    #if modified_clean_address5[i].find(\"h. \") <0:\n",
    "        #print(i, modified_clean_address5[i])"
   ]
  },
  {
   "cell_type": "code",
   "execution_count": 2053,
   "metadata": {},
   "outputs": [
    {
     "data": {
      "text/plain": [
       "10                     h Third av. n 170\n",
       "11                        h Av. A c E 58\n",
       "12                    h Ninth av. n W 91\n",
       "13    96 Beekman, h. Madison av. n E 122\n",
       "14                     h Third av. n 170\n",
       "15                        h 18C Broadway\n",
       "Name: modified_clean_address, dtype: object"
      ]
     },
     "execution_count": 2053,
     "metadata": {},
     "output_type": "execute_result"
    }
   ],
   "source": [
    "df['modified_clean_address'][10:16]"
   ]
  },
  {
   "cell_type": "code",
   "execution_count": 2054,
   "metadata": {},
   "outputs": [],
   "source": [
    "df['modified_clean_address'] = df['modified_clean_address'].str.replace('rearear','rear')\n",
    "df['modified_clean_address'] = df['modified_clean_address'].str.replace('rearefused','refused')\n",
    "df['modified_clean_address'] = df['modified_clean_address'].str.replace('h. r ','h. rear ')"
   ]
  },
  {
   "cell_type": "code",
   "execution_count": 2055,
   "metadata": {},
   "outputs": [],
   "source": [
    "df.to_excel('doubt/not so confident6.xlsx')"
   ]
  },
  {
   "cell_type": "code",
   "execution_count": null,
   "metadata": {},
   "outputs": [],
   "source": []
  }
 ],
 "metadata": {
  "kernelspec": {
   "display_name": "Python 3",
   "language": "python",
   "name": "python3"
  },
  "language_info": {
   "codemirror_mode": {
    "name": "ipython",
    "version": 3
   },
   "file_extension": ".py",
   "mimetype": "text/x-python",
   "name": "python",
   "nbconvert_exporter": "python",
   "pygments_lexer": "ipython3",
   "version": "3.7.3"
  }
 },
 "nbformat": 4,
 "nbformat_minor": 2
}
