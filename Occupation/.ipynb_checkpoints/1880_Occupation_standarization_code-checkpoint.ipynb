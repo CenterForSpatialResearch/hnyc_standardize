{
 "cells": [
  {
   "cell_type": "code",
   "execution_count": null,
   "metadata": {
    "colab": {
     "base_uri": "https://localhost:8080/",
     "height": 70
    },
    "colab_type": "code",
    "id": "kfMQCWKNw282",
    "outputId": "ca2c77c0-7555-41bf-b277-818accaacb5c"
   },
   "outputs": [
    {
     "name": "stderr",
     "output_type": "stream",
     "text": [
      "/usr/local/lib/python3.6/dist-packages/statsmodels/tools/_testing.py:19: FutureWarning: pandas.util.testing is deprecated. Use the functions in the public API at pandas.testing instead.\n",
      "  import pandas.util.testing as tm\n"
     ]
    }
   ],
   "source": [
    "# Load libraries\n",
    "import missingno as msno \n",
    "import re\n",
    "import pickle\n",
    "import pandas as pd\n",
    "import numpy as np\n",
    "\n",
    "import sys\n",
    "np.set_printoptions(threshold=sys.maxsize)"
   ]
  },
  {
   "cell_type": "code",
   "execution_count": null,
   "metadata": {
    "colab": {},
    "colab_type": "code",
    "id": "ykJI7eSZw53n"
   },
   "outputs": [],
   "source": [
    "# Load Data\n",
    "  \n",
    "with open('/content/final_output.pkl', 'rb') as f:\n",
    "    output_1880 = pickle.load(f)\n",
    "# Replace empty strings with NaN values\n",
    "output_1880.replace('', np.nan, inplace=True)\n",
    "\n",
    "output_1850_bk = pd.read_csv(\"/content/output_1850_bk.csv\", index_col=0)\n",
    "output_1850_mn = pd.read_csv(\"/content/output_1850_mn.csv\", index_col=0)\n"
   ]
  },
  {
   "cell_type": "markdown",
   "metadata": {
    "colab_type": "text",
    "id": "57DrUL3MZVPU"
   },
   "source": [
    "Clean widow flags"
   ]
  },
  {
   "cell_type": "code",
   "execution_count": null,
   "metadata": {
    "colab": {
     "base_uri": "https://localhost:8080/",
     "height": 86
    },
    "colab_type": "code",
    "id": "UyfOcn1BZesr",
    "outputId": "5cb4ab91-32a6-4e10-8abe-21eed7c341ae"
   },
   "outputs": [
    {
     "name": "stderr",
     "output_type": "stream",
     "text": [
      "/usr/local/lib/python3.6/dist-packages/pandas/core/ops/array_ops.py:253: FutureWarning: elementwise comparison failed; returning scalar instead, but in the future will perform elementwise comparison\n",
      "  res_values = method(rvalues)\n"
     ]
    },
    {
     "data": {
      "text/plain": [
       "0"
      ]
     },
     "execution_count": 5,
     "metadata": {
      "tags": []
     },
     "output_type": "execute_result"
    }
   ],
   "source": [
    "len(output_1850_mn.loc[(output_1850_mn['Widow-flag'] == 'False')  &  (output_1850_mn['Full Address'].str.startswith('widow'))])"
   ]
  },
  {
   "cell_type": "markdown",
   "metadata": {
    "colab_type": "text",
    "id": "VRIrxYQ4sypZ"
   },
   "source": [
    "1880 cd"
   ]
  },
  {
   "cell_type": "code",
   "execution_count": null,
   "metadata": {
    "colab": {
     "base_uri": "https://localhost:8080/",
     "height": 33
    },
    "colab_type": "code",
    "id": "PelwYOSWs1Ao",
    "outputId": "2cb324d2-f0ef-4f3f-8b7c-af68218a73ac"
   },
   "outputs": [
    {
     "data": {
      "text/plain": [
       "4"
      ]
     },
     "execution_count": 6,
     "metadata": {
      "tags": []
     },
     "output_type": "execute_result"
    }
   ],
   "source": [
    "# widow flag = true if full address contains widow word and widow flag was false\n",
    "len(output_1880.loc[(output_1880['Widow-flag'] == 'False')  &  (output_1880['Full Address'].str.startswith('widow'))])"
   ]
  },
  {
   "cell_type": "code",
   "execution_count": null,
   "metadata": {
    "colab": {
     "base_uri": "https://localhost:8080/",
     "height": 98
    },
    "colab_type": "code",
    "id": "w6MaHNmrtFSn",
    "outputId": "f0918476-e8d5-476f-df5d-7e9f2ab56db3"
   },
   "outputs": [
    {
     "name": "stdout",
     "output_type": "stream",
     "text": [
      "65722                widow h 348 E. 33d\n",
      "89062                widow h 340 E. 33d\n",
      "91135               widow h 405 E. 71st\n",
      "139014    widow (refused) h 443 W. 37th\n",
      "Name: Full Address, dtype: object\n"
     ]
    }
   ],
   "source": [
    "print(output_1880.loc[(output_1880['Widow-flag'] == 'False')  &  (output_1880['Full Address'].str.startswith('widow')), 'Full Address'])\n",
    "output_1880.loc[(output_1880['Widow-flag'] == 'False')  &  (output_1880['Full Address'].str.startswith('widow')), 'Widow-flag'] = 'True'\n",
    "output_1880['Full Address'] = output_1880['Full Address'].str.replace('widow ','')"
   ]
  },
  {
   "cell_type": "code",
   "execution_count": null,
   "metadata": {
    "colab": {
     "base_uri": "https://localhost:8080/",
     "height": 33
    },
    "colab_type": "code",
    "id": "uhrj2-yhtdem",
    "outputId": "3c831a2c-1ca8-45ea-d730-a221bfcc4a72"
   },
   "outputs": [
    {
     "data": {
      "text/plain": [
       "0"
      ]
     },
     "execution_count": 9,
     "metadata": {
      "tags": []
     },
     "output_type": "execute_result"
    }
   ],
   "source": [
    "# widow flag = true if full address contains widow word and widow flag was false\n",
    "len(output_1880.loc[(output_1880['Widow-flag'] == 'False')  &  (output_1880['Full Address'].str.startswith('widow'))])"
   ]
  },
  {
   "cell_type": "markdown",
   "metadata": {
    "colab_type": "text",
    "id": "Tt9No4DRvwsc"
   },
   "source": [
    "combine occupations from all the three files\n",
    "\n",
    "Keep the occupations which are atleast 3 letter words to avoid unnecessary errors"
   ]
  },
  {
   "cell_type": "code",
   "execution_count": null,
   "metadata": {
    "colab": {},
    "colab_type": "code",
    "id": "acN_zZvjw_JN"
   },
   "outputs": [],
   "source": [
    "# non null values\n",
    "output_1850_bk['Occupation'] = output_1850_bk['Occupation'].str.replace(')','')\n",
    "output_1850_mn['Occupation'] = output_1850_mn['Occupation'].str.replace(')','')\n",
    "output_1880['Occupation'] = output_1880['Occupation'].str.replace(')','')\n",
    "\n",
    "output_1850_bk['Occupation'] = output_1850_bk['Occupation'].str.replace('.','')\n",
    "output_1850_mn['Occupation'] = output_1850_mn['Occupation'].str.replace('.','')\n",
    "output_1880['Occupation'] = output_1880['Occupation'].str.replace('.','')\n",
    "\n",
    "output_1850_bk['Occupation'] = output_1850_bk['Occupation'].str.replace(',','')\n",
    "output_1850_mn['Occupation'] = output_1850_mn['Occupation'].str.replace(',','')\n",
    "output_1880['Occupation'] = output_1880['Occupation'].str.replace(',','')\n",
    "\n",
    "x = output_1850_bk.loc[output_1850_bk['Occupation'].notnull(), ['Occupation']]\n",
    "x = x.append(output_1850_mn.loc[output_1850_mn['Occupation'].notnull(), ['Occupation']])\n",
    "x = x.append(output_1880.loc[output_1880['Occupation'].notnull(), ['Occupation']])\n",
    "\n",
    "x = x[~(x.Occupation.str.len() < 4)]\n",
    "x['Occupation'] = x['Occupation'].str.lower()"
   ]
  },
  {
   "cell_type": "markdown",
   "metadata": {
    "colab_type": "text",
    "id": "EzQGKJ_PVmVX"
   },
   "source": [
    "Currently there are 14k occupations"
   ]
  },
  {
   "cell_type": "code",
   "execution_count": null,
   "metadata": {
    "colab": {
     "base_uri": "https://localhost:8080/",
     "height": 33
    },
    "colab_type": "code",
    "id": "xCy3DBd8kJPt",
    "outputId": "054da3b5-340e-4b85-b52a-df918bd57e08"
   },
   "outputs": [
    {
     "data": {
      "text/plain": [
       "14579"
      ]
     },
     "execution_count": 12,
     "metadata": {
      "tags": []
     },
     "output_type": "execute_result"
    }
   ],
   "source": [
    "len(x.Occupation.unique())\n",
    "#len(x)"
   ]
  },
  {
   "cell_type": "markdown",
   "metadata": {
    "colab_type": "text",
    "id": "bzBr5rJl0t4p"
   },
   "source": [
    "find rows where occupation is null"
   ]
  },
  {
   "cell_type": "code",
   "execution_count": null,
   "metadata": {
    "colab": {
     "base_uri": "https://localhost:8080/",
     "height": 407
    },
    "colab_type": "code",
    "id": "p9EEo6k7zpI0",
    "outputId": "3892aaa0-c050-455c-da0d-cbcfbd98c682"
   },
   "outputs": [
    {
     "name": "stdout",
     "output_type": "stream",
     "text": [
      "40239\n"
     ]
    },
    {
     "data": {
      "text/html": [
       "<div>\n",
       "<style scoped>\n",
       "    .dataframe tbody tr th:only-of-type {\n",
       "        vertical-align: middle;\n",
       "    }\n",
       "\n",
       "    .dataframe tbody tr th {\n",
       "        vertical-align: top;\n",
       "    }\n",
       "\n",
       "    .dataframe thead th {\n",
       "        text-align: right;\n",
       "    }\n",
       "</style>\n",
       "<table border=\"1\" class=\"dataframe\">\n",
       "  <thead>\n",
       "    <tr style=\"text-align: right;\">\n",
       "      <th></th>\n",
       "      <th>Full Address</th>\n",
       "    </tr>\n",
       "  </thead>\n",
       "  <tbody>\n",
       "    <tr>\n",
       "      <th>8</th>\n",
       "      <td>h r 10 Dominick</td>\n",
       "    </tr>\n",
       "    <tr>\n",
       "      <th>11</th>\n",
       "      <td>h 241 W  53d</td>\n",
       "    </tr>\n",
       "    <tr>\n",
       "      <th>30</th>\n",
       "      <td>h 956 Second av</td>\n",
       "    </tr>\n",
       "    <tr>\n",
       "      <th>31</th>\n",
       "      <td>h 258 W  44th</td>\n",
       "    </tr>\n",
       "    <tr>\n",
       "      <th>68</th>\n",
       "      <td>h 148 Lud-</td>\n",
       "    </tr>\n",
       "    <tr>\n",
       "      <th>...</th>\n",
       "      <td>...</td>\n",
       "    </tr>\n",
       "    <tr>\n",
       "      <th>273053</th>\n",
       "      <td>h 512 E  119th</td>\n",
       "    </tr>\n",
       "    <tr>\n",
       "      <th>273065</th>\n",
       "      <td>h 264 Elizabeth</td>\n",
       "    </tr>\n",
       "    <tr>\n",
       "      <th>273068</th>\n",
       "      <td>h 139 W  22d</td>\n",
       "    </tr>\n",
       "    <tr>\n",
       "      <th>273070</th>\n",
       "      <td>h 32E  20th</td>\n",
       "    </tr>\n",
       "    <tr>\n",
       "      <th>273081</th>\n",
       "      <td>h 166 E  34th</td>\n",
       "    </tr>\n",
       "  </tbody>\n",
       "</table>\n",
       "<p>39874 rows × 1 columns</p>\n",
       "</div>"
      ],
      "text/plain": [
       "            Full Address\n",
       "8        h r 10 Dominick\n",
       "11          h 241 W  53d\n",
       "30      h 956 Second av \n",
       "31         h 258 W  44th\n",
       "68            h 148 Lud-\n",
       "...                  ...\n",
       "273053    h 512 E  119th\n",
       "273065   h 264 Elizabeth\n",
       "273068      h 139 W  22d\n",
       "273070       h 32E  20th\n",
       "273081     h 166 E  34th\n",
       "\n",
       "[39874 rows x 1 columns]"
      ]
     },
     "execution_count": 13,
     "metadata": {
      "tags": []
     },
     "output_type": "execute_result"
    }
   ],
   "source": [
    "# rows where occupation is null\n",
    "y = output_1880.loc[(output_1880['Occupation'].isnull()) & (output_1880['Full Address'].notnull()), ['Full Address']]\n",
    "y['Full Address'] = y['Full Address'].str.replace('.',' ')\n",
    "# 39k nulls\n",
    "\n",
    "print(len(y))\n",
    "\n",
    "# keep records where address has more than one word\n",
    "for i in range(len(y)):\n",
    "  if (len(y['Full Address'][i].split()))<2:\n",
    "    y['Full Address'][i] = None\n",
    "\n",
    "y = y.loc[y['Full Address'].notnull(), ['Full Address']]\n",
    "y"
   ]
  },
  {
   "cell_type": "code",
   "execution_count": null,
   "metadata": {
    "colab": {},
    "colab_type": "code",
    "id": "EhGIVvsNmCBa"
   },
   "outputs": [],
   "source": [
    "# we need o find there are any matches within 7683 full adress"
   ]
  },
  {
   "cell_type": "markdown",
   "metadata": {
    "colab_type": "text",
    "id": "8Rqg9PjzWOHg"
   },
   "source": [
    "Find if there is an exact match for occupations as substring in the address column"
   ]
  },
  {
   "cell_type": "code",
   "execution_count": null,
   "metadata": {
    "colab": {
     "base_uri": "https://localhost:8080/",
     "height": 33
    },
    "colab_type": "code",
    "id": "gkHuY01H4zmX",
    "outputId": "6528a209-5192-4885-a012-711c39f9927b"
   },
   "outputs": [
    {
     "data": {
      "text/plain": [
       "4498"
      ]
     },
     "execution_count": 14,
     "metadata": {
      "tags": []
     },
     "output_type": "execute_result"
    }
   ],
   "source": [
    "z = y['Full Address'].str.extract('(%s)' % '|'.join([re.escape(x) for x in x.Occupation.unique()]))\n",
    "z.columns = ['occupation']\n",
    "z = z.loc[z['occupation'].notnull(), ['occupation']]\n",
    "len(z)"
   ]
  },
  {
   "cell_type": "code",
   "execution_count": null,
   "metadata": {
    "colab": {},
    "colab_type": "code",
    "id": "Oa6CG4ghUyjo"
   },
   "outputs": [],
   "source": [
    "#z.loc[(z.occupation == 'hotel') | (z.occupation == 'boarding house') | (z.occupation == 'foot of' ) | (z.occupation == 'market' ) | (z.occupation == 'office' ) | (z.occupation == 'coffee' ) | (z.occupation == 'select school'), 'occupation'] = None\n",
    "#z.loc[(z.occupation == 'stone yard') | (z.occupation == 'railroad') | (z.occupation == 'express' ), 'occupation'] = None\n",
    "\n",
    "z.loc[(z.occupation == 'purser'), 'occupation'] = \"purser's clerk\"\n",
    "z.loc[(z.occupation == 'sheet iron worker'), 'occupation'] = \"tin and sheet iron worker  \"\n"
   ]
  },
  {
   "cell_type": "code",
   "execution_count": null,
   "metadata": {
    "colab": {
     "base_uri": "https://localhost:8080/",
     "height": 33
    },
    "colab_type": "code",
    "id": "2cHgvjXLVtEW",
    "outputId": "1bccda21-dc53-443b-f198-71fd70100681"
   },
   "outputs": [
    {
     "data": {
      "text/plain": [
       "4498"
      ]
     },
     "execution_count": 16,
     "metadata": {
      "tags": []
     },
     "output_type": "execute_result"
    }
   ],
   "source": [
    "z = z.loc[z['occupation'].notnull(), ['occupation']]\n",
    "len(z)"
   ]
  },
  {
   "cell_type": "code",
   "execution_count": null,
   "metadata": {
    "colab": {
     "base_uri": "https://localhost:8080/",
     "height": 33
    },
    "colab_type": "code",
    "id": "04q3L-2cSMNw",
    "outputId": "11c6c355-d94a-4a8e-cd47-7cc5264cf7bb"
   },
   "outputs": [
    {
     "data": {
      "text/plain": [
       "410"
      ]
     },
     "execution_count": 17,
     "metadata": {
      "tags": []
     },
     "output_type": "execute_result"
    }
   ],
   "source": [
    "len(z.occupation.unique())"
   ]
  },
  {
   "cell_type": "markdown",
   "metadata": {
    "colab_type": "text",
    "id": "ARAVLqh3uCcu"
   },
   "source": [
    "A total of 4k records found a match for occupations in their addresses"
   ]
  },
  {
   "cell_type": "code",
   "execution_count": null,
   "metadata": {
    "colab": {},
    "colab_type": "code",
    "id": "0DOImkrRG-5z"
   },
   "outputs": [],
   "source": [
    "#output_1850_bk = output_1850_bk.drop(['occupation'], axis=1)\n",
    "output_1880 = output_1880.join(z)"
   ]
  },
  {
   "cell_type": "code",
   "execution_count": null,
   "metadata": {
    "colab": {},
    "colab_type": "code",
    "id": "pqMrhqKXTi-f"
   },
   "outputs": [],
   "source": [
    "output_1880['len_occ']=0\n",
    "output_1880.loc[(output_1880['occupation'].notnull()),'len_occ'] = output_1880.loc[(output_1880['occupation'].notnull()),'occupation'].str.len()\n"
   ]
  },
  {
   "cell_type": "markdown",
   "metadata": {
    "colab_type": "text",
    "id": "5ih80bRhWfx2"
   },
   "source": [
    "Assumption is that the address will start with occupation in case the occupation column is null, so match the found occupation substring with the starting words in the address columns"
   ]
  },
  {
   "cell_type": "code",
   "execution_count": null,
   "metadata": {
    "colab": {},
    "colab_type": "code",
    "id": "3gR_l1Db2Cwh"
   },
   "outputs": [],
   "source": [
    "#z.loc[z['Full Address'].notnull(), 'Full Address'].str[0:z.iloc[z['len_occ']]]\n",
    "\n",
    "output_1880['Old_Occupation_info'] = output_1880['Occupation']\n",
    "output_1880['add_sub_match'] = '0'\n",
    "output_1880['new_occ_found'] = 'False'\n",
    "\n",
    "for i in range(len(output_1880)):\n",
    "  output_1880['add_sub_match'][i] = str(output_1880.iloc[i]['Full Address'])[0:output_1880.iloc[i][\"len_occ\"]]\n",
    "\n",
    "  if ((output_1880['occupation'][i] == output_1880['add_sub_match'][i])):\n",
    "    output_1880['new_occ_found'][i] = 'True'\n",
    "\n",
    "    if (len(output_1880['Full Address'][i].split(',')) > 1):\n",
    "      output_1880['Occupation'][i] = output_1880['Full Address'][i].split(',')[0]\n",
    "    else:\n",
    "      output_1880['Occupation'][i] = output_1880['occupation'][i]\n",
    "\n",
    "\n",
    "  if ((output_1880['new_occ_found'][i] == 'False') & (str(output_1880['Full Address'][i]).startswith('mer'))):\n",
    "    output_1880['new_occ_found'][i] = 'True'\n",
    "    output_1880['Occupation'][i] = 'merchant'\n",
    "\n"
   ]
  },
  {
   "cell_type": "markdown",
   "metadata": {
    "colab_type": "text",
    "id": "6Xp-_huVWxte"
   },
   "source": [
    "Mark the occupation found column as assume if there are still matches in the previous step but the address column doesnot start with the matched occupation"
   ]
  },
  {
   "cell_type": "code",
   "execution_count": null,
   "metadata": {
    "colab": {},
    "colab_type": "code",
    "id": "H071N9usR7Nd"
   },
   "outputs": [],
   "source": [
    "for i in range(len(output_1880)):\n",
    "  if ((output_1880['new_occ_found'][i] == 'False') & (str(output_1880.iloc[i]['occupation']) != 'nan')):\n",
    "    output_1880['new_occ_found'][i] = 'assume'\n",
    "    output_1880['Occupation'][i] = output_1880['occupation'][i]\n"
   ]
  },
  {
   "cell_type": "code",
   "execution_count": null,
   "metadata": {
    "colab": {
     "base_uri": "https://localhost:8080/",
     "height": 503
    },
    "colab_type": "code",
    "id": "0igBYFcvbFQ_",
    "outputId": "01cd7a58-33ae-4f51-9875-660607f542d1"
   },
   "outputs": [
    {
     "name": "stdout",
     "output_type": "stream",
     "text": [
      "967\n"
     ]
    },
    {
     "data": {
      "text/html": [
       "<div>\n",
       "<style scoped>\n",
       "    .dataframe tbody tr th:only-of-type {\n",
       "        vertical-align: middle;\n",
       "    }\n",
       "\n",
       "    .dataframe tbody tr th {\n",
       "        vertical-align: top;\n",
       "    }\n",
       "\n",
       "    .dataframe thead th {\n",
       "        text-align: right;\n",
       "    }\n",
       "</style>\n",
       "<table border=\"1\" class=\"dataframe\">\n",
       "  <thead>\n",
       "    <tr style=\"text-align: right;\">\n",
       "      <th></th>\n",
       "      <th>Full Name</th>\n",
       "      <th>First Name</th>\n",
       "      <th>Last Name</th>\n",
       "      <th>Middle Name</th>\n",
       "      <th>Widow-flag</th>\n",
       "      <th>Widow Of</th>\n",
       "      <th>Title</th>\n",
       "      <th>Occupation</th>\n",
       "      <th>Full Address</th>\n",
       "      <th>H Status-flag</th>\n",
       "      <th>H Address</th>\n",
       "      <th>H House Number</th>\n",
       "      <th>H Street Name</th>\n",
       "      <th>H City</th>\n",
       "      <th>Address 2</th>\n",
       "      <th>Address 2 House Number</th>\n",
       "      <th>Address 2 Street Name</th>\n",
       "      <th>Address 2 City</th>\n",
       "      <th>Index</th>\n",
       "      <th>Full Entry</th>\n",
       "      <th>occupation</th>\n",
       "      <th>len_occ</th>\n",
       "      <th>Old_Occupation_info</th>\n",
       "      <th>add_sub_match</th>\n",
       "      <th>new_occ_found</th>\n",
       "    </tr>\n",
       "  </thead>\n",
       "  <tbody>\n",
       "    <tr>\n",
       "      <th>591</th>\n",
       "      <td>Ziegler Wm.H</td>\n",
       "      <td>Wm.H</td>\n",
       "      <td>Ziegler</td>\n",
       "      <td>NaN</td>\n",
       "      <td>False</td>\n",
       "      <td>NaN</td>\n",
       "      <td>NaN</td>\n",
       "      <td>coal</td>\n",
       "      <td>coal,1’11 B’way,h 24 First pl. B’klyn</td>\n",
       "      <td>Assume</td>\n",
       "      <td>coal,1’11 B’way,h 24 First pl. B’klyn</td>\n",
       "      <td>NaN</td>\n",
       "      <td>NaN</td>\n",
       "      <td>coal,1’11 B’way,h 24 First pl. B’klyn</td>\n",
       "      <td>NaN</td>\n",
       "      <td>NaN</td>\n",
       "      <td>NaN</td>\n",
       "      <td>NaN</td>\n",
       "      <td>591</td>\n",
       "      <td>Ziegler Wm.H. coal,1’11 B’way,h 24 First pl. B...</td>\n",
       "      <td>coal</td>\n",
       "      <td>4</td>\n",
       "      <td>NaN</td>\n",
       "      <td>coal</td>\n",
       "      <td>True</td>\n",
       "    </tr>\n",
       "    <tr>\n",
       "      <th>1013</th>\n",
       "      <td>Zabriskie John A</td>\n",
       "      <td>John</td>\n",
       "      <td>Zabriskie</td>\n",
       "      <td>A</td>\n",
       "      <td>False</td>\n",
       "      <td>NaN</td>\n",
       "      <td>NaN</td>\n",
       "      <td>clerk</td>\n",
       "      <td>clerk h 505 W. 23d</td>\n",
       "      <td>Assume</td>\n",
       "      <td>clerk h 505 W. 23d</td>\n",
       "      <td>NaN</td>\n",
       "      <td>NaN</td>\n",
       "      <td>clerk h 505 W. 23d</td>\n",
       "      <td>NaN</td>\n",
       "      <td>NaN</td>\n",
       "      <td>NaN</td>\n",
       "      <td>NaN</td>\n",
       "      <td>1013</td>\n",
       "      <td>Zabriskie John A. clerk h 505 W. 23d</td>\n",
       "      <td>clerk</td>\n",
       "      <td>5</td>\n",
       "      <td>NaN</td>\n",
       "      <td>clerk</td>\n",
       "      <td>True</td>\n",
       "    </tr>\n",
       "    <tr>\n",
       "      <th>1056</th>\n",
       "      <td>Zaerban Andrew</td>\n",
       "      <td>Andrew</td>\n",
       "      <td>Zaerban</td>\n",
       "      <td>NaN</td>\n",
       "      <td>False</td>\n",
       "      <td>NaN</td>\n",
       "      <td>NaN</td>\n",
       "      <td>silk</td>\n",
       "      <td>silk,457 Broome,h 1410 Sixth av.</td>\n",
       "      <td>Assume</td>\n",
       "      <td>silk,457 Broome,h 1410 Sixth av.</td>\n",
       "      <td>NaN</td>\n",
       "      <td>NaN</td>\n",
       "      <td>silk,457 Broome,h 1410 Sixth av.</td>\n",
       "      <td>NaN</td>\n",
       "      <td>NaN</td>\n",
       "      <td>NaN</td>\n",
       "      <td>NaN</td>\n",
       "      <td>1056</td>\n",
       "      <td>Zaerban Andrew, silk,457 Broome,h 1410 Sixth av.</td>\n",
       "      <td>silk</td>\n",
       "      <td>4</td>\n",
       "      <td>NaN</td>\n",
       "      <td>silk</td>\n",
       "      <td>True</td>\n",
       "    </tr>\n",
       "    <tr>\n",
       "      <th>1266</th>\n",
       "      <td>Young William &amp; Brother</td>\n",
       "      <td>NaN</td>\n",
       "      <td>NaN</td>\n",
       "      <td>NaN</td>\n",
       "      <td>False</td>\n",
       "      <td>NaN</td>\n",
       "      <td>NaN</td>\n",
       "      <td>plumbers</td>\n",
       "      <td>plumbers,1022 Third av.</td>\n",
       "      <td>Assume</td>\n",
       "      <td>plumbers,1022 Third av.</td>\n",
       "      <td>NaN</td>\n",
       "      <td>NaN</td>\n",
       "      <td>plumbers,1022 Third av.</td>\n",
       "      <td>NaN</td>\n",
       "      <td>NaN</td>\n",
       "      <td>NaN</td>\n",
       "      <td>NaN</td>\n",
       "      <td>1266</td>\n",
       "      <td>Young William &amp; Brother, plumbers,1022 Third av.</td>\n",
       "      <td>plumber</td>\n",
       "      <td>7</td>\n",
       "      <td>NaN</td>\n",
       "      <td>plumber</td>\n",
       "      <td>True</td>\n",
       "    </tr>\n",
       "    <tr>\n",
       "      <th>1351</th>\n",
       "      <td>Young George H</td>\n",
       "      <td>George</td>\n",
       "      <td>Young</td>\n",
       "      <td>H</td>\n",
       "      <td>False</td>\n",
       "      <td>NaN</td>\n",
       "      <td>NaN</td>\n",
       "      <td>lawyer</td>\n",
       "      <td>lawyer h 260 Rivington</td>\n",
       "      <td>Assume</td>\n",
       "      <td>lawyer h 260 Rivington</td>\n",
       "      <td>NaN</td>\n",
       "      <td>NaN</td>\n",
       "      <td>lawyer h 260 Rivington</td>\n",
       "      <td>NaN</td>\n",
       "      <td>NaN</td>\n",
       "      <td>NaN</td>\n",
       "      <td>NaN</td>\n",
       "      <td>1351</td>\n",
       "      <td>Young George H. lawyer h 260 Rivington</td>\n",
       "      <td>lawyer</td>\n",
       "      <td>6</td>\n",
       "      <td>NaN</td>\n",
       "      <td>lawyer</td>\n",
       "      <td>True</td>\n",
       "    </tr>\n",
       "  </tbody>\n",
       "</table>\n",
       "</div>"
      ],
      "text/plain": [
       "                    Full Name First Name  ... add_sub_match new_occ_found\n",
       "591              Ziegler Wm.H       Wm.H  ...          coal          True\n",
       "1013         Zabriskie John A       John  ...         clerk          True\n",
       "1056           Zaerban Andrew     Andrew  ...          silk          True\n",
       "1266  Young William & Brother        NaN  ...       plumber          True\n",
       "1351           Young George H     George  ...        lawyer          True\n",
       "\n",
       "[5 rows x 25 columns]"
      ]
     },
     "execution_count": 22,
     "metadata": {
      "tags": []
     },
     "output_type": "execute_result"
    }
   ],
   "source": [
    "print(len(output_1880.loc[(output_1880['new_occ_found'] == 'True')]))\n",
    "\n",
    "output_1880.loc[(output_1880['new_occ_found'] == 'True')].head()"
   ]
  },
  {
   "cell_type": "code",
   "execution_count": null,
   "metadata": {
    "colab": {
     "base_uri": "https://localhost:8080/",
     "height": 33
    },
    "colab_type": "code",
    "id": "hz0i9wcKgqxN",
    "outputId": "f91d2c02-6a61-4762-9c1e-5325f22ec581"
   },
   "outputs": [
    {
     "name": "stdout",
     "output_type": "stream",
     "text": [
      "3539\n"
     ]
    }
   ],
   "source": [
    "print(len(output_1880.loc[(output_1880['new_occ_found'] == 'assume')]))\n"
   ]
  },
  {
   "cell_type": "markdown",
   "metadata": {
    "colab_type": "text",
    "id": "xvWgEf4uXAj6"
   },
   "source": [
    "try more fuzzy name match algorithms for remaining records"
   ]
  },
  {
   "cell_type": "code",
   "execution_count": null,
   "metadata": {
    "colab": {
     "base_uri": "https://localhost:8080/",
     "height": 33
    },
    "colab_type": "code",
    "id": "inNuZnrhiY-i",
    "outputId": "df82d495-1a24-48c0-da9e-6afb09f6de4d"
   },
   "outputs": [
    {
     "name": "stdout",
     "output_type": "stream",
     "text": [
      "Requirement already satisfied: fuzzywuzzy in /usr/local/lib/python3.6/dist-packages (0.18.0)\n"
     ]
    }
   ],
   "source": [
    "# try more fuzzy  name match algorithms\n",
    "\n",
    "uni_occ = x.Occupation.unique()\n",
    "\n",
    "import pandas as pd\n",
    "!pip install fuzzywuzzy\n",
    "from fuzzywuzzy import process, fuzz\n",
    "\n",
    "def find_match(x):\n",
    "\n",
    "    match = process.extract(x, uni_occ, scorer=fuzz.WRatio, limit=1)\n",
    "    return pd.Series([match[0][0], match[0][1]])\n",
    "\n"
   ]
  },
  {
   "cell_type": "code",
   "execution_count": null,
   "metadata": {
    "colab": {
     "base_uri": "https://localhost:8080/",
     "height": 33
    },
    "colab_type": "code",
    "id": "bPxeNz3pwea7",
    "outputId": "f247431d-691a-489f-995d-557ae3d01100"
   },
   "outputs": [
    {
     "data": {
      "text/plain": [
       "14458"
      ]
     },
     "execution_count": 29,
     "metadata": {
      "tags": []
     },
     "output_type": "execute_result"
    }
   ],
   "source": [
    "len(uni_occ)"
   ]
  },
  {
   "cell_type": "markdown",
   "metadata": {
    "colab_type": "text",
    "id": "MovZr1k5lgi4"
   },
   "source": [
    "subset those records which not recognized by substring matching (7196 out of 7683)"
   ]
  },
  {
   "cell_type": "code",
   "execution_count": null,
   "metadata": {
    "colab": {
     "base_uri": "https://localhost:8080/",
     "height": 438
    },
    "colab_type": "code",
    "id": "ufD-SJSMl6Wi",
    "outputId": "83414366-4334-45ce-a687-91329118562c"
   },
   "outputs": [
    {
     "name": "stdout",
     "output_type": "stream",
     "text": [
      "39284\n",
      "39874\n"
     ]
    },
    {
     "data": {
      "text/html": [
       "<div>\n",
       "<style scoped>\n",
       "    .dataframe tbody tr th:only-of-type {\n",
       "        vertical-align: middle;\n",
       "    }\n",
       "\n",
       "    .dataframe tbody tr th {\n",
       "        vertical-align: top;\n",
       "    }\n",
       "\n",
       "    .dataframe thead th {\n",
       "        text-align: right;\n",
       "    }\n",
       "</style>\n",
       "<table border=\"1\" class=\"dataframe\">\n",
       "  <thead>\n",
       "    <tr style=\"text-align: right;\">\n",
       "      <th></th>\n",
       "      <th>Full Address</th>\n",
       "    </tr>\n",
       "  </thead>\n",
       "  <tbody>\n",
       "    <tr>\n",
       "      <th>8</th>\n",
       "      <td>h r 10 Dominick</td>\n",
       "    </tr>\n",
       "    <tr>\n",
       "      <th>11</th>\n",
       "      <td>h 241 W  53d</td>\n",
       "    </tr>\n",
       "    <tr>\n",
       "      <th>30</th>\n",
       "      <td>h 956 Second av</td>\n",
       "    </tr>\n",
       "    <tr>\n",
       "      <th>31</th>\n",
       "      <td>h 258 W  44th</td>\n",
       "    </tr>\n",
       "    <tr>\n",
       "      <th>68</th>\n",
       "      <td>h 148 Lud-</td>\n",
       "    </tr>\n",
       "    <tr>\n",
       "      <th>...</th>\n",
       "      <td>...</td>\n",
       "    </tr>\n",
       "    <tr>\n",
       "      <th>273053</th>\n",
       "      <td>h 512 E  119th</td>\n",
       "    </tr>\n",
       "    <tr>\n",
       "      <th>273065</th>\n",
       "      <td>h 264 Elizabeth</td>\n",
       "    </tr>\n",
       "    <tr>\n",
       "      <th>273068</th>\n",
       "      <td>h 139 W  22d</td>\n",
       "    </tr>\n",
       "    <tr>\n",
       "      <th>273070</th>\n",
       "      <td>h 32E  20th</td>\n",
       "    </tr>\n",
       "    <tr>\n",
       "      <th>273081</th>\n",
       "      <td>h 166 E  34th</td>\n",
       "    </tr>\n",
       "  </tbody>\n",
       "</table>\n",
       "<p>38919 rows × 1 columns</p>\n",
       "</div>"
      ],
      "text/plain": [
       "            Full Address\n",
       "8        h r 10 Dominick\n",
       "11          h 241 W  53d\n",
       "30      h 956 Second av \n",
       "31         h 258 W  44th\n",
       "68            h 148 Lud-\n",
       "...                  ...\n",
       "273053    h 512 E  119th\n",
       "273065   h 264 Elizabeth\n",
       "273068      h 139 W  22d\n",
       "273070       h 32E  20th\n",
       "273081     h 166 E  34th\n",
       "\n",
       "[38919 rows x 1 columns]"
      ]
     },
     "execution_count": 30,
     "metadata": {
      "tags": []
     },
     "output_type": "execute_result"
    }
   ],
   "source": [
    "# rows where occupation is null\n",
    "nm_match_add = output_1880.loc[(output_1880['Old_Occupation_info'].isnull()) & (output_1880['new_occ_found'] != 'True') & (output_1880['Full Address'].notnull()), ['Full Address']]\n",
    "nm_match_add['Full Address'] = nm_match_add['Full Address'].str.replace('.',' ')\n",
    "# 39k nulls\n",
    "\n",
    "print(len(nm_match_add))\n",
    "print(len(y))\n",
    "\n",
    "\n",
    "# keep records where address has more than one word\n",
    "for i in range(len(nm_match_add)):\n",
    "  if (len(nm_match_add['Full Address'][i].split()))<2:\n",
    "    nm_match_add['Full Address'][i] = None\n",
    "\n",
    "nm_match_add = nm_match_add.loc[nm_match_add['Full Address'].notnull(), ['Full Address']]\n",
    "nm_match_add"
   ]
  },
  {
   "cell_type": "markdown",
   "metadata": {
    "colab_type": "text",
    "id": "Jelw7MSzlxD0"
   },
   "source": []
  },
  {
   "cell_type": "code",
   "execution_count": null,
   "metadata": {
    "colab": {
     "base_uri": "https://localhost:8080/",
     "height": 404
    },
    "colab_type": "code",
    "id": "bFawC7xpJ2nQ",
    "outputId": "b5261767-77cf-4c69-f6ef-cfd6bf159917"
   },
   "outputs": [
    {
     "data": {
      "text/html": [
       "<div>\n",
       "<style scoped>\n",
       "    .dataframe tbody tr th:only-of-type {\n",
       "        vertical-align: middle;\n",
       "    }\n",
       "\n",
       "    .dataframe tbody tr th {\n",
       "        vertical-align: top;\n",
       "    }\n",
       "\n",
       "    .dataframe thead th {\n",
       "        text-align: right;\n",
       "    }\n",
       "</style>\n",
       "<table border=\"1\" class=\"dataframe\">\n",
       "  <thead>\n",
       "    <tr style=\"text-align: right;\">\n",
       "      <th></th>\n",
       "      <th>Full Address</th>\n",
       "    </tr>\n",
       "  </thead>\n",
       "  <tbody>\n",
       "    <tr>\n",
       "      <th>8</th>\n",
       "      <td>h r 10 Dominick</td>\n",
       "    </tr>\n",
       "    <tr>\n",
       "      <th>11</th>\n",
       "      <td>h 241 W  53d</td>\n",
       "    </tr>\n",
       "    <tr>\n",
       "      <th>30</th>\n",
       "      <td>h 956 Second av</td>\n",
       "    </tr>\n",
       "    <tr>\n",
       "      <th>31</th>\n",
       "      <td>h 258 W  44th</td>\n",
       "    </tr>\n",
       "    <tr>\n",
       "      <th>68</th>\n",
       "      <td>h 148 Lud</td>\n",
       "    </tr>\n",
       "    <tr>\n",
       "      <th>...</th>\n",
       "      <td>...</td>\n",
       "    </tr>\n",
       "    <tr>\n",
       "      <th>273053</th>\n",
       "      <td>h 512 E  119th</td>\n",
       "    </tr>\n",
       "    <tr>\n",
       "      <th>273065</th>\n",
       "      <td>h 264 Elizabeth</td>\n",
       "    </tr>\n",
       "    <tr>\n",
       "      <th>273068</th>\n",
       "      <td>h 139 W  22d</td>\n",
       "    </tr>\n",
       "    <tr>\n",
       "      <th>273070</th>\n",
       "      <td>h 32E  20th</td>\n",
       "    </tr>\n",
       "    <tr>\n",
       "      <th>273081</th>\n",
       "      <td>h 166 E  34th</td>\n",
       "    </tr>\n",
       "  </tbody>\n",
       "</table>\n",
       "<p>38919 rows × 1 columns</p>\n",
       "</div>"
      ],
      "text/plain": [
       "            Full Address\n",
       "8        h r 10 Dominick\n",
       "11          h 241 W  53d\n",
       "30      h 956 Second av \n",
       "31         h 258 W  44th\n",
       "68            h 148 Lud \n",
       "...                  ...\n",
       "273053    h 512 E  119th\n",
       "273065   h 264 Elizabeth\n",
       "273068      h 139 W  22d\n",
       "273070       h 32E  20th\n",
       "273081     h 166 E  34th\n",
       "\n",
       "[38919 rows x 1 columns]"
      ]
     },
     "execution_count": 34,
     "metadata": {
      "tags": []
     },
     "output_type": "execute_result"
    }
   ],
   "source": [
    "nm_match_add"
   ]
  },
  {
   "cell_type": "code",
   "execution_count": null,
   "metadata": {
    "colab": {},
    "colab_type": "code",
    "id": "CBKcbPoUn5_O"
   },
   "outputs": [],
   "source": [
    "import re\n",
    "# clean the records remove digits and special characters \n",
    "for i in range(len(nm_match_add)):\n",
    "  nm_match_add['Full Address'][i] = re.sub(\"[^a-zA-Z0-9]\", \n",
    "                          \" \",     \n",
    "                          str(nm_match_add['Full Address'][i]))\n",
    "  \n",
    "  nm_match_add['Full Address'][i] = str(nm_match_add['Full Address'][i])\n",
    "\n",
    "\n",
    "for i in range(len(uni_occ)):\n",
    "  uni_occ[i] = re.sub(\"[^a-zA-Z0-9]\", \n",
    "                          \" \",     \n",
    "                          str( uni_occ[i]))\n",
    "  \n",
    "  uni_occ[i] = str(uni_occ[i])\n",
    "  "
   ]
  },
  {
   "cell_type": "code",
   "execution_count": null,
   "metadata": {
    "colab": {},
    "colab_type": "code",
    "id": "zuYmsI6iuzVS"
   },
   "outputs": [],
   "source": [
    "# do name matching only for false and assume in new_occ_found \n",
    "nm_match_add['new_occ'] = 'False'\n",
    "nm_match_add['match_rating'] = 0\n",
    "\n",
    "count = 0\n",
    "for i in range(len(nm_match_add)):\n",
    "  split_str = str(nm_match_add['Full Address'][i]).split(\",\")\n",
    "  match = find_match(split_str[0])\n",
    "  nm_match_add['new_occ'][i] =match[0]                                                                                                                                                                                                                                                                                                                                                                                                                                                                                                                                                                                                                                                                                                                                                                                                                                                                                                                                                                                                                                                                                                                                                                                                                                                                                                                                                                                                                                      \n",
    "  nm_match_add['match_rating'][i] = match[1]\n",
    "\n",
    "  if ((len(split_str) > 1) & (nm_match_add['match_rating'][i] < 90)):\n",
    "    match = find_match(split_str[1]) \n",
    "    if match[1] > nm_match_add['match_rating'][i]:\n",
    "      nm_match_add['new_occ'][i] =match[0]                                                                                                                                                                                                                                                                                                                                                                                                                                                                                                                                                                                                                                                                                                                                                                                                                                                                                                                                                                                                                                                                                                                                                                                                                                                                                                                                                                                                                                      \n",
    "      nm_match_add['match_rating'][i] = match[1]\n",
    "    \n",
    "  count = count + 1\n",
    "  if (count % 500 == 0):\n",
    "    print(count)\n",
    "    \n"
   ]
  },
  {
   "cell_type": "code",
   "execution_count": null,
   "metadata": {
    "colab": {},
    "colab_type": "code",
    "id": "KqUqm5qIbPIQ"
   },
   "outputs": [],
   "source": [
    "output_1880.to_csv('1880_occmatch_output.csv')\n",
    "nm_match_add.to_csv('1880_nm_match_add.csv') # matches found were similar to 'assume' category output so didnot incorporate name match in final file"
   ]
  },
  {
   "cell_type": "code",
   "execution_count": null,
   "metadata": {
    "colab": {
     "base_uri": "https://localhost:8080/",
     "height": 33
    },
    "colab_type": "code",
    "id": "lepNyoObF_Qc",
    "outputId": "3c983100-0421-4b4f-b15b-b99a8b0f73bf"
   },
   "outputs": [
    {
     "data": {
      "text/plain": [
       "273088"
      ]
     },
     "execution_count": 37,
     "metadata": {
      "tags": []
     },
     "output_type": "execute_result"
    }
   ],
   "source": [
    "output_1880 = pd.read_csv(\"/content/1880_occmatch_output.csv\", index_col=0, low_memory= False)\n",
    "\n",
    "len(output_1880)\n",
    "\n"
   ]
  },
  {
   "cell_type": "markdown",
   "metadata": {
    "colab_type": "text",
    "id": "GU0_qKRisKyX"
   },
   "source": [
    "Number of new occupations found in each true, and assume category"
   ]
  },
  {
   "cell_type": "code",
   "execution_count": null,
   "metadata": {
    "colab": {
     "base_uri": "https://localhost:8080/",
     "height": 33
    },
    "colab_type": "code",
    "id": "kQXUjVK6AaGt",
    "outputId": "4931daec-98b0-4593-f595-25c176cb3ae5"
   },
   "outputs": [
    {
     "data": {
      "text/plain": [
       "967"
      ]
     },
     "execution_count": 40,
     "metadata": {
      "tags": []
     },
     "output_type": "execute_result"
    }
   ],
   "source": [
    "len(output_1880.loc[(output_1880['new_occ_found'] == 'TRUE')])"
   ]
  },
  {
   "cell_type": "code",
   "execution_count": null,
   "metadata": {
    "colab": {
     "base_uri": "https://localhost:8080/",
     "height": 33
    },
    "colab_type": "code",
    "id": "mv7cegcfJWxL",
    "outputId": "e3e46111-85b5-466b-a8eb-6a14194e7413"
   },
   "outputs": [
    {
     "data": {
      "text/plain": [
       "271861"
      ]
     },
     "execution_count": 38,
     "metadata": {
      "tags": []
     },
     "output_type": "execute_result"
    }
   ],
   "source": [
    "len(output_1880.loc[(output_1880['new_occ_found'] == 'FALSE')])"
   ]
  },
  {
   "cell_type": "code",
   "execution_count": null,
   "metadata": {
    "colab": {
     "base_uri": "https://localhost:8080/",
     "height": 33
    },
    "colab_type": "code",
    "id": "iEYGah_xLfcl",
    "outputId": "c814afb2-75f5-4ae3-e04c-0879d58c7b31"
   },
   "outputs": [
    {
     "data": {
      "text/plain": [
       "260"
      ]
     },
     "execution_count": 39,
     "metadata": {
      "tags": []
     },
     "output_type": "execute_result"
    }
   ],
   "source": [
    "len(output_1880.loc[(output_1880['new_occ_found'] == 'assume')])"
   ]
  },
  {
   "cell_type": "code",
   "execution_count": null,
   "metadata": {
    "colab": {},
    "colab_type": "code",
    "id": "N3RUv5czxgQi"
   },
   "outputs": [],
   "source": [
    "output_1880.to_csv('output_1880.csv')"
   ]
  },
  {
   "cell_type": "markdown",
   "metadata": {
    "colab_type": "text",
    "id": "Zz5TSSrZYEEx"
   },
   "source": [
    "There are a total of 10k matches\n",
    "\n",
    "Examples of absolute occupation match"
   ]
  },
  {
   "cell_type": "code",
   "execution_count": null,
   "metadata": {
    "colab": {
     "base_uri": "https://localhost:8080/",
     "height": 391
    },
    "colab_type": "code",
    "id": "sno11kIaZr9O",
    "outputId": "8ec3a8e3-b4c6-4f99-c015-66c90b662087"
   },
   "outputs": [
    {
     "data": {
      "text/html": [
       "<div>\n",
       "<style scoped>\n",
       "    .dataframe tbody tr th:only-of-type {\n",
       "        vertical-align: middle;\n",
       "    }\n",
       "\n",
       "    .dataframe tbody tr th {\n",
       "        vertical-align: top;\n",
       "    }\n",
       "\n",
       "    .dataframe thead th {\n",
       "        text-align: right;\n",
       "    }\n",
       "</style>\n",
       "<table border=\"1\" class=\"dataframe\">\n",
       "  <thead>\n",
       "    <tr style=\"text-align: right;\">\n",
       "      <th></th>\n",
       "      <th>Full Name</th>\n",
       "      <th>Occupation</th>\n",
       "      <th>Full Address</th>\n",
       "    </tr>\n",
       "  </thead>\n",
       "  <tbody>\n",
       "    <tr>\n",
       "      <th>591</th>\n",
       "      <td>Ziegler Wm.H</td>\n",
       "      <td>coal</td>\n",
       "      <td>coal,1’11 B’way,h 24 First pl. B’klyn</td>\n",
       "    </tr>\n",
       "    <tr>\n",
       "      <th>1013</th>\n",
       "      <td>Zabriskie John A</td>\n",
       "      <td>clerk</td>\n",
       "      <td>clerk h 505 W. 23d</td>\n",
       "    </tr>\n",
       "    <tr>\n",
       "      <th>1056</th>\n",
       "      <td>Zaerban Andrew</td>\n",
       "      <td>silk</td>\n",
       "      <td>silk,457 Broome,h 1410 Sixth av.</td>\n",
       "    </tr>\n",
       "    <tr>\n",
       "      <th>1266</th>\n",
       "      <td>Young William &amp; Brother</td>\n",
       "      <td>plumbers</td>\n",
       "      <td>plumbers,1022 Third av.</td>\n",
       "    </tr>\n",
       "    <tr>\n",
       "      <th>1351</th>\n",
       "      <td>Young George H</td>\n",
       "      <td>lawyer</td>\n",
       "      <td>lawyer h 260 Rivington</td>\n",
       "    </tr>\n",
       "    <tr>\n",
       "      <th>...</th>\n",
       "      <td>...</td>\n",
       "      <td>...</td>\n",
       "      <td>...</td>\n",
       "    </tr>\n",
       "    <tr>\n",
       "      <th>270817</th>\n",
       "      <td>Alexander Archibald</td>\n",
       "      <td>prof</td>\n",
       "      <td>prof. E. 49th c Madison av. h Hoboken</td>\n",
       "    </tr>\n",
       "    <tr>\n",
       "      <th>271595</th>\n",
       "      <td>Adnet Joseph</td>\n",
       "      <td>dyer</td>\n",
       "      <td>dyer 19 W. 3d &amp; 627 Sixth av. h 19</td>\n",
       "    </tr>\n",
       "    <tr>\n",
       "      <th>271918</th>\n",
       "      <td>Adams Samuel</td>\n",
       "      <td>hats</td>\n",
       "      <td>hats,158 S. 5th av.h 64 Prospect pl.</td>\n",
       "    </tr>\n",
       "    <tr>\n",
       "      <th>271983</th>\n",
       "      <td>Adams William C</td>\n",
       "      <td>clerk</td>\n",
       "      <td>clerk h 423 Third av.</td>\n",
       "    </tr>\n",
       "    <tr>\n",
       "      <th>272805</th>\n",
       "      <td>Abraham Philip</td>\n",
       "      <td>paints</td>\n",
       "      <td>paints,469 Sixth av.h Rossmore h.</td>\n",
       "    </tr>\n",
       "  </tbody>\n",
       "</table>\n",
       "<p>967 rows × 3 columns</p>\n",
       "</div>"
      ],
      "text/plain": [
       "                      Full Name  ...                           Full Address\n",
       "591                Ziegler Wm.H  ...  coal,1’11 B’way,h 24 First pl. B’klyn\n",
       "1013           Zabriskie John A  ...                     clerk h 505 W. 23d\n",
       "1056             Zaerban Andrew  ...       silk,457 Broome,h 1410 Sixth av.\n",
       "1266    Young William & Brother  ...                plumbers,1022 Third av.\n",
       "1351             Young George H  ...                 lawyer h 260 Rivington\n",
       "...                         ...  ...                                    ...\n",
       "270817      Alexander Archibald  ...  prof. E. 49th c Madison av. h Hoboken\n",
       "271595             Adnet Joseph  ...     dyer 19 W. 3d & 627 Sixth av. h 19\n",
       "271918             Adams Samuel  ...   hats,158 S. 5th av.h 64 Prospect pl.\n",
       "271983          Adams William C  ...                  clerk h 423 Third av.\n",
       "272805           Abraham Philip  ...      paints,469 Sixth av.h Rossmore h.\n",
       "\n",
       "[967 rows x 3 columns]"
      ]
     },
     "execution_count": 41,
     "metadata": {
      "tags": []
     },
     "output_type": "execute_result"
    }
   ],
   "source": [
    "output_1880.loc[(output_1880['new_occ_found'] == 'TRUE'), ['Full Name','Occupation','Full Address']]"
   ]
  },
  {
   "cell_type": "markdown",
   "metadata": {
    "colab_type": "text",
    "id": "TgPxKHGXYEUX"
   },
   "source": [
    "Examples of assume occupations"
   ]
  },
  {
   "cell_type": "code",
   "execution_count": null,
   "metadata": {
    "colab": {
     "base_uri": "https://localhost:8080/",
     "height": 391
    },
    "colab_type": "code",
    "id": "Cofp6ZSHYUfU",
    "outputId": "8d8fcd46-f741-4f9d-eb2d-95155851e845"
   },
   "outputs": [
    {
     "data": {
      "text/html": [
       "<div>\n",
       "<style scoped>\n",
       "    .dataframe tbody tr th:only-of-type {\n",
       "        vertical-align: middle;\n",
       "    }\n",
       "\n",
       "    .dataframe tbody tr th {\n",
       "        vertical-align: top;\n",
       "    }\n",
       "\n",
       "    .dataframe thead th {\n",
       "        text-align: right;\n",
       "    }\n",
       "</style>\n",
       "<table border=\"1\" class=\"dataframe\">\n",
       "  <thead>\n",
       "    <tr style=\"text-align: right;\">\n",
       "      <th></th>\n",
       "      <th>Full Name</th>\n",
       "      <th>Occupation</th>\n",
       "      <th>Full Address</th>\n",
       "    </tr>\n",
       "  </thead>\n",
       "  <tbody>\n",
       "    <tr>\n",
       "      <th>40355</th>\n",
       "      <td>NaN</td>\n",
       "      <td>dressmkr</td>\n",
       "      <td>Smith Frances M dressmkr 14 Sixth av.</td>\n",
       "    </tr>\n",
       "    <tr>\n",
       "      <th>76573</th>\n",
       "      <td>NaN</td>\n",
       "      <td>dressmkr</td>\n",
       "      <td>Peterson Christina,wid. Wm.dressmkr. 20 Sixth av.</td>\n",
       "    </tr>\n",
       "    <tr>\n",
       "      <th>193430</th>\n",
       "      <td>NaN</td>\n",
       "      <td>dressmkr</td>\n",
       "      <td>Fouqu6 Mary L. dressmkr. 181 Lex. av.</td>\n",
       "    </tr>\n",
       "    <tr>\n",
       "      <th>64562</th>\n",
       "      <td>NaN</td>\n",
       "      <td>fcygds</td>\n",
       "      <td>Ridley Edw’d A.fcygds.309 Gran'd,h 1159 Fifth av.</td>\n",
       "    </tr>\n",
       "    <tr>\n",
       "      <th>113493</th>\n",
       "      <td>NaN</td>\n",
       "      <td>grocer</td>\n",
       "      <td>McNally Matthew.grocer.319 Hudson,h 116 Varick</td>\n",
       "    </tr>\n",
       "    <tr>\n",
       "      <th>...</th>\n",
       "      <td>...</td>\n",
       "      <td>...</td>\n",
       "      <td>...</td>\n",
       "    </tr>\n",
       "    <tr>\n",
       "      <th>1039</th>\n",
       "      <td>NaN</td>\n",
       "      <td>turner</td>\n",
       "      <td>Zachgow August,turner,371 W. 48th,h 530 W.47th</td>\n",
       "    </tr>\n",
       "    <tr>\n",
       "      <th>88427</th>\n",
       "      <td>NaN</td>\n",
       "      <td>lumber</td>\n",
       "      <td>N. Y. Vulcanized Lumber Co. 494 W. 57th</td>\n",
       "    </tr>\n",
       "    <tr>\n",
       "      <th>208571</th>\n",
       "      <td>NaN</td>\n",
       "      <td>lumber</td>\n",
       "      <td>Dunbar Box &amp; Lumber Co. 282 Eleventh av.</td>\n",
       "    </tr>\n",
       "    <tr>\n",
       "      <th>12976</th>\n",
       "      <td>NaN</td>\n",
       "      <td>writer</td>\n",
       "      <td>Weekly Underwriter (The) 5 Cortlandt</td>\n",
       "    </tr>\n",
       "    <tr>\n",
       "      <th>21265</th>\n",
       "      <td>NaN</td>\n",
       "      <td>writer</td>\n",
       "      <td>Underwriter Printing &amp; Pub. Co. 5 Cortlandt</td>\n",
       "    </tr>\n",
       "  </tbody>\n",
       "</table>\n",
       "<p>260 rows × 3 columns</p>\n",
       "</div>"
      ],
      "text/plain": [
       "       Full Name Occupation                                       Full Address\n",
       "40355        NaN   dressmkr              Smith Frances M dressmkr 14 Sixth av.\n",
       "76573        NaN   dressmkr  Peterson Christina,wid. Wm.dressmkr. 20 Sixth av.\n",
       "193430       NaN   dressmkr              Fouqu6 Mary L. dressmkr. 181 Lex. av.\n",
       "64562        NaN     fcygds  Ridley Edw’d A.fcygds.309 Gran'd,h 1159 Fifth av.\n",
       "113493       NaN     grocer     McNally Matthew.grocer.319 Hudson,h 116 Varick\n",
       "...          ...        ...                                                ...\n",
       "1039         NaN     turner     Zachgow August,turner,371 W. 48th,h 530 W.47th\n",
       "88427        NaN     lumber            N. Y. Vulcanized Lumber Co. 494 W. 57th\n",
       "208571       NaN     lumber           Dunbar Box & Lumber Co. 282 Eleventh av.\n",
       "12976        NaN     writer               Weekly Underwriter (The) 5 Cortlandt\n",
       "21265        NaN     writer        Underwriter Printing & Pub. Co. 5 Cortlandt\n",
       "\n",
       "[260 rows x 3 columns]"
      ]
     },
     "execution_count": 42,
     "metadata": {
      "tags": []
     },
     "output_type": "execute_result"
    }
   ],
   "source": [
    "output_1880.loc[(output_1880['new_occ_found'] == 'assume'), ['Full Name','Occupation','Full Address']]"
   ]
  }
 ],
 "metadata": {
  "colab": {
   "collapsed_sections": [],
   "name": "1880_Occupation_standarization_code.ipynb",
   "provenance": []
  },
  "kernelspec": {
   "display_name": "Python 3",
   "language": "python",
   "name": "python3"
  },
  "language_info": {
   "codemirror_mode": {
    "name": "ipython",
    "version": 3
   },
   "file_extension": ".py",
   "mimetype": "text/x-python",
   "name": "python",
   "nbconvert_exporter": "python",
   "pygments_lexer": "ipython3",
   "version": "3.8.5"
  }
 },
 "nbformat": 4,
 "nbformat_minor": 1
}
