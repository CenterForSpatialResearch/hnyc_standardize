{
 "cells": [
  {
   "cell_type": "code",
   "execution_count": 2,
   "metadata": {
    "colab": {
     "base_uri": "https://localhost:8080/",
     "height": 70
    },
    "colab_type": "code",
    "id": "kfMQCWKNw282",
    "outputId": "c2779e26-138f-4cbc-d859-3a25e507c4e4"
   },
   "outputs": [
    {
     "name": "stderr",
     "output_type": "stream",
     "text": [
      "/usr/local/lib/python3.6/dist-packages/statsmodels/tools/_testing.py:19: FutureWarning: pandas.util.testing is deprecated. Use the functions in the public API at pandas.testing instead.\n",
      "  import pandas.util.testing as tm\n"
     ]
    }
   ],
   "source": [
    "# Load libraries\n",
    "import missingno as msno \n",
    "import re\n",
    "import pickle\n",
    "import pandas as pd\n",
    "import numpy as np\n",
    "\n",
    "import sys\n",
    "np.set_printoptions(threshold=sys.maxsize)"
   ]
  },
  {
   "cell_type": "code",
   "execution_count": null,
   "metadata": {
    "colab": {},
    "colab_type": "code",
    "id": "ThY0PA8_qeXE"
   },
   "outputs": [],
   "source": [
    "# Load Data\n",
    "output_1850_bk = pd.read_csv(\"/content/output_1850_bk.csv\", index_col=0)\n",
    "output_1850_mn = pd.read_csv(\"/content/output_1850_mn.csv\", index_col=0)\n",
    "output_1880 = pd.read_csv(\"/content/output_1880.csv\", index_col=0)\n"
   ]
  },
  {
   "cell_type": "markdown",
   "metadata": {
    "colab_type": "text",
    "id": "6Bu-diO16zdd"
   },
   "source": [
    "name matching on all three datasets together"
   ]
  },
  {
   "cell_type": "code",
   "execution_count": null,
   "metadata": {
    "colab": {},
    "colab_type": "code",
    "id": "Cofp6ZSHYUfU"
   },
   "outputs": [],
   "source": [
    "import numpy as np\n",
    "import re\n",
    "!pip install textdistance\n",
    "import textdistance\n",
    "# we will need scikit-learn>=0.21\n",
    "from sklearn.cluster import AgglomerativeClustering  \n",
    "\n",
    "text = output_1850_mn.loc[output_1850_mn['Occupation'].notnull(), ['Occupation']]\n",
    "text= text.append(output_1850_bk.loc[output_1850_bk['Occupation'].notnull(), ['Occupation']])\n",
    "text= text.append(output_1880.loc[output_1880['Occupation'].notnull(), ['Occupation']])\n",
    "text['Occupation'] = text['Occupation'].str.lower()\n",
    "\n",
    "len(text.Occupation.unique())"
   ]
  },
  {
   "cell_type": "code",
   "execution_count": null,
   "metadata": {
    "colab": {},
    "colab_type": "code",
    "id": "zr9TuS8tqmbP"
   },
   "outputs": [],
   "source": [
    "text = text.Occupation.unique()"
   ]
  },
  {
   "cell_type": "code",
   "execution_count": null,
   "metadata": {
    "colab": {},
    "colab_type": "code",
    "id": "Ly6k9_3i68C6"
   },
   "outputs": [],
   "source": [
    "text # examples of unnique occupations      "
   ]
  },
  {
   "cell_type": "markdown",
   "metadata": {
    "colab_type": "text",
    "id": "MjHDlsi7y2MZ"
   },
   "source": [
    "Method 1 to standardize the cd : aglomerative clustering"
   ]
  },
  {
   "cell_type": "code",
   "execution_count": null,
   "metadata": {
    "colab": {},
    "colab_type": "code",
    "id": "KFAYhOVKqme-"
   },
   "outputs": [],
   "source": [
    "# clustering on occupation names\n",
    "def normalize(text):\n",
    "  \"\"\" Keep only lower-cased text and numbers\"\"\"\n",
    "  return re.sub('[^a-z0-9]+', ' ', text.lower())\n",
    "\n",
    "def group_texts(texts, threshold=0.25): \n",
    "  \"\"\" Replace each text with the representative of its cluster\"\"\"\n",
    "  normalized_texts = np.array([normalize(text) for text in texts])\n",
    "  distances = 1 - np.array([\n",
    "      [textdistance.jaro_winkler(one, another) for one in normalized_texts] \n",
    "      for another in normalized_texts\n",
    "  ])\n",
    "  \n",
    "  clustering = AgglomerativeClustering(\n",
    "    distance_threshold=threshold, # this parameter needs to be tuned carefully\n",
    "    affinity=\"precomputed\", linkage=\"complete\", n_clusters=None\n",
    "  ).fit(distances)\n",
    "  centers = dict()\n",
    "\n",
    "  for cluster_id in set(clustering.labels_):\n",
    "    index = clustering.labels_ == cluster_id\n",
    "    centrality = distances[:, index][index].sum(axis=1)\n",
    "    centers[cluster_id] = normalized_texts[index][centrality.argmin()]\n",
    "  return [centers[i] for i in clustering.labels_]\n",
    "  "
   ]
  },
  {
   "cell_type": "code",
   "execution_count": null,
   "metadata": {
    "colab": {},
    "colab_type": "code",
    "id": "MunseEl0quaD"
   },
   "outputs": [],
   "source": [
    "std_names = group_texts(text)"
   ]
  },
  {
   "cell_type": "code",
   "execution_count": null,
   "metadata": {
    "colab": {},
    "colab_type": "code",
    "id": "uXfot6zAq9Sb"
   },
   "outputs": [],
   "source": [
    "occ_list = pd.DataFrame(text, columns=[\"orignal_name\"]).join(pd.DataFrame(std_names, columns = [\"new_name\"]))\n",
    "occ_list"
   ]
  },
  {
   "cell_type": "code",
   "execution_count": null,
   "metadata": {
    "colab": {
     "base_uri": "https://localhost:8080/",
     "height": 342
    },
    "colab_type": "code",
    "id": "x7TyLBrjrz-1",
    "outputId": "1f708cb5-b160-4fb4-93c2-295b06e98976"
   },
   "outputs": [
    {
     "data": {
      "text/plain": [
       "['clerk',\n",
       " 'weigher',\n",
       " 'stonecutter',\n",
       " 'publisher',\n",
       " 'com mer',\n",
       " 'seaman r',\n",
       " 'barber',\n",
       " 'barber',\n",
       " 'tailor r',\n",
       " 'shoemaker',\n",
       " 'coachmaker',\n",
       " 'drygoods h r',\n",
       " 'saloon r',\n",
       " 'com mer',\n",
       " 'clerk r',\n",
       " 'telegraph',\n",
       " 'pedler r',\n",
       " 'cooper',\n",
       " 'shoes ',\n",
       " 'carman r']"
      ]
     },
     "execution_count": 9,
     "metadata": {
      "tags": []
     },
     "output_type": "execute_result"
    }
   ],
   "source": [
    "std_names = group_texts(text)\n",
    "std_names[0:20]"
   ]
  },
  {
   "cell_type": "code",
   "execution_count": null,
   "metadata": {
    "colab": {
     "base_uri": "https://localhost:8080/",
     "height": 342
    },
    "colab_type": "code",
    "id": "ybz3RKFZr4EP",
    "outputId": "12f4b920-1c15-4b6d-c746-20cf29f22f0c"
   },
   "outputs": [
    {
     "data": {
      "text/plain": [
       "['clerk',\n",
       " 'weigher',\n",
       " 'stonecutter',\n",
       " 'publisher',\n",
       " 'com mer',\n",
       " 'seaman',\n",
       " 'barber',\n",
       " 'barbers',\n",
       " 'tailor',\n",
       " 'shoemaker',\n",
       " 'coachmaker',\n",
       " 'drygoods h r',\n",
       " 'saloon',\n",
       " 'com mers',\n",
       " 'clerk bank',\n",
       " 'telegraph inventor',\n",
       " 'pedler',\n",
       " 'cooper',\n",
       " 'shoes',\n",
       " 'carman']"
      ]
     },
     "execution_count": 10,
     "metadata": {
      "tags": []
     },
     "output_type": "execute_result"
    }
   ],
   "source": [
    "text = list(text)\n",
    "text[0:20]"
   ]
  },
  {
   "cell_type": "code",
   "execution_count": null,
   "metadata": {
    "colab": {},
    "colab_type": "code",
    "id": "b1bG51Yt0hzw"
   },
   "outputs": [],
   "source": [
    "occ_list.to_csv(\"occ_list_aglo_all.csv\") # save the occupation list to manually check the entries"
   ]
  },
  {
   "cell_type": "markdown",
   "metadata": {
    "colab_type": "text",
    "id": "4Eoc5pP-49ov"
   },
   "source": [
    "Fuzzy name match on the entire list of occupations"
   ]
  },
  {
   "cell_type": "code",
   "execution_count": null,
   "metadata": {
    "colab": {},
    "colab_type": "code",
    "id": "QKxyJzOk5BNM"
   },
   "outputs": [],
   "source": [
    "import re\n",
    "\n",
    "x = output_1850_bk.loc[output_1850_bk['Occupation'].notnull(), ['Occupation']]\n",
    "x = x.append(output_1850_bk.loc[output_1850_bk['Occupation'].notnull(), ['Occupation']])\n",
    "x = x.append(output_1880.loc[output_1880['Occupation'].notnull(), ['Occupation']])\n",
    "x.drop_duplicates(inplace=True)\n",
    "print(len(x))\n",
    "\n",
    "text = x.Occupation.unique()\n",
    "print(len(text))\n",
    "\n",
    "# remove special characters to clean the occupations\n",
    "def normalize(text):\n",
    "  \"\"\" Keep only lower-cased text and numbers\"\"\"\n",
    "  return re.sub('[^a-z0-9]+', ' ', text.strip().lower())\n",
    "\n",
    "normalized_texts = np.array([normalize(text).strip() for text in text])"
   ]
  },
  {
   "cell_type": "code",
   "execution_count": null,
   "metadata": {
    "colab": {
     "base_uri": "https://localhost:8080/",
     "height": 66
    },
    "colab_type": "code",
    "id": "Xszu1soZBsMe",
    "outputId": "8d222d86-5749-4d80-b890-6261be854d9b"
   },
   "outputs": [
    {
     "name": "stdout",
     "output_type": "stream",
     "text": [
      "14879\n",
      "14879\n",
      "14879\n"
     ]
    }
   ],
   "source": [
    "print(len(normalized_texts)) #14879"
   ]
  },
  {
   "cell_type": "code",
   "execution_count": null,
   "metadata": {
    "colab": {
     "base_uri": "https://localhost:8080/",
     "height": 33
    },
    "colab_type": "code",
    "id": "BQaN5kIWBg2J",
    "outputId": "2a1de2e6-1d87-4a28-f5ed-d7c4ac682b5e"
   },
   "outputs": [
    {
     "name": "stdout",
     "output_type": "stream",
     "text": [
      "['r', 'and', 'of', 'h', 'jr', 'c', 'late', 's', 'pres', 'av', 'co', 'mkt', 'rev', 'maker', 'agent', 'clerk', 'ft', 'wid', 'w', 'd']\n"
     ]
    }
   ],
   "source": [
    "# find the most freq words and remove top 20 of them\n",
    "\n",
    "from collections import Counter\n",
    "all_occ = normalized_texts\n",
    "names_freq = Counter()\n",
    "for name in all_occ:\n",
    "    names_freq.update(str(name).split(\" \"))\n",
    "key_words = [word for (word,_) in names_freq.most_common(20)]\n",
    "print(key_words)"
   ]
  },
  {
   "cell_type": "code",
   "execution_count": null,
   "metadata": {
    "colab": {
     "base_uri": "https://localhost:8080/",
     "height": 33
    },
    "colab_type": "code",
    "id": "eNaD4ji4DLlC",
    "outputId": "5a95e431-476c-4a29-986a-d5a3828c2dd6"
   },
   "outputs": [
    {
     "data": {
      "text/plain": [
       "14879"
      ]
     },
     "execution_count": 52,
     "metadata": {
      "tags": []
     },
     "output_type": "execute_result"
    }
   ],
   "source": [
    "len(all_occ)"
   ]
  },
  {
   "cell_type": "code",
   "execution_count": null,
   "metadata": {
    "colab": {
     "base_uri": "https://localhost:8080/",
     "height": 391
    },
    "colab_type": "code",
    "id": "6-xCccfKNmV6",
    "outputId": "29403838-a6f8-4293-9d11-1af2d9995a08"
   },
   "outputs": [
    {
     "data": {
      "text/html": [
       "<div>\n",
       "<style scoped>\n",
       "    .dataframe tbody tr th:only-of-type {\n",
       "        vertical-align: middle;\n",
       "    }\n",
       "\n",
       "    .dataframe tbody tr th {\n",
       "        vertical-align: top;\n",
       "    }\n",
       "\n",
       "    .dataframe thead th {\n",
       "        text-align: right;\n",
       "    }\n",
       "</style>\n",
       "<table border=\"1\" class=\"dataframe\">\n",
       "  <thead>\n",
       "    <tr style=\"text-align: right;\">\n",
       "      <th></th>\n",
       "      <th>orignal_name</th>\n",
       "      <th>clean_name</th>\n",
       "    </tr>\n",
       "  </thead>\n",
       "  <tbody>\n",
       "    <tr>\n",
       "      <th>0</th>\n",
       "      <td>shoemaker</td>\n",
       "      <td>shoemaker</td>\n",
       "    </tr>\n",
       "    <tr>\n",
       "      <th>1</th>\n",
       "      <td>mason</td>\n",
       "      <td>mason</td>\n",
       "    </tr>\n",
       "    <tr>\n",
       "      <th>2</th>\n",
       "      <td>carpenter</td>\n",
       "      <td>carpenter</td>\n",
       "    </tr>\n",
       "    <tr>\n",
       "      <th>3</th>\n",
       "      <td>merchant</td>\n",
       "      <td>merchant</td>\n",
       "    </tr>\n",
       "    <tr>\n",
       "      <th>4</th>\n",
       "      <td>marble sawyer</td>\n",
       "      <td>marble sawyer</td>\n",
       "    </tr>\n",
       "    <tr>\n",
       "      <th>...</th>\n",
       "      <td>...</td>\n",
       "      <td>...</td>\n",
       "    </tr>\n",
       "    <tr>\n",
       "      <th>14874</th>\n",
       "      <td>jvid Moses</td>\n",
       "      <td>jvid moses</td>\n",
       "    </tr>\n",
       "    <tr>\n",
       "      <th>14875</th>\n",
       "      <td>jr grocers</td>\n",
       "      <td>jr grocers</td>\n",
       "    </tr>\n",
       "    <tr>\n",
       "      <th>14876</th>\n",
       "      <td>dean &amp; physician</td>\n",
       "      <td>dean physician</td>\n",
       "    </tr>\n",
       "    <tr>\n",
       "      <th>14877</th>\n",
       "      <td>bureau for general advertising</td>\n",
       "      <td>bureau for general advertising</td>\n",
       "    </tr>\n",
       "    <tr>\n",
       "      <th>14878</th>\n",
       "      <td>vcnder clerk</td>\n",
       "      <td>vcnder clerk</td>\n",
       "    </tr>\n",
       "  </tbody>\n",
       "</table>\n",
       "<p>14879 rows × 2 columns</p>\n",
       "</div>"
      ],
      "text/plain": [
       "                         orignal_name                      clean_name\n",
       "0                           shoemaker                       shoemaker\n",
       "1                               mason                           mason\n",
       "2                           carpenter                       carpenter\n",
       "3                            merchant                        merchant\n",
       "4                       marble sawyer                   marble sawyer\n",
       "...                               ...                             ...\n",
       "14874                      jvid Moses                      jvid moses\n",
       "14875                      jr grocers                      jr grocers\n",
       "14876                dean & physician                  dean physician\n",
       "14877  bureau for general advertising  bureau for general advertising\n",
       "14878                    vcnder clerk                    vcnder clerk\n",
       "\n",
       "[14879 rows x 2 columns]"
      ]
     },
     "execution_count": 53,
     "metadata": {
      "tags": []
     },
     "output_type": "execute_result"
    }
   ],
   "source": [
    "x = pd.DataFrame(text, columns=[\"orignal_name\"]).join(pd.DataFrame(normalized_texts, columns = [\"clean_name\"]))\n",
    "x"
   ]
  },
  {
   "cell_type": "code",
   "execution_count": null,
   "metadata": {
    "colab": {},
    "colab_type": "code",
    "id": "yh1MaKRFDD4c"
   },
   "outputs": [],
   "source": [
    "# match by grouping\n",
    "\n",
    "all_main_occ = pd.DataFrame(columns=['sort_gp','occ_names','alias','score'])\n",
    "all_occ.sort()\n",
    "all_main_occ['occ_names'] = all_occ[1:len(all_occ)]\n",
    "all_main_occ['sort_gp'] = all_main_occ['occ_names'].apply(lambda x: x[0])\n",
    "\n",
    "all_main_occ"
   ]
  },
  {
   "cell_type": "code",
   "execution_count": null,
   "metadata": {
    "colab": {
     "base_uri": "https://localhost:8080/",
     "height": 391
    },
    "colab_type": "code",
    "id": "CPOCXTFcDcq8",
    "outputId": "02780a19-e809-414d-a185-3ae261b7285c"
   },
   "outputs": [
    {
     "data": {
      "text/html": [
       "<div>\n",
       "<style scoped>\n",
       "    .dataframe tbody tr th:only-of-type {\n",
       "        vertical-align: middle;\n",
       "    }\n",
       "\n",
       "    .dataframe tbody tr th {\n",
       "        vertical-align: top;\n",
       "    }\n",
       "\n",
       "    .dataframe thead th {\n",
       "        text-align: right;\n",
       "    }\n",
       "</style>\n",
       "<table border=\"1\" class=\"dataframe\">\n",
       "  <thead>\n",
       "    <tr style=\"text-align: right;\">\n",
       "      <th></th>\n",
       "      <th>sort_gp</th>\n",
       "      <th>occ_names</th>\n",
       "      <th>alias</th>\n",
       "      <th>score</th>\n",
       "    </tr>\n",
       "  </thead>\n",
       "  <tbody>\n",
       "    <tr>\n",
       "      <th>0</th>\n",
       "      <td>1</td>\n",
       "      <td>11th</td>\n",
       "      <td>NaN</td>\n",
       "      <td>NaN</td>\n",
       "    </tr>\n",
       "    <tr>\n",
       "      <th>1</th>\n",
       "      <td>1</td>\n",
       "      <td>17 stone</td>\n",
       "      <td>NaN</td>\n",
       "      <td>NaN</td>\n",
       "    </tr>\n",
       "    <tr>\n",
       "      <th>2</th>\n",
       "      <td>1</td>\n",
       "      <td>17th</td>\n",
       "      <td>NaN</td>\n",
       "      <td>NaN</td>\n",
       "    </tr>\n",
       "    <tr>\n",
       "      <th>3</th>\n",
       "      <td>1</td>\n",
       "      <td>19th c</td>\n",
       "      <td>NaN</td>\n",
       "      <td>NaN</td>\n",
       "    </tr>\n",
       "    <tr>\n",
       "      <th>4</th>\n",
       "      <td>1</td>\n",
       "      <td>1st assist capt 3d ward</td>\n",
       "      <td>NaN</td>\n",
       "      <td>NaN</td>\n",
       "    </tr>\n",
       "    <tr>\n",
       "      <th>...</th>\n",
       "      <td>...</td>\n",
       "      <td>...</td>\n",
       "      <td>...</td>\n",
       "      <td>...</td>\n",
       "    </tr>\n",
       "    <tr>\n",
       "      <th>14873</th>\n",
       "      <td>y</td>\n",
       "      <td>youths clothing</td>\n",
       "      <td>NaN</td>\n",
       "      <td>NaN</td>\n",
       "    </tr>\n",
       "    <tr>\n",
       "      <th>14874</th>\n",
       "      <td>z</td>\n",
       "      <td>zabriskie francis n rev editor</td>\n",
       "      <td>NaN</td>\n",
       "      <td>NaN</td>\n",
       "    </tr>\n",
       "    <tr>\n",
       "      <th>14875</th>\n",
       "      <td>z</td>\n",
       "      <td>zephyrs</td>\n",
       "      <td>NaN</td>\n",
       "      <td>NaN</td>\n",
       "    </tr>\n",
       "    <tr>\n",
       "      <th>14876</th>\n",
       "      <td>z</td>\n",
       "      <td>zimmermann davison com mers</td>\n",
       "      <td>NaN</td>\n",
       "      <td>NaN</td>\n",
       "    </tr>\n",
       "    <tr>\n",
       "      <th>14877</th>\n",
       "      <td>z</td>\n",
       "      <td>zinc</td>\n",
       "      <td>NaN</td>\n",
       "      <td>NaN</td>\n",
       "    </tr>\n",
       "  </tbody>\n",
       "</table>\n",
       "<p>14878 rows × 4 columns</p>\n",
       "</div>"
      ],
      "text/plain": [
       "      sort_gp                       occ_names alias score\n",
       "0           1                            11th   NaN   NaN\n",
       "1           1                        17 stone   NaN   NaN\n",
       "2           1                            17th   NaN   NaN\n",
       "3           1                          19th c   NaN   NaN\n",
       "4           1         1st assist capt 3d ward   NaN   NaN\n",
       "...       ...                             ...   ...   ...\n",
       "14873       y                 youths clothing   NaN   NaN\n",
       "14874       z  zabriskie francis n rev editor   NaN   NaN\n",
       "14875       z                         zephyrs   NaN   NaN\n",
       "14876       z     zimmermann davison com mers   NaN   NaN\n",
       "14877       z                            zinc   NaN   NaN\n",
       "\n",
       "[14878 rows x 4 columns]"
      ]
     },
     "execution_count": 61,
     "metadata": {
      "tags": []
     },
     "output_type": "execute_result"
    }
   ],
   "source": [
    "all_main_occ"
   ]
  },
  {
   "cell_type": "code",
   "execution_count": null,
   "metadata": {
    "colab": {
     "base_uri": "https://localhost:8080/",
     "height": 66
    },
    "colab_type": "code",
    "id": "9y7orL1EFInk",
    "outputId": "04bd92df-dceb-4f7d-8525-b90d3ff4a351"
   },
   "outputs": [
    {
     "data": {
      "text/plain": [
       "array(['1', '2', '3', '4', '5', '6', '7', '9', 'a', 'b', 'c', 'd', 'e',\n",
       "       'f', 'g', 'h', 'i', 'j', 'k', 'l', 'm', 'n', 'o', 'p', 'q', 'r',\n",
       "       's', 't', 'u', 'v', 'w', 'x', 'y', 'z'], dtype=object)"
      ]
     },
     "execution_count": 58,
     "metadata": {
      "tags": []
     },
     "output_type": "execute_result"
    }
   ],
   "source": [
    "all_main_occ.sort_gp.unique()"
   ]
  },
  {
   "cell_type": "code",
   "execution_count": null,
   "metadata": {
    "colab": {
     "base_uri": "https://localhost:8080/",
     "height": 196
    },
    "colab_type": "code",
    "id": "JGYF7sJuSMzS",
    "outputId": "a64b2efa-4151-49af-d592-af29b70bb52f"
   },
   "outputs": [
    {
     "name": "stdout",
     "output_type": "stream",
     "text": [
      "progress: 0.00%\n",
      "progress: 9.99%\n",
      "progress: 19.99%\n",
      "progress: 29.98%\n",
      "progress: 39.98%\n",
      "progress: 49.97%\n",
      "progress: 59.96%\n",
      "progress: 69.96%\n",
      "progress: 79.95%\n",
      "progress: 89.95%\n",
      "progress: 99.94%\n"
     ]
    }
   ],
   "source": [
    "# name match on the group of occupations starting with same letter\n",
    "all_sort_gp = all_main_occ['sort_gp'].unique()\n",
    "\n",
    "def no_key_word(name):\n",
    "    \"\"\"check if the name contain the keywords in travel company\"\"\"\n",
    "    output = True\n",
    "    for key in key_words:\n",
    "        if key in name:\n",
    "            output = False\n",
    "    return output\n",
    "\n",
    "for sortgp in all_sort_gp:\n",
    "    this_gp = all_main_occ.groupby(['sort_gp']).get_group(sortgp)\n",
    "    gp_start = this_gp.index.min()\n",
    "    gp_end = this_gp.index.max()\n",
    "    for i in range(gp_start,gp_end+1):\n",
    "    \n",
    "        # if self has not got alias, asign to be alias of itself\n",
    "        if pd.isna(all_main_occ['alias'].iloc[i]):\n",
    "            all_main_occ['alias'].iloc[i] = all_main_occ['occ_names'].iloc[i]\n",
    "            all_main_occ['score'].iloc[i] = 100\n",
    "        \n",
    "        # if the following has not got alias and fuzzy match, asign to be alias of this one\n",
    "        for j in range(i+1,gp_end+1):\n",
    "            if pd.isna(all_main_occ['alias'].iloc[j]):\n",
    "                fuzz_socre = fuzz.token_sort_ratio(all_main_occ['occ_names'].iloc[i],all_main_occ['occ_names'].iloc[j])\n",
    "                if not no_key_word(all_main_occ['occ_names'].iloc[j]):\n",
    "                    fuzz_socre -= 10\n",
    "                if (fuzz_socre > 85):\n",
    "                    all_main_occ['alias'].iloc[j] = all_main_occ['alias'].iloc[i]\n",
    "                    all_main_occ['score'].iloc[j] = fuzz_socre\n",
    "                    \n",
    "        if i % (len(all_occ)//10) == 0:\n",
    "            print(\"progress: %.2f\" % (100*i/len(all_occ)) + \"%\")\n",
    "                "
   ]
  },
  {
   "cell_type": "code",
   "execution_count": null,
   "metadata": {
    "colab": {
     "base_uri": "https://localhost:8080/",
     "height": 33
    },
    "colab_type": "code",
    "id": "Olm8hQcPYsiu",
    "outputId": "91fca26d-55ef-4a75-a1e9-8584163a8677"
   },
   "outputs": [
    {
     "data": {
      "text/plain": [
       "14878"
      ]
     },
     "execution_count": 74,
     "metadata": {
      "tags": []
     },
     "output_type": "execute_result"
    }
   ],
   "source": [
    "len(all_main_occ)"
   ]
  },
  {
   "cell_type": "code",
   "execution_count": null,
   "metadata": {
    "colab": {},
    "colab_type": "code",
    "id": "gLfe3RT6W6Ly"
   },
   "outputs": [],
   "source": [
    "fuzz_occ_match = all_main_occ.merge(x, left_on = \"occ_names\", right_on= \"clean_name\", how = \"inner\") # merge clean names with name match output"
   ]
  },
  {
   "cell_type": "code",
   "execution_count": null,
   "metadata": {
    "colab": {},
    "colab_type": "code",
    "id": "umGmT3B6ZorD"
   },
   "outputs": [],
   "source": [
    "occ_list_aglocluster = pd.read_csv(\"/content/occ_list_aglo_all.csv\", index_col=0) # import the aglo cluster output\n",
    "\n",
    "occ_list_aglocluster.columns = [\"orignal_name\",\"aglo_new_name\"]\n"
   ]
  },
  {
   "cell_type": "code",
   "execution_count": null,
   "metadata": {
    "colab": {},
    "colab_type": "code",
    "id": "UjuR6PuLa0ZL"
   },
   "outputs": [],
   "source": [
    "fuzz_occ_match = fuzz_occ_match.merge(occ_list_aglocluster, left_on = \"orignal_name\", right_on= \"orignal_name\", how = \"left\") # join the clustered name match putput with fuzzy name match method output"
   ]
  },
  {
   "cell_type": "code",
   "execution_count": null,
   "metadata": {
    "colab": {},
    "colab_type": "code",
    "id": "Qj2cRBdWcj9c"
   },
   "outputs": [],
   "source": [
    "fuzz_occ_match.to_csv(\"fuzz_occ_match.csv\")"
   ]
  },
  {
   "cell_type": "code",
   "execution_count": null,
   "metadata": {
    "colab": {
     "base_uri": "https://localhost:8080/",
     "height": 33
    },
    "colab_type": "code",
    "id": "jb1zf9-Re8-W",
    "outputId": "4ba644fb-4bae-4f2b-b0d3-593010023e87"
   },
   "outputs": [
    {
     "data": {
      "text/plain": [
       "15648"
      ]
     },
     "execution_count": 87,
     "metadata": {
      "tags": []
     },
     "output_type": "execute_result"
    }
   ],
   "source": [
    "len(fuzz_occ_match.orignal_name)"
   ]
  },
  {
   "cell_type": "code",
   "execution_count": 5,
   "metadata": {
    "colab": {},
    "colab_type": "code",
    "id": "AHqpaUXD-sRP"
   },
   "outputs": [],
   "source": [
    "fuzz_occ_match = pd.read_excel(\"/content/fuzz_occ_match.xlsx\", index_col=0)"
   ]
  },
  {
   "cell_type": "code",
   "execution_count": 10,
   "metadata": {
    "colab": {
     "base_uri": "https://localhost:8080/",
     "height": 440
    },
    "colab_type": "code",
    "id": "Rpq4rcz7A_Si",
    "outputId": "d3a660be-54d1-429d-dab8-2cf8e5541dee"
   },
   "outputs": [
    {
     "data": {
      "text/html": [
       "<div>\n",
       "<style scoped>\n",
       "    .dataframe tbody tr th:only-of-type {\n",
       "        vertical-align: middle;\n",
       "    }\n",
       "\n",
       "    .dataframe tbody tr th {\n",
       "        vertical-align: top;\n",
       "    }\n",
       "\n",
       "    .dataframe thead th {\n",
       "        text-align: right;\n",
       "    }\n",
       "</style>\n",
       "<table border=\"1\" class=\"dataframe\">\n",
       "  <thead>\n",
       "    <tr style=\"text-align: right;\">\n",
       "      <th></th>\n",
       "      <th>sort_gp</th>\n",
       "      <th>occ_names</th>\n",
       "      <th>alias</th>\n",
       "      <th>score</th>\n",
       "      <th>orignal_name</th>\n",
       "      <th>clean_name</th>\n",
       "      <th>aglo_new_name</th>\n",
       "      <th>Unnamed: 8</th>\n",
       "    </tr>\n",
       "  </thead>\n",
       "  <tbody>\n",
       "    <tr>\n",
       "      <th>5318</th>\n",
       "      <td>f</td>\n",
       "      <td>furnishing</td>\n",
       "      <td>furnishing</td>\n",
       "      <td>100</td>\n",
       "      <td>furnishing</td>\n",
       "      <td>furnishing</td>\n",
       "      <td>furnishing</td>\n",
       "      <td>False</td>\n",
       "    </tr>\n",
       "    <tr>\n",
       "      <th>5321</th>\n",
       "      <td>f</td>\n",
       "      <td>furnishing</td>\n",
       "      <td>furnishing</td>\n",
       "      <td>90</td>\n",
       "      <td>furnishing</td>\n",
       "      <td>furnishing</td>\n",
       "      <td>furnishing</td>\n",
       "      <td>False</td>\n",
       "    </tr>\n",
       "    <tr>\n",
       "      <th>5324</th>\n",
       "      <td>f</td>\n",
       "      <td>furnishing</td>\n",
       "      <td>furnishing</td>\n",
       "      <td>90</td>\n",
       "      <td>furnishing</td>\n",
       "      <td>furnishing</td>\n",
       "      <td>furnishing</td>\n",
       "      <td>False</td>\n",
       "    </tr>\n",
       "    <tr>\n",
       "      <th>3846</th>\n",
       "      <td>c</td>\n",
       "      <td>cutlery</td>\n",
       "      <td>cutlery</td>\n",
       "      <td>100</td>\n",
       "      <td>cutlery</td>\n",
       "      <td>cutlery</td>\n",
       "      <td>cutlery</td>\n",
       "      <td>False</td>\n",
       "    </tr>\n",
       "    <tr>\n",
       "      <th>3849</th>\n",
       "      <td>c</td>\n",
       "      <td>cutlery</td>\n",
       "      <td>cutlery</td>\n",
       "      <td>90</td>\n",
       "      <td>cutlery</td>\n",
       "      <td>cutlery</td>\n",
       "      <td>cutlery</td>\n",
       "      <td>False</td>\n",
       "    </tr>\n",
       "    <tr>\n",
       "      <th>...</th>\n",
       "      <td>...</td>\n",
       "      <td>...</td>\n",
       "      <td>...</td>\n",
       "      <td>...</td>\n",
       "      <td>...</td>\n",
       "      <td>...</td>\n",
       "      <td>...</td>\n",
       "      <td>...</td>\n",
       "    </tr>\n",
       "    <tr>\n",
       "      <th>15642</th>\n",
       "      <td>y</td>\n",
       "      <td>youths boys children s outfitting</td>\n",
       "      <td>youths boys children s outfitting</td>\n",
       "      <td>100</td>\n",
       "      <td>youthsâ€™ boysâ€™ &amp; childrenâ€™s outfitting</td>\n",
       "      <td>youths boys children s outfitting</td>\n",
       "      <td>youth s and children s clothing</td>\n",
       "      <td>False</td>\n",
       "    </tr>\n",
       "    <tr>\n",
       "      <th>15644</th>\n",
       "      <td>z</td>\n",
       "      <td>zabriskie francis n rev editor</td>\n",
       "      <td>zabriskie francis n rev editor</td>\n",
       "      <td>100</td>\n",
       "      <td>Zabriskie Francis N  (Rev editor</td>\n",
       "      <td>zabriskie francis n rev editor</td>\n",
       "      <td>zabriskie francis n rev editor</td>\n",
       "      <td>False</td>\n",
       "    </tr>\n",
       "    <tr>\n",
       "      <th>15645</th>\n",
       "      <td>z</td>\n",
       "      <td>zephyrs</td>\n",
       "      <td>zephyrs</td>\n",
       "      <td>100</td>\n",
       "      <td>zephyrs</td>\n",
       "      <td>zephyrs</td>\n",
       "      <td>zephyrs</td>\n",
       "      <td>True</td>\n",
       "    </tr>\n",
       "    <tr>\n",
       "      <th>15646</th>\n",
       "      <td>z</td>\n",
       "      <td>zimmermann davison com mers</td>\n",
       "      <td>zimmermann davison com mers</td>\n",
       "      <td>100</td>\n",
       "      <td>ZIMMERMANN &amp; DAVISON com mers</td>\n",
       "      <td>zimmermann davison com mers</td>\n",
       "      <td>zimmermann davison com mers</td>\n",
       "      <td>False</td>\n",
       "    </tr>\n",
       "    <tr>\n",
       "      <th>15647</th>\n",
       "      <td>z</td>\n",
       "      <td>zinc</td>\n",
       "      <td>zinc</td>\n",
       "      <td>100</td>\n",
       "      <td>zinc</td>\n",
       "      <td>zinc</td>\n",
       "      <td>zinc</td>\n",
       "      <td>True</td>\n",
       "    </tr>\n",
       "  </tbody>\n",
       "</table>\n",
       "<p>15648 rows × 8 columns</p>\n",
       "</div>"
      ],
      "text/plain": [
       "      sort_gp  ... Unnamed: 8\n",
       "5318        f  ...      False\n",
       "5321        f  ...      False\n",
       "5324        f  ...      False\n",
       "3846        c  ...      False\n",
       "3849        c  ...      False\n",
       "...       ...  ...        ...\n",
       "15642       y  ...      False\n",
       "15644       z  ...      False\n",
       "15645       z  ...       True\n",
       "15646       z  ...      False\n",
       "15647       z  ...       True\n",
       "\n",
       "[15648 rows x 8 columns]"
      ]
     },
     "execution_count": 10,
     "metadata": {
      "tags": []
     },
     "output_type": "execute_result"
    }
   ],
   "source": [
    "fuzz_occ_match"
   ]
  },
  {
   "cell_type": "code",
   "execution_count": 25,
   "metadata": {
    "colab": {
     "base_uri": "https://localhost:8080/",
     "height": 391
    },
    "colab_type": "code",
    "id": "IexXLOqv_ooB",
    "outputId": "d93fb20a-e7b0-4c47-989c-35e8705b892c"
   },
   "outputs": [
    {
     "data": {
      "text/html": [
       "<div>\n",
       "<style scoped>\n",
       "    .dataframe tbody tr th:only-of-type {\n",
       "        vertical-align: middle;\n",
       "    }\n",
       "\n",
       "    .dataframe tbody tr th {\n",
       "        vertical-align: top;\n",
       "    }\n",
       "\n",
       "    .dataframe thead th {\n",
       "        text-align: right;\n",
       "    }\n",
       "</style>\n",
       "<table border=\"1\" class=\"dataframe\">\n",
       "  <thead>\n",
       "    <tr style=\"text-align: right;\">\n",
       "      <th></th>\n",
       "      <th>orignal_name</th>\n",
       "      <th>aglo_new_name</th>\n",
       "    </tr>\n",
       "  </thead>\n",
       "  <tbody>\n",
       "    <tr>\n",
       "      <th>969</th>\n",
       "      <td>blacksmith llth</td>\n",
       "      <td>blacksmith</td>\n",
       "    </tr>\n",
       "    <tr>\n",
       "      <th>971</th>\n",
       "      <td>blacksmith r</td>\n",
       "      <td>blacksmith</td>\n",
       "    </tr>\n",
       "    <tr>\n",
       "      <th>973</th>\n",
       "      <td>blacksmith TV'</td>\n",
       "      <td>blacksmith</td>\n",
       "    </tr>\n",
       "    <tr>\n",
       "      <th>975</th>\n",
       "      <td>blacksmith W 29th</td>\n",
       "      <td>blacksmith</td>\n",
       "    </tr>\n",
       "    <tr>\n",
       "      <th>976</th>\n",
       "      <td>blacksmith W 29th b</td>\n",
       "      <td>blacksmith</td>\n",
       "    </tr>\n",
       "    <tr>\n",
       "      <th>...</th>\n",
       "      <td>...</td>\n",
       "      <td>...</td>\n",
       "    </tr>\n",
       "    <tr>\n",
       "      <th>2343</th>\n",
       "      <td>carptr</td>\n",
       "      <td>carpet</td>\n",
       "    </tr>\n",
       "    <tr>\n",
       "      <th>2344</th>\n",
       "      <td>carpts</td>\n",
       "      <td>carpet</td>\n",
       "    </tr>\n",
       "    <tr>\n",
       "      <th>2345</th>\n",
       "      <td>carptweaver</td>\n",
       "      <td>carpet weaver</td>\n",
       "    </tr>\n",
       "    <tr>\n",
       "      <th>2346</th>\n",
       "      <td>carputer</td>\n",
       "      <td>carpet</td>\n",
       "    </tr>\n",
       "    <tr>\n",
       "      <th>2348</th>\n",
       "      <td>carriagcmakers</td>\n",
       "      <td>carriagemaker</td>\n",
       "    </tr>\n",
       "  </tbody>\n",
       "</table>\n",
       "<p>1000 rows × 2 columns</p>\n",
       "</div>"
      ],
      "text/plain": [
       "             orignal_name  aglo_new_name\n",
       "969       blacksmith llth     blacksmith\n",
       "971          blacksmith r     blacksmith\n",
       "973        blacksmith TV'     blacksmith\n",
       "975     blacksmith W 29th     blacksmith\n",
       "976   blacksmith W 29th b     blacksmith\n",
       "...                   ...            ...\n",
       "2343               carptr         carpet\n",
       "2344               carpts         carpet\n",
       "2345          carptweaver  carpet weaver\n",
       "2346             carputer         carpet\n",
       "2348       carriagcmakers  carriagemaker\n",
       "\n",
       "[1000 rows x 2 columns]"
      ]
     },
     "execution_count": 25,
     "metadata": {
      "tags": []
     },
     "output_type": "execute_result"
    }
   ],
   "source": [
    "fuzz_occ_match.loc[fuzz_occ_match['aglo_new_name'] != fuzz_occ_match['orignal_name'] , [\"orignal_name\",\"aglo_new_name\"]][1000:2000]"
   ]
  },
  {
   "cell_type": "markdown",
   "metadata": {
    "colab_type": "text",
    "id": "tRmZROWsuC4t"
   },
   "source": [
    "Examples of standardised occupation records and distinct new occupation names\n",
    "\n",
    "Occupation Types\n",
    "\n",
    "15,648 occupation types reduced to 7,090\n",
    "\n",
    "The top occupations by percentage remained quite similar over 3 decades\n",
    "\n",
    "E.g. Carman - assume as driver, laborer, carpenter, lawyer, tailor"
   ]
  },
  {
   "cell_type": "code",
   "execution_count": null,
   "metadata": {
    "colab": {
     "base_uri": "https://localhost:8080/",
     "height": 196
    },
    "colab_type": "code",
    "id": "qunsxrJYuDiK",
    "outputId": "d7ee799a-d024-47d3-fb56-db0b97c8104b"
   },
   "outputs": [
    {
     "data": {
      "text/plain": [
       "laborer      0.134312\n",
       "carpenter    0.052522\n",
       "merchant     0.046187\n",
       "grocer       0.040654\n",
       "clerk        0.025660\n",
       "mason        0.024537\n",
       "shoemaker    0.024136\n",
       "tailor       0.021329\n",
       "carman       0.017561\n",
       "painter      0.015636\n",
       "Name: std_occupation, dtype: float64"
      ]
     },
     "execution_count": 15,
     "metadata": {
      "tags": []
     },
     "output_type": "execute_result"
    }
   ],
   "source": [
    "output_1850_bk['std_occupation'].value_counts(normalize = True).head(10)"
   ]
  },
  {
   "cell_type": "code",
   "execution_count": null,
   "metadata": {
    "colab": {
     "base_uri": "https://localhost:8080/",
     "height": 196
    },
    "colab_type": "code",
    "id": "2_gLnb_ruDgC",
    "outputId": "7889e7a5-93f2-4558-bb51-2e1d7f523775"
   },
   "outputs": [
    {
     "data": {
      "text/plain": [
       "grocer       0.041122\n",
       "laborer      0.038641\n",
       "carman       0.037864\n",
       "tailor       0.035355\n",
       "carpenter    0.032013\n",
       "shoemaker    0.022807\n",
       "clerk        0.020908\n",
       "lawyer       0.017594\n",
       "mer          0.016152\n",
       "drygoods     0.013615\n",
       "Name: std_occupation, dtype: float64"
      ]
     },
     "execution_count": 16,
     "metadata": {
      "tags": []
     },
     "output_type": "execute_result"
    }
   ],
   "source": [
    "output_1850_bk['std_occupation'].value_counts(normalize = True).head(10)"
   ]
  },
  {
   "cell_type": "code",
   "execution_count": null,
   "metadata": {
    "colab": {
     "base_uri": "https://localhost:8080/",
     "height": 196
    },
    "colab_type": "code",
    "id": "LT0N9FjBwXO_",
    "outputId": "5f13ccef-0301-4058-e12a-1523b5e92563"
   },
   "outputs": [
    {
     "data": {
      "text/plain": [
       "laborer      0.066111\n",
       "clerk        0.061688\n",
       "tailor       0.036241\n",
       "driver       0.029323\n",
       "carpenter    0.026366\n",
       "grocer       0.020802\n",
       "lawyer       0.019879\n",
       "painter      0.016255\n",
       "liquor       0.015674\n",
       "beer         0.014935\n",
       "Name: std_occupation, dtype: float64"
      ]
     },
     "execution_count": 19,
     "metadata": {
      "tags": []
     },
     "output_type": "execute_result"
    }
   ],
   "source": [
    "output_1880['std_occupation'].value_counts(normalize = True).head(10)"
   ]
  },
  {
   "cell_type": "code",
   "execution_count": null,
   "metadata": {
    "colab": {
     "base_uri": "https://localhost:8080/",
     "height": 50
    },
    "colab_type": "code",
    "id": "2_5UjijFyNfS",
    "outputId": "44979303-92b6-453f-e133-2b76b9ac69aa"
   },
   "outputs": [
    {
     "name": "stdout",
     "output_type": "stream",
     "text": [
      "7095\n",
      "4032\n"
     ]
    }
   ],
   "source": [
    "print(len(output_1880['Occupation'].unique()))\n",
    "print(len(output_1880['std_occupation'].unique()))"
   ]
  },
  {
   "cell_type": "code",
   "execution_count": null,
   "metadata": {
    "colab": {
     "base_uri": "https://localhost:8080/",
     "height": 50
    },
    "colab_type": "code",
    "id": "1ozRiRBtybJQ",
    "outputId": "10072e83-47ea-47e6-9158-61769a90e958"
   },
   "outputs": [
    {
     "name": "stdout",
     "output_type": "stream",
     "text": [
      "7673\n",
      "3872\n"
     ]
    }
   ],
   "source": [
    "print(len(output_1850_mn['Occupation'].unique()))\n",
    "print(len(output_1850_mn['std_occupation'].unique()))"
   ]
  },
  {
   "cell_type": "code",
   "execution_count": null,
   "metadata": {
    "colab": {
     "base_uri": "https://localhost:8080/",
     "height": 50
    },
    "colab_type": "code",
    "id": "YzeHTai3ybV-",
    "outputId": "64eae4c5-c85e-4565-c596-1f8eb932fa77"
   },
   "outputs": [
    {
     "name": "stdout",
     "output_type": "stream",
     "text": [
      "1832\n",
      "1226\n"
     ]
    }
   ],
   "source": [
    "print(len(output_1850_bk['Occupation'].unique()))\n",
    "print(len(output_1850_bk['std_occupation'].unique()))"
   ]
  },
  {
   "cell_type": "markdown",
   "metadata": {
    "colab_type": "text",
    "id": "62sWwYJNzWCy"
   },
   "source": [
    "check if full name is null what is the address field\n",
    "\n",
    "extract the string before occupation word present in full address and replace null full names with it \n",
    "\n",
    "clean the address field by removing the entire string before the occupation field"
   ]
  },
  {
   "cell_type": "code",
   "execution_count": null,
   "metadata": {
    "colab": {},
    "colab_type": "code",
    "id": "hcAOtQIvzU0o"
   },
   "outputs": [],
   "source": [
    "output_1850_bk['Full Address'] = output_1850_bk['Full Address'].str.replace('â€™','an')\n",
    "output_1850_mn['Full Address'] = output_1850_mn['Full Address'].str.replace('â€™','an')\n",
    "output_1880['Full Address'] = output_1880['Full Address'].str.replace('â€™','an')"
   ]
  },
  {
   "cell_type": "code",
   "execution_count": null,
   "metadata": {
    "colab": {
     "base_uri": "https://localhost:8080/",
     "height": 911
    },
    "colab_type": "code",
    "id": "IAVsb5Kv1oCq",
    "outputId": "8ba5309c-a03b-4b45-96a4-16ae2893f97a"
   },
   "outputs": [
    {
     "name": "stdout",
     "output_type": "stream",
     "text": [
      "Anderson Rob’t G,inspector of stone U S dry dock 271 Pearl ston\n",
      "Baldwin Phineas & Co,grocers Myrtle av c Adams\n",
      "Bergen Peter comptroller 25 Hicks c Poplar\n",
      "Birch John S,printer Smith n Sackett\n",
      "Bisbee L , Sec. U S Life Ins Co 65 Lawrence\n",
      "Boyle Edward,laborcr Warren n Smith\n",
      "Buckey William,jeweller 145 Concord\n",
      "Burrell Emely,* cupper and leecher 24-0 Fulton\n",
      "BurtisDivine,ship builder prop’r of marine railway 160 Front\n",
      "Carpenter Thomas , Prest Kings Co Mutual Ins co 40 Fub ton h SS Pierrepont\n",
      "Christy Nicholas laborer 27 State\n",
      "Clary William,engineer Kent n Park av\n",
      "Corcoran Thomas,laborer Pacific op railroad\n",
      "Davine Thomas tailor 89 Fulton h 246 Myrtle av\n",
      "Davison William,florist Livingston c Smith\n",
      "Evarts Martin,carpenter Clinton n Park av\n",
      "Flaherty John,stone cutter Myrtle c Car]ton av\n",
      "Fountain . hatter 160 Hudson av\n",
      "Frost William seaman 132 Prospect\n",
      "Garrity William,grocer 240 Hudson av\n",
      "Hampson Robert , L I Marble Works Atlantic n Court h 210 Atlantic\n",
      "Hull William , Cashier Brooklyn Savings’ Bank 2 Concord\n",
      "Hunter & Manley’s distillery Doughty n McKenney\n",
      "Jones William,bootfitter Gold c Concord\n",
      "Joyce Milesj express agent 48 Buller\n",
      "Leary Timothy,junk dealer c Maiden lane and Water N Y h 8 Sackett\n",
      "Manley & Embury’s distillery Tillary c Gold\n",
      "Morehouse Joshua shoemaker 169 Carll n Willoughby\n",
      "MGuire Thomas butcher Tillary c Hudson av\n",
      "MGuire William^ shoemaker Car)l c Myrtle\n",
      "Nichols & Van Voort,grocers Jamaica rd c Hampden st\n",
      "Place Daniel,rm.ilk.inan Nostrand n DeKalb av\n",
      "Prince J W & Co,west India grocery 66 Atlantic\n",
      "Quinn John,laborer Jay c Harper court\n",
      "Ramsey Miss Elizabeth dressmaker 219 Fulton\n",
      "Richardson Benjamin,shoemaker Raymond n Lafayette\n",
      "Russell Samuel laborer 21st st n 5th av Gowanus\n",
      "Sweeney proprietor\n",
      "SERVANTS of all descriptions to beliad at No. 223 Fulton\n",
      "Simpson James S,grocer Columbia c Harrison\n",
      "Smith Alfred S,.milkman Dean n Vanderbilt av\n",
      "Smitten Samuel clerk 23 Lafayette av\n",
      "Spooner & Paddock attorneys and counsellors office 3 Front\n",
      "Story & Shaw grocers 118 Fulton\n",
      "Taney Charles & Co,grocers Smith c Douglass\n",
      "Thompson Francis carpenter 49 Bergen n Smith\n",
      "Trow William^ bookbinder 331 Gold n Fulton av\n",
      "Tyler George gardener 144 Nassau\n",
      "Unger J & Co shoe store Myrtle n Carlton av\n",
      "deeds 45 Fulton h 138 High oorhees Judah B,county clerk’s officeh 21 Lawrence\n",
      "VOORHEES & SNEDEKER dry goods 165 Fulton\n",
      "Van Voorhis William II,builder Franklin n Myrtle av\n",
      "MaterhouseC C,lumber mer. Columbian Baltich Columbia c President\n",
      "White & Kirk,sash and blind makers Livingston c Bond\n",
      "54\n"
     ]
    }
   ],
   "source": [
    "\n",
    "output_1850_bk.loc[(output_1850_bk['new_occ_found'] != 'FALSE') & (output_1850_bk['Full Name'].isnull()),['Full Address']]\n",
    "count = 0\n",
    "for i in range(1,len(output_1850_bk)):\n",
    " if ((str(output_1850_bk.loc[i,'new_occ_found']) != 'False') & (str(output_1850_bk['Full Name'][i]) =='nan') &  (str(output_1850_bk['Occupation'][i]) in str(output_1850_bk['Full Address'][i]).lower())):\n",
    "    #output_1850.loc[str(i),'Widow of'] = output_1850['Full Address'][str(i)].split()[2]\n",
    "    #output_1850.loc[str(i),'Full Address'] =\" \".join(output_1850['Full Address'][str(i)].split()[3:])\n",
    "    print(str(output_1850_bk['Full Address'][i]))\n",
    "    count = count + 1\n",
    "\n",
    "print(count)"
   ]
  },
  {
   "cell_type": "code",
   "execution_count": null,
   "metadata": {
    "colab": {
     "base_uri": "https://localhost:8080/",
     "height": 1000
    },
    "colab_type": "code",
    "id": "0ToD1NbH8Px1",
    "outputId": "a6ae887d-458f-40a3-babd-066d3ca96d4e"
   },
   "outputs": [
    {
     "name": "stdout",
     "output_type": "stream",
     "text": [
      "Anthony Alex.butcher,Wash’ton mkt,h.12 Bethune\n",
      "AUGUSTA (Georgia) INSURANCE & BANKING Co. 76 Wall\n",
      "Bacon Sherman 5. mer. 132 Water\n",
      "Bay John,'laborer , E. 13th n. Av. B.\n",
      "Blauvelt Rich’d D.chairs,89 Bowry , h.196.5 Chrystie\n",
      "Brewster Jas.& Sons,carriages,396 B.way,h.N.Haven\n",
      "Brewster Jas. B.carriages,396 B. way ,h. 31 Dominick\n",
      "C1TIZENS’ FIRE INSURANCE CO. 67 Wall & 167 Bowery\n",
      "City Fire Insurance Co. 61 Wall\n",
      "CONNECTICUT MUTUAL LIFE INSURANCE\n",
      "Cutter Thos. R.carpenter,2 Gouv’nr la.h.331Cherry\n",
      "Donahue Thomas,'laborer , W. 30th n. Broadway\n",
      "Doubleday Elisha,stationery,40 John,h.Cooperstown\n",
      "Doubleday Ulysses E.stationery,40 John,h.208 Henry\n",
      "Draper George B. (Rev.) 127 Macdougal\n",
      "Dusenbury William E.tinsmith,97 Broa*l,h. 17 Stone\n",
      "EAST RIVER INSURANCE CO. 69 Wall\n",
      "Edwards Frank 8- druggist , 186 Av. 6\n",
      "EQUITABLE INSURANCE CO. 58 WaH\n",
      "Everdell James & Co.engravers,2 Wall & 302 Broadway, h. 22 Bleecker\n",
      "Fanshaw Samuel R.artist,247 B.way,h.Westchester\n",
      "FARMERS’ LOAN & TRUST CO. 28 Exchange pl.\n",
      "FRANKLIN F1RE INSURANCE CO. 44 William\n",
      "Frisbie Myron J.rubbershoes,248 Pearl , h.610 Houstn\n",
      "Gans Simon M.clothing,113 Roosevelt , 11.113 Cherry\n",
      "GENERAL MUTUAL INSURANCE CO. 50 Wall\n",
      "Graves R.R.merchant,74 Pine,h.107 Henry , Brooklyn\n",
      "Haight Henry,butcher,41 Rose & 100 Av.CJ,h.Fourth b. Avs. C&D\n",
      "Haight Townsend D.stables,77 Houston , 11.276 Tlnrd\n",
      "Hardcastle ColesD.stairbuilder,—Allen,h.118 Lewis\n",
      "Hayes John,chairmaker,104 Delancy,h.96 Rivington\n",
      "Hetherington Elizabeth,dressmaking,229 Mulberry\n",
      "Holmes Francis H.grocer,182 West,h.404Grecnwich\n",
      "Holsten John,grocer,215 Rivington,h.215 R,ivington\n",
      "Hosford Frederick J.stationer,50 Wall,h.l60 Bridge , Brooklyn\n",
      "HOWARD INSURANCE CO. 66 Wall\n",
      "Huner Dederich &Co.grocers,121 Ridge , 11.121 Ridge\n",
      "Hutchinson Ambrose (col’d) porter,513 Washington\n",
      "Johnson Henry,brassfounder,48 Duane,h.Morrisania\n",
      "Jurgens Ferdinand (Rev.) 176 Stanton\n",
      "Kaagan John stonemason 170 W. 20th\n",
      "Kellers John Frederick,grocer,2 Jones & 172 Fourth, h. 172 Fourth\n",
      "Kelley Francis E.marblecutter,80.5 King,h.80.5 King\n",
      "Kernan Rosanna,135 Amity\n",
      "King Bennet,pawnbroker,97 Canal and importer,173 Water, h. 97 Canal\n",
      "Kingston Lime & Cement Co. 271 Pearl & 412 West\n",
      "Lane & Scott,publishers,138 Nassau & 200 Mulberry\n",
      "Langhaar John,grocer,34 Rivington,h.34 Rivington\n",
      "Lanphear Samuel,tailor,46 Av. 3,h.Twelfth c.Av. 3\n",
      "Luckey Joseph N.oildealer,44 Cortlandt,h.27 Hubert\n",
      "Luckey Samuel,drygoods,17 Cortlandt,h.27 Hubert\n",
      "Ludlam William,grocer,124 Beekman,h.70 Seventh\n",
      "Luhrs JohnH.grocer,57 Frankfort,h.10 Vandewater\n",
      "Lullman John,grocer,573 Greenwich,h. 573 G.wich\n",
      "Macgregor Mrs. John jr. 8 Washington square\n",
      "MAGNETIC TELEGRAPH CO. 5 Hanover\n",
      "Mangam Darius R.accountant,33 Pine,h.110 Chrystie\n",
      "MANHATTAN FIRE INSURANCE CO. 68 Wall\n",
      "MANNERS DAVID S.grocer,226 Fulton,h.Jersey c\n",
      "Manning Robert,lawyer,192 Broadway,h.13 Murray\n",
      "MERCHANTS’ EXPRESS CO. 2 Wall\n",
      "MERCHANTS’ F1REINSURANCECO. 175 Greenwich\n",
      "Moody saw mill , W. 36 c. Av. 10\n",
      "Moore Henry jr. sashmaker,329 Broome , h.73 Hester\n",
      "MUTUAL SAFETY INSURANCE CO. 56 Wall\n",
      "NEWARK INDIA RUBBER MANUFACTURING CO. 59 Maiden la. factory at Newark , N. J. , H. Hutchinson , president\n",
      "NEW YORK BOWERY FIRE INSURANCE CO. 124 Bowery\n",
      "NEW YORK INSURANCE CO,-50 Wall\n",
      "NEW YORK LIFE INSURANCE CO. 106 B. way\n",
      "NEW YORK & ERIE TELEGRAPH CO. 5 Hanover\n",
      "NORTH RIVER INSURANCE CO. 192 Greenwich\n",
      "Paulson Leonard,tailor,140 B.way ,h.1O5 Hoyt,B’klyn\n",
      "Payton Joseph,ironfounder,265 Cherry , h.2 Rutgers\n",
      "Pearse Augustus F.painter,325 Fourth.h.155 W.llth\n",
      "Pine Joseph,carriagemaker,119 Walker,h.201 Hester\n",
      "Ransom Jonathan H boots,.32 Cortland,h.109 Second\n",
      "R1CH GEORGE C. straw goods,169 Pearl , h.B’klm\n",
      "Roberts John mer. 62 Av. 9, h. Ohio\n",
      "Scovill Manufacturing Co. 57 Maiden lane\n",
      "Sherman WalterB.trunks,172 Chrystie & 408 Grand, h. 557 Broadway\n",
      "Sherwood James M. (Rev.) editor 120 Nassau, h. 93 Willoughby , Brooklyn\n",
      "SH1PPING & COMMERCIAL LIST , 158 Pearl\n",
      "Smith Edward,grocer,136 W.Broadway,h.l Walker\n",
      "Smith George,furniture,203 Wooster,h.203 Wooster\n",
      "Smith Harvey W.physician,254 Av.10,h,243 W.27th\n",
      "Squire Lewis L.shipchandler,283 Front,h.64Monroe\n",
      "Stewart Thomas J.cottonbroker.88 Wall,bds.23 Fifth\n",
      "STRONG W1LLIAM K. wool mer. 285 Pearl, h. 40 Union pl.\n",
      "TaylorGeorge L.lawyer,20 Beekman,h.480Houston\n",
      "Thompson Nancy (col’d) 42 Thomas\n",
      "UNITED STATES LIFE INSURANCE CO. 27 Wall\n",
      "Washburn Willett L.artist,7.5 Bow'ery,h.7.5 Bowery\n",
      "Wilder George,hatpresser,155.5 Chrystie,h.252 Av.8\n",
      "Wildes Thomas,metals,30 Old sl.h.234 Bridge,Bkiyn\n",
      "WILLIAMS & STEVENS,lookingglasses,353 B.way\n",
      "95\n"
     ]
    }
   ],
   "source": [
    "\n",
    "output_1850_mn.loc[(output_1850_mn['new_occ_found'] != 'FALSE') & (output_1850_mn['Full Name'].isnull()),['Full Address']]\n",
    "count = 0\n",
    "for i in range(1,len(output_1850_mn)):\n",
    " if ((str(output_1850_mn.loc[i,'new_occ_found']) != 'False') & (str(output_1850_mn['Full Name'][i]) =='nan') &  (str(output_1850_mn['Occupation'][i]) in str(output_1850_mn['Full Address'][i]).lower())):\n",
    "    print(str(output_1850_mn['Full Address'][i]))\n",
    "    count = count + 1\n",
    "\n",
    "print(count)"
   ]
  },
  {
   "cell_type": "code",
   "execution_count": null,
   "metadata": {
    "colab": {
     "base_uri": "https://localhost:8080/",
     "height": 1000
    },
    "colab_type": "code",
    "id": "9FK743qPDCB8",
    "outputId": "63406300-69e1-49f5-a8d3-a1bb6b15e1c4"
   },
   "outputs": [
    {
     "name": "stdout",
     "output_type": "stream",
     "text": [
      "Zachgow August,turner,371 W. 48th,h 530 W.47th\n",
      "Yale Lock Mfg. Co. 53 Chambers\n",
      "Wrought Iron Asphalted Pipe Co. 550 E. 117th\n",
      "Woodbridge Chas. L.trimmings,30(1 B’way,h B'klyn\n",
      "Woodle Leopold.stenographer.5 Dey,h 273 Seventh\n",
      "Wilson Adjustable Iron Chair Mfg. Co. 661 B’way\n",
      "Williamson George V.produce,651 Hudson.h B'klyn\n",
      "Wiebusch & Hilger Hardware Co. 84 Chambers\n",
      "Whitney (refused) banker. 18 Broad\n",
      "White Gilbert H.clerk,City Hall,h Gramercy pk. h.\n",
      "Whedon Daniel D. (Rev.) editor,805 B’wayth N. J.\n",
      "Werner Solomon,clothing. 459 B’way,h 319 W. 31st\n",
      "Welling Compressed Ivory Mfg. Co. 251 Centre\n",
      "Weehawken Coal Co. 608 Washn. Centre c Chambers & 148 W. 4th\n",
      "Weekly Underwriter (The) 5 Cortlandt\n",
      "Warren Chemical & Mfg. Co. 88 Maiden la.\n",
      "W.arner Fred. W.manager. 28 W.14th,h 165 W. 23d\n",
      "Walton Chemical Co. 205 Prince\n",
      "Vooth Herman C.liquors.145 Third av.h 345 E.16th\n",
      "Volkmar Dan’l P.barber,17 Third av. h 122 Seventh\n",
      "Vannostrand John,fish,69 Centre mkt,h 58 Spring\n",
      "Vanhorn Lumber Co. 57 Ninth av.\n",
      "Valkenburgh David’ segars’ 1109 B’way,h 210 E.\n",
      "Union Transportation Co. Pier 38 N. R.\n",
      "U. S. Warehouse Co. 216 B’way\n",
      "Universal Compressor & Pump Co. 110 Liberty\n",
      "Underwriter Printing & Pub. Co. 5 Cortlandt\n",
      "Union Paper Box Co. 161 W. 29th\n",
      "Tuttle H.Croswell,lawyer,32 Park pl. h 473 Hudson\n",
      "Turner & Seymour Mfg. Co. 49 Chambers\n",
      "Topolowsky Moses.printer,128 Canal,h 48 Chrystie\n",
      "Toense Rudolph,suits,201 Church,h 429 Second av.\n",
      "Tintaher George M.furniture,154th n Courtland av.\n",
      "Terhune Chas. F.jeweler,16 Maiden la. h 159 E. 72d\n",
      "Terhune Fred.cooper.26 Water,h 289 Union,B’klyn\n",
      "Taylor & Dupuy,pianos.101 Bleecker & 178 Wooster\n",
      "Stietz Otto , N. Y. Glass Letter Co. 84 Chambers\n",
      "Stephens & Condit Transportation Co. Pier 22\n",
      "Steam Heating & Power Co. 16 Cortlandt\n",
      "Steck Chas.E.manager,2 Liberty,h 144 38th.B’klyn\n",
      "Star Newspaper Co. 26 N. William\n",
      "Star Rubber Co. 16 Chambers\n",
      "Standard Chemical Co. 114 Pearl\n",
      "Smith Frances M dressmkr 14 Sixth av.\n",
      "Slone William,bdgh. 22 West\n",
      "Simon Theodore drugs,1470 Third av. h 175 E. 83d\n",
      "Sheckelton Christopher,painter,h 101 St. Mark’s pl.\n",
      "Shedlock Alfred,patents,34 Park row',h 447 E. 118th\n",
      "Shaw Joshua B.broker,206 B’way,h 28 Waverely pl.\n",
      "Sexton Bernard,insp.h 640 E. 12th\n",
      "Seaman Robert F.paints,38 Burling sl.hSSO W.48th\n",
      "Schukraft John,builder,159 Orchard,h 154 Orchard\n",
      "Schneckenburger Jacob,cabinetmkr.h 847 First av.\n",
      "Satterley Chas.cartman.20 Murray,h 516 Ninth av.\n",
      "Samter Julius M.clothing,550 B’way,h 317 W. 46th\n",
      "Safeguard Fire Ins. Co. 46 Pine & 58 Bond\n",
      "Rochester Transportation Co. 21 South & Pier 6\n",
      "Reynolds Matthew,plater,1375 B’way,h 420 W.45th\n",
      "Rand & Waring Drill & Compressor Co. 21 Park\n",
      "Quicksilver Mining Co. 19 Nassau\n",
      "Prall N. Y. Heating Co. 61 B’way\n",
      "Poughkeepsie Transportation Co. Pier 35 N. R.\n",
      "Pollack Samuel,glazier,904 Third av.h 916 Third av.\n",
      "Plumber & Sanitary Engineer. 140 William\n",
      "Paper Trade Reporter. 37 Dey\n",
      "Oil. Paint & Drug Reporter. 42 Cedar\n",
      "Ocean Transportation Co. (Limited) 5 Bowling gr ,\n",
      "Oaker Benjamin G.printer,374 Bowery,h 134 W. 4th\n",
      "Norwich & N. E. Transportation Co. Pier40 N.R.\n",
      "North German Lloyds Steamship Co. 2 Bowling gr.\n",
      "Nordstjernan. 241 B’way\n",
      "Newcome Thos.liquors,2299 Third av. h 298 E.123d\n",
      "N. Y. Newspaper Union. 148 Worth\n",
      "N. Y. Vulcanized Lumber Co. 494 W. 57th\n",
      "N. Y. Warehouse & Security Co. 74 Wall\n",
      "N. Y’. & Phila. Coal & Stone Transportation Co. 237 B’way\n",
      "N. Y. Chemical Disinfection Co. 222 Pearl\n",
      "N. Y. Chemical Mfg. Co. 3 E. 4th\n",
      "N. Y. Lighterage & Transportation Co. 70 Wall\n",
      "National Printing Co. 18 Chambers\n",
      "Mulgrew Felix A.sawmill,425Eighth , 11301 Seventh\n",
      "from 7 to 9 p,h 62 Madison av.\n",
      "Moulton Henry S.printer,98 Mercer.h 278 W. llth\n",
      "Moore Fred. L.banker,66 Exchange pl. h 124 W. 43d\n",
      "Monitor Tinplate & Galvanizing Co. 54 Cliff\n",
      "Mills Rob t A.tobacco,30 Broad,h Grand Central h.\n",
      "Mills Samuel M.banker,47 B’way,h 259 Madison av.\n",
      "hours 8 to 11 a. m. & 5 to 7 p. m. 207 E. 13th\n",
      "Metropolitan Plate Glass Ins. Co. 61 Liberty\n",
      "Metropolitan Steamship Co. Pier 11 N. R.\n",
      "Metropolitan Throat Hospital. 314 E.. 45th\n",
      "Merchants’ Dispatch Transportation Co. 335 B’way & 119 Front\n",
      "Merchants & Miners’ Transportation Co. 262 South & Pier 49 E. R.\n",
      "Mendel Marx W.segars,15.5 Bowery.h St. James’ h.\n",
      "Meadowcroft Wm. H.clerk,346 B'way,h 320 W.22d\n",
      "Maynard Chemical Co. (Limited) 424 Washn.\n",
      "Mead Edw’d H.plumber,992 Sixth av. h 77 W. 55th\n",
      "Mayer Morris,embroideries,373 B’way,h136E. 61st\n",
      "Martin Thomas,plumber,256 Sixth av.h 149 W.27th\n",
      "Marchal & Smith Piano Co. 8 W. 11th\n",
      "Manhattan Chemical Co. 78 Water\n",
      "Maine Steamship Co. Pier 38 E. R.\n",
      "Maguire Frank J.cotton,1 William,h 73 Joralemon , B’klyn\n",
      "McMahon John,painter,344 W. 42d.h 571 Ninth av.\n",
      "McKiernan Leonard (Rev.) h 106 Sullivan\n",
      "McKegney Patrick,mason,h W.124th n Seventh av.\n",
      "McCue Patrick,liquors,314 Tenth av. h 457 W. 28th\n",
      "office building) h 433 W. 73d\n",
      "McCann Patrick,liquors,340 W. 16th,h 252 W. 19th\n",
      "Lunney Wm.H. painter,105 Fourth av.h 353E.10th\n",
      "Lloyds Plate Glass Ins. 176 B’way\n",
      "Little Keystone Mining Co. 58 B’way\n",
      "Levy Benjamin M real estate. 3.5 Division\n",
      "Leonhardt Jacob M.marble,418 E.23d,h 339 E.21st\n",
      "Leddy Hugh E.plumber,877 Third av. h 336 E. 53d\n",
      "Li ddy Patrick.plasterer,877 Third av. h 336 E. 53d\n",
      "King RichardW.broker,31 Broad,h Gramercy pk. h.\n",
      "Kennedy Jos.drygds.273 Grand,h 380 Pearl. B'klyn\n",
      "Keith F.Wayland.drugs,41 Liberty,h Stamford,Ct.\n",
      "Kahlsdorf Herman,liquors,102 Duane,h 212 G’wich\n",
      "Kahn Alphonse,shirts,50 Leonard,h 2 Livingston pl.\n",
      "Jordan Iron & Chemical Co. 56 Pine\n",
      "Jones-Bonanza Mining Co. 3 Broad\n",
      "International Chemical Co. 28 W. 14th\n",
      "Inman Steamship Co. 31 B’way & Pier 37 N. R.\n",
      "Indian River Railway & Transportation Co. 58\n",
      "Hurd Chemical Co. 149 Reade\n",
      "Honduras (consulate of) 35 B’way\n",
      "Hide & Leather Club. 1 Ferry\n",
      "Hecht Jos. M.drygds.767 Eighth av. h 220 W. 40th\n",
      "Hastings Waitstill,oils,121 Maiden la. h 150 Henry , B’klyn\n",
      "Harris Michael J.mason,447 Third av.h 243 E. 31st\n",
      "Hannis Distilling Co. 9 Whitehall\n",
      "Hammond Wm. K.brick,628 W.30th,h 351 W.27th\n",
      "Haag Gustave,cutler,113 Canal & 99 Elm,h 58 King\n",
      "G uatemala (Consulate of) 35 B’way\n",
      "Grannan Charles P. (Rev.) h 329 W. 42d\n",
      "Goldsmith Henry segarmkr. 238 E. 55th\n",
      "Gold & Stock Telegraph Co. 197 , 58 , 61. 198 & 957 B’way , 48 New. 38 Whitehall , 348 Canal , 46E.\n",
      "Glens Falls Transportation Co. 87 Dey & Pier 10\n",
      "Gehegan Michael,builder,232 E. 35th,h 234 E. 35th\n",
      "Galindo Edwin A.frames.40 Dey. h 150th n Mott av.\n",
      "Fouqu6 Mary L. dressmkr. 181 Lex. av.\n",
      "Fletcher Gold & Silver Mining Co. 52 B’way\n",
      "FARMILOE JAMES,crockery,42 Barclay,h Eng.\n",
      "Ewer Ferdinand C. (Rev.) h 152 W. 46th\n",
      "Erdensalz Chemical Co. 120 Liberty\n",
      "England Edwin E.news,865 Sixth av.h 232 W. 17th\n",
      "Empire Transportation Co. Ill B’way & Pier 38\n",
      "Emerson Gold & Silver Mining Co. 115 B’way\n",
      "DuyckinckWm.D.clothing,707B’way,h 364 W.15th\n",
      "Dunbar Box & Lumber Co. 282 Eleventh av.\n",
      "Depken Gerhard,grocer.795 Ninth av.h 400 W.53d\n",
      "Deraismes John A.brushes,300 B’way,h 35 W.24th\n",
      "Davenport Consolidated Mining & Smelting Co. 229 B’way\n",
      "Danish Consulate. 52 B'way\n",
      "Daly David,express,90 William,h 148th c Third av.\n",
      "Cunard Steamship Co. (Limited) 4 Bowling gr. & Pier 40 , N. R.\n",
      "CULYER CHARLES R. Sexton of tiie Church of the Covenant , Park avenue c 35th st. &\n",
      "Courtney Rob’t W.drygds.521 G’wich,h 523 G’wich\n",
      "Cornell H’y D.bookkeeper,60 Liberty,h 350 E. 15th\n",
      "Commercial Warehouse Co. 71 B’way\n",
      "Coffin H’y mer. 87 Maiden la. h 254 Henry , B’klyn\n",
      "City Chemical Co. 101 N. Moore\n",
      "Christy Nicholas,builder.136W.25th,h 130W , 25th\n",
      "Cheritree Hardware Co. 97 Chambers & 79 Reade\n",
      "Champion Comstock Mining Co. 1 Park pl.\n",
      "Cashman Michl.agent , H. 12 E. 31st,h 308 Fifth av.\n",
      "Carvalho Heating & Super-heating Co. 107 Lib-\n",
      "Cars Wm. H.labels,204 Fulton,h Lex.av. n E.125th\n",
      "Carr Jame-s real estate. 422 Broome,h 296 Lex , av.\n",
      "Bullion (newspaper) 52 Wall\n",
      "Buffalo Transportation Co. 14 South & Pier 6\n",
      "Buchanan JohnM. (Rev.) h 200 W. 56th\n",
      "Bruckhof Louis,grocer.777 Third av. h 201 E. 48th\n",
      "Brosi Louis,chopper,180 E.119th,h 2206 Second av.\n",
      "Bronx Wool & Leather Co. 29 Spruce & West\n",
      "Brode Fred.plumber,889 Tenth av.h 943 Ninthav.\n",
      "Bridgeport Brass Co. 19 Murray\n",
      "Bridgeport Steamboat Co. Pier 35. E. R.\n",
      "Bridgeport Wood Finishing Co. 40 Bleecker\n",
      "Brennan Joseph P. (Rev.) h 40 W. Washn , pl.\n",
      "Brennan Patrick W. (Rev.) h 308 E. 37th\n",
      "Brass Goods Mfg. Co. 43 Chambers\n",
      "Bonanza Chief Gold Mining Co. 18 Wall\n",
      "Black Hills Placer Mining Co. 37 Wall\n",
      "BieberWm.clothing,70 Mercer,h HlBridge,B’klyn\n",
      "Bettman David,drygds.33White,h644 Madison av.\n",
      "Bernhard Bernhard,drygds.38 Walker,h 122 E. 62d\n",
      "Baxter Steam Canal Boat Transportation Co. 54 Exchange pl.\n",
      "Bay State Shoe & Leather Co. 91 Chambers\n",
      "Barrett John,painter,252 W.29th,h 368 Eighth av.\n",
      "Atlas Steamship Co. 37 Wall & Pier 44 N. R.\n",
      "Ansbacher Leopold,pencils,710 E.llth h 41 E lllth\n",
      "Am. Hardware Co. 113 Chambers\n",
      "Am. Refrigerator & Transportsition Co. 5 Dey\n",
      "Alden Preserving Co. 304 G’wich\n",
      "Abbott Mining Co. 123 Chambers\n",
      "198\n"
     ]
    }
   ],
   "source": [
    "\n",
    "output_1880.loc[(output_1880['new_occ_found'] != 'FALSE') & (output_1880['Full Name'].isnull()),['Full Address']]\n",
    "count = 0\n",
    "for i in range(1,len(output_1880)):\n",
    " if ((str(output_1880.loc[i,'new_occ_found']) != 'False') & (str(output_1880['Full Name'][i]) =='nan') &  (str(output_1880['Occupation'][i]) in str(output_1880['Full Address'][i]).lower())):\n",
    "    print(str(output_1880['Full Address'][i]))\n",
    "    count = count + 1\n",
    "\n",
    "print(count)"
   ]
  }
 ],
 "metadata": {
  "colab": {
   "collapsed_sections": [],
   "name": "All CD Occupation standarization code.ipynb",
   "provenance": []
  },
  "kernelspec": {
   "display_name": "Python 3",
   "language": "python",
   "name": "python3"
  },
  "language_info": {
   "codemirror_mode": {
    "name": "ipython",
    "version": 3
   },
   "file_extension": ".py",
   "mimetype": "text/x-python",
   "name": "python",
   "nbconvert_exporter": "python",
   "pygments_lexer": "ipython3",
   "version": "3.8.5"
  }
 },
 "nbformat": 4,
 "nbformat_minor": 1
}
