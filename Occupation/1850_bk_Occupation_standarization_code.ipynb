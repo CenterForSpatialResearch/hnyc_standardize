{
  "nbformat": 4,
  "nbformat_minor": 0,
  "metadata": {
    "colab": {
      "name": "1850 bk Occupation standarization code.ipynb",
      "provenance": [],
      "collapsed_sections": []
    },
    "kernelspec": {
      "name": "python3",
      "display_name": "Python 3"
    }
  },
  "cells": [
    {
      "cell_type": "code",
      "metadata": {
        "id": "kfMQCWKNw282",
        "colab_type": "code",
        "colab": {
          "base_uri": "https://localhost:8080/",
          "height": 70
        },
        "outputId": "f6942e29-2617-4c75-fba3-d3e8061bc2e0"
      },
      "source": [
        "# Load libraries\n",
        "import missingno as msno \n",
        "import re\n",
        "import pickle\n",
        "import pandas as pd\n",
        "import numpy as np\n",
        "\n",
        "import sys\n",
        "np.set_printoptions(threshold=sys.maxsize)"
      ],
      "execution_count": null,
      "outputs": [
        {
          "output_type": "stream",
          "text": [
            "/usr/local/lib/python3.6/dist-packages/statsmodels/tools/_testing.py:19: FutureWarning: pandas.util.testing is deprecated. Use the functions in the public API at pandas.testing instead.\n",
            "  import pandas.util.testing as tm\n"
          ],
          "name": "stderr"
        }
      ]
    },
    {
      "cell_type": "code",
      "metadata": {
        "id": "ThY0PA8_qeXE",
        "colab_type": "code",
        "colab": {}
      },
      "source": [
        "output_1850_mn = pd.read_csv(\"/content/output_1850_mn.csv\", index_col=0, low_memory= False)\n",
        "output_1850_bk = pd.read_csv(\"/content/output_1850_bk.csv\", index_col=0, low_memory= False)\n",
        "output_1880 = pd.read_csv(\"/content/output_1880.csv\", index_col=0, low_memory= False)\n",
        "\n"
      ],
      "execution_count": null,
      "outputs": []
    },
    {
      "cell_type": "code",
      "metadata": {
        "id": "ykJI7eSZw53n",
        "colab_type": "code",
        "colab": {}
      },
      "source": [
        "# Load Data\n",
        "with open('/content/mn_final_output.pkl', 'rb') as f:\n",
        "    output_1850 = pickle.load(f)\n",
        "    \n",
        "with open('/content/final_output.pkl', 'rb') as f:\n",
        "    output_1880 = pickle.load(f)\n",
        "    \n",
        "with open('/content/bk_final_output.pkl', 'rb') as f:\n",
        "    output_1850_bk = pickle.load(f)\n",
        "    \n",
        "# Replace empty strings with NaN values\n",
        "output_1850.replace('', np.nan, inplace=True)\n",
        "output_1880.replace('', np.nan, inplace=True)\n",
        "output_1850_bk.replace('', np.nan, inplace=True)"
      ],
      "execution_count": null,
      "outputs": []
    },
    {
      "cell_type": "markdown",
      "metadata": {
        "id": "57DrUL3MZVPU",
        "colab_type": "text"
      },
      "source": [
        "Clean widow flags"
      ]
    },
    {
      "cell_type": "markdown",
      "metadata": {
        "id": "fh6tFyRYZqHu",
        "colab_type": "text"
      },
      "source": [
        "1850 brooklyn"
      ]
    },
    {
      "cell_type": "code",
      "metadata": {
        "id": "z4j6SOHNNm7-",
        "colab_type": "code",
        "colab": {
          "base_uri": "https://localhost:8080/",
          "height": 33
        },
        "outputId": "bdb94df4-ef90-4b47-a702-e6c301e50296"
      },
      "source": [
        "# widow flag = true if full address contains widow word and widow flag was false\n",
        "\n",
        "len(output_1850_bk.loc[(output_1850_bk['Widow-flag'] == 'False')  &  (output_1850_bk['Full Address'].str.startswith('widow'))])"
      ],
      "execution_count": null,
      "outputs": [
        {
          "output_type": "execute_result",
          "data": {
            "text/plain": [
              "79"
            ]
          },
          "metadata": {
            "tags": []
          },
          "execution_count": 292
        }
      ]
    },
    {
      "cell_type": "code",
      "metadata": {
        "id": "GLn3D8byNm0y",
        "colab_type": "code",
        "colab": {}
      },
      "source": [
        "# widow flag = true if full address contains widow word and widow flag was false 79 rows modified\n",
        "output_1850_bk['Full Address'] = output_1850_bk['Full Address'].str.replace('widow of Henry ','')\n",
        "output_1850_bk['Full Address'] = output_1850_bk['Full Address'].str.replace('widow of P ','')\n",
        "output_1850_bk['Full Address'] = output_1850_bk['Full Address'].str.replace('widow of George. ','')\n",
        "output_1850_bk['Full Address'] = output_1850_bk['Full Address'].str.replace('widow of Gerrit ','')"
      ],
      "execution_count": null,
      "outputs": []
    },
    {
      "cell_type": "code",
      "metadata": {
        "id": "fzxBL3w4YxOV",
        "colab_type": "code",
        "colab": {}
      },
      "source": [
        "output_1850_bk.loc[(output_1850_bk['Widow-flag'] == 'False')  &  (output_1850_bk['H City'].str.startswith('widow of')), 'Widow Of'] = output_1850_bk.loc[(output_1850_bk['Widow-flag'] == 'False')  &  (output_1850_bk['Full Address'].str.startswith('widow of')), 'Full Address'].str.split().str[2]\n",
        "output_1850_bk.loc[(output_1850_bk['Widow-flag'] == 'False')  &  (output_1850_bk['H City'].str.startswith('widow of')), 'Widow-flag'] = 'True'\n",
        "output_1850_bk.loc[(output_1850_bk['Widow-flag'] == 'False')  &  (output_1850_bk['Full Address'].str.startswith('widow')), 'Widow-flag'] = 'True'\n",
        "output_1850_bk['Full Address'] = output_1850_bk['Full Address'].str.replace('widow ','')\n"
      ],
      "execution_count": null,
      "outputs": []
    },
    {
      "cell_type": "code",
      "metadata": {
        "id": "UQ6ZUA6ORhb7",
        "colab_type": "code",
        "colab": {}
      },
      "source": [
        "# widow flag = true if full address contains widow word and widow flag was false\n",
        "len(output_1850_bk.loc[(output_1850_bk['Widow-flag'] == 'False')  &  (output_1850_bk['Full Address'].str.startswith('widow'))])"
      ],
      "execution_count": null,
      "outputs": []
    },
    {
      "cell_type": "markdown",
      "metadata": {
        "id": "8iELxvabZvzL",
        "colab_type": "text"
      },
      "source": [
        "1850 manhattan"
      ]
    },
    {
      "cell_type": "code",
      "metadata": {
        "id": "UyfOcn1BZesr",
        "colab_type": "code",
        "colab": {
          "base_uri": "https://localhost:8080/",
          "height": 33
        },
        "outputId": "f997cc0b-ccaa-42de-8d71-c6fc2717affc"
      },
      "source": [
        "len(output_1850.loc[(output_1850['Widow-flag'] == 'False')  &  (output_1850['Full Address'].str.startswith('widow'))])"
      ],
      "execution_count": null,
      "outputs": [
        {
          "output_type": "execute_result",
          "data": {
            "text/plain": [
              "64"
            ]
          },
          "metadata": {
            "tags": []
          },
          "execution_count": 296
        }
      ]
    },
    {
      "cell_type": "code",
      "metadata": {
        "id": "KxpMgP15Zzb1",
        "colab_type": "code",
        "colab": {
          "base_uri": "https://localhost:8080/",
          "height": 927
        },
        "outputId": "f176ecec-741f-4bc1-c900-100de74effb7"
      },
      "source": [
        "print(output_1850.loc[(output_1850['Widow-flag'] == 'False')  &  (output_1850['Full Address'].str.startswith('widow of')), 'Full Address'].str.split().str[0:3])\n",
        "\n",
        "\n",
        "for i in range(1,len(output_1850)):\n",
        " if ((output_1850['Widow-flag'][str(i)] == 'False') & (str(output_1850['Full Address'][str(i)]).startswith('widow of'))):\n",
        "    output_1850.loc[str(i),'Widow-flag'] = 'True'\n",
        "    output_1850.loc[str(i),'Widow of'] = output_1850['Full Address'][str(i)].split()[2]\n",
        "    output_1850.loc[str(i),'Full Address'] =\" \".join(output_1850['Full Address'][str(i)].split()[3:])\n",
        "\n",
        " if ((output_1850['Widow-flag'][str(i)] == 'False') & (str(output_1850['Full Address'][str(i)]).startswith(\"widow' of\"))):\n",
        "    output_1850.loc[str(i),'Widow-flag'] = 'True'\n",
        "    output_1850.loc[str(i),'Widow of'] = output_1850['Full Address'][str(i)].split()[2]\n",
        "    output_1850.loc[str(i),'Full Address'] =\" \".join(output_1850['Full Address'][str(i)].split()[3:])\n",
        "\n",
        " if ((output_1850['Widow-flag'][str(i)] == 'False') & (str(output_1850['Full Address'][str(i)]).startswith(\"widow- of\"))):\n",
        "    output_1850.loc[str(i),'Widow-flag'] = 'True'\n",
        "    output_1850.loc[str(i),'Widow of'] = output_1850['Full Address'][str(i)].split()[2]\n",
        "    output_1850.loc[str(i),'Full Address'] =\" \".join(output_1850['Full Address'][str(i)].split()[3:])\n",
        "\n",
        " if ((output_1850['Widow-flag'][str(i)] == 'False') & (str(output_1850['Full Address'][str(i)]).startswith(\"widow’ of\"))):\n",
        "    output_1850.loc[str(i),'Widow-flag'] = 'True'\n",
        "    output_1850.loc[str(i),'Widow of'] = output_1850['Full Address'][str(i)].split()[2]\n",
        "    output_1850.loc[str(i),'Full Address'] =\" \".join(output_1850['Full Address'][str(i)].split()[3:])\n",
        "\n",
        "output_1850.loc[(output_1850['Widow-flag'] == 'False')  &  (output_1850['Full Address'].str.startswith('widow')), 'Widow-flag'] = 'True'\n",
        "output_1850['Full Address'] = output_1850['Full Address'].str.replace('widow ','')"
      ],
      "execution_count": null,
      "outputs": [
        {
          "output_type": "stream",
          "text": [
            "114           [widow, of, David.]\n",
            "1330           [widow, of, Sars.]\n",
            "4495           [widow, of, Ebrd.]\n",
            "5073          [widow, of, Daniel]\n",
            "7490           [widow, of, James]\n",
            "8503            [widow, of, Geo.]\n",
            "10465         [widow, of, James.]\n",
            "13098            [widow, of, Wm.]\n",
            "15929       [widow, of, Roswell.]\n",
            "16477     [widow, of, Thomas,'r.]\n",
            "18368     [widow, of, Frederick.]\n",
            "27884           [widow, of, Jos.]\n",
            "28658        [widow, of, Patrick]\n",
            "30353          [widow, of, John.]\n",
            "31766       [widow, of, William.]\n",
            "31768         [widow, of, Peter.]\n",
            "35213         [widow, of, Jacob.]\n",
            "35267          [widow, of, Benj.]\n",
            "35373    [widow, of, Stephen,.r.]\n",
            "38668          [widow, of, John.]\n",
            "40540       [widow, of, Henry,85]\n",
            "40872          [widow, of, Thos.]\n",
            "42012       [widow, of, William.]\n",
            "43465         [widow, of, (Rev.)]\n",
            "45315        [widow, of, Philip.]\n",
            "45960          [widow, of, Alex.]\n",
            "45966           [widow, of, Geo.]\n",
            "47727          [widow, of, Alex.]\n",
            "48452          [widow, of, James]\n",
            "49865         [widow, of, David.]\n",
            "50202       [widow, of, William.]\n",
            "50797           [widow, of, John]\n",
            "52363        [widow, of, Joshua.]\n",
            "52373         [widow, of, George]\n",
            "55151         [widow, of, Joseph]\n",
            "55186         [widow, of, Hiram.]\n",
            "55847     [widow, of, Frederick.]\n",
            "55981            [widow, of, Wm.]\n",
            "57924        [widow, of, Daniel.]\n",
            "59419     [widow, of, Frederick.]\n",
            "59985            [widow, of, 011]\n",
            "61191          [widow, of, John.]\n",
            "61518       [widow, of, William.]\n",
            "65800        [widow, of, Isaiah.]\n",
            "70316    [widow, of, Jeremiah,49]\n",
            "72904           [widow, of, A.H.]\n",
            "73549         [widow, of, John,']\n",
            "73952          [widow, of, Henry]\n",
            "75225    [widow, of, William,682]\n",
            "75682         [widow, of, Sahel.]\n",
            "76975       [widow, of, William.]\n",
            "77257     [widow, of, Isaac,r.44]\n",
            "79292      [widow, of, Benjamin.]\n",
            "79335          [widow, of, Peter]\n",
            "79468       [widow, of, William.]\n",
            "Name: Full Address, dtype: object\n"
          ],
          "name": "stdout"
        }
      ]
    },
    {
      "cell_type": "code",
      "metadata": {
        "id": "guTv5XUQDDqa",
        "colab_type": "code",
        "colab": {
          "base_uri": "https://localhost:8080/",
          "height": 33
        },
        "outputId": "5c36f3c9-c000-4527-bd8f-7d32e0cd836f"
      },
      "source": [
        "len(output_1850.loc[(output_1850['Widow-flag'] == 'False')  &  (output_1850['Full Address'].str.startswith('widow'))])"
      ],
      "execution_count": null,
      "outputs": [
        {
          "output_type": "execute_result",
          "data": {
            "text/plain": [
              "0"
            ]
          },
          "metadata": {
            "tags": []
          },
          "execution_count": 298
        }
      ]
    },
    {
      "cell_type": "markdown",
      "metadata": {
        "id": "VRIrxYQ4sypZ",
        "colab_type": "text"
      },
      "source": [
        "1880 cd"
      ]
    },
    {
      "cell_type": "code",
      "metadata": {
        "id": "PelwYOSWs1Ao",
        "colab_type": "code",
        "colab": {
          "base_uri": "https://localhost:8080/",
          "height": 33
        },
        "outputId": "c6ccfc7a-ac1d-4b0e-f706-440d5f1322b1"
      },
      "source": [
        "# widow flag = true if full address contains widow word and widow flag was false\n",
        "len(output_1880.loc[(output_1880['Widow-flag'] == 'False')  &  (output_1880['Full Address'].str.startswith('widow'))])"
      ],
      "execution_count": null,
      "outputs": [
        {
          "output_type": "execute_result",
          "data": {
            "text/plain": [
              "4"
            ]
          },
          "metadata": {
            "tags": []
          },
          "execution_count": 299
        }
      ]
    },
    {
      "cell_type": "code",
      "metadata": {
        "id": "w6MaHNmrtFSn",
        "colab_type": "code",
        "colab": {
          "base_uri": "https://localhost:8080/",
          "height": 98
        },
        "outputId": "a43521a7-40a1-4582-c54a-e9e26695ce87"
      },
      "source": [
        "print(output_1880.loc[(output_1880['Widow-flag'] == 'False')  &  (output_1880['Full Address'].str.startswith('widow')), 'Full Address'])\n",
        "\n",
        "output_1880.loc[(output_1850['Widow-flag'] == 'False')  &  (output_1880['Full Address'].str.startswith('widow')), 'Widow-flag'] = 'True'\n",
        "output_1880['Full Address'] = output_1880['Full Address'].str.replace('widow ','')"
      ],
      "execution_count": null,
      "outputs": [
        {
          "output_type": "stream",
          "text": [
            "65722                widow h 348 E. 33d\n",
            "89062                widow h 340 E. 33d\n",
            "91135               widow h 405 E. 71st\n",
            "139014    widow (refused) h 443 W. 37th\n",
            "Name: Full Address, dtype: object\n"
          ],
          "name": "stdout"
        }
      ]
    },
    {
      "cell_type": "code",
      "metadata": {
        "id": "uhrj2-yhtdem",
        "colab_type": "code",
        "colab": {
          "base_uri": "https://localhost:8080/",
          "height": 33
        },
        "outputId": "cbcfa39c-72bd-45c0-cd8a-1c41b3c8d4be"
      },
      "source": [
        "# widow flag = true if full address contains widow word and widow flag was false\n",
        "len(output_1880.loc[(output_1880['Widow-flag'] == 'False')  &  (output_1880['Full Address'].str.startswith('widow'))])"
      ],
      "execution_count": null,
      "outputs": [
        {
          "output_type": "execute_result",
          "data": {
            "text/plain": [
              "0"
            ]
          },
          "metadata": {
            "tags": []
          },
          "execution_count": 301
        }
      ]
    },
    {
      "cell_type": "code",
      "metadata": {
        "id": "dNdoTwZkiven",
        "colab_type": "code",
        "colab": {}
      },
      "source": [
        "# save the cleaned files\n",
        "\n",
        "output_1850_bk.to_csv('output_1850_bk.csv')\n",
        "output_1850.to_csv('output_1850_mn.csv')\n",
        "output_1880.to_csv('output_1880.csv')"
      ],
      "execution_count": null,
      "outputs": []
    },
    {
      "cell_type": "code",
      "metadata": {
        "id": "-IFJI6iijLV5",
        "colab_type": "code",
        "colab": {}
      },
      "source": [
        "# upload the csv files\n",
        "output_1850_bk = pd.read_csv(\"/content/output_1850_bk.csv\", index_col=0)\n",
        "output_1850 = pd.read_csv(\"/content/output_1850.csv\", index_col=0)\n",
        "output_1880 = pd.read_csv(\"/content/output_1880.csv\", index_col=0)\n"
      ],
      "execution_count": null,
      "outputs": []
    },
    {
      "cell_type": "markdown",
      "metadata": {
        "id": "Tt9No4DRvwsc",
        "colab_type": "text"
      },
      "source": [
        "combine occupations from all the three files\n",
        "\n",
        "Keep the occupations which are atleast 3 letter words to avoid unnecessary errors"
      ]
    },
    {
      "cell_type": "code",
      "metadata": {
        "id": "acN_zZvjw_JN",
        "colab_type": "code",
        "colab": {}
      },
      "source": [
        "# non null values\n",
        "output_1850_bk.loc[output_1850_bk['Occupation'] == 'counse)lor', ['Occupation']] = \"counsellor\"\n",
        "output_1850_bk['Occupation'] = output_1850_bk['Occupation'].str.replace(')','')\n",
        "output_1850['Occupation'] = output_1850['Occupation'].str.replace(')','')\n",
        "output_1880['Occupation'] = output_1880['Occupation'].str.replace(')','')\n",
        "\n",
        "output_1850_bk['Occupation'] = output_1850_bk['Occupation'].str.replace('.','')\n",
        "output_1850['Occupation'] = output_1850['Occupation'].str.replace('.','')\n",
        "output_1880['Occupation'] = output_1880['Occupation'].str.replace('.','')\n",
        "\n",
        "output_1850_bk['Occupation'] = output_1850_bk['Occupation'].str.replace(',','')\n",
        "output_1850['Occupation'] = output_1850['Occupation'].str.replace(',','')\n",
        "output_1880['Occupation'] = output_1880['Occupation'].str.replace(',','')\n",
        "\n",
        "x = output_1850_bk.loc[output_1850_bk['Occupation'].notnull(), ['Occupation']]\n",
        "x = x.append(output_1850.loc[output_1850['Occupation'].notnull(), ['Occupation']])\n",
        "x = x.append(output_1880.loc[output_1880['Occupation'].notnull(), ['Occupation']])\n",
        "\n",
        "x = x[~(x.Occupation.str.len() < 3)]\n",
        "x['Occupation'] = x['Occupation'].str.lower()"
      ],
      "execution_count": null,
      "outputs": []
    },
    {
      "cell_type": "markdown",
      "metadata": {
        "id": "EzQGKJ_PVmVX",
        "colab_type": "text"
      },
      "source": [
        "Currently there are 14k occupations"
      ]
    },
    {
      "cell_type": "code",
      "metadata": {
        "id": "xCy3DBd8kJPt",
        "colab_type": "code",
        "colab": {
          "base_uri": "https://localhost:8080/",
          "height": 33
        },
        "outputId": "1cdc9ed5-9256-4da5-a76f-b9b995f1f597"
      },
      "source": [
        "len(x.Occupation.unique())\n",
        "#len(x)"
      ],
      "execution_count": null,
      "outputs": [
        {
          "output_type": "execute_result",
          "data": {
            "text/plain": [
              "14475"
            ]
          },
          "metadata": {
            "tags": []
          },
          "execution_count": 303
        }
      ]
    },
    {
      "cell_type": "markdown",
      "metadata": {
        "id": "bzBr5rJl0t4p",
        "colab_type": "text"
      },
      "source": [
        "clean 1850 bk file\n",
        "\n",
        "subset rows where occupation is null"
      ]
    },
    {
      "cell_type": "code",
      "metadata": {
        "id": "p9EEo6k7zpI0",
        "colab_type": "code",
        "colab": {
          "base_uri": "https://localhost:8080/",
          "height": 33
        },
        "outputId": "07330523-9426-4462-d6ab-cb94dfc88ad7"
      },
      "source": [
        "# rows where occupation is null\n",
        "y = output_1850_bk.loc[(output_1850_bk['Occupation'].isnull()) & (output_1850_bk['Full Address'].notnull()), ['Full Address']]\n",
        "y['Full Address'] = y['Full Address'].str.replace('.',' ')\n",
        "y['Full Address'] = y['Full Address'].str.replace('â€™','an')\n",
        "# 3334 nulls\n",
        "\n",
        "len(y)"
      ],
      "execution_count": null,
      "outputs": [
        {
          "output_type": "execute_result",
          "data": {
            "text/plain": [
              "3334"
            ]
          },
          "metadata": {
            "tags": []
          },
          "execution_count": 304
        }
      ]
    },
    {
      "cell_type": "markdown",
      "metadata": {
        "id": "8Rqg9PjzWOHg",
        "colab_type": "text"
      },
      "source": [
        "Find if there is an exact match for occupations as substring in the address column"
      ]
    },
    {
      "cell_type": "code",
      "metadata": {
        "id": "gkHuY01H4zmX",
        "colab_type": "code",
        "colab": {
          "base_uri": "https://localhost:8080/",
          "height": 33
        },
        "outputId": "6a00c0a0-5004-4f61-a59f-1944e17da0bf"
      },
      "source": [
        "x_1850_bk = x[~(x.Occupation.str.len() < 5)]\n",
        "\n",
        "z = y['Full Address'].str.extract('(%s)' % '|'.join([re.escape(x) for x in x_1850_bk.Occupation.unique()]))\n",
        "z.columns = ['occupation']\n",
        "z = z.loc[z['occupation'].notnull(), ['occupation']]\n",
        "len(z)"
      ],
      "execution_count": null,
      "outputs": [
        {
          "output_type": "execute_result",
          "data": {
            "text/plain": [
              "559"
            ]
          },
          "metadata": {
            "tags": []
          },
          "execution_count": 306
        }
      ]
    },
    {
      "cell_type": "code",
      "metadata": {
        "id": "Oa6CG4ghUyjo",
        "colab_type": "code",
        "colab": {}
      },
      "source": [
        "z.loc[(z.occupation == 'hotel') | (z.occupation == 'boarding house') | (z.occupation == 'foot of' ) | (z.occupation == 'market' ) | (z.occupation == 'office' ) | (z.occupation == 'coffee' ) | (z.occupation == 'select school'), 'occupation'] = None\n",
        "z.loc[(z.occupation == 'stone yard') | (z.occupation == 'railroad') | (z.occupation == 'express' ), 'occupation'] = None\n",
        "\n",
        "z.loc[(z.occupation == 'purser'), 'occupation'] = \"purser's clerk\"\n",
        "z.loc[(z.occupation == 'sheet iron worker'), 'occupation'] = \"tin and sheet iron worker  \"\n"
      ],
      "execution_count": null,
      "outputs": []
    },
    {
      "cell_type": "code",
      "metadata": {
        "id": "2cHgvjXLVtEW",
        "colab_type": "code",
        "colab": {
          "base_uri": "https://localhost:8080/",
          "height": 33
        },
        "outputId": "24885f45-76cd-4771-c8ce-6fb405fe062d"
      },
      "source": [
        "z = z.loc[z['occupation'].notnull(), ['occupation']]\n",
        "len(z)"
      ],
      "execution_count": null,
      "outputs": [
        {
          "output_type": "execute_result",
          "data": {
            "text/plain": [
              "497"
            ]
          },
          "metadata": {
            "tags": []
          },
          "execution_count": 341
        }
      ]
    },
    {
      "cell_type": "code",
      "metadata": {
        "id": "04q3L-2cSMNw",
        "colab_type": "code",
        "colab": {
          "base_uri": "https://localhost:8080/",
          "height": 33
        },
        "outputId": "3b876ed9-5675-491b-86b6-18644387c820"
      },
      "source": [
        "len(z.occupation.unique())"
      ],
      "execution_count": null,
      "outputs": [
        {
          "output_type": "execute_result",
          "data": {
            "text/plain": [
              "220"
            ]
          },
          "metadata": {
            "tags": []
          },
          "execution_count": 309
        }
      ]
    },
    {
      "cell_type": "code",
      "metadata": {
        "id": "0DOImkrRG-5z",
        "colab_type": "code",
        "colab": {}
      },
      "source": [
        "#output_1850_bk = output_1850_bk.drop(['occupation'], axis=1)\n",
        "output_1850_bk = output_1850_bk.join(z)"
      ],
      "execution_count": null,
      "outputs": []
    },
    {
      "cell_type": "code",
      "metadata": {
        "id": "pqMrhqKXTi-f",
        "colab_type": "code",
        "colab": {}
      },
      "source": [
        "output_1850_bk['len_occ']=0\n",
        "output_1850_bk.loc[(output_1850_bk['occupation'].notnull()),'len_occ'] = output_1850_bk.loc[(output_1850_bk['occupation'].notnull()),'occupation'].str.len()\n"
      ],
      "execution_count": null,
      "outputs": []
    },
    {
      "cell_type": "markdown",
      "metadata": {
        "id": "5ih80bRhWfx2",
        "colab_type": "text"
      },
      "source": [
        "Assumption is that the address will start with occupation in case the occupation column is null, so match the found occupation substring with the starting words in the address columns"
      ]
    },
    {
      "cell_type": "code",
      "metadata": {
        "id": "3gR_l1Db2Cwh",
        "colab_type": "code",
        "colab": {}
      },
      "source": [
        "#z.loc[z['Full Address'].notnull(), 'Full Address'].str[0:z.iloc[z['len_occ']]]\n",
        "\n",
        "output_1850_bk['Old_Occupation_info'] = output_1850_bk['Occupation']\n",
        "output_1850_bk['add_sub_match'] = '0'\n",
        "output_1850_bk['new_occ_found'] = 'False'\n",
        "\n",
        "for i in range(len(output_1850_bk)):\n",
        "  output_1850_bk['add_sub_match'][i] = str(output_1850_bk.iloc[i]['Full Address'])[0:output_1850_bk.iloc[i][\"len_occ\"]]\n",
        "\n",
        "  if ((output_1850_bk['occupation'][i] == output_1850_bk['add_sub_match'][i])):\n",
        "    output_1850_bk['new_occ_found'][i] = 'True'\n",
        "\n",
        "    if (len(output_1850_bk['Full Address'][i].split(',')) > 1):\n",
        "      output_1850_bk['Occupation'][i] = output_1850_bk['Full Address'][i].split(',')[0]\n",
        "    else:\n",
        "      output_1850_bk['Occupation'][i] = output_1850_bk['occupation'][i]\n",
        "\n",
        "\n",
        "  if ((output_1850_bk['new_occ_found'][i] == 'False') & (str(output_1850_bk['Full Address'][i]).startswith('mer'))):\n",
        "    output_1850_bk['new_occ_found'][i] = 'True'\n",
        "    output_1850_bk['Occupation'][i] = 'merchant'\n",
        "\n"
      ],
      "execution_count": null,
      "outputs": []
    },
    {
      "cell_type": "markdown",
      "metadata": {
        "id": "6Xp-_huVWxte",
        "colab_type": "text"
      },
      "source": [
        "Mark the occupation found column as assume if there are still matches in the previous step but the address column doesnot start with the matched occupation"
      ]
    },
    {
      "cell_type": "code",
      "metadata": {
        "id": "H071N9usR7Nd",
        "colab_type": "code",
        "colab": {}
      },
      "source": [
        "for i in range(len(output_1850_bk)):\n",
        "  if ((output_1850_bk['new_occ_found'][i] == 'False') & (str(output_1850_bk.iloc[i]['occupation']) != 'nan')):\n",
        "    output_1850_bk['new_occ_found'][i] = 'assume'\n",
        "    output_1850_bk['Occupation'][i] = output_1850_bk['occupation'][i]\n"
      ],
      "execution_count": null,
      "outputs": []
    },
    {
      "cell_type": "code",
      "metadata": {
        "id": "0igBYFcvbFQ_",
        "colab_type": "code",
        "colab": {
          "base_uri": "https://localhost:8080/",
          "height": 33
        },
        "outputId": "f70991fb-43df-4c12-dce7-323a969bb4c0"
      },
      "source": [
        "len(output_1850_bk.loc[(output_1850_bk['new_occ_found'] == 'True')])"
      ],
      "execution_count": null,
      "outputs": [
        {
          "output_type": "execute_result",
          "data": {
            "text/plain": [
              "300"
            ]
          },
          "metadata": {
            "tags": []
          },
          "execution_count": 346
        }
      ]
    },
    {
      "cell_type": "code",
      "metadata": {
        "id": "hz0i9wcKgqxN",
        "colab_type": "code",
        "colab": {
          "base_uri": "https://localhost:8080/",
          "height": 33
        },
        "outputId": "a9069739-a422-4bb5-8e05-0b64515485d8"
      },
      "source": [
        "len(output_1850_bk.loc[(output_1850_bk['new_occ_found'] == 'assume')])"
      ],
      "execution_count": null,
      "outputs": [
        {
          "output_type": "execute_result",
          "data": {
            "text/plain": [
              "244"
            ]
          },
          "metadata": {
            "tags": []
          },
          "execution_count": 347
        }
      ]
    },
    {
      "cell_type": "markdown",
      "metadata": {
        "id": "xvWgEf4uXAj6",
        "colab_type": "text"
      },
      "source": [
        "try more fuzzy name match algorithms for remaining records"
      ]
    },
    {
      "cell_type": "code",
      "metadata": {
        "id": "inNuZnrhiY-i",
        "colab_type": "code",
        "colab": {
          "base_uri": "https://localhost:8080/",
          "height": 33
        },
        "outputId": "a5afc594-873f-4839-9329-510c70850e01"
      },
      "source": [
        "# try more fuzzy  name match algorithms\n",
        "\n",
        "uni_occ = x.Occupation.unique()\n",
        "\n",
        "import pandas as pd\n",
        "!pip install fuzzywuzzy\n",
        "from fuzzywuzzy import process, fuzz\n",
        "\n",
        "def find_match(x):\n",
        "\n",
        "    match = process.extract(x, uni_occ, scorer=fuzz.WRatio, limit=1)\n",
        "    return pd.Series([match[0][0], match[0][1]])\n",
        "\n"
      ],
      "execution_count": null,
      "outputs": [
        {
          "output_type": "stream",
          "text": [
            "Requirement already satisfied: fuzzywuzzy in /usr/local/lib/python3.6/dist-packages (0.18.0)\n"
          ],
          "name": "stdout"
        }
      ]
    },
    {
      "cell_type": "code",
      "metadata": {
        "id": "CBKcbPoUn5_O",
        "colab_type": "code",
        "colab": {}
      },
      "source": [
        "import re\n",
        "# clean the records\n",
        "for i in range(len(y)):\n",
        "  y['Full Address'][i] = re.sub(\"[^a-zA-Z]\", \n",
        "                          \" \",     \n",
        "                          str(y['Full Address'][i]))\n",
        "  \n",
        "  y['Full Address'][i] = str(y['Full Address'][i])\n",
        "\n",
        "\n",
        "for i in range(len(uni_occ)):\n",
        "  uni_occ[i] = re.sub(\"[^a-zA-Z]\", \n",
        "                          \" \",     \n",
        "                          str( uni_occ[i]))\n",
        "  \n",
        "  uni_occ[i] = str(uni_occ[i])"
      ],
      "execution_count": null,
      "outputs": []
    },
    {
      "cell_type": "code",
      "metadata": {
        "id": "zuYmsI6iuzVS",
        "colab_type": "code",
        "colab": {}
      },
      "source": [
        "# do name matching only for false and assume in new_occ_found \n",
        "y['new_occ'] = 'False'\n",
        "y['match_rating'] = 0\n",
        "\n",
        "count = 0\n",
        "for i in range(len(y)):\n",
        "  split_str = str(y['Full Address'][i]).split(\",\")\n",
        "  match = find_match(split_str[0])\n",
        "  y['new_occ'][i] =match[0]                                                                                                                                                                                                                                                                                                                                                                                                                                                                                                                                                                                                                                                                                                                                                                                                                                                                                                                                                                                                                                                                                                                                                                                                                                                                                                                                                                                                                                      \n",
        "  y['match_rating'][i] = match[1]\n",
        "\n",
        "  if ((len(split_str) > 1) & (y['match_rating'][i] < 95)):\n",
        "    match = find_match(split_str[1])\n",
        "    if match[1] > y['match_rating'][i]:\n",
        "      y['new_occ'][i] =match[0]                                                                                                                                                                                                                                                                                                                                                                                                                                                                                                                                                                                                                                                                                                                                                                                                                                                                                                                                                                                                                                                                                                                                                                                                                                                                                                                                                                                                                                      \n",
        "      y['match_rating'][i] = match[1]\n",
        "    \n",
        "  count = count + 1\n",
        "  if (count % 100 == 0):\n",
        "    print(count)\n",
        "    \n",
        " "
      ],
      "execution_count": null,
      "outputs": []
    },
    {
      "cell_type": "code",
      "metadata": {
        "id": "V-oEcQF7xnkz",
        "colab_type": "code",
        "colab": {}
      },
      "source": [
        "# fuzzy name matched length to be >3 \n",
        "   \n",
        "# if new_occ found is true then keep occupation as substring_match\n",
        "                                                                                                                                                                                                                                                                                                                                                                                                                                                     \n",
        "# else if new_occ found = False or assume and fuzzy match >=90 then update occupation and new_occ found = name_match\n",
        "\n",
        "# else keep the assumed occupation"
      ],
      "execution_count": null,
      "outputs": []
    },
    {
      "cell_type": "code",
      "metadata": {
        "id": "KqUqm5qIbPIQ",
        "colab_type": "code",
        "colab": {}
      },
      "source": [
        "y.to_csv('1850bk_fuzzymatch_output.csv')\n",
        "output_1850_bk.to_csv('1850bk_occmatch_output.csv')"
      ],
      "execution_count": null,
      "outputs": []
    },
    {
      "cell_type": "code",
      "metadata": {
        "id": "lepNyoObF_Qc",
        "colab_type": "code",
        "colab": {}
      },
      "source": [
        "output_1850_bk = pd.read_csv(\"/content/1850bk_occmatch_output.csv\", index_col=0)\n",
        "#output_1850_bk = pd.read_csv(\"/content/output_1850_bk.csv\", index_col=0)\n",
        "\n",
        "fuzzy_name = pd.read_csv(\"/content/1850_bk_fuzzymatch.csv\", index_col=0)"
      ],
      "execution_count": null,
      "outputs": []
    },
    {
      "cell_type": "code",
      "metadata": {
        "id": "nWb2oQoMGhnI",
        "colab_type": "code",
        "colab": {}
      },
      "source": [
        "# merge the fuzzy name matched table with original table\n",
        "output_1850_bk = output_1850_bk.merge(fuzzy_name[['new_occ']], left_index= True, right_index= True, how =\"left\" )"
      ],
      "execution_count": null,
      "outputs": []
    },
    {
      "cell_type": "code",
      "metadata": {
        "id": "gojS5TMeJWyQ",
        "colab_type": "code",
        "colab": {}
      },
      "source": [
        "# if the new_occ_found col is not true and occupation column is null then replace occ with new_occ and new_occ_found with  name match\n",
        "for i in range(1,len(output_1850_bk)):\n",
        "  if ((output_1850_bk['new_occ_found'][i] != 'TRUE') & (str(output_1850_bk['new_occ'][i]) !='nan') & (str(output_1850_bk['Old_Occupation_info'][i]) =='nan')):\n",
        "    output_1850_bk['new_occ_found'][i] = 'Name match'\n",
        "    output_1850_bk['Occupation'][i] = output_1850_bk['new_occ'][i]"
      ],
      "execution_count": null,
      "outputs": []
    },
    {
      "cell_type": "code",
      "metadata": {
        "id": "mv7cegcfJWxL",
        "colab_type": "code",
        "colab": {
          "base_uri": "https://localhost:8080/",
          "height": 33
        },
        "outputId": "ce793d6c-f59d-46d7-84c5-1051a3c37cc3"
      },
      "source": [
        "len(output_1850_bk.loc[(output_1850_bk['new_occ_found'] == 'TRUE')])"
      ],
      "execution_count": null,
      "outputs": [
        {
          "output_type": "execute_result",
          "data": {
            "text/plain": [
              "300"
            ]
          },
          "metadata": {
            "tags": []
          },
          "execution_count": 3
        }
      ]
    },
    {
      "cell_type": "code",
      "metadata": {
        "id": "McQcygIOJWv2",
        "colab_type": "code",
        "colab": {
          "base_uri": "https://localhost:8080/",
          "height": 33
        },
        "outputId": "db1e2363-cba4-4936-c454-cc9af0762a85"
      },
      "source": [
        "len(output_1850_bk.loc[(output_1850_bk['new_occ_found'] == 'Name match')])"
      ],
      "execution_count": null,
      "outputs": [
        {
          "output_type": "execute_result",
          "data": {
            "text/plain": [
              "155"
            ]
          },
          "metadata": {
            "tags": []
          },
          "execution_count": 4
        }
      ]
    },
    {
      "cell_type": "code",
      "metadata": {
        "id": "iEYGah_xLfcl",
        "colab_type": "code",
        "colab": {
          "base_uri": "https://localhost:8080/",
          "height": 33
        },
        "outputId": "1fca5661-8d7a-4f6b-ef14-5a56f06ddcad"
      },
      "source": [
        "len(output_1850_bk.loc[(output_1850_bk['new_occ_found'] == 'assume')])"
      ],
      "execution_count": null,
      "outputs": [
        {
          "output_type": "execute_result",
          "data": {
            "text/plain": [
              "40"
            ]
          },
          "metadata": {
            "tags": []
          },
          "execution_count": 5
        }
      ]
    },
    {
      "cell_type": "code",
      "metadata": {
        "id": "S8c-u4qDUc3R",
        "colab_type": "code",
        "colab": {}
      },
      "source": [
        "output_1850_bk.to_csv('output_1850_bk.csv')"
      ],
      "execution_count": null,
      "outputs": []
    },
    {
      "cell_type": "markdown",
      "metadata": {
        "id": "Zz5TSSrZYEEx",
        "colab_type": "text"
      },
      "source": [
        "There are a total of ~500 matches\n",
        "\n",
        "Examples of absolute occupation match"
      ]
    },
    {
      "cell_type": "code",
      "metadata": {
        "id": "sno11kIaZr9O",
        "colab_type": "code",
        "colab": {
          "base_uri": "https://localhost:8080/",
          "height": 391
        },
        "outputId": "e423f6be-4202-4bb8-cbc9-8d0175318c7b"
      },
      "source": [
        "output_1850_bk.loc[(output_1850_bk['new_occ_found'] == 'TRUE'), ['Full Name','Occupation','Full Address']]"
      ],
      "execution_count": null,
      "outputs": [
        {
          "output_type": "execute_result",
          "data": {
            "text/html": [
              "<div>\n",
              "<style scoped>\n",
              "    .dataframe tbody tr th:only-of-type {\n",
              "        vertical-align: middle;\n",
              "    }\n",
              "\n",
              "    .dataframe tbody tr th {\n",
              "        vertical-align: top;\n",
              "    }\n",
              "\n",
              "    .dataframe thead th {\n",
              "        text-align: right;\n",
              "    }\n",
              "</style>\n",
              "<table border=\"1\" class=\"dataframe\">\n",
              "  <thead>\n",
              "    <tr style=\"text-align: right;\">\n",
              "      <th></th>\n",
              "      <th>Full Name</th>\n",
              "      <th>Occupation</th>\n",
              "      <th>Full Address</th>\n",
              "    </tr>\n",
              "  </thead>\n",
              "  <tbody>\n",
              "    <tr>\n",
              "      <th>60</th>\n",
              "      <td>Adams Russell R W</td>\n",
              "      <td>merchant</td>\n",
              "      <td>merch’t 116 WallN Y h 6 Joralemon</td>\n",
              "    </tr>\n",
              "    <tr>\n",
              "      <th>69</th>\n",
              "      <td>Addoms William</td>\n",
              "      <td>merchant</td>\n",
              "      <td>merch’t275 Broadway NYh 393 Atlantic</td>\n",
              "    </tr>\n",
              "    <tr>\n",
              "      <th>99</th>\n",
              "      <td>Alexander James K</td>\n",
              "      <td>book-keeper</td>\n",
              "      <td>book-keeper Bcdford n Myrtle av</td>\n",
              "    </tr>\n",
              "    <tr>\n",
              "      <th>108</th>\n",
              "      <td>Alger Geo</td>\n",
              "      <td>grocer</td>\n",
              "      <td>grocery flour &amp; feed store &amp; brick yard 3d av ...</td>\n",
              "    </tr>\n",
              "    <tr>\n",
              "      <th>111</th>\n",
              "      <td>Allen Albert G</td>\n",
              "      <td>merchant</td>\n",
              "      <td>mer’t 351 Broadway N Yh44 Sydney place</td>\n",
              "    </tr>\n",
              "    <tr>\n",
              "      <th>...</th>\n",
              "      <td>...</td>\n",
              "      <td>...</td>\n",
              "      <td>...</td>\n",
              "    </tr>\n",
              "    <tr>\n",
              "      <th>15169</th>\n",
              "      <td>Wood Michael W</td>\n",
              "      <td>laborer</td>\n",
              "      <td>laborer r 45 Little</td>\n",
              "    </tr>\n",
              "    <tr>\n",
              "      <th>15210</th>\n",
              "      <td>Woodward W S</td>\n",
              "      <td>merchant</td>\n",
              "      <td>mer. N Y h 87 Henry</td>\n",
              "    </tr>\n",
              "    <tr>\n",
              "      <th>15216</th>\n",
              "      <td>Woodworth Ruth</td>\n",
              "      <td>select school</td>\n",
              "      <td>select school 344 Fulton op Adams</td>\n",
              "    </tr>\n",
              "    <tr>\n",
              "      <th>15260</th>\n",
              "      <td>Wright S P</td>\n",
              "      <td>wheelwright and blacksmith</td>\n",
              "      <td>wheelwright and blacksmith , Plymouth n Bridge...</td>\n",
              "    </tr>\n",
              "    <tr>\n",
              "      <th>15269</th>\n",
              "      <td>Wright W</td>\n",
              "      <td>cartman</td>\n",
              "      <td>cartman 25 Navy</td>\n",
              "    </tr>\n",
              "  </tbody>\n",
              "</table>\n",
              "<p>300 rows × 3 columns</p>\n",
              "</div>"
            ],
            "text/plain": [
              "               Full Name  ...                                       Full Address\n",
              "60     Adams Russell R W  ...                  merch’t 116 WallN Y h 6 Joralemon\n",
              "69        Addoms William  ...               merch’t275 Broadway NYh 393 Atlantic\n",
              "99     Alexander James K  ...                    book-keeper Bcdford n Myrtle av\n",
              "108            Alger Geo  ...  grocery flour & feed store & brick yard 3d av ...\n",
              "111       Allen Albert G  ...             mer’t 351 Broadway N Yh44 Sydney place\n",
              "...                  ...  ...                                                ...\n",
              "15169     Wood Michael W  ...                                laborer r 45 Little\n",
              "15210       Woodward W S  ...                                mer. N Y h 87 Henry\n",
              "15216     Woodworth Ruth  ...                  select school 344 Fulton op Adams\n",
              "15260         Wright S P  ...  wheelwright and blacksmith , Plymouth n Bridge...\n",
              "15269           Wright W  ...                                    cartman 25 Navy\n",
              "\n",
              "[300 rows x 3 columns]"
            ]
          },
          "metadata": {
            "tags": []
          },
          "execution_count": 114
        }
      ]
    },
    {
      "cell_type": "markdown",
      "metadata": {
        "id": "wXCiQ3JdYEOV",
        "colab_type": "text"
      },
      "source": [
        "Examples of tricky name matches using name matching algorithm"
      ]
    },
    {
      "cell_type": "code",
      "metadata": {
        "id": "fCiUemfqZjE7",
        "colab_type": "code",
        "colab": {
          "base_uri": "https://localhost:8080/",
          "height": 391
        },
        "outputId": "8fb27adb-e94c-4327-83ed-b1dba99e4e1b"
      },
      "source": [
        "output_1850_bk.loc[(output_1850_bk['new_occ_found'] == 'Name match'), ['Full Name','Occupation','Full Address']]"
      ],
      "execution_count": null,
      "outputs": [
        {
          "output_type": "execute_result",
          "data": {
            "text/html": [
              "<div>\n",
              "<style scoped>\n",
              "    .dataframe tbody tr th:only-of-type {\n",
              "        vertical-align: middle;\n",
              "    }\n",
              "\n",
              "    .dataframe tbody tr th {\n",
              "        vertical-align: top;\n",
              "    }\n",
              "\n",
              "    .dataframe thead th {\n",
              "        text-align: right;\n",
              "    }\n",
              "</style>\n",
              "<table border=\"1\" class=\"dataframe\">\n",
              "  <thead>\n",
              "    <tr style=\"text-align: right;\">\n",
              "      <th></th>\n",
              "      <th>Full Name</th>\n",
              "      <th>Occupation</th>\n",
              "      <th>Full Address</th>\n",
              "    </tr>\n",
              "  </thead>\n",
              "  <tbody>\n",
              "    <tr>\n",
              "      <th>26</th>\n",
              "      <td>Abrams Joseph</td>\n",
              "      <td>sash and blind maker</td>\n",
              "      <td>sash.and blind maker 14 James &amp; 59 Pearl</td>\n",
              "    </tr>\n",
              "    <tr>\n",
              "      <th>95</th>\n",
              "      <td>Alexander George W</td>\n",
              "      <td>binder</td>\n",
              "      <td>book-binder 7 Spruce NYh 128 Prospect</td>\n",
              "    </tr>\n",
              "    <tr>\n",
              "      <th>143</th>\n",
              "      <td>ALLEN &amp; Co.</td>\n",
              "      <td>grocer</td>\n",
              "      <td>LONG ISLAND GROCERY , 270 Washington e Myrtleav</td>\n",
              "    </tr>\n",
              "    <tr>\n",
              "      <th>173</th>\n",
              "      <td>AMERICAN HOTEL</td>\n",
              "      <td>proprietor</td>\n",
              "      <td>26 Fulton , John Jones Proprietor</td>\n",
              "    </tr>\n",
              "    <tr>\n",
              "      <th>197</th>\n",
              "      <td>NaN</td>\n",
              "      <td>inspector</td>\n",
              "      <td>Anderson Rob’t G,inspector of stone U S dry do...</td>\n",
              "    </tr>\n",
              "    <tr>\n",
              "      <th>...</th>\n",
              "      <td>...</td>\n",
              "      <td>...</td>\n",
              "      <td>...</td>\n",
              "    </tr>\n",
              "    <tr>\n",
              "      <th>14961</th>\n",
              "      <td>Williams John</td>\n",
              "      <td>sheet iron worker</td>\n",
              "      <td>tin and sheet iron worker , 16S Jay</td>\n",
              "    </tr>\n",
              "    <tr>\n",
              "      <th>15144</th>\n",
              "      <td>Wood Ebenezer</td>\n",
              "      <td>sheet iron worker</td>\n",
              "      <td>tin plate and sheet iron worker , 184 Nassau</td>\n",
              "    </tr>\n",
              "    <tr>\n",
              "      <th>15157</th>\n",
              "      <td>Wood John</td>\n",
              "      <td>watchman</td>\n",
              "      <td>Navy yard watchman 160 York</td>\n",
              "    </tr>\n",
              "    <tr>\n",
              "      <th>15188</th>\n",
              "      <td>Woodcock Frederick</td>\n",
              "      <td>manuf</td>\n",
              "      <td>oil cloth manufr. Adelphi a Park av</td>\n",
              "    </tr>\n",
              "    <tr>\n",
              "      <th>15331</th>\n",
              "      <td>Young J B</td>\n",
              "      <td>president</td>\n",
              "      <td>President n Court</td>\n",
              "    </tr>\n",
              "  </tbody>\n",
              "</table>\n",
              "<p>155 rows × 3 columns</p>\n",
              "</div>"
            ],
            "text/plain": [
              "                Full Name  ...                                       Full Address\n",
              "26          Abrams Joseph  ...           sash.and blind maker 14 James & 59 Pearl\n",
              "95     Alexander George W  ...              book-binder 7 Spruce NYh 128 Prospect\n",
              "143           ALLEN & Co.  ...    LONG ISLAND GROCERY , 270 Washington e Myrtleav\n",
              "173        AMERICAN HOTEL  ...                  26 Fulton , John Jones Proprietor\n",
              "197                   NaN  ...  Anderson Rob’t G,inspector of stone U S dry do...\n",
              "...                   ...  ...                                                ...\n",
              "14961       Williams John  ...                tin and sheet iron worker , 16S Jay\n",
              "15144       Wood Ebenezer  ...       tin plate and sheet iron worker , 184 Nassau\n",
              "15157           Wood John  ...                        Navy yard watchman 160 York\n",
              "15188  Woodcock Frederick  ...                oil cloth manufr. Adelphi a Park av\n",
              "15331           Young J B  ...                                  President n Court\n",
              "\n",
              "[155 rows x 3 columns]"
            ]
          },
          "metadata": {
            "tags": []
          },
          "execution_count": 113
        }
      ]
    },
    {
      "cell_type": "markdown",
      "metadata": {
        "id": "TgPxKHGXYEUX",
        "colab_type": "text"
      },
      "source": [
        "Examples of assume occupations"
      ]
    },
    {
      "cell_type": "code",
      "metadata": {
        "id": "Cofp6ZSHYUfU",
        "colab_type": "code",
        "colab": {
          "base_uri": "https://localhost:8080/",
          "height": 1000
        },
        "outputId": "921ea3f9-e4dc-41b5-fd4e-6cdc2363a952"
      },
      "source": [
        "output_1850_bk.loc[(output_1850_bk['new_occ_found'] == 'assume'), ['Full Name','Occupation','Full Address']]"
      ],
      "execution_count": null,
      "outputs": [
        {
          "output_type": "execute_result",
          "data": {
            "text/html": [
              "<div>\n",
              "<style scoped>\n",
              "    .dataframe tbody tr th:only-of-type {\n",
              "        vertical-align: middle;\n",
              "    }\n",
              "\n",
              "    .dataframe tbody tr th {\n",
              "        vertical-align: top;\n",
              "    }\n",
              "\n",
              "    .dataframe thead th {\n",
              "        text-align: right;\n",
              "    }\n",
              "</style>\n",
              "<table border=\"1\" class=\"dataframe\">\n",
              "  <thead>\n",
              "    <tr style=\"text-align: right;\">\n",
              "      <th></th>\n",
              "      <th>Full Name</th>\n",
              "      <th>Occupation</th>\n",
              "      <th>Full Address</th>\n",
              "    </tr>\n",
              "  </thead>\n",
              "  <tbody>\n",
              "    <tr>\n",
              "      <th>884</th>\n",
              "      <td>NaN</td>\n",
              "      <td>comptroller</td>\n",
              "      <td>Bergen Peter comptroller 25 Hicks c Poplar</td>\n",
              "    </tr>\n",
              "    <tr>\n",
              "      <th>997</th>\n",
              "      <td>Birkbeck Alexander &amp; Son</td>\n",
              "      <td>Union foundry &amp; machine shop</td>\n",
              "      <td>Union foundry &amp; machine shop Water n Fulton fe...</td>\n",
              "    </tr>\n",
              "    <tr>\n",
              "      <th>1005</th>\n",
              "      <td>Birmingham Thomas</td>\n",
              "      <td>oil cloth maker</td>\n",
              "      <td>oii cloth man’r Navy n DeKalb av</td>\n",
              "    </tr>\n",
              "    <tr>\n",
              "      <th>1323</th>\n",
              "      <td>Boyle John</td>\n",
              "      <td>oil cloth maker</td>\n",
              "      <td>oil cloth maker , Dcan c Vanderbiltav</td>\n",
              "    </tr>\n",
              "    <tr>\n",
              "      <th>1388</th>\n",
              "      <td>Brady Francis</td>\n",
              "      <td>oil cloth maker</td>\n",
              "      <td>oil cloth maker , Canton n Myrtle av</td>\n",
              "    </tr>\n",
              "    <tr>\n",
              "      <th>1433</th>\n",
              "      <td>Brandt Chas</td>\n",
              "      <td>oil cloth maker</td>\n",
              "      <td>glazed oil cloth manuf’r Bedford n DeKalb av</td>\n",
              "    </tr>\n",
              "    <tr>\n",
              "      <th>1448</th>\n",
              "      <td>Brasher Wm M</td>\n",
              "      <td>oil cloth maker</td>\n",
              "      <td>oil cloth manuf’r Debevoise c Fulton av h 337 ...</td>\n",
              "    </tr>\n",
              "    <tr>\n",
              "      <th>1576</th>\n",
              "      <td>BROOKLYA GRAMMAR SCHOOL</td>\n",
              "      <td>principal</td>\n",
              "      <td>Henry c Atlantic James Marsh principal</td>\n",
              "    </tr>\n",
              "    <tr>\n",
              "      <th>1990</th>\n",
              "      <td>NaN</td>\n",
              "      <td>ship builder</td>\n",
              "      <td>BurtisDivine,ship builder prop’r of marine rai...</td>\n",
              "    </tr>\n",
              "    <tr>\n",
              "      <th>2280</th>\n",
              "      <td>NaN</td>\n",
              "      <td>carpenter</td>\n",
              "      <td>Carpenter Thomas , Prest Kings Co Mutual Ins c...</td>\n",
              "    </tr>\n",
              "    <tr>\n",
              "      <th>3341</th>\n",
              "      <td>Cunningham Bernard</td>\n",
              "      <td>oil cloth maker</td>\n",
              "      <td>oil cloth manf r , Skilman n DeKalb av</td>\n",
              "    </tr>\n",
              "    <tr>\n",
              "      <th>3487</th>\n",
              "      <td>Darrow Walter R</td>\n",
              "      <td>manuf</td>\n",
              "      <td>gold pen manuf’r 10 North William N F h 112 Du...</td>\n",
              "    </tr>\n",
              "    <tr>\n",
              "      <th>3706</th>\n",
              "      <td>De Mott Abraham</td>\n",
              "      <td>sash &amp; blind maker</td>\n",
              "      <td>sash &amp; blind maker Duffield n Myrtle av</td>\n",
              "    </tr>\n",
              "    <tr>\n",
              "      <th>4540</th>\n",
              "      <td>Erven James</td>\n",
              "      <td>chalk manuf</td>\n",
              "      <td>prepared chalk mnufa’r 50 Fulton h 158 Front</td>\n",
              "    </tr>\n",
              "    <tr>\n",
              "      <th>4547</th>\n",
              "      <td>Estes Elihu B</td>\n",
              "      <td>sauce manuf</td>\n",
              "      <td>pepper sauce manr. Hamilton av n the Dock</td>\n",
              "    </tr>\n",
              "    <tr>\n",
              "      <th>5021</th>\n",
              "      <td>Foster Prince FI</td>\n",
              "      <td>poultry dealer</td>\n",
              "      <td>pork and poultry dealer , Market c James</td>\n",
              "    </tr>\n",
              "    <tr>\n",
              "      <th>6478</th>\n",
              "      <td>Higgins S</td>\n",
              "      <td>furnace manuf</td>\n",
              "      <td>hot air furnace manuf’r Livingston c Smith</td>\n",
              "    </tr>\n",
              "    <tr>\n",
              "      <th>6566</th>\n",
              "      <td>Hoff Henry</td>\n",
              "      <td>sash &amp; blind maker</td>\n",
              "      <td>sash &amp; blind maker 105 Nassau</td>\n",
              "    </tr>\n",
              "    <tr>\n",
              "      <th>6719</th>\n",
              "      <td>How James</td>\n",
              "      <td>manuf</td>\n",
              "      <td>white lead manuf*r Front c Bridge h 93 Willow</td>\n",
              "    </tr>\n",
              "    <tr>\n",
              "      <th>6809</th>\n",
              "      <td>Hughes John</td>\n",
              "      <td>blacksmith</td>\n",
              "      <td>blac.ksmith 55 York h 59</td>\n",
              "    </tr>\n",
              "    <tr>\n",
              "      <th>7107</th>\n",
              "      <td>Jewett John</td>\n",
              "      <td>white lead and oil cloth manfacturer</td>\n",
              "      <td>white lead and oil cloth manfacturer , 182 Fro...</td>\n",
              "    </tr>\n",
              "    <tr>\n",
              "      <th>7259</th>\n",
              "      <td>JONES Ortvir.tE O</td>\n",
              "      <td>agency</td>\n",
              "      <td>'Wood and ware agency 46 Fulton h</td>\n",
              "    </tr>\n",
              "    <tr>\n",
              "      <th>8543</th>\n",
              "      <td>MALBOXF. RALPH</td>\n",
              "      <td>agent</td>\n",
              "      <td>Notary Public , Land and Loan agent office 307...</td>\n",
              "    </tr>\n",
              "    <tr>\n",
              "      <th>8947</th>\n",
              "      <td>Miller D D</td>\n",
              "      <td>manuf</td>\n",
              "      <td>lantern manuf’r 207 Water N Y h 88 Orange</td>\n",
              "    </tr>\n",
              "    <tr>\n",
              "      <th>9608</th>\n",
              "      <td>M’AVO.Y ARTHUB</td>\n",
              "      <td>liquor store</td>\n",
              "      <td>wholesal,e liquor store 171 Jay</td>\n",
              "    </tr>\n",
              "    <tr>\n",
              "      <th>9873</th>\n",
              "      <td>M’Dernjott James</td>\n",
              "      <td>tin and copper smith</td>\n",
              "      <td>tin and copper smith , 194 Bridge</td>\n",
              "    </tr>\n",
              "    <tr>\n",
              "      <th>10111</th>\n",
              "      <td>M“Guire Peter</td>\n",
              "      <td>tin and copper smith</td>\n",
              "      <td>tin and copper smith , 114 Hudson av</td>\n",
              "    </tr>\n",
              "    <tr>\n",
              "      <th>10521</th>\n",
              "      <td>Noble John S</td>\n",
              "      <td>agent</td>\n",
              "      <td>Ins. agent 65 Wall NYh Lawrence n Wib Ioughby</td>\n",
              "    </tr>\n",
              "    <tr>\n",
              "      <th>10522</th>\n",
              "      <td>Noe H</td>\n",
              "      <td>sash &amp; blind maker</td>\n",
              "      <td>sash &amp; blind maker 9 Lindon row Pearl n Fulton st</td>\n",
              "    </tr>\n",
              "    <tr>\n",
              "      <th>10554</th>\n",
              "      <td>NORTH AMERICA,N FIRE INSURANCE</td>\n",
              "      <td>agent</td>\n",
              "      <td>Agency Office 50 Fulton—J E Underhill agent</td>\n",
              "    </tr>\n",
              "    <tr>\n",
              "      <th>11078</th>\n",
              "      <td>Perry James</td>\n",
              "      <td>nail manuf</td>\n",
              "      <td>nail manuf. Flatbush turnpike n Powers and Myr...</td>\n",
              "    </tr>\n",
              "    <tr>\n",
              "      <th>11272</th>\n",
              "      <td>Poole Mark</td>\n",
              "      <td>syringe manuf</td>\n",
              "      <td>garden syringe manuf’r Myrtle av n Steuben</td>\n",
              "    </tr>\n",
              "    <tr>\n",
              "      <th>11651</th>\n",
              "      <td>Reid Catherine S</td>\n",
              "      <td>school</td>\n",
              "      <td>young ladies’school 149 Jay</td>\n",
              "    </tr>\n",
              "    <tr>\n",
              "      <th>11848</th>\n",
              "      <td>Ringwood Catharine F</td>\n",
              "      <td>school</td>\n",
              "      <td>ladies’ school 111 Pearl</td>\n",
              "    </tr>\n",
              "    <tr>\n",
              "      <th>13099</th>\n",
              "      <td>Spencer David H</td>\n",
              "      <td>manuf</td>\n",
              "      <td>gold pea manuf’n 2 Maiden lane N Y h 41 Dean</td>\n",
              "    </tr>\n",
              "    <tr>\n",
              "      <th>13222</th>\n",
              "      <td>Steele John</td>\n",
              "      <td>manuf</td>\n",
              "      <td>screw bolt manuf’r Vanderbilt av n Pacific sl</td>\n",
              "    </tr>\n",
              "    <tr>\n",
              "      <th>14340</th>\n",
              "      <td>Van Zandt</td>\n",
              "      <td>assessor</td>\n",
              "      <td>Doctor Smith c Schermerhorn 1 assessor 11th wa...</td>\n",
              "    </tr>\n",
              "    <tr>\n",
              "      <th>14367</th>\n",
              "      <td>Waldron Henry</td>\n",
              "      <td>paint mill</td>\n",
              "      <td>N Y and Brooklyn white lead and paint mills 13...</td>\n",
              "    </tr>\n",
              "    <tr>\n",
              "      <th>15029</th>\n",
              "      <td>Wilmerth Robert</td>\n",
              "      <td>sash &amp; blind maker</td>\n",
              "      <td>sash &amp; blind maker Park n Franklin av</td>\n",
              "    </tr>\n",
              "    <tr>\n",
              "      <th>15083</th>\n",
              "      <td>Wily George S &amp; Co</td>\n",
              "      <td>oil cloth manufactory</td>\n",
              "      <td>oil cloth manufactory , Fleet c Willoughby h 7...</td>\n",
              "    </tr>\n",
              "  </tbody>\n",
              "</table>\n",
              "</div>"
            ],
            "text/plain": [
              "                            Full Name  ...                                       Full Address\n",
              "884                               NaN  ...         Bergen Peter comptroller 25 Hicks c Poplar\n",
              "997          Birkbeck Alexander & Son  ...  Union foundry & machine shop Water n Fulton fe...\n",
              "1005                Birmingham Thomas  ...                   oii cloth man’r Navy n DeKalb av\n",
              "1323                       Boyle John  ...              oil cloth maker , Dcan c Vanderbiltav\n",
              "1388                    Brady Francis  ...               oil cloth maker , Canton n Myrtle av\n",
              "1433                      Brandt Chas  ...       glazed oil cloth manuf’r Bedford n DeKalb av\n",
              "1448                     Brasher Wm M  ...  oil cloth manuf’r Debevoise c Fulton av h 337 ...\n",
              "1576          BROOKLYA GRAMMAR SCHOOL  ...             Henry c Atlantic James Marsh principal\n",
              "1990                              NaN  ...  BurtisDivine,ship builder prop’r of marine rai...\n",
              "2280                              NaN  ...  Carpenter Thomas , Prest Kings Co Mutual Ins c...\n",
              "3341               Cunningham Bernard  ...             oil cloth manf r , Skilman n DeKalb av\n",
              "3487                  Darrow Walter R  ...  gold pen manuf’r 10 North William N F h 112 Du...\n",
              "3706                  De Mott Abraham  ...            sash & blind maker Duffield n Myrtle av\n",
              "4540                      Erven James  ...       prepared chalk mnufa’r 50 Fulton h 158 Front\n",
              "4547                    Estes Elihu B  ...          pepper sauce manr. Hamilton av n the Dock\n",
              "5021                 Foster Prince FI  ...           pork and poultry dealer , Market c James\n",
              "6478                        Higgins S  ...         hot air furnace manuf’r Livingston c Smith\n",
              "6566                       Hoff Henry  ...                      sash & blind maker 105 Nassau\n",
              "6719                        How James  ...      white lead manuf*r Front c Bridge h 93 Willow\n",
              "6809                      Hughes John  ...                           blac.ksmith 55 York h 59\n",
              "7107                      Jewett John  ...  white lead and oil cloth manfacturer , 182 Fro...\n",
              "7259                JONES Ortvir.tE O  ...                  'Wood and ware agency 46 Fulton h\n",
              "8543                   MALBOXF. RALPH  ...  Notary Public , Land and Loan agent office 307...\n",
              "8947                       Miller D D  ...          lantern manuf’r 207 Water N Y h 88 Orange\n",
              "9608                   M’AVO.Y ARTHUB  ...                    wholesal,e liquor store 171 Jay\n",
              "9873                 M’Dernjott James  ...                  tin and copper smith , 194 Bridge\n",
              "10111                   M“Guire Peter  ...               tin and copper smith , 114 Hudson av\n",
              "10521                    Noble John S  ...      Ins. agent 65 Wall NYh Lawrence n Wib Ioughby\n",
              "10522                           Noe H  ...  sash & blind maker 9 Lindon row Pearl n Fulton st\n",
              "10554  NORTH AMERICA,N FIRE INSURANCE  ...        Agency Office 50 Fulton—J E Underhill agent\n",
              "11078                     Perry James  ...  nail manuf. Flatbush turnpike n Powers and Myr...\n",
              "11272                      Poole Mark  ...         garden syringe manuf’r Myrtle av n Steuben\n",
              "11651                Reid Catherine S  ...                        young ladies’school 149 Jay\n",
              "11848            Ringwood Catharine F  ...                           ladies’ school 111 Pearl\n",
              "13099                 Spencer David H  ...       gold pea manuf’n 2 Maiden lane N Y h 41 Dean\n",
              "13222                     Steele John  ...      screw bolt manuf’r Vanderbilt av n Pacific sl\n",
              "14340                      Van Zandt   ...  Doctor Smith c Schermerhorn 1 assessor 11th wa...\n",
              "14367                   Waldron Henry  ...  N Y and Brooklyn white lead and paint mills 13...\n",
              "15029                 Wilmerth Robert  ...              sash & blind maker Park n Franklin av\n",
              "15083              Wily George S & Co  ...  oil cloth manufactory , Fleet c Willoughby h 7...\n",
              "\n",
              "[40 rows x 3 columns]"
            ]
          },
          "metadata": {
            "tags": []
          },
          "execution_count": 120
        }
      ]
    },
    {
      "cell_type": "code",
      "metadata": {
        "id": "zr9TuS8tqmbP",
        "colab_type": "code",
        "colab": {}
      },
      "source": [
        ""
      ],
      "execution_count": null,
      "outputs": []
    },
    {
      "cell_type": "markdown",
      "metadata": {
        "id": "MjHDlsi7y2MZ",
        "colab_type": "text"
      },
      "source": [
        "Method 1 to standardize the cd : aglomerative clustering"
      ]
    },
    {
      "cell_type": "code",
      "metadata": {
        "id": "KFAYhOVKqme-",
        "colab_type": "code",
        "colab": {}
      },
      "source": [
        "\n",
        "import numpy as np\n",
        "import re\n",
        "!pip install textdistance\n",
        "import textdistance\n",
        "# we will need scikit-learn>=0.21\n",
        "from sklearn.cluster import AgglomerativeClustering  \n"
      ],
      "execution_count": null,
      "outputs": []
    },
    {
      "cell_type": "code",
      "metadata": {
        "id": "MunseEl0quaD",
        "colab_type": "code",
        "colab": {}
      },
      "source": [
        "text = output_1850_bk.loc[output_1850_bk['Occupation'].notnull(), ['Occupation']] # unique occupations\n",
        "text['Occupation'] = text['Occupation'].str.lower()\n",
        "\n",
        "print(len(text.Occupation.unique()))\n",
        "\n",
        "text = text.Occupation.unique()"
      ],
      "execution_count": null,
      "outputs": []
    },
    {
      "cell_type": "code",
      "metadata": {
        "id": "uXfot6zAq9Sb",
        "colab_type": "code",
        "colab": {}
      },
      "source": [
        "\n",
        "def normalize(text):\n",
        "  \"\"\" Keep only lower-cased text and numbers\"\"\"\n",
        "  return re.sub('[^a-z0-9]+', ' ', text.lower())\n",
        "\n",
        "def group_texts(texts, threshold=0.25): \n",
        "  \"\"\" Replace each text with the representative of its cluster\"\"\"\n",
        "  normalized_texts = np.array([normalize(text) for text in texts])\n",
        "  distances = 1 - np.array([\n",
        "      [textdistance.jaro_winkler(one, another) for one in normalized_texts] \n",
        "      for another in normalized_texts\n",
        "  ])\n",
        "  \n",
        "  clustering = AgglomerativeClustering(\n",
        "    distance_threshold=threshold, # this parameter needs to be tuned carefully\n",
        "    affinity=\"precomputed\", linkage=\"complete\", n_clusters=None\n",
        "  ).fit(distances)\n",
        "  centers = dict()\n",
        "\n",
        "  for cluster_id in set(clustering.labels_):\n",
        "    index = clustering.labels_ == cluster_id\n",
        "    centrality = distances[:, index][index].sum(axis=1)\n",
        "    centers[cluster_id] = normalized_texts[index][centrality.argmin()]\n",
        "  return [centers[i] for i in clustering.labels_]\n"
      ],
      "execution_count": null,
      "outputs": []
    },
    {
      "cell_type": "code",
      "metadata": {
        "id": "x7TyLBrjrz-1",
        "colab_type": "code",
        "colab": {
          "base_uri": "https://localhost:8080/",
          "height": 342
        },
        "outputId": "1f708cb5-b160-4fb4-93c2-295b06e98976"
      },
      "source": [
        "std_names = group_texts(text)\n",
        "std_names[0:20]"
      ],
      "execution_count": null,
      "outputs": [
        {
          "output_type": "execute_result",
          "data": {
            "text/plain": [
              "['clerk',\n",
              " 'weigher',\n",
              " 'stonecutter',\n",
              " 'publisher',\n",
              " 'com mer',\n",
              " 'seaman r',\n",
              " 'barber',\n",
              " 'barber',\n",
              " 'tailor r',\n",
              " 'shoemaker',\n",
              " 'coachmaker',\n",
              " 'drygoods h r',\n",
              " 'saloon r',\n",
              " 'com mer',\n",
              " 'clerk r',\n",
              " 'telegraph',\n",
              " 'pedler r',\n",
              " 'cooper',\n",
              " 'shoes ',\n",
              " 'carman r']"
            ]
          },
          "metadata": {
            "tags": []
          },
          "execution_count": 9
        }
      ]
    },
    {
      "cell_type": "code",
      "metadata": {
        "id": "ybz3RKFZr4EP",
        "colab_type": "code",
        "colab": {
          "base_uri": "https://localhost:8080/",
          "height": 342
        },
        "outputId": "12f4b920-1c15-4b6d-c746-20cf29f22f0c"
      },
      "source": [
        "text = list(text)\n",
        "text[0:20]"
      ],
      "execution_count": null,
      "outputs": [
        {
          "output_type": "execute_result",
          "data": {
            "text/plain": [
              "['clerk',\n",
              " 'weigher',\n",
              " 'stonecutter',\n",
              " 'publisher',\n",
              " 'com mer',\n",
              " 'seaman',\n",
              " 'barber',\n",
              " 'barbers',\n",
              " 'tailor',\n",
              " 'shoemaker',\n",
              " 'coachmaker',\n",
              " 'drygoods h r',\n",
              " 'saloon',\n",
              " 'com mers',\n",
              " 'clerk bank',\n",
              " 'telegraph inventor',\n",
              " 'pedler',\n",
              " 'cooper',\n",
              " 'shoes',\n",
              " 'carman']"
            ]
          },
          "metadata": {
            "tags": []
          },
          "execution_count": 10
        }
      ]
    },
    {
      "cell_type": "code",
      "metadata": {
        "id": "b1bG51Yt0hzw",
        "colab_type": "code",
        "colab": {}
      },
      "source": [
        "output_1850_bk = pd.DataFrame(text, columns=[\"orignal_name\"]).join(pd.DataFrame(std_names, columns = [\"new_name\"]))"
      ],
      "execution_count": null,
      "outputs": []
    },
    {
      "cell_type": "code",
      "metadata": {
        "id": "pXfzijja0Zbk",
        "colab_type": "code",
        "colab": {}
      },
      "source": [
        "output_1850_bk.to_csv(\"occ_list_1850_bk_agloclustering.csv\")"
      ],
      "execution_count": null,
      "outputs": []
    },
    {
      "cell_type": "markdown",
      "metadata": {
        "id": "4Eoc5pP-49ov",
        "colab_type": "text"
      },
      "source": [
        "2nd approach to affnity matching on 1850 bk file"
      ]
    },
    {
      "cell_type": "code",
      "metadata": {
        "id": "QKxyJzOk5BNM",
        "colab_type": "code",
        "colab": {}
      },
      "source": [
        "x = output_1850_bk.loc[output_1850_bk['Occupation'].notnull(), ['Occupation']]\n",
        "x['Occupation_normalize'] = x['Occupation']\n",
        "x.drop_duplicates(inplace=True)\n",
        "\n",
        "\n",
        "import re\n",
        "# clean the records remove digits and special characters \n",
        "for i in range(len(x)):\n",
        "  x.iloc[i]['Occupation_normalize'] = re.sub(\"[^a-zA-Z0-9]+\", \n",
        "                          \" \",     \n",
        "                          str(x.iloc[i]['Occupation']).lower())\n",
        "  \n",
        "  x.iloc[i]['Occupation_normalize'] = str(x.iloc[i]['Occupation_normalize'])\n",
        "\n",
        "len(x)"
      ],
      "execution_count": null,
      "outputs": []
    },
    {
      "cell_type": "code",
      "metadata": {
        "id": "CL4a1g6r5KZu",
        "colab_type": "code",
        "colab": {
          "base_uri": "https://localhost:8080/",
          "height": 281
        },
        "outputId": "1072dcd3-bc51-4780-ac2b-fbe4d6ed611b"
      },
      "source": [
        "!pip install fuzzywuzzy\n",
        "!pip install python-Levenshtein\n",
        "from fuzzywuzzy import process, fuzz\n",
        "from sklearn.cluster import AffinityPropagation  \n",
        "from sklearn import cluster"
      ],
      "execution_count": null,
      "outputs": [
        {
          "output_type": "stream",
          "text": [
            "Collecting fuzzywuzzy\n",
            "  Downloading https://files.pythonhosted.org/packages/43/ff/74f23998ad2f93b945c0309f825be92e04e0348e062026998b5eefef4c33/fuzzywuzzy-0.18.0-py2.py3-none-any.whl\n",
            "Installing collected packages: fuzzywuzzy\n",
            "Successfully installed fuzzywuzzy-0.18.0\n",
            "Collecting python-Levenshtein\n",
            "\u001b[?25l  Downloading https://files.pythonhosted.org/packages/42/a9/d1785c85ebf9b7dfacd08938dd028209c34a0ea3b1bcdb895208bd40a67d/python-Levenshtein-0.12.0.tar.gz (48kB)\n",
            "\u001b[K     |████████████████████████████████| 51kB 1.6MB/s \n",
            "\u001b[?25hRequirement already satisfied: setuptools in /usr/local/lib/python3.6/dist-packages (from python-Levenshtein) (49.2.0)\n",
            "Building wheels for collected packages: python-Levenshtein\n",
            "  Building wheel for python-Levenshtein (setup.py) ... \u001b[?25l\u001b[?25hdone\n",
            "  Created wheel for python-Levenshtein: filename=python_Levenshtein-0.12.0-cp36-cp36m-linux_x86_64.whl size=144793 sha256=059a75c0d185b1fa4bde44330bd9e151bcc1fffd0007923f80002a233e4ed025\n",
            "  Stored in directory: /root/.cache/pip/wheels/de/c2/93/660fd5f7559049268ad2dc6d81c4e39e9e36518766eaf7e342\n",
            "Successfully built python-Levenshtein\n",
            "Installing collected packages: python-Levenshtein\n",
            "Successfully installed python-Levenshtein-0.12.0\n"
          ],
          "name": "stdout"
        }
      ]
    },
    {
      "cell_type": "code",
      "metadata": {
        "id": "zuc0lvY65Xlc",
        "colab_type": "code",
        "colab": {}
      },
      "source": [
        "\n",
        "def fuzzy_similarity(text):\n",
        "  similarity_array = np.ones((len(text), (len(text))))*100\n",
        "  for i in range(1, len(text)):\n",
        "    for j in range (i):\n",
        "      s1 = fuzz.token_set_ratio(text[i], text[j]) + 0.0000000001\n",
        "      s2 = fuzz.partial_ratio(text[i], text[j]) + 0.0000000001\n",
        "      similarity_array[i][j] = 2*s1*s2/(s1+s2)\n",
        "\n",
        "  for i in range(1, len(text)):\n",
        "    for j in range (i+1, len(text)):\n",
        "      similarity_array[i][j] = similarity_array[j][i]\n",
        "\n",
        "  np.fill_diagonal(similarity_array, 100)\n",
        "  return similarity_array\n",
        "\n",
        "def occ_clusters(x, nameCol='Occupation_normalize', dropForeign= True):\n",
        "    occ_names = x.Occupation.to_list()\n",
        "    text = x.Occupation_normalize.to_list()\n",
        "    similarity_array = fuzzy_similarity(text)\n",
        "    clusters = cluster.AffinityPropagation(affinity=\"precomputed\").fit_predict(similarity_array)\n",
        "    df_clusters = pd.DataFrame(list(zip(occ_names, clusters)), columns = [\"Occupation\",\"cluster\"])\n",
        "\n",
        "    df_eval = df_clusters.merge(x, on=\"Occupation\", how= \"left\")\n",
        "    return df_eval\n"
      ],
      "execution_count": null,
      "outputs": []
    },
    {
      "cell_type": "code",
      "metadata": {
        "id": "VaOyDEk55gle",
        "colab_type": "code",
        "colab": {}
      },
      "source": [
        "df_eval = occ_clusters(x)"
      ],
      "execution_count": null,
      "outputs": []
    },
    {
      "cell_type": "code",
      "metadata": {
        "id": "7yapPw4F5j0k",
        "colab_type": "code",
        "colab": {}
      },
      "source": [
        "def standard_name(df_eval):\n",
        "  d_standard_name = {}\n",
        "  for cluster in df_eval.cluster.unique():\n",
        "    names = df_eval[df_eval['cluster']==cluster].Occupation_normalize.to_list()\n",
        "    l_common_substring = []\n",
        "    if len(names) >1:\n",
        "      for i in range(0,len(names)):\n",
        "        for j in range(i+1, len(names)):\n",
        "          seqMatch = SequenceMatcher(None, names[i], names[j])\n",
        "          match = seqMatch.find_longest_match(0, len(names[i]), 0, len(names[j]))\n",
        "          if (match.size != 0 ):\n",
        "            l_common_substring.append(names[i][match.a: match.a + match.size].strip())\n",
        "      n = len(l_common_substring)\n",
        "      counts = Counter(l_common_substring)\n",
        "      get_mode = dict(counts)\n",
        "      mode = [k for k, v in get_mode.items() if v == max(list(counts.values()))]\n",
        "      d_standard_name[cluster] = \";\".join(mode)\n",
        "    else:\n",
        "      d_standard_name[cluster] = names[0]\n",
        "    \n",
        "  df_standard_names = pd.DataFrame(list(d_standard_name.items()), columns = ['cluster','standard_name'])\n",
        "  df_eval = df_eval.merge(df_standard_names, on = \"cluster\", how = \"left\")\n",
        "  df_eval['score_with_std'] = df_eval.apply(lambda x: fuzz.token_set_ratio(x['standard_name'], x['Occupation_normalize']), axis=1)\n",
        "  df_eval['std_name_nospace'] = df_eval.standard_name.apply(lambda x: x.replace(\" \",\"\"))\n",
        "  for name in df_eval.std_name_nospace.unique():\n",
        "    if len(df_eval[df_eval.std_name_nospace == name].cluster.unique()) > 1:\n",
        "      df_eval.loc[df_eval.std_name_nospace == name, \"standard_name\" ] = name\n",
        "\n",
        "  return df_eval.drop('std_name_nospace', axis=1)"
      ],
      "execution_count": null,
      "outputs": []
    },
    {
      "cell_type": "code",
      "metadata": {
        "id": "VStFNWl39-56",
        "colab_type": "code",
        "colab": {}
      },
      "source": [
        "from difflib import SequenceMatcher\n",
        "from collections import Counter\n",
        "final_df = standard_name(df_eval)"
      ],
      "execution_count": null,
      "outputs": []
    },
    {
      "cell_type": "code",
      "metadata": {
        "id": "cAB_D7pi-d_D",
        "colab_type": "code",
        "colab": {}
      },
      "source": [
        "final_df.to_csv(\"occ_list_1850_bk_affinity.csv\")"
      ],
      "execution_count": null,
      "outputs": []
    }
  ]
}