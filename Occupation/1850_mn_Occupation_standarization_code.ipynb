{
  "nbformat": 4,
  "nbformat_minor": 0,
  "metadata": {
    "colab": {
      "name": "1850 mn Occupation standarization code.ipynb",
      "provenance": [],
      "collapsed_sections": []
    },
    "kernelspec": {
      "name": "python3",
      "display_name": "Python 3"
    }
  },
  "cells": [
    {
      "cell_type": "code",
      "metadata": {
        "id": "kfMQCWKNw282",
        "colab_type": "code",
        "colab": {
          "base_uri": "https://localhost:8080/",
          "height": 70
        },
        "outputId": "ec5a58a8-9680-401e-ec04-da24005de8d2"
      },
      "source": [
        "# Load libraries\n",
        "import missingno as msno \n",
        "import re\n",
        "import pickle\n",
        "import pandas as pd\n",
        "import numpy as np\n",
        "\n",
        "import sys\n",
        "np.set_printoptions(threshold=sys.maxsize)"
      ],
      "execution_count": null,
      "outputs": [
        {
          "output_type": "stream",
          "text": [
            "/usr/local/lib/python3.6/dist-packages/statsmodels/tools/_testing.py:19: FutureWarning: pandas.util.testing is deprecated. Use the functions in the public API at pandas.testing instead.\n",
            "  import pandas.util.testing as tm\n"
          ],
          "name": "stderr"
        }
      ]
    },
    {
      "cell_type": "code",
      "metadata": {
        "id": "ykJI7eSZw53n",
        "colab_type": "code",
        "colab": {}
      },
      "source": [
        "# Load Data\n",
        "with open('/content/mn_final_output.pkl', 'rb') as f:\n",
        "    output_1850 = pickle.load(f)\n",
        "    \n",
        "with open('/content/final_output.pkl', 'rb') as f:\n",
        "    output_1880 = pickle.load(f)\n",
        "    \n",
        "with open('/content/bk_final_output.pkl', 'rb') as f:\n",
        "    output_1850_bk = pickle.load(f)\n",
        "    \n",
        "# Replace empty strings with NaN values\n",
        "output_1850.replace('', np.nan, inplace=True)\n",
        "output_1880.replace('', np.nan, inplace=True)\n",
        "output_1850_bk.replace('', np.nan, inplace=True)\n",
        "\n",
        "output_1850_bk = pd.read_csv(\"/content/output_1850_bk.csv\", index_col=0)\n"
      ],
      "execution_count": null,
      "outputs": []
    },
    {
      "cell_type": "markdown",
      "metadata": {
        "id": "57DrUL3MZVPU",
        "colab_type": "text"
      },
      "source": [
        "Clean widow flags"
      ]
    },
    {
      "cell_type": "markdown",
      "metadata": {
        "id": "8iELxvabZvzL",
        "colab_type": "text"
      },
      "source": [
        "1850 manhattan"
      ]
    },
    {
      "cell_type": "code",
      "metadata": {
        "id": "UyfOcn1BZesr",
        "colab_type": "code",
        "colab": {
          "base_uri": "https://localhost:8080/",
          "height": 33
        },
        "outputId": "1cca2b20-46c5-4316-fda6-2d51ece9b3b1"
      },
      "source": [
        "len(output_1850.loc[(output_1850['Widow-flag'] == 'False')  &  (output_1850['Full Address'].str.startswith('widow'))])"
      ],
      "execution_count": null,
      "outputs": [
        {
          "output_type": "execute_result",
          "data": {
            "text/plain": [
              "64"
            ]
          },
          "metadata": {
            "tags": []
          },
          "execution_count": 3
        }
      ]
    },
    {
      "cell_type": "code",
      "metadata": {
        "id": "KxpMgP15Zzb1",
        "colab_type": "code",
        "colab": {
          "base_uri": "https://localhost:8080/",
          "height": 953
        },
        "outputId": "778bb7c9-e997-4ae0-f142-b91d16d9e078"
      },
      "source": [
        "print(output_1850.loc[(output_1850['Widow-flag'] == 'False')  &  (output_1850['Full Address'].str.startswith('widow of')), 'Full Address'].str.split().str[0:3])\n",
        "\n",
        "\n",
        "for i in range(1,len(output_1850)):\n",
        " if ((output_1850['Widow-flag'][str(i)] == 'False') & (str(output_1850['Full Address'][str(i)]).startswith('widow of'))):\n",
        "    output_1850.loc[str(i),'Widow-flag'] = 'True'\n",
        "    output_1850.loc[str(i),'Widow of'] = output_1850['Full Address'][str(i)].split()[2]\n",
        "    output_1850.loc[str(i),'Full Address'] =\" \".join(output_1850['Full Address'][str(i)].split()[3:])\n",
        "\n",
        " if ((output_1850['Widow-flag'][str(i)] == 'False') & (str(output_1850['Full Address'][str(i)]).startswith(\"widow' of\"))):\n",
        "    output_1850.loc[str(i),'Widow-flag'] = 'True'\n",
        "    output_1850.loc[str(i),'Widow of'] = output_1850['Full Address'][str(i)].split()[2]\n",
        "    output_1850.loc[str(i),'Full Address'] =\" \".join(output_1850['Full Address'][str(i)].split()[3:])\n",
        "\n",
        " if ((output_1850['Widow-flag'][str(i)] == 'False') & (str(output_1850['Full Address'][str(i)]).startswith(\"widow- of\"))):\n",
        "    output_1850.loc[str(i),'Widow-flag'] = 'True'\n",
        "    output_1850.loc[str(i),'Widow of'] = output_1850['Full Address'][str(i)].split()[2]\n",
        "    output_1850.loc[str(i),'Full Address'] =\" \".join(output_1850['Full Address'][str(i)].split()[3:])\n",
        "\n",
        " if ((output_1850['Widow-flag'][str(i)] == 'False') & (str(output_1850['Full Address'][str(i)]).startswith(\"widow’ of\"))):\n",
        "    output_1850.loc[str(i),'Widow-flag'] = 'True'\n",
        "    output_1850.loc[str(i),'Widow of'] = output_1850['Full Address'][str(i)].split()[2]\n",
        "    output_1850.loc[str(i),'Full Address'] =\" \".join(output_1850['Full Address'][str(i)].split()[3:])\n",
        "\n",
        "output_1850.loc[(output_1850['Widow-flag'] == 'False')  &  (output_1850['Full Address'].str.startswith('widow')), 'Widow-flag'] = 'True'\n",
        "output_1850['Full Address'] = output_1850['Full Address'].str.replace('widow ','')"
      ],
      "execution_count": null,
      "outputs": [
        {
          "output_type": "stream",
          "text": [
            "114           [widow, of, David.]\n",
            "1330           [widow, of, Sars.]\n",
            "4495           [widow, of, Ebrd.]\n",
            "5073          [widow, of, Daniel]\n",
            "7490           [widow, of, James]\n",
            "8503            [widow, of, Geo.]\n",
            "10465         [widow, of, James.]\n",
            "13098            [widow, of, Wm.]\n",
            "15929       [widow, of, Roswell.]\n",
            "16477     [widow, of, Thomas,'r.]\n",
            "18368     [widow, of, Frederick.]\n",
            "27884           [widow, of, Jos.]\n",
            "28658        [widow, of, Patrick]\n",
            "30353          [widow, of, John.]\n",
            "31766       [widow, of, William.]\n",
            "31768         [widow, of, Peter.]\n",
            "35213         [widow, of, Jacob.]\n",
            "35267          [widow, of, Benj.]\n",
            "35373    [widow, of, Stephen,.r.]\n",
            "38668          [widow, of, John.]\n",
            "40540       [widow, of, Henry,85]\n",
            "40872          [widow, of, Thos.]\n",
            "42012       [widow, of, William.]\n",
            "43465         [widow, of, (Rev.)]\n",
            "45315        [widow, of, Philip.]\n",
            "45960          [widow, of, Alex.]\n",
            "45966           [widow, of, Geo.]\n",
            "47727          [widow, of, Alex.]\n",
            "48452          [widow, of, James]\n",
            "49865         [widow, of, David.]\n",
            "50202       [widow, of, William.]\n",
            "50797           [widow, of, John]\n",
            "52363        [widow, of, Joshua.]\n",
            "52373         [widow, of, George]\n",
            "55151         [widow, of, Joseph]\n",
            "55186         [widow, of, Hiram.]\n",
            "55847     [widow, of, Frederick.]\n",
            "55981            [widow, of, Wm.]\n",
            "57924        [widow, of, Daniel.]\n",
            "59419     [widow, of, Frederick.]\n",
            "59985            [widow, of, 011]\n",
            "61191          [widow, of, John.]\n",
            "61518       [widow, of, William.]\n",
            "65800        [widow, of, Isaiah.]\n",
            "70316    [widow, of, Jeremiah,49]\n",
            "72904           [widow, of, A.H.]\n",
            "73549         [widow, of, John,']\n",
            "73952          [widow, of, Henry]\n",
            "75225    [widow, of, William,682]\n",
            "75682         [widow, of, Sahel.]\n",
            "76975       [widow, of, William.]\n",
            "77257     [widow, of, Isaac,r.44]\n",
            "79292      [widow, of, Benjamin.]\n",
            "79335          [widow, of, Peter]\n",
            "79468       [widow, of, William.]\n",
            "Name: Full Address, dtype: object\n"
          ],
          "name": "stdout"
        }
      ]
    },
    {
      "cell_type": "code",
      "metadata": {
        "id": "guTv5XUQDDqa",
        "colab_type": "code",
        "colab": {
          "base_uri": "https://localhost:8080/",
          "height": 33
        },
        "outputId": "14da5913-4c2f-48a9-9099-f4e890eda9b2"
      },
      "source": [
        "len(output_1850.loc[(output_1850['Widow-flag'] == 'False')  &  (output_1850['Full Address'].str.startswith('widow'))])"
      ],
      "execution_count": null,
      "outputs": [
        {
          "output_type": "execute_result",
          "data": {
            "text/plain": [
              "0"
            ]
          },
          "metadata": {
            "tags": []
          },
          "execution_count": 5
        }
      ]
    },
    {
      "cell_type": "markdown",
      "metadata": {
        "id": "VRIrxYQ4sypZ",
        "colab_type": "text"
      },
      "source": [
        "1880 cd"
      ]
    },
    {
      "cell_type": "code",
      "metadata": {
        "id": "PelwYOSWs1Ao",
        "colab_type": "code",
        "colab": {
          "base_uri": "https://localhost:8080/",
          "height": 33
        },
        "outputId": "f3b85083-b0c8-40d2-a9e9-b6ae381c818e"
      },
      "source": [
        "# widow flag = true if full address contains widow word and widow flag was false\n",
        "len(output_1880.loc[(output_1880['Widow-flag'] == 'False')  &  (output_1880['Full Address'].str.startswith('widow'))])"
      ],
      "execution_count": null,
      "outputs": [
        {
          "output_type": "execute_result",
          "data": {
            "text/plain": [
              "4"
            ]
          },
          "metadata": {
            "tags": []
          },
          "execution_count": 6
        }
      ]
    },
    {
      "cell_type": "code",
      "metadata": {
        "id": "w6MaHNmrtFSn",
        "colab_type": "code",
        "colab": {
          "base_uri": "https://localhost:8080/",
          "height": 100
        },
        "outputId": "eba63e59-58f8-43f0-83d5-ad4da8d3e006"
      },
      "source": [
        "print(output_1880.loc[(output_1880['Widow-flag'] == 'False')  &  (output_1880['Full Address'].str.startswith('widow')), 'Full Address'])\n",
        "\n",
        "output_1880.loc[(output_1850['Widow-flag'] == 'False')  &  (output_1880['Full Address'].str.startswith('widow')), 'Widow-flag'] = 'True'\n",
        "output_1880['Full Address'] = output_1880['Full Address'].str.replace('widow ','')"
      ],
      "execution_count": null,
      "outputs": [
        {
          "output_type": "stream",
          "text": [
            "65722                widow h 348 E. 33d\n",
            "89062                widow h 340 E. 33d\n",
            "91135               widow h 405 E. 71st\n",
            "139014    widow (refused) h 443 W. 37th\n",
            "Name: Full Address, dtype: object\n"
          ],
          "name": "stdout"
        }
      ]
    },
    {
      "cell_type": "code",
      "metadata": {
        "id": "uhrj2-yhtdem",
        "colab_type": "code",
        "colab": {
          "base_uri": "https://localhost:8080/",
          "height": 33
        },
        "outputId": "fe7f5f07-6285-4fb7-a179-6d67b3275d36"
      },
      "source": [
        "# widow flag = true if full address contains widow word and widow flag was false\n",
        "len(output_1880.loc[(output_1880['Widow-flag'] == 'False')  &  (output_1880['Full Address'].str.startswith('widow'))])"
      ],
      "execution_count": null,
      "outputs": [
        {
          "output_type": "execute_result",
          "data": {
            "text/plain": [
              "0"
            ]
          },
          "metadata": {
            "tags": []
          },
          "execution_count": 8
        }
      ]
    },
    {
      "cell_type": "markdown",
      "metadata": {
        "id": "Tt9No4DRvwsc",
        "colab_type": "text"
      },
      "source": [
        "combine occupations from all the three files\n",
        "\n",
        "Keep the occupations which are atleast 3 letter words to avoid unnecessary errors"
      ]
    },
    {
      "cell_type": "code",
      "metadata": {
        "id": "acN_zZvjw_JN",
        "colab_type": "code",
        "colab": {}
      },
      "source": [
        "# non null values\n",
        "output_1850_bk['Occupation'] = output_1850_bk['Occupation'].str.replace(')','')\n",
        "output_1850['Occupation'] = output_1850['Occupation'].str.replace(')','')\n",
        "output_1880['Occupation'] = output_1880['Occupation'].str.replace(')','')\n",
        "\n",
        "output_1850_bk['Occupation'] = output_1850_bk['Occupation'].str.replace('.','')\n",
        "output_1850['Occupation'] = output_1850['Occupation'].str.replace('.','')\n",
        "output_1880['Occupation'] = output_1880['Occupation'].str.replace('.','')\n",
        "\n",
        "output_1850_bk['Occupation'] = output_1850_bk['Occupation'].str.replace(',','')\n",
        "output_1850['Occupation'] = output_1850['Occupation'].str.replace(',','')\n",
        "output_1880['Occupation'] = output_1880['Occupation'].str.replace(',','')\n",
        "\n",
        "x = output_1850_bk.loc[output_1850_bk['Occupation'].notnull(), ['Occupation']]\n",
        "x = x.append(output_1850.loc[output_1850['Occupation'].notnull(), ['Occupation']])\n",
        "x = x.append(output_1880.loc[output_1880['Occupation'].notnull(), ['Occupation']])\n",
        "\n",
        "x = x[~(x.Occupation.str.len() < 4)]\n",
        "x['Occupation'] = x['Occupation'].str.lower()"
      ],
      "execution_count": null,
      "outputs": []
    },
    {
      "cell_type": "markdown",
      "metadata": {
        "id": "EzQGKJ_PVmVX",
        "colab_type": "text"
      },
      "source": [
        "Currently there are 14k occupations"
      ]
    },
    {
      "cell_type": "code",
      "metadata": {
        "id": "xCy3DBd8kJPt",
        "colab_type": "code",
        "colab": {
          "base_uri": "https://localhost:8080/",
          "height": 33
        },
        "outputId": "187e9a1d-b057-4566-9828-d12e72538cd5"
      },
      "source": [
        "len(x.Occupation.unique())\n",
        "#len(x)"
      ],
      "execution_count": null,
      "outputs": [
        {
          "output_type": "execute_result",
          "data": {
            "text/plain": [
              "14458"
            ]
          },
          "metadata": {
            "tags": []
          },
          "execution_count": 10
        }
      ]
    },
    {
      "cell_type": "markdown",
      "metadata": {
        "id": "Wfvd51aRmdu5",
        "colab_type": "text"
      },
      "source": [
        "find rows where occupation is null"
      ]
    },
    {
      "cell_type": "code",
      "metadata": {
        "id": "p9EEo6k7zpI0",
        "colab_type": "code",
        "colab": {
          "base_uri": "https://localhost:8080/",
          "height": 421
        },
        "outputId": "dae1448f-4102-4d55-b914-f8a67a8259f0"
      },
      "source": [
        "# find rows where occupation is null\n",
        "y = output_1850.loc[(output_1850['Occupation'].isnull()) & (output_1850['Full Address'].notnull()), ['Full Address']]\n",
        "y['Full Address'] = y['Full Address'].str.replace('.',' ')\n",
        "# 7984 nulls\n",
        "\n",
        "print(len(y))\n",
        "\n",
        "# keep records where address has more than one word\n",
        "for i in range(len(y)):\n",
        "  if (len(y['Full Address'][i].split()))<2:\n",
        "    y['Full Address'][i] = None\n",
        "\n",
        "y = y.loc[y['Full Address'].notnull(), ['Full Address']]\n",
        "y"
      ],
      "execution_count": null,
      "outputs": [
        {
          "output_type": "stream",
          "text": [
            "7984\n"
          ],
          "name": "stdout"
        },
        {
          "output_type": "execute_result",
          "data": {
            "text/html": [
              "<div>\n",
              "<style scoped>\n",
              "    .dataframe tbody tr th:only-of-type {\n",
              "        vertical-align: middle;\n",
              "    }\n",
              "\n",
              "    .dataframe tbody tr th {\n",
              "        vertical-align: top;\n",
              "    }\n",
              "\n",
              "    .dataframe thead th {\n",
              "        text-align: right;\n",
              "    }\n",
              "</style>\n",
              "<table border=\"1\" class=\"dataframe\">\n",
              "  <thead>\n",
              "    <tr style=\"text-align: right;\">\n",
              "      <th></th>\n",
              "      <th>Full Address</th>\n",
              "    </tr>\n",
              "  </thead>\n",
              "  <tbody>\n",
              "    <tr>\n",
              "      <th>4</th>\n",
              "      <td>Albro Benjamin sen  328 Bowery</td>\n",
              "    </tr>\n",
              "    <tr>\n",
              "      <th>8</th>\n",
              "      <td>barber 34 Av  C</td>\n",
              "    </tr>\n",
              "    <tr>\n",
              "      <th>11</th>\n",
              "      <td>h  175 Canal</td>\n",
              "    </tr>\n",
              "    <tr>\n",
              "      <th>12</th>\n",
              "      <td>137 Norfolk</td>\n",
              "    </tr>\n",
              "    <tr>\n",
              "      <th>26</th>\n",
              "      <td>E  24th c  Av  3</td>\n",
              "    </tr>\n",
              "    <tr>\n",
              "      <th>...</th>\n",
              "      <td>...</td>\n",
              "    </tr>\n",
              "    <tr>\n",
              "      <th>79468</th>\n",
              "      <td>676 Greenwich</td>\n",
              "    </tr>\n",
              "    <tr>\n",
              "      <th>79469</th>\n",
              "      <td>29 Clarkson</td>\n",
              "    </tr>\n",
              "    <tr>\n",
              "      <th>79470</th>\n",
              "      <td>124 W  22d</td>\n",
              "    </tr>\n",
              "    <tr>\n",
              "      <th>79520</th>\n",
              "      <td>Youngs Henry jr  10 Broadway, h  218 Av  9</td>\n",
              "    </tr>\n",
              "    <tr>\n",
              "      <th>79521</th>\n",
              "      <td>carman,' 35 Hamilton</td>\n",
              "    </tr>\n",
              "  </tbody>\n",
              "</table>\n",
              "<p>7683 rows × 1 columns</p>\n",
              "</div>"
            ],
            "text/plain": [
              "                                     Full Address\n",
              "4                  Albro Benjamin sen  328 Bowery\n",
              "8                                 barber 34 Av  C\n",
              "11                                   h  175 Canal\n",
              "12                                    137 Norfolk\n",
              "26                               E  24th c  Av  3\n",
              "...                                           ...\n",
              "79468                               676 Greenwich\n",
              "79469                                 29 Clarkson\n",
              "79470                                  124 W  22d\n",
              "79520  Youngs Henry jr  10 Broadway, h  218 Av  9\n",
              "79521                        carman,' 35 Hamilton\n",
              "\n",
              "[7683 rows x 1 columns]"
            ]
          },
          "metadata": {
            "tags": []
          },
          "execution_count": 11
        }
      ]
    },
    {
      "cell_type": "code",
      "metadata": {
        "id": "EhGIVvsNmCBa",
        "colab_type": "code",
        "colab": {}
      },
      "source": [
        "# we need o find there are any matches within 7683 full adress"
      ],
      "execution_count": null,
      "outputs": []
    },
    {
      "cell_type": "markdown",
      "metadata": {
        "id": "8Rqg9PjzWOHg",
        "colab_type": "text"
      },
      "source": [
        "Find if there is an exact match for occupations as substring in the address column"
      ]
    },
    {
      "cell_type": "code",
      "metadata": {
        "id": "gkHuY01H4zmX",
        "colab_type": "code",
        "colab": {
          "base_uri": "https://localhost:8080/",
          "height": 33
        },
        "outputId": "02298099-62aa-40dc-ed4d-c6de61dea0cc"
      },
      "source": [
        "z = y['Full Address'].str.extract('(%s)' % '|'.join([re.escape(x) for x in x.Occupation.unique()]))\n",
        "z.columns = ['occupation']\n",
        "z = z.loc[z['occupation'].notnull(), ['occupation']]\n",
        "len(z)"
      ],
      "execution_count": null,
      "outputs": [
        {
          "output_type": "execute_result",
          "data": {
            "text/plain": [
              "1047"
            ]
          },
          "metadata": {
            "tags": []
          },
          "execution_count": 12
        }
      ]
    },
    {
      "cell_type": "code",
      "metadata": {
        "id": "Oa6CG4ghUyjo",
        "colab_type": "code",
        "colab": {}
      },
      "source": [
        "z.loc[(z.occupation == 'hotel') | (z.occupation == 'boarding house') | (z.occupation == 'foot of' ) | (z.occupation == 'market' ) | (z.occupation == 'office' ) | (z.occupation == 'coffee' ) | (z.occupation == 'select school'), 'occupation'] = None\n",
        "z.loc[(z.occupation == 'stone yard') | (z.occupation == 'railroad') | (z.occupation == 'express' ), 'occupation'] = None\n",
        "\n",
        "z.loc[(z.occupation == 'purser'), 'occupation'] = \"purser's clerk\"\n",
        "z.loc[(z.occupation == 'sheet iron worker'), 'occupation'] = \"tin and sheet iron worker  \"\n"
      ],
      "execution_count": null,
      "outputs": []
    },
    {
      "cell_type": "code",
      "metadata": {
        "id": "2cHgvjXLVtEW",
        "colab_type": "code",
        "colab": {
          "base_uri": "https://localhost:8080/",
          "height": 33
        },
        "outputId": "da5dadab-b4e3-442d-f14f-c7200a6e62c4"
      },
      "source": [
        "z = z.loc[z['occupation'].notnull(), ['occupation']]\n",
        "len(z)"
      ],
      "execution_count": null,
      "outputs": [
        {
          "output_type": "execute_result",
          "data": {
            "text/plain": [
              "1012"
            ]
          },
          "metadata": {
            "tags": []
          },
          "execution_count": 14
        }
      ]
    },
    {
      "cell_type": "code",
      "metadata": {
        "id": "04q3L-2cSMNw",
        "colab_type": "code",
        "colab": {
          "base_uri": "https://localhost:8080/",
          "height": 33
        },
        "outputId": "ff5f7e0d-b6a9-4c3e-99b1-03f09e26038e"
      },
      "source": [
        "len(z.occupation.unique())"
      ],
      "execution_count": null,
      "outputs": [
        {
          "output_type": "execute_result",
          "data": {
            "text/plain": [
              "289"
            ]
          },
          "metadata": {
            "tags": []
          },
          "execution_count": 15
        }
      ]
    },
    {
      "cell_type": "markdown",
      "metadata": {
        "id": "ARAVLqh3uCcu",
        "colab_type": "text"
      },
      "source": [
        "A total of 1k records found a match for occupations in their addresses"
      ]
    },
    {
      "cell_type": "code",
      "metadata": {
        "id": "0DOImkrRG-5z",
        "colab_type": "code",
        "colab": {}
      },
      "source": [
        "#output_1850_bk = output_1850_bk.drop(['occupation'], axis=1)\n",
        "output_1850 = output_1850.join(z)"
      ],
      "execution_count": null,
      "outputs": []
    },
    {
      "cell_type": "code",
      "metadata": {
        "id": "pqMrhqKXTi-f",
        "colab_type": "code",
        "colab": {}
      },
      "source": [
        "output_1850['len_occ']=0\n",
        "output_1850.loc[(output_1850['occupation'].notnull()),'len_occ'] = output_1850.loc[(output_1850['occupation'].notnull()),'occupation'].str.len()\n"
      ],
      "execution_count": null,
      "outputs": []
    },
    {
      "cell_type": "markdown",
      "metadata": {
        "id": "5ih80bRhWfx2",
        "colab_type": "text"
      },
      "source": [
        "Assumption is that the address will start with occupation in case the occupation column is null, so match the found occupation substring with the starting words in the address columns"
      ]
    },
    {
      "cell_type": "code",
      "metadata": {
        "id": "3gR_l1Db2Cwh",
        "colab_type": "code",
        "colab": {}
      },
      "source": [
        "#z.loc[z['Full Address'].notnull(), 'Full Address'].str[0:z.iloc[z['len_occ']]]\n",
        "\n",
        "output_1850['Old_Occupation_info'] = output_1850['Occupation']\n",
        "output_1850['add_sub_match'] = '0'\n",
        "output_1850['new_occ_found'] = 'False'\n",
        "\n",
        "for i in range(len(output_1850)):\n",
        "  output_1850['add_sub_match'][i] = str(output_1850.iloc[i]['Full Address'])[0:output_1850.iloc[i][\"len_occ\"]]\n",
        "\n",
        "  if ((output_1850['occupation'][i] == output_1850['add_sub_match'][i])):\n",
        "    output_1850['new_occ_found'][i] = 'True'\n",
        "\n",
        "    if (len(output_1850['Full Address'][i].split(',')) > 1):\n",
        "      output_1850['Occupation'][i] = output_1850['Full Address'][i].split(',')[0]\n",
        "    else:\n",
        "      output_1850['Occupation'][i] = output_1850['occupation'][i]\n",
        "\n",
        "\n",
        "  if ((output_1850['new_occ_found'][i] == 'False') & (str(output_1850['Full Address'][i]).startswith('mer'))):\n",
        "    output_1850['new_occ_found'][i] = 'True'\n",
        "    output_1850['Occupation'][i] = 'merchant'\n",
        "\n"
      ],
      "execution_count": null,
      "outputs": []
    },
    {
      "cell_type": "markdown",
      "metadata": {
        "id": "6Xp-_huVWxte",
        "colab_type": "text"
      },
      "source": [
        "Mark the occupation found column as assume if there are still matches in the previous step but the address column doesnot start with the matched occupation"
      ]
    },
    {
      "cell_type": "code",
      "metadata": {
        "id": "H071N9usR7Nd",
        "colab_type": "code",
        "colab": {}
      },
      "source": [
        "for i in range(len(output_1850)):\n",
        "  if ((output_1850['new_occ_found'][i] == 'False') & (str(output_1850.iloc[i]['occupation']) != 'nan')):\n",
        "    output_1850['new_occ_found'][i] = 'assume'\n",
        "    output_1850['Occupation'][i] = output_1850['occupation'][i]\n"
      ],
      "execution_count": null,
      "outputs": []
    },
    {
      "cell_type": "code",
      "metadata": {
        "id": "0igBYFcvbFQ_",
        "colab_type": "code",
        "colab": {
          "base_uri": "https://localhost:8080/",
          "height": 551
        },
        "outputId": "0ed52dbd-3fb2-42cd-d455-ab00f3db036c"
      },
      "source": [
        "print(len(output_1850.loc[(output_1850['new_occ_found'] == 'True')]))\n",
        "\n",
        "output_1850.loc[(output_1850['new_occ_found'] == 'True')].head()"
      ],
      "execution_count": null,
      "outputs": [
        {
          "output_type": "stream",
          "text": [
            "493\n"
          ],
          "name": "stdout"
        },
        {
          "output_type": "execute_result",
          "data": {
            "text/html": [
              "<div>\n",
              "<style scoped>\n",
              "    .dataframe tbody tr th:only-of-type {\n",
              "        vertical-align: middle;\n",
              "    }\n",
              "\n",
              "    .dataframe tbody tr th {\n",
              "        vertical-align: top;\n",
              "    }\n",
              "\n",
              "    .dataframe thead th {\n",
              "        text-align: right;\n",
              "    }\n",
              "</style>\n",
              "<table border=\"1\" class=\"dataframe\">\n",
              "  <thead>\n",
              "    <tr style=\"text-align: right;\">\n",
              "      <th></th>\n",
              "      <th>Full Name</th>\n",
              "      <th>First Name</th>\n",
              "      <th>Last Name</th>\n",
              "      <th>Middle Name</th>\n",
              "      <th>Widow-flag</th>\n",
              "      <th>Widow Of</th>\n",
              "      <th>Title</th>\n",
              "      <th>Occupation</th>\n",
              "      <th>Full Address</th>\n",
              "      <th>H Status-flag</th>\n",
              "      <th>H Address</th>\n",
              "      <th>H House Number</th>\n",
              "      <th>H Street Name</th>\n",
              "      <th>H City</th>\n",
              "      <th>Address 2</th>\n",
              "      <th>Address 2 House Number</th>\n",
              "      <th>Address 2 Street Name</th>\n",
              "      <th>Address 2 City</th>\n",
              "      <th>Index</th>\n",
              "      <th>Full Entry</th>\n",
              "      <th>Widow of</th>\n",
              "      <th>occupation</th>\n",
              "      <th>len_occ</th>\n",
              "      <th>Old_Occupation_info</th>\n",
              "      <th>add_sub_match</th>\n",
              "      <th>new_occ_found</th>\n",
              "    </tr>\n",
              "  </thead>\n",
              "  <tbody>\n",
              "    <tr>\n",
              "      <th>8</th>\n",
              "      <td>Anthes Peter</td>\n",
              "      <td>Peter</td>\n",
              "      <td>Anthes</td>\n",
              "      <td>NaN</td>\n",
              "      <td>False</td>\n",
              "      <td>NaN</td>\n",
              "      <td>NaN</td>\n",
              "      <td>barber</td>\n",
              "      <td>barber 34 Av. C</td>\n",
              "      <td>Assume</td>\n",
              "      <td>barber 34 Av. C</td>\n",
              "      <td>34</td>\n",
              "      <td>Av. C</td>\n",
              "      <td>NaN</td>\n",
              "      <td>NaN</td>\n",
              "      <td>NaN</td>\n",
              "      <td>NaN</td>\n",
              "      <td>NaN</td>\n",
              "      <td>8</td>\n",
              "      <td>Anthes Peter, barber 34 Av. C</td>\n",
              "      <td>NaN</td>\n",
              "      <td>barber</td>\n",
              "      <td>6</td>\n",
              "      <td>NaN</td>\n",
              "      <td>barber</td>\n",
              "      <td>True</td>\n",
              "    </tr>\n",
              "    <tr>\n",
              "      <th>324</th>\n",
              "      <td>Abbott MaryAnn,wid. Merrick</td>\n",
              "      <td>MaryAnn,wid.</td>\n",
              "      <td>Abbott</td>\n",
              "      <td>Merrick</td>\n",
              "      <td>False</td>\n",
              "      <td>NaN</td>\n",
              "      <td>NaN</td>\n",
              "      <td>sewing</td>\n",
              "      <td>sewing,158W. 20th</td>\n",
              "      <td>Assume</td>\n",
              "      <td>sewing,158W. 20th</td>\n",
              "      <td>NaN</td>\n",
              "      <td>NaN</td>\n",
              "      <td>sewing,158W. 20th</td>\n",
              "      <td>NaN</td>\n",
              "      <td>NaN</td>\n",
              "      <td>NaN</td>\n",
              "      <td>NaN</td>\n",
              "      <td>324</td>\n",
              "      <td>Abbott MaryAnn,wid. Merrick, sewing,158W. 20th</td>\n",
              "      <td>NaN</td>\n",
              "      <td>sewing</td>\n",
              "      <td>6</td>\n",
              "      <td>NaN</td>\n",
              "      <td>sewing</td>\n",
              "      <td>True</td>\n",
              "    </tr>\n",
              "    <tr>\n",
              "      <th>336</th>\n",
              "      <td>Abbott Walter S</td>\n",
              "      <td>Walter</td>\n",
              "      <td>Abbott</td>\n",
              "      <td>S</td>\n",
              "      <td>False</td>\n",
              "      <td>NaN</td>\n",
              "      <td>NaN</td>\n",
              "      <td>saddler</td>\n",
              "      <td>saddler,273 Bowery ,h.187 Forsyth</td>\n",
              "      <td>Assume</td>\n",
              "      <td>saddler,273 Bowery ,h.187 Forsyth</td>\n",
              "      <td>NaN</td>\n",
              "      <td>NaN</td>\n",
              "      <td>saddler,273 Bowery ,h.187 Forsyth</td>\n",
              "      <td>NaN</td>\n",
              "      <td>NaN</td>\n",
              "      <td>NaN</td>\n",
              "      <td>NaN</td>\n",
              "      <td>336</td>\n",
              "      <td>Abbott Walter S. saddler,273 Bowery ,h.187 For...</td>\n",
              "      <td>NaN</td>\n",
              "      <td>saddler</td>\n",
              "      <td>7</td>\n",
              "      <td>NaN</td>\n",
              "      <td>saddler</td>\n",
              "      <td>True</td>\n",
              "    </tr>\n",
              "    <tr>\n",
              "      <th>793</th>\n",
              "      <td>AITKEN RAPHAEL F</td>\n",
              "      <td>RAPHAEL</td>\n",
              "      <td>AITKEN</td>\n",
              "      <td>F</td>\n",
              "      <td>False</td>\n",
              "      <td>NaN</td>\n",
              "      <td>NaN</td>\n",
              "      <td>grocer</td>\n",
              "      <td>grocer,173 South , h.173 S’th</td>\n",
              "      <td>Assume</td>\n",
              "      <td>grocer,173 South , h.173 S’th</td>\n",
              "      <td>NaN</td>\n",
              "      <td>NaN</td>\n",
              "      <td>grocer,173 South , h.173 S’th</td>\n",
              "      <td>NaN</td>\n",
              "      <td>NaN</td>\n",
              "      <td>NaN</td>\n",
              "      <td>NaN</td>\n",
              "      <td>793</td>\n",
              "      <td>AITKEN RAPHAEL F. grocer,173 South, h.173 S’th</td>\n",
              "      <td>NaN</td>\n",
              "      <td>grocer</td>\n",
              "      <td>6</td>\n",
              "      <td>NaN</td>\n",
              "      <td>grocer</td>\n",
              "      <td>True</td>\n",
              "    </tr>\n",
              "    <tr>\n",
              "      <th>1118</th>\n",
              "      <td>Allen Richard</td>\n",
              "      <td>Richard</td>\n",
              "      <td>Allen</td>\n",
              "      <td>NaN</td>\n",
              "      <td>False</td>\n",
              "      <td>NaN</td>\n",
              "      <td>NaN</td>\n",
              "      <td>warehouse</td>\n",
              "      <td>warehouse,191 Water</td>\n",
              "      <td>Assume</td>\n",
              "      <td>warehouse,191 Water</td>\n",
              "      <td>NaN</td>\n",
              "      <td>NaN</td>\n",
              "      <td>warehouse,191 Water</td>\n",
              "      <td>NaN</td>\n",
              "      <td>NaN</td>\n",
              "      <td>NaN</td>\n",
              "      <td>NaN</td>\n",
              "      <td>1118</td>\n",
              "      <td>Allen Richard L.agricultural warehouse,191 Water</td>\n",
              "      <td>NaN</td>\n",
              "      <td>warehouse</td>\n",
              "      <td>9</td>\n",
              "      <td>NaN</td>\n",
              "      <td>warehouse</td>\n",
              "      <td>True</td>\n",
              "    </tr>\n",
              "  </tbody>\n",
              "</table>\n",
              "</div>"
            ],
            "text/plain": [
              "                        Full Name    First Name  ... add_sub_match new_occ_found\n",
              "8                    Anthes Peter         Peter  ...        barber          True\n",
              "324   Abbott MaryAnn,wid. Merrick  MaryAnn,wid.  ...        sewing          True\n",
              "336               Abbott Walter S        Walter  ...       saddler          True\n",
              "793              AITKEN RAPHAEL F       RAPHAEL  ...        grocer          True\n",
              "1118                Allen Richard       Richard  ...     warehouse          True\n",
              "\n",
              "[5 rows x 26 columns]"
            ]
          },
          "metadata": {
            "tags": []
          },
          "execution_count": 20
        }
      ]
    },
    {
      "cell_type": "code",
      "metadata": {
        "id": "hz0i9wcKgqxN",
        "colab_type": "code",
        "colab": {
          "base_uri": "https://localhost:8080/",
          "height": 33
        },
        "outputId": "69daf2ae-d1aa-44a0-c60d-3aa61b71fdeb"
      },
      "source": [
        "print(len(output_1850.loc[(output_1850['new_occ_found'] == 'assume')]))\n"
      ],
      "execution_count": null,
      "outputs": [
        {
          "output_type": "stream",
          "text": [
            "536\n"
          ],
          "name": "stdout"
        }
      ]
    },
    {
      "cell_type": "markdown",
      "metadata": {
        "id": "xvWgEf4uXAj6",
        "colab_type": "text"
      },
      "source": [
        "try more fuzzy name match algorithms for remaining records"
      ]
    },
    {
      "cell_type": "code",
      "metadata": {
        "id": "inNuZnrhiY-i",
        "colab_type": "code",
        "colab": {}
      },
      "source": [
        "# try more fuzzy  name match algorithms\n",
        "\n",
        "uni_occ = x.Occupation.unique()\n",
        "\n",
        "import pandas as pd\n",
        "!pip install fuzzywuzzy\n",
        "from fuzzywuzzy import process, fuzz\n",
        "\n",
        "def find_match(x):\n",
        "\n",
        "    match = process.extract(x, uni_occ, scorer=fuzz.WRatio, limit=1)\n",
        "    return pd.Series([match[0][0], match[0][1]])\n",
        "\n"
      ],
      "execution_count": null,
      "outputs": []
    },
    {
      "cell_type": "code",
      "metadata": {
        "id": "bPxeNz3pwea7",
        "colab_type": "code",
        "colab": {
          "base_uri": "https://localhost:8080/",
          "height": 33
        },
        "outputId": "77a09e98-3b6b-43fb-adba-65a71070de19"
      },
      "source": [
        "len(uni_occ)"
      ],
      "execution_count": null,
      "outputs": [
        {
          "output_type": "execute_result",
          "data": {
            "text/plain": [
              "14458"
            ]
          },
          "metadata": {
            "tags": []
          },
          "execution_count": 23
        }
      ]
    },
    {
      "cell_type": "markdown",
      "metadata": {
        "id": "MovZr1k5lgi4",
        "colab_type": "text"
      },
      "source": [
        "subset those records which not recognized by substring matching (7196 out of 7683)"
      ]
    },
    {
      "cell_type": "code",
      "metadata": {
        "id": "ufD-SJSMl6Wi",
        "colab_type": "code",
        "colab": {
          "base_uri": "https://localhost:8080/",
          "height": 438
        },
        "outputId": "08333345-5e7e-4f5c-d24b-4fd17b743313"
      },
      "source": [
        "# rows where occupation is null\n",
        "nm_match_add = output_1850.loc[(output_1850['Old_Occupation_info'].isnull()) & (output_1850['new_occ_found'] != 'True') & (output_1850['Full Address'].notnull()), ['Full Address']]\n",
        "nm_match_add['Full Address'] = nm_match_add['Full Address'].str.replace('.',' ')\n",
        "# 7984 nulls\n",
        "\n",
        "print(len(nm_match_add))\n",
        "print(len(y))\n",
        "\n",
        "\n",
        "# keep records where address has more than one word\n",
        "for i in range(len(nm_match_add)):\n",
        "  if (len(nm_match_add['Full Address'][i].split()))<2:\n",
        "    nm_match_add['Full Address'][i] = None\n",
        "\n",
        "nm_match_add = nm_match_add.loc[nm_match_add['Full Address'].notnull(), ['Full Address']]\n",
        "nm_match_add"
      ],
      "execution_count": null,
      "outputs": [
        {
          "output_type": "stream",
          "text": [
            "7497\n",
            "7683\n"
          ],
          "name": "stdout"
        },
        {
          "output_type": "execute_result",
          "data": {
            "text/html": [
              "<div>\n",
              "<style scoped>\n",
              "    .dataframe tbody tr th:only-of-type {\n",
              "        vertical-align: middle;\n",
              "    }\n",
              "\n",
              "    .dataframe tbody tr th {\n",
              "        vertical-align: top;\n",
              "    }\n",
              "\n",
              "    .dataframe thead th {\n",
              "        text-align: right;\n",
              "    }\n",
              "</style>\n",
              "<table border=\"1\" class=\"dataframe\">\n",
              "  <thead>\n",
              "    <tr style=\"text-align: right;\">\n",
              "      <th></th>\n",
              "      <th>Full Address</th>\n",
              "    </tr>\n",
              "  </thead>\n",
              "  <tbody>\n",
              "    <tr>\n",
              "      <th>4</th>\n",
              "      <td>Albro Benjamin sen  328 Bowery</td>\n",
              "    </tr>\n",
              "    <tr>\n",
              "      <th>11</th>\n",
              "      <td>h  175 Canal</td>\n",
              "    </tr>\n",
              "    <tr>\n",
              "      <th>12</th>\n",
              "      <td>137 Norfolk</td>\n",
              "    </tr>\n",
              "    <tr>\n",
              "      <th>26</th>\n",
              "      <td>E  24th c  Av  3</td>\n",
              "    </tr>\n",
              "    <tr>\n",
              "      <th>35</th>\n",
              "      <td>24th n  Av  10</td>\n",
              "    </tr>\n",
              "    <tr>\n",
              "      <th>...</th>\n",
              "      <td>...</td>\n",
              "    </tr>\n",
              "    <tr>\n",
              "      <th>79459</th>\n",
              "      <td>405 Broadway</td>\n",
              "    </tr>\n",
              "    <tr>\n",
              "      <th>79468</th>\n",
              "      <td>676 Greenwich</td>\n",
              "    </tr>\n",
              "    <tr>\n",
              "      <th>79469</th>\n",
              "      <td>29 Clarkson</td>\n",
              "    </tr>\n",
              "    <tr>\n",
              "      <th>79470</th>\n",
              "      <td>124 W  22d</td>\n",
              "    </tr>\n",
              "    <tr>\n",
              "      <th>79520</th>\n",
              "      <td>Youngs Henry jr  10 Broadway, h  218 Av  9</td>\n",
              "    </tr>\n",
              "  </tbody>\n",
              "</table>\n",
              "<p>7196 rows × 1 columns</p>\n",
              "</div>"
            ],
            "text/plain": [
              "                                     Full Address\n",
              "4                  Albro Benjamin sen  328 Bowery\n",
              "11                                   h  175 Canal\n",
              "12                                    137 Norfolk\n",
              "26                               E  24th c  Av  3\n",
              "35                                 24th n  Av  10\n",
              "...                                           ...\n",
              "79459                                405 Broadway\n",
              "79468                               676 Greenwich\n",
              "79469                                 29 Clarkson\n",
              "79470                                  124 W  22d\n",
              "79520  Youngs Henry jr  10 Broadway, h  218 Av  9\n",
              "\n",
              "[7196 rows x 1 columns]"
            ]
          },
          "metadata": {
            "tags": []
          },
          "execution_count": 24
        }
      ]
    },
    {
      "cell_type": "code",
      "metadata": {
        "id": "XjwkexSjKzSg",
        "colab_type": "code",
        "colab": {
          "base_uri": "https://localhost:8080/",
          "height": 404
        },
        "outputId": "bbe7a141-6c4a-4b8c-d03f-f5fec1069817"
      },
      "source": [
        "nm_match_add"
      ],
      "execution_count": null,
      "outputs": [
        {
          "output_type": "execute_result",
          "data": {
            "text/html": [
              "<div>\n",
              "<style scoped>\n",
              "    .dataframe tbody tr th:only-of-type {\n",
              "        vertical-align: middle;\n",
              "    }\n",
              "\n",
              "    .dataframe tbody tr th {\n",
              "        vertical-align: top;\n",
              "    }\n",
              "\n",
              "    .dataframe thead th {\n",
              "        text-align: right;\n",
              "    }\n",
              "</style>\n",
              "<table border=\"1\" class=\"dataframe\">\n",
              "  <thead>\n",
              "    <tr style=\"text-align: right;\">\n",
              "      <th></th>\n",
              "      <th>Full Address</th>\n",
              "    </tr>\n",
              "  </thead>\n",
              "  <tbody>\n",
              "    <tr>\n",
              "      <th>4</th>\n",
              "      <td>Albro Benjamin sen  328 Bowery</td>\n",
              "    </tr>\n",
              "    <tr>\n",
              "      <th>11</th>\n",
              "      <td>h  175 Canal</td>\n",
              "    </tr>\n",
              "    <tr>\n",
              "      <th>12</th>\n",
              "      <td>137 Norfolk</td>\n",
              "    </tr>\n",
              "    <tr>\n",
              "      <th>26</th>\n",
              "      <td>E  24th c  Av  3</td>\n",
              "    </tr>\n",
              "    <tr>\n",
              "      <th>35</th>\n",
              "      <td>24th n  Av  10</td>\n",
              "    </tr>\n",
              "    <tr>\n",
              "      <th>...</th>\n",
              "      <td>...</td>\n",
              "    </tr>\n",
              "    <tr>\n",
              "      <th>79459</th>\n",
              "      <td>405 Broadway</td>\n",
              "    </tr>\n",
              "    <tr>\n",
              "      <th>79468</th>\n",
              "      <td>676 Greenwich</td>\n",
              "    </tr>\n",
              "    <tr>\n",
              "      <th>79469</th>\n",
              "      <td>29 Clarkson</td>\n",
              "    </tr>\n",
              "    <tr>\n",
              "      <th>79470</th>\n",
              "      <td>124 W  22d</td>\n",
              "    </tr>\n",
              "    <tr>\n",
              "      <th>79520</th>\n",
              "      <td>Youngs Henry jr  10 Broadway  h  218 Av  9</td>\n",
              "    </tr>\n",
              "  </tbody>\n",
              "</table>\n",
              "<p>7196 rows × 1 columns</p>\n",
              "</div>"
            ],
            "text/plain": [
              "                                     Full Address\n",
              "4                  Albro Benjamin sen  328 Bowery\n",
              "11                                   h  175 Canal\n",
              "12                                    137 Norfolk\n",
              "26                               E  24th c  Av  3\n",
              "35                                 24th n  Av  10\n",
              "...                                           ...\n",
              "79459                                405 Broadway\n",
              "79468                               676 Greenwich\n",
              "79469                                 29 Clarkson\n",
              "79470                                  124 W  22d\n",
              "79520  Youngs Henry jr  10 Broadway  h  218 Av  9\n",
              "\n",
              "[7196 rows x 1 columns]"
            ]
          },
          "metadata": {
            "tags": []
          },
          "execution_count": 27
        }
      ]
    },
    {
      "cell_type": "markdown",
      "metadata": {
        "id": "wAPIIJu4mym7",
        "colab_type": "text"
      },
      "source": [
        "clean the records remove digits and special characters to run fuzzy name match"
      ]
    },
    {
      "cell_type": "code",
      "metadata": {
        "id": "CBKcbPoUn5_O",
        "colab_type": "code",
        "colab": {}
      },
      "source": [
        "import re\n",
        "# clean the records remove digits and special characters \n",
        "for i in range(len(nm_match_add)):\n",
        "  nm_match_add['Full Address'][i] = re.sub(\"[^a-zA-Z0-9]\", \n",
        "                          \" \",     \n",
        "                          str(nm_match_add['Full Address'][i]))\n",
        "  \n",
        "  nm_match_add['Full Address'][i] = str(nm_match_add['Full Address'][i])\n",
        "\n",
        "\n",
        "for i in range(len(uni_occ)):\n",
        "  uni_occ[i] = re.sub(\"[^a-zA-Z0-9]\", \n",
        "                          \" \",     \n",
        "                          str( uni_occ[i]))\n",
        "  \n",
        "  uni_occ[i] = str(uni_occ[i])"
      ],
      "execution_count": null,
      "outputs": []
    },
    {
      "cell_type": "code",
      "metadata": {
        "id": "zuYmsI6iuzVS",
        "colab_type": "code",
        "colab": {}
      },
      "source": [
        "# do name matching only for false and assume in new_occ_found \n",
        "nm_match_add['new_occ'] = 'False'\n",
        "nm_match_add['match_rating'] = 0\n",
        "\n",
        "count = 0\n",
        "for i in range(len(nm_match_add)):\n",
        "  split_str = str(nm_match_add['Full Address'][i]).split(\",\")\n",
        "  match = find_match(split_str[0])\n",
        "  nm_match_add['new_occ'][i] =match[0]                                                                                                                                                                                                                                                                                                                                                                                                                                                                                                                                                                                                                                                                                                                                                                                                                                                                                                                                                                                                                                                                                                                                                                                                                                                                                                                                                                                                                                      \n",
        "  nm_match_add['match_rating'][i] = match[1]\n",
        "\n",
        "  if ((len(split_str) > 1) & (nm_match_add['match_rating'][i] < 90)):\n",
        "    match = find_match(split_str[1]) \n",
        "    if match[1] > nm_match_add['match_rating'][i]:\n",
        "      nm_match_add['new_occ'][i] =match[0]                                                                                                                                                                                                                                                                                                                                                                                                                                                                                                                                                                                                                                                                                                                                                                                                                                                                                                                                                                                                                                                                                                                                                                                                                                                                                                                                                                                                                                      \n",
        "      nm_match_add['match_rating'][i] = match[1]\n",
        "    \n",
        "  count = count + 1\n",
        "  if (count % 100 == 0):\n",
        "    print(count)\n",
        "    \n",
        " "
      ],
      "execution_count": null,
      "outputs": []
    },
    {
      "cell_type": "code",
      "metadata": {
        "id": "V-oEcQF7xnkz",
        "colab_type": "code",
        "colab": {}
      },
      "source": [
        "# fuzzy name matched length to be >3 \n",
        "   \n",
        "# if new_occ found is true then keep occupation as substring_match\n",
        "                                                                                                                                                                                                                                                                                                                                                                                                                                                     \n",
        "# else if new_occ found = False or assume and fuzzy match >=90 then update occupation and new_occ found = name_match\n",
        "\n",
        "# else keep the assumed occupation"
      ],
      "execution_count": null,
      "outputs": []
    },
    {
      "cell_type": "code",
      "metadata": {
        "id": "KqUqm5qIbPIQ",
        "colab_type": "code",
        "colab": {}
      },
      "source": [
        "nm_match_add.to_csv('1850mn_fuzzymatch_output.csv')\n",
        "output_1850.to_csv('1850mn_occmatch_output.csv')"
      ],
      "execution_count": null,
      "outputs": []
    },
    {
      "cell_type": "code",
      "metadata": {
        "id": "lepNyoObF_Qc",
        "colab_type": "code",
        "colab": {}
      },
      "source": [
        "output_1850_mn = pd.read_csv(\"/content/1850mn_occmatch_output.csv\", index_col=0)\n",
        "#output_1850_mn = pd.read_csv(\"/content/output_1850_mn.csv\", index_col=0)\n",
        "\n",
        "fuzzy_name = pd.read_csv(\"/content/1850_mn_fuzzymatch.csv\", index_col=0)"
      ],
      "execution_count": null,
      "outputs": []
    },
    {
      "cell_type": "code",
      "metadata": {
        "id": "nWb2oQoMGhnI",
        "colab_type": "code",
        "colab": {}
      },
      "source": [
        "# merge the fuzzy name matched table with original table where the matching score is >90\n",
        "output_1850_mn = output_1850_mn.merge(fuzzy_name[['new_occ']], left_index= True, right_index= True, how =\"left\" )"
      ],
      "execution_count": null,
      "outputs": []
    },
    {
      "cell_type": "code",
      "metadata": {
        "id": "gojS5TMeJWyQ",
        "colab_type": "code",
        "colab": {}
      },
      "source": [
        "# if the new_occ_found col is not true and occupation column is null then replace occ with new_occ and new_occ_found with  name match\n",
        "for i in range(1,len(output_1850_mn)):\n",
        "  if ((output_1850_mn['new_occ_found'][i] != 'TRUE') & (str(output_1850_mn['new_occ'][i]) !='nan') & (str(output_1850_mn['Old_Occupation_info'][i]) =='nan')):\n",
        "    output_1850_mn['new_occ_found'][i] = 'Name match'\n",
        "    output_1850_mn['Occupation'][i] = output_1850_mn['new_occ'][i]"
      ],
      "execution_count": null,
      "outputs": []
    },
    {
      "cell_type": "markdown",
      "metadata": {
        "id": "YJq3Z4m6oOuj",
        "colab_type": "text"
      },
      "source": [
        "number of occupations found within each category: true, namematch and assume"
      ]
    },
    {
      "cell_type": "code",
      "metadata": {
        "id": "mv7cegcfJWxL",
        "colab_type": "code",
        "colab": {
          "base_uri": "https://localhost:8080/",
          "height": 33
        },
        "outputId": "52729daf-7143-433d-992e-84dd0f112506"
      },
      "source": [
        "len(output_1850_mn.loc[(output_1850_mn['new_occ_found'] == 'TRUE')])"
      ],
      "execution_count": null,
      "outputs": [
        {
          "output_type": "execute_result",
          "data": {
            "text/plain": [
              "493"
            ]
          },
          "metadata": {
            "tags": []
          },
          "execution_count": 7
        }
      ]
    },
    {
      "cell_type": "code",
      "metadata": {
        "id": "McQcygIOJWv2",
        "colab_type": "code",
        "colab": {
          "base_uri": "https://localhost:8080/",
          "height": 33
        },
        "outputId": "960e37f4-f159-4914-acaf-9b591b886933"
      },
      "source": [
        "len(output_1850_mn.loc[(output_1850_mn['new_occ_found'] == 'Name match')])"
      ],
      "execution_count": null,
      "outputs": [
        {
          "output_type": "execute_result",
          "data": {
            "text/plain": [
              "90"
            ]
          },
          "metadata": {
            "tags": []
          },
          "execution_count": 8
        }
      ]
    },
    {
      "cell_type": "code",
      "metadata": {
        "id": "iEYGah_xLfcl",
        "colab_type": "code",
        "colab": {
          "base_uri": "https://localhost:8080/",
          "height": 33
        },
        "outputId": "54b95274-fa12-4990-fa69-f962ffd5a578"
      },
      "source": [
        "len(output_1850_mn.loc[(output_1850_mn['new_occ_found'] == 'assume')])"
      ],
      "execution_count": null,
      "outputs": [
        {
          "output_type": "execute_result",
          "data": {
            "text/plain": [
              "29"
            ]
          },
          "metadata": {
            "tags": []
          },
          "execution_count": 9
        }
      ]
    },
    {
      "cell_type": "code",
      "metadata": {
        "id": "S8c-u4qDUc3R",
        "colab_type": "code",
        "colab": {}
      },
      "source": [
        "output_1850_mn.to_csv('output_1850_mn.csv')"
      ],
      "execution_count": null,
      "outputs": []
    },
    {
      "cell_type": "markdown",
      "metadata": {
        "id": "Zz5TSSrZYEEx",
        "colab_type": "text"
      },
      "source": [
        "There are a total of ~500 matches\n",
        "\n",
        "Examples of absolute occupation match"
      ]
    },
    {
      "cell_type": "code",
      "metadata": {
        "id": "sno11kIaZr9O",
        "colab_type": "code",
        "colab": {
          "base_uri": "https://localhost:8080/",
          "height": 391
        },
        "outputId": "ad63a111-c69b-449f-b3b2-a83d51d1226b"
      },
      "source": [
        "output_1850_mn.loc[(output_1850_mn['new_occ_found'] == 'TRUE'), ['Full Name','Occupation','Full Address']]"
      ],
      "execution_count": null,
      "outputs": [
        {
          "output_type": "execute_result",
          "data": {
            "text/html": [
              "<div>\n",
              "<style scoped>\n",
              "    .dataframe tbody tr th:only-of-type {\n",
              "        vertical-align: middle;\n",
              "    }\n",
              "\n",
              "    .dataframe tbody tr th {\n",
              "        vertical-align: top;\n",
              "    }\n",
              "\n",
              "    .dataframe thead th {\n",
              "        text-align: right;\n",
              "    }\n",
              "</style>\n",
              "<table border=\"1\" class=\"dataframe\">\n",
              "  <thead>\n",
              "    <tr style=\"text-align: right;\">\n",
              "      <th></th>\n",
              "      <th>Full Name</th>\n",
              "      <th>Occupation</th>\n",
              "      <th>Full Address</th>\n",
              "    </tr>\n",
              "  </thead>\n",
              "  <tbody>\n",
              "    <tr>\n",
              "      <th>8</th>\n",
              "      <td>Anthes Peter</td>\n",
              "      <td>barber</td>\n",
              "      <td>barber 34 Av. C</td>\n",
              "    </tr>\n",
              "    <tr>\n",
              "      <th>324</th>\n",
              "      <td>Abbott MaryAnn,wid. Merrick</td>\n",
              "      <td>sewing</td>\n",
              "      <td>sewing,158W. 20th</td>\n",
              "    </tr>\n",
              "    <tr>\n",
              "      <th>336</th>\n",
              "      <td>Abbott Walter S</td>\n",
              "      <td>saddler</td>\n",
              "      <td>saddler,273 Bowery ,h.187 Forsyth</td>\n",
              "    </tr>\n",
              "    <tr>\n",
              "      <th>793</th>\n",
              "      <td>AITKEN RAPHAEL F</td>\n",
              "      <td>grocer</td>\n",
              "      <td>grocer,173 South , h.173 S’th</td>\n",
              "    </tr>\n",
              "    <tr>\n",
              "      <th>1118</th>\n",
              "      <td>Allen Richard</td>\n",
              "      <td>warehouse</td>\n",
              "      <td>warehouse,191 Water</td>\n",
              "    </tr>\n",
              "    <tr>\n",
              "      <th>...</th>\n",
              "      <td>...</td>\n",
              "      <td>...</td>\n",
              "      <td>...</td>\n",
              "    </tr>\n",
              "    <tr>\n",
              "      <th>79043</th>\n",
              "      <td>Wright Charles</td>\n",
              "      <td>dancing</td>\n",
              "      <td>dancing h. 151 Tenth</td>\n",
              "    </tr>\n",
              "    <tr>\n",
              "      <th>79069</th>\n",
              "      <td>Wright George</td>\n",
              "      <td>blacksmith</td>\n",
              "      <td>blacksmith. Av. 7 c. W. 22d</td>\n",
              "    </tr>\n",
              "    <tr>\n",
              "      <th>79107</th>\n",
              "      <td>Wright John D</td>\n",
              "      <td>late importer 4 Pine</td>\n",
              "      <td>late importer 4 Pine, h. 8 W. 14th</td>\n",
              "    </tr>\n",
              "    <tr>\n",
              "      <th>79122</th>\n",
              "      <td>Wright Misses</td>\n",
              "      <td>milliners</td>\n",
              "      <td>milliners,12 Carmine</td>\n",
              "    </tr>\n",
              "    <tr>\n",
              "      <th>79521</th>\n",
              "      <td>Youngs James</td>\n",
              "      <td>carman</td>\n",
              "      <td>carman,' 35 Hamilton</td>\n",
              "    </tr>\n",
              "  </tbody>\n",
              "</table>\n",
              "<p>493 rows × 3 columns</p>\n",
              "</div>"
            ],
            "text/plain": [
              "                         Full Name  ...                        Full Address\n",
              "8                     Anthes Peter  ...                     barber 34 Av. C\n",
              "324    Abbott MaryAnn,wid. Merrick  ...                   sewing,158W. 20th\n",
              "336                Abbott Walter S  ...   saddler,273 Bowery ,h.187 Forsyth\n",
              "793               AITKEN RAPHAEL F  ...       grocer,173 South , h.173 S’th\n",
              "1118                 Allen Richard  ...                 warehouse,191 Water\n",
              "...                            ...  ...                                 ...\n",
              "79043               Wright Charles  ...                dancing h. 151 Tenth\n",
              "79069                Wright George  ...         blacksmith. Av. 7 c. W. 22d\n",
              "79107                Wright John D  ...  late importer 4 Pine, h. 8 W. 14th\n",
              "79122                Wright Misses  ...                milliners,12 Carmine\n",
              "79521                 Youngs James  ...                carman,' 35 Hamilton\n",
              "\n",
              "[493 rows x 3 columns]"
            ]
          },
          "metadata": {
            "tags": []
          },
          "execution_count": 11
        }
      ]
    },
    {
      "cell_type": "markdown",
      "metadata": {
        "id": "wXCiQ3JdYEOV",
        "colab_type": "text"
      },
      "source": [
        "Examples of tricky name matches using name matching algorithm"
      ]
    },
    {
      "cell_type": "code",
      "metadata": {
        "id": "fCiUemfqZjE7",
        "colab_type": "code",
        "colab": {
          "base_uri": "https://localhost:8080/",
          "height": 391
        },
        "outputId": "e53984d3-49cc-4961-8755-3cc6ae2c2a54"
      },
      "source": [
        "output_1850_mn.loc[(output_1850_mn['new_occ_found'] == 'Name match'), ['Full Name','Occupation','Full Address']]"
      ],
      "execution_count": null,
      "outputs": [
        {
          "output_type": "execute_result",
          "data": {
            "text/html": [
              "<div>\n",
              "<style scoped>\n",
              "    .dataframe tbody tr th:only-of-type {\n",
              "        vertical-align: middle;\n",
              "    }\n",
              "\n",
              "    .dataframe tbody tr th {\n",
              "        vertical-align: top;\n",
              "    }\n",
              "\n",
              "    .dataframe thead th {\n",
              "        text-align: right;\n",
              "    }\n",
              "</style>\n",
              "<table border=\"1\" class=\"dataframe\">\n",
              "  <thead>\n",
              "    <tr style=\"text-align: right;\">\n",
              "      <th></th>\n",
              "      <th>Full Name</th>\n",
              "      <th>Occupation</th>\n",
              "      <th>Full Address</th>\n",
              "    </tr>\n",
              "  </thead>\n",
              "  <tbody>\n",
              "    <tr>\n",
              "      <th>489</th>\n",
              "      <td>Ackerman Warren</td>\n",
              "      <td>india rubber</td>\n",
              "      <td>sec’ry of the Newark india rubber manufacturin...</td>\n",
              "    </tr>\n",
              "    <tr>\n",
              "      <th>1665</th>\n",
              "      <td>NaN</td>\n",
              "      <td>butcher</td>\n",
              "      <td>Anthony Alex.butcher,Wash’ton mkt,h.12 Bethune</td>\n",
              "    </tr>\n",
              "    <tr>\n",
              "      <th>2166</th>\n",
              "      <td>NaN</td>\n",
              "      <td>insurance</td>\n",
              "      <td>AUGUSTA (Georgia) INSURANCE &amp; BANKING Co. 76 Wall</td>\n",
              "    </tr>\n",
              "    <tr>\n",
              "      <th>2439</th>\n",
              "      <td>NaN</td>\n",
              "      <td>mer</td>\n",
              "      <td>Bacon Sherman 5. mer. 132 Water</td>\n",
              "    </tr>\n",
              "    <tr>\n",
              "      <th>3912</th>\n",
              "      <td>NaN</td>\n",
              "      <td>laborer</td>\n",
              "      <td>Bay John,'laborer , E. 13th n. Av. B.</td>\n",
              "    </tr>\n",
              "    <tr>\n",
              "      <th>...</th>\n",
              "      <td>...</td>\n",
              "      <td>...</td>\n",
              "      <td>...</td>\n",
              "    </tr>\n",
              "    <tr>\n",
              "      <th>70020</th>\n",
              "      <td>NaN</td>\n",
              "      <td>lawyer</td>\n",
              "      <td>TaylorGeorge L.lawyer,20 Beekman,h.480Houston</td>\n",
              "    </tr>\n",
              "    <tr>\n",
              "      <th>72631</th>\n",
              "      <td>NaN</td>\n",
              "      <td>insurance</td>\n",
              "      <td>UNITED STATES LIFE INSURANCE CO. 27 Wall</td>\n",
              "    </tr>\n",
              "    <tr>\n",
              "      <th>77310</th>\n",
              "      <td>Wilde</td>\n",
              "      <td>seamstress</td>\n",
              "      <td>of John,seamstress,191 Franklin</td>\n",
              "    </tr>\n",
              "    <tr>\n",
              "      <th>77317</th>\n",
              "      <td>NaN</td>\n",
              "      <td>hatpresser</td>\n",
              "      <td>Wilder George,hatpresser,155.5 Chrystie,h.252 ...</td>\n",
              "    </tr>\n",
              "    <tr>\n",
              "      <th>77800</th>\n",
              "      <td>NaN</td>\n",
              "      <td>lookingglasses</td>\n",
              "      <td>WILLIAMS &amp; STEVENS,lookingglasses,353 B.way</td>\n",
              "    </tr>\n",
              "  </tbody>\n",
              "</table>\n",
              "<p>90 rows × 3 columns</p>\n",
              "</div>"
            ],
            "text/plain": [
              "             Full Name  ...                                       Full Address\n",
              "489    Ackerman Warren  ...  sec’ry of the Newark india rubber manufacturin...\n",
              "1665               NaN  ...     Anthony Alex.butcher,Wash’ton mkt,h.12 Bethune\n",
              "2166               NaN  ...  AUGUSTA (Georgia) INSURANCE & BANKING Co. 76 Wall\n",
              "2439               NaN  ...                    Bacon Sherman 5. mer. 132 Water\n",
              "3912               NaN  ...              Bay John,'laborer , E. 13th n. Av. B.\n",
              "...                ...  ...                                                ...\n",
              "70020              NaN  ...      TaylorGeorge L.lawyer,20 Beekman,h.480Houston\n",
              "72631              NaN  ...           UNITED STATES LIFE INSURANCE CO. 27 Wall\n",
              "77310            Wilde  ...                    of John,seamstress,191 Franklin\n",
              "77317              NaN  ...  Wilder George,hatpresser,155.5 Chrystie,h.252 ...\n",
              "77800              NaN  ...        WILLIAMS & STEVENS,lookingglasses,353 B.way\n",
              "\n",
              "[90 rows x 3 columns]"
            ]
          },
          "metadata": {
            "tags": []
          },
          "execution_count": 12
        }
      ]
    },
    {
      "cell_type": "markdown",
      "metadata": {
        "id": "TgPxKHGXYEUX",
        "colab_type": "text"
      },
      "source": [
        "Examples of assume occupations"
      ]
    },
    {
      "cell_type": "code",
      "metadata": {
        "id": "Cofp6ZSHYUfU",
        "colab_type": "code",
        "colab": {
          "base_uri": "https://localhost:8080/",
          "height": 881
        },
        "outputId": "30484fe3-4a01-4b30-d3c1-51c413fae68d"
      },
      "source": [
        "output_1850_mn.loc[(output_1850_mn['new_occ_found'] == 'assume'), ['Full Name','Occupation','Full Address']]"
      ],
      "execution_count": null,
      "outputs": [
        {
          "output_type": "execute_result",
          "data": {
            "text/html": [
              "<div>\n",
              "<style scoped>\n",
              "    .dataframe tbody tr th:only-of-type {\n",
              "        vertical-align: middle;\n",
              "    }\n",
              "\n",
              "    .dataframe tbody tr th {\n",
              "        vertical-align: top;\n",
              "    }\n",
              "\n",
              "    .dataframe thead th {\n",
              "        text-align: right;\n",
              "    }\n",
              "</style>\n",
              "<table border=\"1\" class=\"dataframe\">\n",
              "  <thead>\n",
              "    <tr style=\"text-align: right;\">\n",
              "      <th></th>\n",
              "      <th>Full Name</th>\n",
              "      <th>Occupation</th>\n",
              "      <th>Full Address</th>\n",
              "    </tr>\n",
              "  </thead>\n",
              "  <tbody>\n",
              "    <tr>\n",
              "      <th>4047</th>\n",
              "      <td>NaN</td>\n",
              "      <td>tailor</td>\n",
              "      <td>Beames Henry P.tailor,88 Elizabeth,h.114Wesley pl</td>\n",
              "    </tr>\n",
              "    <tr>\n",
              "      <th>5756</th>\n",
              "      <td>NaN</td>\n",
              "      <td>chairs</td>\n",
              "      <td>Blauvelt Rich’d D.chairs,89 Bowry , h.196.5 Ch...</td>\n",
              "    </tr>\n",
              "    <tr>\n",
              "      <th>13041</th>\n",
              "      <td>Cochrane Archibald T</td>\n",
              "      <td>watch manf</td>\n",
              "      <td>watch manf.288 Greenwich h. 195 Chambers</td>\n",
              "    </tr>\n",
              "    <tr>\n",
              "      <th>13404</th>\n",
              "      <td>Coleman Herbert</td>\n",
              "      <td>surg instru</td>\n",
              "      <td>surg.instrument mkr.131 Cannon</td>\n",
              "    </tr>\n",
              "    <tr>\n",
              "      <th>17137</th>\n",
              "      <td>DAVIS JAMES S</td>\n",
              "      <td>com mer</td>\n",
              "      <td>com.mer.63 Beaver,h.50 Charles</td>\n",
              "    </tr>\n",
              "    <tr>\n",
              "      <th>17669</th>\n",
              "      <td>Deger John R</td>\n",
              "      <td>inspector</td>\n",
              "      <td>health inspector over Centre market</td>\n",
              "    </tr>\n",
              "    <tr>\n",
              "      <th>18095</th>\n",
              "      <td>Dennisson Joseph</td>\n",
              "      <td>fish</td>\n",
              "      <td>Gouverneur fish mkt,h.331 Front</td>\n",
              "    </tr>\n",
              "    <tr>\n",
              "      <th>20860</th>\n",
              "      <td>NaN</td>\n",
              "      <td>mer</td>\n",
              "      <td>Duyckinck Richard B.mer.62 Cedar,h.33 Monroe pl</td>\n",
              "    </tr>\n",
              "    <tr>\n",
              "      <th>21125</th>\n",
              "      <td>Eckcnfeld Magdalena</td>\n",
              "      <td>chairbottomr</td>\n",
              "      <td>chairbottomr,E. 19th n. Av. 5</td>\n",
              "    </tr>\n",
              "    <tr>\n",
              "      <th>25214</th>\n",
              "      <td>NaN</td>\n",
              "      <td>rubber</td>\n",
              "      <td>Frisbie Myron J.rubbershoes,248 Pearl , h.610 ...</td>\n",
              "    </tr>\n",
              "    <tr>\n",
              "      <th>29371</th>\n",
              "      <td>NaN</td>\n",
              "      <td>butcher</td>\n",
              "      <td>Haight Henry,butcher,41 Rose &amp; 100 Av.CJ,h.Fou...</td>\n",
              "    </tr>\n",
              "    <tr>\n",
              "      <th>33714</th>\n",
              "      <td>NaN</td>\n",
              "      <td>grocer</td>\n",
              "      <td>Holsten John,grocer,215 Rivington,h.215 R,ivin...</td>\n",
              "    </tr>\n",
              "    <tr>\n",
              "      <th>37884</th>\n",
              "      <td>NaN</td>\n",
              "      <td>grocer</td>\n",
              "      <td>Kellers John Frederick,grocer,2 Jones &amp; 172 Fo...</td>\n",
              "    </tr>\n",
              "    <tr>\n",
              "      <th>40565</th>\n",
              "      <td>NaN</td>\n",
              "      <td>tailor</td>\n",
              "      <td>Lanphear Samuel,tailor,46 Av. 3,h.Twelfth c.Av. 3</td>\n",
              "    </tr>\n",
              "    <tr>\n",
              "      <th>43259</th>\n",
              "      <td>NaN</td>\n",
              "      <td>oildealer</td>\n",
              "      <td>Luckey Joseph N.oildealer,44 Cortlandt,h.27 Hu...</td>\n",
              "    </tr>\n",
              "    <tr>\n",
              "      <th>43260</th>\n",
              "      <td>NaN</td>\n",
              "      <td>drygoods</td>\n",
              "      <td>Luckey Samuel,drygoods,17 Cortlandt,h.27 Hubert</td>\n",
              "    </tr>\n",
              "    <tr>\n",
              "      <th>52813</th>\n",
              "      <td>NaN</td>\n",
              "      <td>factory</td>\n",
              "      <td>NEWARK INDIA RUBBER MANUFACTURING CO. 59 Maide...</td>\n",
              "    </tr>\n",
              "    <tr>\n",
              "      <th>55566</th>\n",
              "      <td>NaN</td>\n",
              "      <td>tailor</td>\n",
              "      <td>Paulson Leonard,tailor,140 B.way ,h.1O5 Hoyt,B...</td>\n",
              "    </tr>\n",
              "    <tr>\n",
              "      <th>56817</th>\n",
              "      <td>NaN</td>\n",
              "      <td>carriage</td>\n",
              "      <td>Pine Joseph,carriagemaker,119 Walker,h.201 Hester</td>\n",
              "    </tr>\n",
              "    <tr>\n",
              "      <th>58648</th>\n",
              "      <td>NaN</td>\n",
              "      <td>boot</td>\n",
              "      <td>Ransom Jonathan H boots,.32 Cortland,h.109 Second</td>\n",
              "    </tr>\n",
              "    <tr>\n",
              "      <th>60458</th>\n",
              "      <td>NaN</td>\n",
              "      <td>mer</td>\n",
              "      <td>Roberts John mer. 62 Av. 9, h. Ohio</td>\n",
              "    </tr>\n",
              "    <tr>\n",
              "      <th>64740</th>\n",
              "      <td>NaN</td>\n",
              "      <td>trunks</td>\n",
              "      <td>Sherman WalterB.trunks,172 Chrystie &amp; 408 Gran...</td>\n",
              "    </tr>\n",
              "    <tr>\n",
              "      <th>64817</th>\n",
              "      <td>NaN</td>\n",
              "      <td>editor</td>\n",
              "      <td>Sherwood James M. (Rev.) editor 120 Nassau, h....</td>\n",
              "    </tr>\n",
              "    <tr>\n",
              "      <th>66077</th>\n",
              "      <td>NaN</td>\n",
              "      <td>furniture</td>\n",
              "      <td>Smith George,furniture,203 Wooster,h.203 Wooster</td>\n",
              "    </tr>\n",
              "    <tr>\n",
              "      <th>69027</th>\n",
              "      <td>NaN</td>\n",
              "      <td>wool mer</td>\n",
              "      <td>STRONG W1LLIAM K. wool mer. 285 Pearl, h. 40 U...</td>\n",
              "    </tr>\n",
              "    <tr>\n",
              "      <th>70104</th>\n",
              "      <td>Taylor Lydia</td>\n",
              "      <td>lumber</td>\n",
              "      <td>194 Ninth layW 19th a'n’ lumber’ W' 14th c’ Av...</td>\n",
              "    </tr>\n",
              "    <tr>\n",
              "      <th>74537</th>\n",
              "      <td>Wallace Samuel</td>\n",
              "      <td>propertymaker</td>\n",
              "      <td>propertymaker h. 181 Walker</td>\n",
              "    </tr>\n",
              "    <tr>\n",
              "      <th>75184</th>\n",
              "      <td>NaN</td>\n",
              "      <td>artist</td>\n",
              "      <td>Washburn Willett L.artist,7.5 Bow'ery,h.7.5 Bo...</td>\n",
              "    </tr>\n",
              "    <tr>\n",
              "      <th>77322</th>\n",
              "      <td>NaN</td>\n",
              "      <td>metals</td>\n",
              "      <td>Wildes Thomas,metals,30 Old sl.h.234 Bridge,Bkiyn</td>\n",
              "    </tr>\n",
              "  </tbody>\n",
              "</table>\n",
              "</div>"
            ],
            "text/plain": [
              "                  Full Name  ...                                       Full Address\n",
              "4047                    NaN  ...  Beames Henry P.tailor,88 Elizabeth,h.114Wesley pl\n",
              "5756                    NaN  ...  Blauvelt Rich’d D.chairs,89 Bowry , h.196.5 Ch...\n",
              "13041  Cochrane Archibald T  ...           watch manf.288 Greenwich h. 195 Chambers\n",
              "13404       Coleman Herbert  ...                     surg.instrument mkr.131 Cannon\n",
              "17137         DAVIS JAMES S  ...                     com.mer.63 Beaver,h.50 Charles\n",
              "17669          Deger John R  ...                health inspector over Centre market\n",
              "18095      Dennisson Joseph  ...                    Gouverneur fish mkt,h.331 Front\n",
              "20860                   NaN  ...    Duyckinck Richard B.mer.62 Cedar,h.33 Monroe pl\n",
              "21125   Eckcnfeld Magdalena  ...                      chairbottomr,E. 19th n. Av. 5\n",
              "25214                   NaN  ...  Frisbie Myron J.rubbershoes,248 Pearl , h.610 ...\n",
              "29371                   NaN  ...  Haight Henry,butcher,41 Rose & 100 Av.CJ,h.Fou...\n",
              "33714                   NaN  ...  Holsten John,grocer,215 Rivington,h.215 R,ivin...\n",
              "37884                   NaN  ...  Kellers John Frederick,grocer,2 Jones & 172 Fo...\n",
              "40565                   NaN  ...  Lanphear Samuel,tailor,46 Av. 3,h.Twelfth c.Av. 3\n",
              "43259                   NaN  ...  Luckey Joseph N.oildealer,44 Cortlandt,h.27 Hu...\n",
              "43260                   NaN  ...    Luckey Samuel,drygoods,17 Cortlandt,h.27 Hubert\n",
              "52813                   NaN  ...  NEWARK INDIA RUBBER MANUFACTURING CO. 59 Maide...\n",
              "55566                   NaN  ...  Paulson Leonard,tailor,140 B.way ,h.1O5 Hoyt,B...\n",
              "56817                   NaN  ...  Pine Joseph,carriagemaker,119 Walker,h.201 Hester\n",
              "58648                   NaN  ...  Ransom Jonathan H boots,.32 Cortland,h.109 Second\n",
              "60458                   NaN  ...                Roberts John mer. 62 Av. 9, h. Ohio\n",
              "64740                   NaN  ...  Sherman WalterB.trunks,172 Chrystie & 408 Gran...\n",
              "64817                   NaN  ...  Sherwood James M. (Rev.) editor 120 Nassau, h....\n",
              "66077                   NaN  ...   Smith George,furniture,203 Wooster,h.203 Wooster\n",
              "69027                   NaN  ...  STRONG W1LLIAM K. wool mer. 285 Pearl, h. 40 U...\n",
              "70104          Taylor Lydia  ...  194 Ninth layW 19th a'n’ lumber’ W' 14th c’ Av...\n",
              "74537        Wallace Samuel  ...                        propertymaker h. 181 Walker\n",
              "75184                   NaN  ...  Washburn Willett L.artist,7.5 Bow'ery,h.7.5 Bo...\n",
              "77322                   NaN  ...  Wildes Thomas,metals,30 Old sl.h.234 Bridge,Bkiyn\n",
              "\n",
              "[29 rows x 3 columns]"
            ]
          },
          "metadata": {
            "tags": []
          },
          "execution_count": 13
        }
      ]
    },
    {
      "cell_type": "markdown",
      "metadata": {
        "id": "VpG5X5r6VfiV",
        "colab_type": "text"
      },
      "source": [
        "use agglomerative clustering to cluster similar occupations and find best match for each cluster to standarize the occupations\n"
      ]
    },
    {
      "cell_type": "code",
      "metadata": {
        "id": "rDto0Z-kUGgK",
        "colab_type": "code",
        "colab": {}
      },
      "source": [
        "\n",
        "import numpy as np\n",
        "import re\n",
        "!pip install textdistance\n",
        "import textdistance\n",
        "# we will need scikit-learn>=0.21\n",
        "from sklearn.cluster import AgglomerativeClustering  \n"
      ],
      "execution_count": null,
      "outputs": []
    },
    {
      "cell_type": "code",
      "metadata": {
        "id": "v2bIY6BvNDYf",
        "colab_type": "code",
        "colab": {}
      },
      "source": [
        "\n",
        "text = output_1850_mn.loc[output_1850_mn['Occupation'].notnull(), ['Occupation']]\n",
        "text['Occupation'] = text['Occupation'].str.lower()\n",
        "\n",
        "len(text.Occupation.unique())\n",
        "\n",
        "text = text.Occupation.unique()"
      ],
      "execution_count": null,
      "outputs": []
    },
    {
      "cell_type": "code",
      "metadata": {
        "id": "e3E9c9ztNTXz",
        "colab_type": "code",
        "colab": {}
      },
      "source": [
        "\n",
        "def normalize(text):\n",
        "  \"\"\" Keep only lower-cased text and numbers\"\"\"\n",
        "  return re.sub('[^a-z0-9]+', ' ', text.lower())\n",
        "\n",
        "def group_texts(texts, threshold=0.3): \n",
        "  \"\"\" Replace each text with the representative of its cluster\"\"\"\n",
        "  normalized_texts = np.array([normalize(text) for text in texts])\n",
        "  distances = 1 - np.array([\n",
        "      [textdistance.jaro_winkler(one, another) for one in normalized_texts] \n",
        "      for another in normalized_texts\n",
        "  ])\n",
        "  \n",
        "  clustering = AgglomerativeClustering(\n",
        "    distance_threshold=threshold, # this parameter needs to be tuned carefully\n",
        "    affinity=\"precomputed\", linkage=\"complete\", n_clusters=None\n",
        "  ).fit(distances)\n",
        "  centers = dict()\n",
        "\n",
        "  for cluster_id in set(clustering.labels_):\n",
        "    index = clustering.labels_ == cluster_id\n",
        "    centrality = distances[:, index][index].sum(axis=1)\n",
        "    centers[cluster_id] = normalized_texts[index][centrality.argmin()]\n",
        "  return [centers[i] for i in clustering.labels_]\n"
      ],
      "execution_count": null,
      "outputs": []
    },
    {
      "cell_type": "code",
      "metadata": {
        "id": "62UGTOXCNWAw",
        "colab_type": "code",
        "colab": {
          "base_uri": "https://localhost:8080/",
          "height": 342
        },
        "outputId": "7f090c1d-a9b4-4e37-840c-2e1d19021c9c"
      },
      "source": [
        "std_names = group_texts(text)\n",
        "std_names[0:20]"
      ],
      "execution_count": null,
      "outputs": [
        {
          "output_type": "execute_result",
          "data": {
            "text/plain": [
              "['shoe maker',\n",
              " 'mason',\n",
              " 'carpenter',\n",
              " 'merchant',\n",
              " 'marble works',\n",
              " 'milkman',\n",
              " 'laborer',\n",
              " 'furrier',\n",
              " 'butcher',\n",
              " 'accountant',\n",
              " 'sash and blind maker ',\n",
              " 'sash maker',\n",
              " 'cap maker',\n",
              " 'seaman r',\n",
              " 'ship joiner',\n",
              " 'printer',\n",
              " 'builder ',\n",
              " 'tailor',\n",
              " 'music printer',\n",
              " 'porterhouse']"
            ]
          },
          "metadata": {
            "tags": []
          },
          "execution_count": 84
        }
      ]
    },
    {
      "cell_type": "code",
      "metadata": {
        "id": "NVClJD1jNZiq",
        "colab_type": "code",
        "colab": {
          "base_uri": "https://localhost:8080/",
          "height": 342
        },
        "outputId": "6e3b00cc-ae00-4853-a433-3224d445b648"
      },
      "source": [
        "text = list(text)\n",
        "text[0:20]"
      ],
      "execution_count": null,
      "outputs": [
        {
          "output_type": "execute_result",
          "data": {
            "text/plain": [
              "['shoemaker',\n",
              " 'mason',\n",
              " 'carpenter',\n",
              " 'merchant',\n",
              " 'marble sawyer',\n",
              " 'milkman',\n",
              " 'laborer',\n",
              " 'furrier',\n",
              " 'butcher',\n",
              " 'accountant',\n",
              " 'sash and blind maker',\n",
              " 'sashmaker',\n",
              " 'capmaker',\n",
              " 'seaman',\n",
              " 'ship joiner',\n",
              " 'printer',\n",
              " 'builder',\n",
              " 'tailor',\n",
              " 'music printer and engraver',\n",
              " 'porter house']"
            ]
          },
          "metadata": {
            "tags": []
          },
          "execution_count": 85
        }
      ]
    },
    {
      "cell_type": "code",
      "metadata": {
        "id": "jMFw0Yt3NbUx",
        "colab_type": "code",
        "colab": {}
      },
      "source": [
        "output_1850_mn = pd.DataFrame(text, columns=[\"orignal_name\"]).join(pd.DataFrame(std_names, columns = [\"new_name\"]))"
      ],
      "execution_count": null,
      "outputs": []
    },
    {
      "cell_type": "code",
      "metadata": {
        "id": "be4fj_CxR-x2",
        "colab_type": "code",
        "colab": {}
      },
      "source": [
        "output_1850_mn.to_csv(\"output_1850_mn.csv\")"
      ],
      "execution_count": null,
      "outputs": []
    }
  ]
}